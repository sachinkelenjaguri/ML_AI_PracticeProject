{
 "cells": [
  {
   "cell_type": "code",
   "execution_count": 1,
   "metadata": {
    "collapsed": true
   },
   "outputs": [],
   "source": [
    "import os\n",
    "import sys\n",
    "os.environ[\"SPARK_HOME\"] = \"/usr/hdp/current/spark2-client\"\n",
    "os.environ[\"PYLIB\"] = os.environ[\"SPARK_HOME\"] + \"/python/lib\"\n",
    "sys.path.insert(0, os.environ[\"PYLIB\"] + \"/py4j-0.10.4-src.zip\")\n",
    "sys.path.insert(0, os.environ[\"PYLIB\"] + \"/pyspark.zip\")"
   ]
  },
  {
   "cell_type": "code",
   "execution_count": 3,
   "metadata": {},
   "outputs": [
    {
     "ename": "NameError",
     "evalue": "name 'SparkSession' is not defined",
     "output_type": "error",
     "traceback": [
      "\u001b[0;31m---------------------------------------------------------------------------\u001b[0m",
      "\u001b[0;31mNameError\u001b[0m                                 Traceback (most recent call last)",
      "\u001b[0;32m<ipython-input-3-d47db75062b1>\u001b[0m in \u001b[0;36m<module>\u001b[0;34m()\u001b[0m\n\u001b[0;32m----> 1\u001b[0;31m \u001b[0mspark\u001b[0m \u001b[0;34m=\u001b[0m \u001b[0mSparkSession\u001b[0m\u001b[0;34m.\u001b[0m\u001b[0mbuilder\u001b[0m     \u001b[0;34m.\u001b[0m\u001b[0mmaster\u001b[0m\u001b[0;34m(\u001b[0m\u001b[0;34m\"local[6]\"\u001b[0m\u001b[0;34m)\u001b[0m     \u001b[0;34m.\u001b[0m\u001b[0mappName\u001b[0m\u001b[0;34m(\u001b[0m\u001b[0;34m\"PHD\"\u001b[0m\u001b[0;34m)\u001b[0m     \u001b[0;34m.\u001b[0m\u001b[0mconfig\u001b[0m\u001b[0;34m(\u001b[0m\u001b[0;34m\"spark.driver.memory\"\u001b[0m\u001b[0;34m,\u001b[0m\u001b[0;34m\"15g\"\u001b[0m\u001b[0;34m)\u001b[0m     \u001b[0;34m.\u001b[0m\u001b[0mgetOrCreate\u001b[0m\u001b[0;34m(\u001b[0m\u001b[0;34m)\u001b[0m\u001b[0;34m\u001b[0m\u001b[0m\n\u001b[0m",
      "\u001b[0;31mNameError\u001b[0m: name 'SparkSession' is not defined"
     ]
    }
   ],
   "source": [
    "spark = SparkSession.builder \\\n",
    "...     .master(\"local[6]\") \\\n",
    "...     .appName(\"PHD\") \\\n",
    "...     .config(\"spark.driver.memory\",\"15g\") \\\n",
    "...     .getOrCreate()"
   ]
  },
  {
   "cell_type": "code",
   "execution_count": 2,
   "metadata": {
    "collapsed": true
   },
   "outputs": [],
   "source": [
    "from pyspark.conf import SparkConf\n",
    "from pyspark import SparkContext\n",
    "from pyspark.sql import SparkSession\n",
    "\n",
    "conf = SparkConf().setAppName(\"PHD Data Set\").setMaster('local')\n",
    "sc = SparkContext(conf=conf)\n",
    "spark = SparkSession(sc)"
   ]
  },
  {
   "cell_type": "code",
   "execution_count": 3,
   "metadata": {
    "collapsed": true
   },
   "outputs": [],
   "source": [
    "from pyspark.sql.types import *\n",
    "from pyspark.sql.functions import *"
   ]
  },
  {
   "cell_type": "code",
   "execution_count": 4,
   "metadata": {
    "collapsed": true
   },
   "outputs": [],
   "source": [
    "phdDataSchema = StructType([\n",
    "    StructField(\"ROW_ID\", StringType(), True),\n",
    "    StructField(\"CASE_STATUS\", StringType(), True),\n",
    "    StructField(\"EMPLOYER_NAME\", StringType(), True),\n",
    "    StructField(\"SOC_NAME\", StringType(), True),\n",
    "    StructField(\"JOB_TITLE\", StringType(), True),\n",
    "    StructField(\"FULL_TIME_POSITION\", StringType(), True),\n",
    "    StructField(\"PREVAILING_WAGE\", StringType(), True),\n",
    "    StructField(\"YEAR\", StringType(), True),        \n",
    "    StructField(\"WORKSITE\", StringType(), True),\n",
    "    StructField(\"lon\", StringType(), True),\n",
    "    StructField(\"lat\", StringType(), True),\n",
    "   ])"
   ]
  },
  {
   "cell_type": "code",
   "execution_count": 5,
   "metadata": {
    "collapsed": true
   },
   "outputs": [],
   "source": [
    "data = spark.read.format(\"csv\")\\\n",
    "       .option(\"header\", \"true\")\\\n",
    "       .option(\"inferSchema\", \"true\")\\\n",
    "       .load(\"hdfs:///user/datasets/B35PHD/\", schema = phdDataSchema)"
   ]
  },
  {
   "cell_type": "code",
   "execution_count": 6,
   "metadata": {},
   "outputs": [
    {
     "name": "stdout",
     "output_type": "stream",
     "text": [
      "root\n",
      " |-- ROW_ID: string (nullable = true)\n",
      " |-- CASE_STATUS: string (nullable = true)\n",
      " |-- EMPLOYER_NAME: string (nullable = true)\n",
      " |-- SOC_NAME: string (nullable = true)\n",
      " |-- JOB_TITLE: string (nullable = true)\n",
      " |-- FULL_TIME_POSITION: string (nullable = true)\n",
      " |-- PREVAILING_WAGE: string (nullable = true)\n",
      " |-- YEAR: string (nullable = true)\n",
      " |-- WORKSITE: string (nullable = true)\n",
      " |-- lon: string (nullable = true)\n",
      " |-- lat: string (nullable = true)\n",
      "\n"
     ]
    }
   ],
   "source": [
    "data.printSchema()"
   ]
  },
  {
   "cell_type": "code",
   "execution_count": 7,
   "metadata": {},
   "outputs": [
    {
     "data": {
      "text/plain": [
       "[('ROW_ID', 'string'),\n",
       " ('CASE_STATUS', 'string'),\n",
       " ('EMPLOYER_NAME', 'string'),\n",
       " ('SOC_NAME', 'string'),\n",
       " ('JOB_TITLE', 'string'),\n",
       " ('FULL_TIME_POSITION', 'string'),\n",
       " ('PREVAILING_WAGE', 'string'),\n",
       " ('YEAR', 'string'),\n",
       " ('WORKSITE', 'string'),\n",
       " ('lon', 'string'),\n",
       " ('lat', 'string')]"
      ]
     },
     "execution_count": 7,
     "metadata": {},
     "output_type": "execute_result"
    }
   ],
   "source": [
    "data.dtypes"
   ]
  },
  {
   "cell_type": "code",
   "execution_count": 8,
   "metadata": {},
   "outputs": [
    {
     "name": "stdout",
     "output_type": "stream",
     "text": [
      "No. of Columns = 11\n",
      "No. of Records = 3002458\n"
     ]
    }
   ],
   "source": [
    "print(\"No. of Columns = {}\".format(len(data.columns)))\n",
    "\n",
    "print('No. of Records = {}'.format(data.count()))"
   ]
  },
  {
   "cell_type": "code",
   "execution_count": 9,
   "metadata": {},
   "outputs": [
    {
     "data": {
      "text/plain": [
       "[Row(ROW_ID=1, CASE_STATUS=u'CERTIFIED-WITHDRAWN', EMPLOYER_NAME=u'UNIVERSITY OF MICHIGAN', SOC_NAME=u'BIOCHEMISTS AND BIOPHYSICISTS', JOB_TITLE=u'POSTDOCTORAL RESEARCH FELLOW', FULL_TIME_POSITION=u'N', PREVAILING_WAGE=36067.0, YEAR=2016, WORKSITE=u'ANN ARBOR, MICHIGAN', lon=-83.7430378, lat=42.2808256),\n",
       " Row(ROW_ID=2, CASE_STATUS=u'CERTIFIED-WITHDRAWN', EMPLOYER_NAME=u'GOODMAN NETWORKS, INC.', SOC_NAME=u'CHIEF EXECUTIVES', JOB_TITLE=u'CHIEF OPERATING OFFICER', FULL_TIME_POSITION=u'Y', PREVAILING_WAGE=242674.0, YEAR=2016, WORKSITE=u'PLANO, TEXAS', lon=-96.6988856, lat=33.0198431),\n",
       " Row(ROW_ID=3, CASE_STATUS=u'CERTIFIED-WITHDRAWN', EMPLOYER_NAME=u'PORTS AMERICA GROUP, INC.', SOC_NAME=u'CHIEF EXECUTIVES', JOB_TITLE=u'CHIEF PROCESS OFFICER', FULL_TIME_POSITION=u'Y', PREVAILING_WAGE=193066.0, YEAR=2016, WORKSITE=u'JERSEY CITY, NEW JERSEY', lon=-74.0776417, lat=40.7281575)]"
      ]
     },
     "execution_count": 9,
     "metadata": {},
     "output_type": "execute_result"
    }
   ],
   "source": [
    "data.head(3)"
   ]
  },
  {
   "cell_type": "code",
   "execution_count": 15,
   "metadata": {},
   "outputs": [
    {
     "name": "stdout",
     "output_type": "stream",
     "text": [
      "+------+--------------------+--------------------+--------------------+--------------------+------------------+---------------+----+--------------------+------------+----------+\n",
      "|ROW_ID|         CASE_STATUS|       EMPLOYER_NAME|            SOC_NAME|           JOB_TITLE|FULL_TIME_POSITION|PREVAILING_WAGE|YEAR|            WORKSITE|         lon|       lat|\n",
      "+------+--------------------+--------------------+--------------------+--------------------+------------------+---------------+----+--------------------+------------+----------+\n",
      "|     1|CERTIFIEDNAWITHDRAWN|UNIVERSITY OF MIC...|BIOCHEMISTS AND B...|POSTDOCTORAL RESE...|                 N|          36067|2016| ANN ARBOR, MICHIGAN| -83.7430378|42.2808256|\n",
      "|     2|CERTIFIEDNAWITHDRAWN|GOODMAN NETWORKS,...|    CHIEF EXECUTIVES|CHIEF OPERATING O...|                 Y|         242674|2016|        PLANO, TEXAS| -96.6988856|33.0198431|\n",
      "|     3|CERTIFIEDNAWITHDRAWN|PORTS AMERICA GRO...|    CHIEF EXECUTIVES|CHIEF PROCESS OFF...|                 Y|         193066|2016|JERSEY CITY, NEW ...| -74.0776417|40.7281575|\n",
      "|     4|CERTIFIEDNAWITHDRAWN|GATES CORPORATION...|    CHIEF EXECUTIVES|REGIONAL PRESIDEN...|                 Y|         220314|2016|    DENVER, COLORADO| -104.990251|39.7392358|\n",
      "|     5|           WITHDRAWN|PEABODY INVESTMEN...|    CHIEF EXECUTIVES|PRESIDENT MONGOLI...|                 Y|       157518.4|2016| ST. LOUIS, MISSOURI| -90.1994042|38.6270025|\n",
      "|     6|CERTIFIEDNAWITHDRAWN|BURGER KING CORPO...|    CHIEF EXECUTIVES|EXECUTIVE V P, GL...|                 Y|         225000|2016|      MIAMI, FLORIDA| -80.1917902|25.7616798|\n",
      "|     7|CERTIFIEDNAWITHDRAWN|BT AND MK ENERGY ...|    CHIEF EXECUTIVES|CHIEF OPERATING O...|                 Y|          91021|2016|      HOUSTON, TEXAS| -95.3698028|29.7604267|\n",
      "|     8|CERTIFIEDNAWITHDRAWN|GLOBO MOBILE TECH...|    CHIEF EXECUTIVES|CHIEF OPERATIONS ...|                 Y|         150000|2016|SAN JOSE, CALIFORNIA|-121.8863286|37.3382082|\n",
      "|     9|CERTIFIEDNAWITHDRAWN|  ESI COMPANIES INC.|    CHIEF EXECUTIVES|           PRESIDENT|                 Y|         127546|2016|      MEMPHIS, TEXAS|          NA|        NA|\n",
      "+------+--------------------+--------------------+--------------------+--------------------+------------------+---------------+----+--------------------+------------+----------+\n",
      "only showing top 9 rows\n",
      "\n"
     ]
    }
   ],
   "source": [
    "data.show(9)"
   ]
  },
  {
   "cell_type": "code",
   "execution_count": 11,
   "metadata": {},
   "outputs": [
    {
     "name": "stdout",
     "output_type": "stream",
     "text": [
      "+-----------+\n",
      "|        lon|\n",
      "+-----------+\n",
      "|-83.7430378|\n",
      "|-96.6988856|\n",
      "|-74.0776417|\n",
      "|-104.990251|\n",
      "|-90.1994042|\n",
      "|-80.1917902|\n",
      "+-----------+\n",
      "only showing top 6 rows\n",
      "\n"
     ]
    }
   ],
   "source": [
    "data.select('lon').show(6)"
   ]
  },
  {
   "cell_type": "code",
   "execution_count": 44,
   "metadata": {
    "scrolled": true
   },
   "outputs": [
    {
     "name": "stdout",
     "output_type": "stream",
     "text": [
      "+-----------+\n",
      "|CASE_STATUS|\n",
      "+-----------+\n",
      "+-----------+\n",
      "\n"
     ]
    }
   ],
   "source": [
    "data.select('CASE_STATUS').where(col('CASE_STATUS').like(\"%`%\")).show()"
   ]
  },
  {
   "cell_type": "code",
   "execution_count": 13,
   "metadata": {
    "collapsed": true
   },
   "outputs": [],
   "source": [
    "data=data.withColumn('CASE_STATUS', when(col('CASE_STATUS').like(\"%-%\"), regexp_replace('CASE_STATUS', '-', 'NA')).otherwise(data.CASE_STATUS))"
   ]
  },
  {
   "cell_type": "code",
   "execution_count": null,
   "metadata": {
    "collapsed": true
   },
   "outputs": [],
   "source": []
  },
  {
   "cell_type": "code",
   "execution_count": 22,
   "metadata": {},
   "outputs": [
    {
     "name": "stdout",
     "output_type": "stream",
     "text": [
      "+-------------+\n",
      "|EMPLOYER_NAME|\n",
      "+-------------+\n",
      "+-------------+\n",
      "\n"
     ]
    }
   ],
   "source": [
    "data.select('EMPLOYER_NAME').where(col('EMPLOYER_NAME').like(\"%\\\"%\")).show()"
   ]
  },
  {
   "cell_type": "code",
   "execution_count": 21,
   "metadata": {
    "collapsed": true
   },
   "outputs": [],
   "source": [
    "data=data.withColumn('EMPLOYER_NAME', when(col('EMPLOYER_NAME').like(\"%.%\"), regexp_replace('CASE_STATUS', '.', 'NA')).otherwise(data.EMPLOYER_NAME))"
   ]
  },
  {
   "cell_type": "code",
   "execution_count": 23,
   "metadata": {},
   "outputs": [
    {
     "name": "stdout",
     "output_type": "stream",
     "text": [
      "+--------------------+\n",
      "|           JOB_TITLE|\n",
      "+--------------------+\n",
      "|POSTDOCTORAL RESE...|\n",
      "|CHIEF OPERATING O...|\n",
      "|CHIEF PROCESS OFF...|\n",
      "|REGIONAL PRESIDEN...|\n",
      "|PRESIDENT MONGOLI...|\n",
      "|EXECUTIVE V P, GL...|\n",
      "|CHIEF OPERATING O...|\n",
      "|CHIEF OPERATIONS ...|\n",
      "|           PRESIDENT|\n",
      "|           PRESIDENT|\n",
      "|CHIEF INFORMATION...|\n",
      "|VICE PRESIDENT AN...|\n",
      "|   TREASURER AND COO|\n",
      "|CHIEF COMMERCIAL ...|\n",
      "|        BOARD MEMBER|\n",
      "|CHIEF FINANCIAL O...|\n",
      "|VICE PRESIDENT OF...|\n",
      "|GENERAL MANAGER, ...|\n",
      "|                 CEO|\n",
      "|PRESIDENT, NORTHE...|\n",
      "+--------------------+\n",
      "only showing top 20 rows\n",
      "\n"
     ]
    }
   ],
   "source": [
    "data.select('JOB_TITLE').show()"
   ]
  },
  {
   "cell_type": "code",
   "execution_count": 26,
   "metadata": {
    "collapsed": true,
    "scrolled": true
   },
   "outputs": [],
   "source": [
    "data=data.withColumn('JOB_TITLE', when(col('JOB_TITLE').like(\"%,%\"), regexp_replace('JOB_TITLE', ',' , 'NA')).otherwise(data.JOB_TITLE))"
   ]
  },
  {
   "cell_type": "code",
   "execution_count": 31,
   "metadata": {},
   "outputs": [
    {
     "name": "stdout",
     "output_type": "stream",
     "text": [
      "+--------------------+\n",
      "|            WORKSITE|\n",
      "+--------------------+\n",
      "|ANN ARBORNA MICHIGAN|\n",
      "|       PLANONA TEXAS|\n",
      "|JERSEY CITYNA NEW...|\n",
      "|   DENVERNA COLORADO|\n",
      "|ST. LOUISNA MISSOURI|\n",
      "|     MIAMINA FLORIDA|\n",
      "|     HOUSTONNA TEXAS|\n",
      "|SAN JOSENA CALIFO...|\n",
      "|     MEMPHISNA TEXAS|\n",
      "|   VIENNANA VIRGINIA|\n",
      "|PITTSBURGHNA PENN...|\n",
      "|  MIDLANDNA MICHIGAN|\n",
      "|FAIRHAVENNA MASSA...|\n",
      "|     MIAMINA FLORIDA|\n",
      "|GREENWOOD VILLAGE...|\n",
      "| STERLINGNA VIRGINIA|\n",
      "|WAUKESHANA WISCONSIN|\n",
      "|LOS ANGELESNA CAL...|\n",
      "|SANTA CLARANA CAL...|\n",
      "|ALEXANDRIANA VIRG...|\n",
      "+--------------------+\n",
      "only showing top 20 rows\n",
      "\n"
     ]
    }
   ],
   "source": [
    "data.select('WORKSITE').show()"
   ]
  },
  {
   "cell_type": "code",
   "execution_count": null,
   "metadata": {
    "collapsed": true
   },
   "outputs": [],
   "source": []
  },
  {
   "cell_type": "code",
   "execution_count": 32,
   "metadata": {
    "collapsed": true
   },
   "outputs": [],
   "source": [
    "data=data.withColumn('WORKSITE', when(col('WORKSITE').like(\"%.%\"), regexp_replace('WORKSITE', '.', 'NA')).otherwise(data.WORKSITE))"
   ]
  },
  {
   "cell_type": "code",
   "execution_count": 35,
   "metadata": {},
   "outputs": [
    {
     "name": "stdout",
     "output_type": "stream",
     "text": [
      "+------------+\n",
      "|         lon|\n",
      "+------------+\n",
      "| -83.7430378|\n",
      "| -96.6988856|\n",
      "| -74.0776417|\n",
      "| -104.990251|\n",
      "| -90.1994042|\n",
      "| -80.1917902|\n",
      "| -95.3698028|\n",
      "|-121.8863286|\n",
      "|           0|\n",
      "| -77.2652604|\n",
      "| -79.9958864|\n",
      "| -84.2472116|\n",
      "|           0|\n",
      "| -80.1917902|\n",
      "|-104.9508141|\n",
      "| -77.4291298|\n",
      "| -88.2314813|\n",
      "|-118.2436849|\n",
      "|-121.9552356|\n",
      "| -77.0469214|\n",
      "+------------+\n",
      "only showing top 20 rows\n",
      "\n"
     ]
    }
   ],
   "source": [
    "data.select('lon').show()"
   ]
  },
  {
   "cell_type": "code",
   "execution_count": 125,
   "metadata": {
    "collapsed": true
   },
   "outputs": [],
   "source": [
    "data=data.withColumn('lon',data['lon'].cast(StringType()))"
   ]
  },
  {
   "cell_type": "code",
   "execution_count": 34,
   "metadata": {
    "collapsed": true
   },
   "outputs": [],
   "source": [
    "data=data.withColumn('lon', when(data.lon == 'NA', 0).otherwise(data.lon))"
   ]
  },
  {
   "cell_type": "code",
   "execution_count": 133,
   "metadata": {
    "collapsed": true
   },
   "outputs": [],
   "source": [
    "data=data.withColumn('lon',data['lon'].cast(DoubleType()))"
   ]
  },
  {
   "cell_type": "code",
   "execution_count": 131,
   "metadata": {
    "collapsed": true
   },
   "outputs": [],
   "source": [
    "data=data.withColumn('lat',data['lat'].cast(StringType()))"
   ]
  },
  {
   "cell_type": "code",
   "execution_count": 36,
   "metadata": {
    "collapsed": true
   },
   "outputs": [],
   "source": [
    "data=data.withColumn('lat', when(data.lat == 'NA', 0).otherwise(data.lat))"
   ]
  },
  {
   "cell_type": "code",
   "execution_count": 134,
   "metadata": {
    "collapsed": true
   },
   "outputs": [],
   "source": [
    "data=data.withColumn('lat',data['lat'].cast(DoubleType()))"
   ]
  },
  {
   "cell_type": "code",
   "execution_count": 37,
   "metadata": {},
   "outputs": [
    {
     "name": "stdout",
     "output_type": "stream",
     "text": [
      "+-------+-----------------+-----------+--------------------+--------------------+--------------------+------------------+-----------------+--------------------+--------------------+------------------+-----------------+\n",
      "|summary|           ROW_ID|CASE_STATUS|       EMPLOYER_NAME|            SOC_NAME|           JOB_TITLE|FULL_TIME_POSITION|  PREVAILING_WAGE|                YEAR|            WORKSITE|               lon|              lat|\n",
      "+-------+-----------------+-----------+--------------------+--------------------+--------------------+------------------+-----------------+--------------------+--------------------+------------------+-----------------+\n",
      "|  count|          3002458|    3002458|             3002458|             3002458|             3002458|           3002458|          3002458|             3002458|             3002458|           3002458|          3002451|\n",
      "|   mean|        1501229.5|       null|       3.218588665E8|                null|   263785.4022988506| 68509.25714285714|146998.9137139809|  2014.3288568823068|  2013.0434782608695|-88.84348318334337|36.79670941491931|\n",
      "| stddev|866735.1116028279|       null|2.2409937148797384E8|                null|  2157524.3687933465|31484.030873807398|5287629.696853935|   179.3053855945529|   1.397343611986786|25.786744319190117|8.444118299868622|\n",
      "|    min|                1|  CERTIFIED|&QUOT;K&QUOT; LIN...| D/B/A/ THE ROHAT...|\"\"\"BUSINESS SYSTE...|          123156.8|                0|              109450|# 19100 DIV CD 19...|         MARYLAND\"|      -71.1626756|\n",
      "|    max|           999999|  WITHDRAWN|          ÉTUDES LLC|Zoologists and Wi...|   TEST ANALYST - US|                 Y|                Y|SAN JOSE, CALIFORNIA| FORT WASHINGTONN...|  WOODBURN, OREGON|       64.8377778|\n",
      "+-------+-----------------+-----------+--------------------+--------------------+--------------------+------------------+-----------------+--------------------+--------------------+------------------+-----------------+\n",
      "\n"
     ]
    }
   ],
   "source": [
    "data.describe().show()"
   ]
  },
  {
   "cell_type": "code",
   "execution_count": 50,
   "metadata": {},
   "outputs": [
    {
     "name": "stdout",
     "output_type": "stream",
     "text": [
      "+-----+\n",
      "|count|\n",
      "+-----+\n",
      "|    8|\n",
      "+-----+\n",
      "\n",
      "+-----+\n",
      "|count|\n",
      "+-----+\n",
      "|    8|\n",
      "+-----+\n",
      "\n",
      "+-----+\n",
      "|count|\n",
      "+-----+\n",
      "|    8|\n",
      "+-----+\n",
      "\n",
      "+-----+\n",
      "|count|\n",
      "+-----+\n",
      "|    8|\n",
      "+-----+\n",
      "\n"
     ]
    }
   ],
   "source": [
    "#. Find the count of distinct values in each column.\n",
    "\n",
    "from pyspark.sql.functions import col, countDistinct\n",
    "data.agg(countDistinct(col(\"CASE_STATUS\")).alias(\"count\")).show()\n",
    "data.agg(countDistinct(col(\"EMPLOYER_NAME\")).alias(\"count\")).show()\n",
    "data.agg(countDistinct(col(\"SOC_NAME\")).alias(\"count\")).show()\n",
    "data.agg(countDistinct(col(\"JOB_TITLE\")).alias(\"count\")).show()\n",
    "data.agg(countDistinct(col(\"FULL_TIME_POSITION\")).alias(\"count\")).show()\n",
    "data.agg(countDistinct(col(\"WORKSITE\")).alias(\"count\")).show()"
   ]
  },
  {
   "cell_type": "code",
   "execution_count": 77,
   "metadata": {},
   "outputs": [
    {
     "name": "stdout",
     "output_type": "stream",
     "text": [
      "+--------------------+----+\n",
      "|       EMPLOYER_NAME|YEAR|\n",
      "+--------------------+----+\n",
      "|      QUICKLOGIX LLC|2016|\n",
      "|           CERTIFIED|2016|\n",
      "|           CERTIFIED|2016|\n",
      "|  NANANANANANANANANA|2016|\n",
      "|           CERTIFIED|2016|\n",
      "|  NANANANANANANANANA|2016|\n",
      "|          UMBEL CORP|2016|\n",
      "|           CERTIFIED|2016|\n",
      "|  NANANANANANANANANA|2016|\n",
      "|THE KRAFT HEINZ C...|2016|\n",
      "|           CERTIFIED|2016|\n",
      "|VMS COMMUNICATION...|2016|\n",
      "|           CERTIFIED|2016|\n",
      "|       LABEL INSIGHT|2016|\n",
      "|INN AT THE WICKLI...|2016|\n",
      "|           CERTIFIED|2016|\n",
      "|  CB LANSING 300 LLP|2016|\n",
      "|           CERTIFIED|2016|\n",
      "|           CERTIFIED|2016|\n",
      "|           CERTIFIED|2016|\n",
      "+--------------------+----+\n",
      "only showing top 20 rows\n",
      "\n"
     ]
    }
   ],
   "source": [
    "#5 List EMPLOYER_NAME and YEAR in the descending order of the Approved\n",
    "#applications count (Approved applications are obtained using\n",
    "#CASE_STATUS = 'CERTIFIED').\n",
    "\n",
    "data.select('EMPLOYER_NAME','YEAR').where(col('CASE_STATUS')=='CERTIFIED').show()"
   ]
  },
  {
   "cell_type": "code",
   "execution_count": null,
   "metadata": {
    "collapsed": true
   },
   "outputs": [],
   "source": []
  },
  {
   "cell_type": "code",
   "execution_count": 52,
   "metadata": {},
   "outputs": [
    {
     "ename": "SyntaxError",
     "evalue": "invalid syntax (<ipython-input-52-017eebc09cd8>, line 5)",
     "output_type": "error",
     "traceback": [
      "\u001b[0;36m  File \u001b[0;32m\"<ipython-input-52-017eebc09cd8>\"\u001b[0;36m, line \u001b[0;32m5\u001b[0m\n\u001b[0;31m    data.select(('EMPLOYER_NAME')).where(col('CASE_STATUS')=='CERTIFIED').group by('year').show()\u001b[0m\n\u001b[0m                                                                                 ^\u001b[0m\n\u001b[0;31mSyntaxError\u001b[0m\u001b[0;31m:\u001b[0m invalid syntax\n"
     ]
    }
   ],
   "source": [
    "#Observe the above results and list the EMPLOYER_NAME that had the\n",
    "#maximum approved applications for each year for 2012, 2013, 2014, 2015 and\n",
    "#2016?\n",
    "\n",
    "data.select(('EMPLOYER_NAME')).where(col('CASE_STATUS')=='CERTIFIED').group by('year').show()"
   ]
  },
  {
   "cell_type": "code",
   "execution_count": 78,
   "metadata": {},
   "outputs": [
    {
     "name": "stdout",
     "output_type": "stream",
     "text": [
      "+--------------------+----+--------------------+\n",
      "|       EMPLOYER_NAME|YEAR|           JOB_TITLE|\n",
      "+--------------------+----+--------------------+\n",
      "|      QUICKLOGIX LLC|2016|                 CEO|\n",
      "|           CERTIFIED|2016|PRESIDENTNA NORTH...|\n",
      "|           CERTIFIED|2016|                 CEO|\n",
      "|  NANANANANANANANANA|2016|CHIEF FINANCIAL O...|\n",
      "|           CERTIFIED|2016|                 CEO|\n",
      "|  NANANANANANANANANA|2016|CHIEF BUSINESS OF...|\n",
      "|          UMBEL CORP|2016|VICE PRESIDENT OF...|\n",
      "|           CERTIFIED|2016|  EXECUTIVE DIRECTOR|\n",
      "|  NANANANANANANANANA|2016|VICE PRESIDENTNA ...|\n",
      "|THE KRAFT HEINZ C...|2016|    HEAD OF US SALES|\n",
      "|           CERTIFIED|2016|CHIEF FINANCIAL O...|\n",
      "|VMS COMMUNICATION...|2016|CHIEF OPERATING O...|\n",
      "|           CERTIFIED|2016|VICE PRESIDENT OF...|\n",
      "|       LABEL INSIGHT|2016|CHIEF EXECUTIVE O...|\n",
      "|INN AT THE WICKLI...|2016|CHIEF EXECUTIVE O...|\n",
      "|           CERTIFIED|2016|VICE PRESIDENTNA ...|\n",
      "|  CB LANSING 300 LLP|2016|CHIEF OPERATING O...|\n",
      "|           CERTIFIED|2016|    ACCOUNT DIRECTOR|\n",
      "|           CERTIFIED|2016|  TECHNICAL DIRECTOR|\n",
      "|           CERTIFIED|2016|VICE PRESIDENT OF...|\n",
      "+--------------------+----+--------------------+\n",
      "only showing top 20 rows\n",
      "\n"
     ]
    }
   ],
   "source": [
    "datapproved=data.select('EMPLOYER_NAME','YEAR','JOB_TITLE').where(col('CASE_STATUS')=='CERTIFIED').show()"
   ]
  },
  {
   "cell_type": "code",
   "execution_count": 91,
   "metadata": {},
   "outputs": [
    {
     "name": "stdout",
     "output_type": "stream",
     "text": [
      "+--------------------+----+\n",
      "|       EMPLOYER_NAME|YEAR|\n",
      "+--------------------+----+\n",
      "|           CERTIFIED|2016|\n",
      "|           CERTIFIED|2016|\n",
      "|           CERTIFIED|2016|\n",
      "|           CERTIFIED|2016|\n",
      "|           CERTIFIED|2016|\n",
      "|           CERTIFIED|2016|\n",
      "|  NANANANANANANANANA|2016|\n",
      "|CERTIFIEDNAWITHDRAWN|2016|\n",
      "|APPLIED DATA FINA...|2016|\n",
      "|APPLIED DATA FINA...|2016|\n",
      "|APPLIED DATA FINA...|2016|\n",
      "|           WITHDRAWN|2016|\n",
      "|CERTIFIEDNAWITHDRAWN|2016|\n",
      "|           CERTIFIED|2016|\n",
      "|    HASH FINANCE LLC|2016|\n",
      "|GEISINGER SYSTEM ...|2016|\n",
      "|CERTIFIEDNAWITHDRAWN|2016|\n",
      "|LINKEDIN CORPORATION|2016|\n",
      "|LINKEDIN CORPORATION|2016|\n",
      "|CERTIFIEDNAWITHDRAWN|2016|\n",
      "+--------------------+----+\n",
      "only showing top 20 rows\n",
      "\n"
     ]
    }
   ],
   "source": [
    "#List the approved applications count in the descending order for the\n",
    "#JOB_TITLE = \"DATA SCIENTIST\" and for each employer and year.\n",
    "data.select('EMPLOYER_NAME','YEAR').where( col('JOB_TITLE') == 'DATA SCIENTIST' ).show()"
   ]
  },
  {
   "cell_type": "code",
   "execution_count": 99,
   "metadata": {
    "collapsed": true
   },
   "outputs": [],
   "source": [
    "data=data.withColumn('PREVAILING_WAGE',data['PREVAILING_WAGE'].cast(DoubleType()))  \n",
    "\n",
    "#PREVAILING_WAGE"
   ]
  },
  {
   "cell_type": "code",
   "execution_count": 107,
   "metadata": {},
   "outputs": [
    {
     "ename": "TypeError",
     "evalue": "condition should be a Column",
     "output_type": "error",
     "traceback": [
      "\u001b[0;31m---------------------------------------------------------------------------\u001b[0m",
      "\u001b[0;31mTypeError\u001b[0m                                 Traceback (most recent call last)",
      "\u001b[0;32m<ipython-input-107-232232501c83>\u001b[0m in \u001b[0;36m<module>\u001b[0;34m()\u001b[0m\n\u001b[1;32m      3\u001b[0m \u001b[0;32mfrom\u001b[0m \u001b[0mpyspark\u001b[0m\u001b[0;34m.\u001b[0m\u001b[0msql\u001b[0m\u001b[0;34m.\u001b[0m\u001b[0mfunctions\u001b[0m \u001b[0;32mimport\u001b[0m \u001b[0misnan\u001b[0m\u001b[0;34m,\u001b[0m \u001b[0mwhen\u001b[0m\u001b[0;34m,\u001b[0m \u001b[0mcount\u001b[0m\u001b[0;34m,\u001b[0m \u001b[0mcol\u001b[0m\u001b[0;34m\u001b[0m\u001b[0m\n\u001b[1;32m      4\u001b[0m \u001b[0;34m\u001b[0m\u001b[0m\n\u001b[0;32m----> 5\u001b[0;31m \u001b[0mdata\u001b[0m\u001b[0;34m.\u001b[0m\u001b[0mselect\u001b[0m\u001b[0;34m(\u001b[0m\u001b[0;34m[\u001b[0m\u001b[0mcount\u001b[0m\u001b[0;34m(\u001b[0m\u001b[0mwhen\u001b[0m\u001b[0;34m(\u001b[0m\u001b[0;34m(\u001b[0m\u001b[0mc\u001b[0m\u001b[0;34m)\u001b[0m\u001b[0;34m,\u001b[0m \u001b[0mc\u001b[0m\u001b[0;34m)\u001b[0m\u001b[0;34m)\u001b[0m\u001b[0;34m.\u001b[0m\u001b[0malias\u001b[0m\u001b[0;34m(\u001b[0m\u001b[0mc\u001b[0m\u001b[0;34m)\u001b[0m \u001b[0;32mfor\u001b[0m \u001b[0mc\u001b[0m \u001b[0;32min\u001b[0m \u001b[0mdata\u001b[0m\u001b[0;34m.\u001b[0m\u001b[0mcolumns\u001b[0m\u001b[0;34m]\u001b[0m\u001b[0;34m)\u001b[0m\u001b[0;34m.\u001b[0m\u001b[0mshow\u001b[0m\u001b[0;34m(\u001b[0m\u001b[0;34m)\u001b[0m\u001b[0;34m\u001b[0m\u001b[0m\n\u001b[0m",
      "\u001b[0;32m/usr/hdp/current/spark2-client/python/lib/pyspark.zip/pyspark/sql/functions.py\u001b[0m in \u001b[0;36mwhen\u001b[0;34m(condition, value)\u001b[0m\n\u001b[1;32m    639\u001b[0m     \u001b[0msc\u001b[0m \u001b[0;34m=\u001b[0m \u001b[0mSparkContext\u001b[0m\u001b[0;34m.\u001b[0m\u001b[0m_active_spark_context\u001b[0m\u001b[0;34m\u001b[0m\u001b[0m\n\u001b[1;32m    640\u001b[0m     \u001b[0;32mif\u001b[0m \u001b[0;32mnot\u001b[0m \u001b[0misinstance\u001b[0m\u001b[0;34m(\u001b[0m\u001b[0mcondition\u001b[0m\u001b[0;34m,\u001b[0m \u001b[0mColumn\u001b[0m\u001b[0;34m)\u001b[0m\u001b[0;34m:\u001b[0m\u001b[0;34m\u001b[0m\u001b[0m\n\u001b[0;32m--> 641\u001b[0;31m         \u001b[0;32mraise\u001b[0m \u001b[0mTypeError\u001b[0m\u001b[0;34m(\u001b[0m\u001b[0;34m\"condition should be a Column\"\u001b[0m\u001b[0;34m)\u001b[0m\u001b[0;34m\u001b[0m\u001b[0m\n\u001b[0m\u001b[1;32m    642\u001b[0m     \u001b[0mv\u001b[0m \u001b[0;34m=\u001b[0m \u001b[0mvalue\u001b[0m\u001b[0;34m.\u001b[0m\u001b[0m_jc\u001b[0m \u001b[0;32mif\u001b[0m \u001b[0misinstance\u001b[0m\u001b[0;34m(\u001b[0m\u001b[0mvalue\u001b[0m\u001b[0;34m,\u001b[0m \u001b[0mColumn\u001b[0m\u001b[0;34m)\u001b[0m \u001b[0;32melse\u001b[0m \u001b[0mvalue\u001b[0m\u001b[0;34m\u001b[0m\u001b[0m\n\u001b[1;32m    643\u001b[0m     \u001b[0mjc\u001b[0m \u001b[0;34m=\u001b[0m \u001b[0msc\u001b[0m\u001b[0;34m.\u001b[0m\u001b[0m_jvm\u001b[0m\u001b[0;34m.\u001b[0m\u001b[0mfunctions\u001b[0m\u001b[0;34m.\u001b[0m\u001b[0mwhen\u001b[0m\u001b[0;34m(\u001b[0m\u001b[0mcondition\u001b[0m\u001b[0;34m.\u001b[0m\u001b[0m_jc\u001b[0m\u001b[0;34m,\u001b[0m \u001b[0mv\u001b[0m\u001b[0;34m)\u001b[0m\u001b[0;34m\u001b[0m\u001b[0m\n",
      "\u001b[0;31mTypeError\u001b[0m: condition should be a Column"
     ]
    }
   ],
   "source": [
    "#8. Find the null values count in each column.\n",
    "#. Verify the null values count in each column\n",
    "from pyspark.sql.functions import isnan, when, count, col\n",
    "\n",
    "data.select([count(when((c), c)).alias(c) for c in data.columns]).show()"
   ]
  },
  {
   "cell_type": "code",
   "execution_count": 92,
   "metadata": {
    "collapsed": true
   },
   "outputs": [],
   "source": [
    "#Remove all the rows with null values (in any column/position).\n",
    "data = data.where(data.lon==0).drop()"
   ]
  },
  {
   "cell_type": "code",
   "execution_count": 93,
   "metadata": {
    "collapsed": true
   },
   "outputs": [],
   "source": [
    "data = data.where(data.lat==0).drop()"
   ]
  },
  {
   "cell_type": "code",
   "execution_count": 96,
   "metadata": {},
   "outputs": [
    {
     "name": "stdout",
     "output_type": "stream",
     "text": [
      "+------+-----------+-------------+--------+---------+------------------+---------------+----+--------+---+---+\n",
      "|ROW_ID|CASE_STATUS|EMPLOYER_NAME|SOC_NAME|JOB_TITLE|FULL_TIME_POSITION|PREVAILING_WAGE|YEAR|WORKSITE|lon|lat|\n",
      "+------+-----------+-------------+--------+---------+------------------+---------------+----+--------+---+---+\n",
      "|     0|          0|            0|       0|        0|                 0|              0|   0|       0|  0|  0|\n",
      "+------+-----------+-------------+--------+---------+------------------+---------------+----+--------+---+---+\n",
      "\n"
     ]
    }
   ],
   "source": [
    "#. Verify the null values count in each column\n",
    "from pyspark.sql.functions import isnan, when, count, col\n",
    "\n",
    "data.select([count(when(isnan(c), c)).alias(c) for c in data.columns]).show()\n"
   ]
  },
  {
   "cell_type": "code",
   "execution_count": null,
   "metadata": {
    "collapsed": true
   },
   "outputs": [],
   "source": [
    "#List the count of applications in each status (CASE_STATUS) in the descending\n",
    "#order of the year.\n"
   ]
  }
 ],
 "metadata": {
  "kernelspec": {
   "display_name": "Python 3",
   "language": "python",
   "name": "python3"
  },
  "language_info": {
   "codemirror_mode": {
    "name": "ipython",
    "version": 3
   },
   "file_extension": ".py",
   "mimetype": "text/x-python",
   "name": "python",
   "nbconvert_exporter": "python",
   "pygments_lexer": "ipython3",
   "version": "3.6.3"
  }
 },
 "nbformat": 4,
 "nbformat_minor": 2
}
