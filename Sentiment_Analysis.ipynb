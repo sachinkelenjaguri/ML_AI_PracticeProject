{
 "cells": [
  {
   "cell_type": "markdown",
   "metadata": {},
   "source": [
    "# Sentiment Analysis ML way"
   ]
  },
  {
   "cell_type": "markdown",
   "metadata": {},
   "source": [
    "#Given to you short review of some movies. The reviews could talk bad or good about the movie. We can identify the sentiment of the text by looking/reading the words in the sentence. How can we make a machine/system understand the sentiment in the text.\n",
    "\n",
    "#One way is the ML way. There is a ground truth that is created for some corpus i.e  we have both postive and negative reviews that are tagged with their respective class. This forms the base and the algorithm is trained on this data (after converting this to structured form) and depending on the words used the classification is done (Machine/system tries to obtain a pattern from data).\n",
    "\n",
    "#Another way is dictionary approach, where we create a dictionary of positive and negative words and explicitly state that these words are positive or negative. We can then count the number of positive and negative words in the sentence and give a score. If the score is positive then its positive else its negative.\n",
    "\n",
    "#In either cases, there is manual work involved (creating ground truth in case 1 or creating the dictionary in case 2)"
   ]
  },
  {
   "cell_type": "code",
   "execution_count": 21,
   "metadata": {
    "collapsed": true
   },
   "outputs": [],
   "source": [
    "import re\n",
    "import nltk\n",
    "import random\n",
    "from nltk.corpus import movie_reviews\n",
    "from nltk.tokenize import word_tokenize\n",
    "from sklearn.feature_extraction.text import CountVectorizer\n",
    "from sklearn.metrics import confusion_matrix\n",
    "#from nltk.classify.scikitlearn import SklearnClassifier"
   ]
  },
  {
   "cell_type": "code",
   "execution_count": 2,
   "metadata": {
    "collapsed": true
   },
   "outputs": [],
   "source": [
    "f1 = open(\"short_reviews/positive.txt\",\"r\", errors='replace')   # \"r\" is for reading\n",
    "short_pos = f1.readlines()"
   ]
  },
  {
   "cell_type": "code",
   "execution_count": 3,
   "metadata": {},
   "outputs": [
    {
     "data": {
      "text/plain": [
       "'the gorgeously elaborate continuation of \" the lord of the rings \" trilogy is so huge that a column of words cannot adequately describe co-writer/director peter jackson\\'s expanded vision of j . r . r . tolkien\\'s middle-earth . \\n'"
      ]
     },
     "execution_count": 3,
     "metadata": {},
     "output_type": "execute_result"
    }
   ],
   "source": [
    "short_pos[1]"
   ]
  },
  {
   "cell_type": "code",
   "execution_count": 4,
   "metadata": {},
   "outputs": [
    {
     "data": {
      "text/plain": [
       "list"
      ]
     },
     "execution_count": 4,
     "metadata": {},
     "output_type": "execute_result"
    }
   ],
   "source": [
    "type(short_pos)"
   ]
  },
  {
   "cell_type": "code",
   "execution_count": 5,
   "metadata": {
    "collapsed": true
   },
   "outputs": [],
   "source": [
    "short_pos=[re.sub(\"\\n\",\"\",i)for i in short_pos]\n",
    "x_short_pos=short_pos[:1000]\n",
    "f2 = open(\"short_reviews/negative.txt\",\"r\", errors='replace')\n",
    "short_neg = f2.readlines()\n",
    "short_neg=[re.sub(\"\\n\",\"\",i)for i in short_neg]\n",
    "x_short_neg=short_neg[:1000]"
   ]
  },
  {
   "cell_type": "code",
   "execution_count": 6,
   "metadata": {},
   "outputs": [
    {
     "data": {
      "text/plain": [
       "'the gorgeously elaborate continuation of \" the lord of the rings \" trilogy is so huge that a column of words cannot adequately describe co-writer/director peter jackson\\'s expanded vision of j . r . r . tolkien\\'s middle-earth . '"
      ]
     },
     "execution_count": 6,
     "metadata": {},
     "output_type": "execute_result"
    }
   ],
   "source": [
    "x_short_pos[1]"
   ]
  },
  {
   "cell_type": "code",
   "execution_count": 7,
   "metadata": {},
   "outputs": [
    {
     "data": {
      "text/plain": [
       "list"
      ]
     },
     "execution_count": 7,
     "metadata": {},
     "output_type": "execute_result"
    }
   ],
   "source": [
    "type(short_neg)"
   ]
  },
  {
   "cell_type": "code",
   "execution_count": 8,
   "metadata": {
    "collapsed": true
   },
   "outputs": [],
   "source": [
    "cv=CountVectorizer(stop_words='english',lowercase=True,\n",
    "                   strip_accents='unicode',decode_error='ignore')\n",
    "data=x_short_pos+x_short_neg\n",
    "tdm = cv.fit_transform(data)\n",
    "Mat = tdm.todense()"
   ]
  },
  {
   "cell_type": "code",
   "execution_count": 9,
   "metadata": {},
   "outputs": [
    {
     "data": {
      "text/plain": [
       "(2000, 7406)"
      ]
     },
     "execution_count": 9,
     "metadata": {},
     "output_type": "execute_result"
    }
   ],
   "source": [
    "Mat.shape"
   ]
  },
  {
   "cell_type": "code",
   "execution_count": 10,
   "metadata": {
    "collapsed": true
   },
   "outputs": [],
   "source": [
    "import pandas as pd\n",
    "Mat = pd.DataFrame(Mat)\n",
    "Mat['type'] = ['pos']*1000+['neg']*1000\n",
    "Mat = pd.DataFrame(Mat)\n",
    "Mat = Mat.sample(frac = 1,random_state=1234)\n",
    "train = Mat.iloc[:1800]\n",
    "test = Mat.iloc[1800:]"
   ]
  },
  {
   "cell_type": "code",
   "execution_count": 11,
   "metadata": {
    "collapsed": true
   },
   "outputs": [],
   "source": [
    "from sklearn.linear_model import LogisticRegression"
   ]
  },
  {
   "cell_type": "code",
   "execution_count": 12,
   "metadata": {},
   "outputs": [],
   "source": [
    "logreg = LogisticRegression(C=1e5)\n",
    "X=train.iloc[:,:-1].as_matrix()\n",
    "Y=train.iloc[:,-1].as_matrix()\n"
   ]
  },
  {
   "cell_type": "code",
   "execution_count": 13,
   "metadata": {},
   "outputs": [
    {
     "data": {
      "text/plain": [
       "LogisticRegression(C=100000.0, class_weight=None, dual=False,\n",
       "          fit_intercept=True, intercept_scaling=1, max_iter=100,\n",
       "          multi_class='ovr', n_jobs=1, penalty='l2', random_state=None,\n",
       "          solver='liblinear', tol=0.0001, verbose=0, warm_start=False)"
      ]
     },
     "execution_count": 13,
     "metadata": {},
     "output_type": "execute_result"
    }
   ],
   "source": [
    "logreg.fit(X,Y)"
   ]
  },
  {
   "cell_type": "code",
   "execution_count": 14,
   "metadata": {
    "collapsed": true
   },
   "outputs": [],
   "source": [
    "test1=test.iloc[:,:-1].as_matrix()\n",
    "true=test.iloc[:,-1].as_matrix()\n",
    "pred=logreg.predict(test1)"
   ]
  },
  {
   "cell_type": "code",
   "execution_count": 15,
   "metadata": {},
   "outputs": [
    {
     "data": {
      "text/plain": [
       "array(['pos', 'pos', 'pos', 'pos', 'neg', 'neg', 'pos', 'pos', 'pos',\n",
       "       'neg', 'neg', 'neg', 'neg', 'pos', 'neg', 'neg', 'pos', 'pos',\n",
       "       'pos', 'neg', 'pos', 'pos', 'pos', 'pos', 'neg', 'pos', 'neg',\n",
       "       'pos', 'pos', 'neg', 'pos', 'neg', 'pos', 'pos', 'pos', 'neg',\n",
       "       'neg', 'pos', 'pos', 'pos', 'neg', 'pos', 'neg', 'pos', 'neg',\n",
       "       'pos', 'neg', 'pos', 'pos', 'pos', 'pos', 'pos', 'pos', 'pos',\n",
       "       'pos', 'pos', 'pos', 'neg', 'neg', 'pos', 'pos', 'neg', 'pos',\n",
       "       'neg', 'neg', 'pos', 'pos', 'pos', 'pos', 'neg', 'neg', 'neg',\n",
       "       'neg', 'pos', 'pos', 'neg', 'pos', 'pos', 'neg', 'neg', 'pos',\n",
       "       'neg', 'pos', 'neg', 'neg', 'pos', 'pos', 'neg', 'pos', 'neg',\n",
       "       'pos', 'pos', 'neg', 'neg', 'neg', 'pos', 'neg', 'pos', 'pos',\n",
       "       'pos', 'neg', 'pos', 'pos', 'neg', 'pos', 'neg', 'pos', 'neg',\n",
       "       'neg', 'neg', 'neg', 'neg', 'pos', 'pos', 'pos', 'pos', 'neg',\n",
       "       'pos', 'neg', 'neg', 'neg', 'neg', 'pos', 'pos', 'neg', 'neg',\n",
       "       'neg', 'neg', 'pos', 'neg', 'pos', 'pos', 'neg', 'neg', 'neg',\n",
       "       'pos', 'neg', 'pos', 'pos', 'pos', 'pos', 'pos', 'neg', 'pos',\n",
       "       'neg', 'neg', 'pos', 'neg', 'pos', 'pos', 'pos', 'neg', 'pos',\n",
       "       'neg', 'pos', 'pos', 'neg', 'pos', 'pos', 'pos', 'neg', 'neg',\n",
       "       'pos', 'neg', 'neg', 'neg', 'neg', 'pos', 'pos', 'neg', 'pos',\n",
       "       'neg', 'neg', 'neg', 'pos', 'neg', 'neg', 'neg', 'neg', 'pos',\n",
       "       'pos', 'pos', 'pos', 'pos', 'neg', 'neg', 'neg', 'neg', 'pos',\n",
       "       'neg', 'pos', 'pos', 'neg', 'pos', 'neg', 'pos', 'neg', 'neg',\n",
       "       'neg', 'pos'], dtype=object)"
      ]
     },
     "execution_count": 15,
     "metadata": {},
     "output_type": "execute_result"
    }
   ],
   "source": [
    "pred"
   ]
  },
  {
   "cell_type": "code",
   "execution_count": 16,
   "metadata": {},
   "outputs": [
    {
     "data": {
      "text/plain": [
       "array([[60, 37],\n",
       "       [33, 70]])"
      ]
     },
     "execution_count": 16,
     "metadata": {},
     "output_type": "execute_result"
    }
   ],
   "source": [
    "confusion_matrix(test.iloc[:,-1],pred)"
   ]
  },
  {
   "cell_type": "code",
   "execution_count": 17,
   "metadata": {},
   "outputs": [
    {
     "data": {
      "text/plain": [
       "array(['pos', 'neg', 'neg', 'neg', 'neg', 'neg', 'pos', 'neg', 'pos',\n",
       "       'neg', 'pos', 'pos', 'neg', 'pos', 'neg', 'neg', 'neg', 'neg',\n",
       "       'pos', 'pos', 'pos', 'pos', 'pos', 'pos', 'pos', 'pos', 'pos',\n",
       "       'neg', 'neg', 'neg', 'pos', 'neg', 'pos', 'neg', 'neg', 'pos',\n",
       "       'neg', 'neg', 'neg', 'pos', 'pos', 'pos', 'neg', 'pos', 'neg',\n",
       "       'pos', 'neg', 'pos', 'neg', 'pos', 'neg', 'pos', 'pos', 'pos',\n",
       "       'pos', 'neg', 'pos', 'neg', 'neg', 'pos', 'neg', 'pos', 'pos',\n",
       "       'pos', 'pos', 'pos', 'pos', 'neg', 'pos', 'pos', 'neg', 'neg',\n",
       "       'neg', 'pos', 'pos', 'neg', 'pos', 'pos', 'neg', 'neg', 'pos',\n",
       "       'neg', 'pos', 'neg', 'pos', 'pos', 'pos', 'neg', 'pos', 'pos',\n",
       "       'pos', 'pos', 'neg', 'neg', 'pos', 'pos', 'pos', 'pos', 'pos',\n",
       "       'pos', 'neg', 'pos', 'neg', 'neg', 'pos', 'pos', 'pos', 'neg',\n",
       "       'neg', 'pos', 'neg', 'neg', 'neg', 'neg', 'pos', 'pos', 'pos',\n",
       "       'neg', 'neg', 'pos', 'pos', 'neg', 'pos', 'pos', 'pos', 'neg',\n",
       "       'neg', 'neg', 'pos', 'neg', 'pos', 'pos', 'neg', 'pos', 'neg',\n",
       "       'pos', 'pos', 'neg', 'pos', 'neg', 'pos', 'pos', 'pos', 'neg',\n",
       "       'pos', 'neg', 'neg', 'neg', 'neg', 'pos', 'pos', 'pos', 'neg',\n",
       "       'neg', 'pos', 'pos', 'neg', 'pos', 'pos', 'neg', 'pos', 'neg',\n",
       "       'neg', 'neg', 'neg', 'pos', 'neg', 'neg', 'neg', 'neg', 'neg',\n",
       "       'pos', 'pos', 'pos', 'pos', 'neg', 'neg', 'neg', 'neg', 'pos',\n",
       "       'pos', 'neg', 'neg', 'neg', 'neg', 'neg', 'neg', 'pos', 'neg',\n",
       "       'neg', 'pos', 'pos', 'neg', 'pos', 'neg', 'neg', 'neg', 'neg',\n",
       "       'pos', 'pos'], dtype=object)"
      ]
     },
     "execution_count": 17,
     "metadata": {},
     "output_type": "execute_result"
    }
   ],
   "source": [
    "true"
   ]
  },
  {
   "cell_type": "code",
   "execution_count": 18,
   "metadata": {},
   "outputs": [
    {
     "data": {
      "text/plain": [
       "array(['pos', 'pos', 'pos', 'pos', 'neg', 'neg', 'pos', 'pos', 'pos',\n",
       "       'neg', 'neg', 'neg', 'neg', 'pos', 'neg', 'neg', 'pos', 'pos',\n",
       "       'pos', 'neg', 'pos', 'pos', 'pos', 'pos', 'neg', 'pos', 'neg',\n",
       "       'pos', 'pos', 'neg', 'pos', 'neg', 'pos', 'pos', 'pos', 'neg',\n",
       "       'neg', 'pos', 'pos', 'pos', 'neg', 'pos', 'neg', 'pos', 'neg',\n",
       "       'pos', 'neg', 'pos', 'pos', 'pos', 'pos', 'pos', 'pos', 'pos',\n",
       "       'pos', 'pos', 'pos', 'neg', 'neg', 'pos', 'pos', 'neg', 'pos',\n",
       "       'neg', 'neg', 'pos', 'pos', 'pos', 'pos', 'neg', 'neg', 'neg',\n",
       "       'neg', 'pos', 'pos', 'neg', 'pos', 'pos', 'neg', 'neg', 'pos',\n",
       "       'neg', 'pos', 'neg', 'neg', 'pos', 'pos', 'neg', 'pos', 'neg',\n",
       "       'pos', 'pos', 'neg', 'neg', 'neg', 'pos', 'neg', 'pos', 'pos',\n",
       "       'pos', 'neg', 'pos', 'pos', 'neg', 'pos', 'neg', 'pos', 'neg',\n",
       "       'neg', 'neg', 'neg', 'neg', 'pos', 'pos', 'pos', 'pos', 'neg',\n",
       "       'pos', 'neg', 'neg', 'neg', 'neg', 'pos', 'pos', 'neg', 'neg',\n",
       "       'neg', 'neg', 'pos', 'neg', 'pos', 'pos', 'neg', 'neg', 'neg',\n",
       "       'pos', 'neg', 'pos', 'pos', 'pos', 'pos', 'pos', 'neg', 'pos',\n",
       "       'neg', 'neg', 'pos', 'neg', 'pos', 'pos', 'pos', 'neg', 'pos',\n",
       "       'neg', 'pos', 'pos', 'neg', 'pos', 'pos', 'pos', 'neg', 'neg',\n",
       "       'pos', 'neg', 'neg', 'neg', 'neg', 'pos', 'pos', 'neg', 'pos',\n",
       "       'neg', 'neg', 'neg', 'pos', 'neg', 'neg', 'neg', 'neg', 'pos',\n",
       "       'pos', 'pos', 'pos', 'pos', 'neg', 'neg', 'neg', 'neg', 'pos',\n",
       "       'neg', 'pos', 'pos', 'neg', 'pos', 'neg', 'pos', 'neg', 'neg',\n",
       "       'neg', 'pos'], dtype=object)"
      ]
     },
     "execution_count": 18,
     "metadata": {},
     "output_type": "execute_result"
    }
   ],
   "source": [
    "pred"
   ]
  },
  {
   "cell_type": "markdown",
   "metadata": {},
   "source": [
    "# Work with any other classification model and check if you can improve the accuracies"
   ]
  },
  {
   "cell_type": "code",
   "execution_count": 19,
   "metadata": {},
   "outputs": [
    {
     "data": {
      "text/plain": [
       "array([[63, 34],\n",
       "       [31, 72]])"
      ]
     },
     "execution_count": 19,
     "metadata": {},
     "output_type": "execute_result"
    }
   ],
   "source": [
    "from sklearn.naive_bayes import MultinomialNB\n",
    "classifier = MultinomialNB()\n",
    "classifier.fit(train.iloc[:,:-1],train.iloc[:,-1])\n",
    "A=classifier.predict(test.iloc[:,:-1])\n",
    "confusion_matrix(test.iloc[:,-1],A)"
   ]
  },
  {
   "cell_type": "code",
   "execution_count": 20,
   "metadata": {},
   "outputs": [
    {
     "data": {
      "text/plain": [
       "array(['pos', 'pos', 'pos', 'pos', 'neg', 'neg', 'pos', 'neg', 'pos',\n",
       "       'pos', 'pos', 'neg', 'neg', 'pos', 'neg', 'neg', 'neg', 'neg',\n",
       "       'pos', 'neg', 'pos', 'pos', 'pos', 'neg', 'pos', 'pos', 'pos',\n",
       "       'pos', 'neg', 'neg', 'pos', 'neg', 'pos', 'pos', 'neg', 'pos',\n",
       "       'pos', 'pos', 'pos', 'pos', 'neg', 'pos', 'pos', 'pos', 'neg',\n",
       "       'pos', 'pos', 'pos', 'pos', 'pos', 'neg', 'pos', 'pos', 'neg',\n",
       "       'pos', 'neg', 'pos', 'pos', 'neg', 'pos', 'pos', 'neg', 'neg',\n",
       "       'pos', 'pos', 'pos', 'pos', 'pos', 'neg', 'pos', 'neg', 'neg',\n",
       "       'neg', 'neg', 'pos', 'neg', 'neg', 'pos', 'neg', 'pos', 'pos',\n",
       "       'neg', 'pos', 'neg', 'pos', 'pos', 'pos', 'neg', 'pos', 'neg',\n",
       "       'neg', 'pos', 'neg', 'neg', 'neg', 'neg', 'pos', 'pos', 'pos',\n",
       "       'neg', 'neg', 'pos', 'pos', 'neg', 'neg', 'pos', 'pos', 'pos',\n",
       "       'neg', 'neg', 'neg', 'neg', 'pos', 'pos', 'neg', 'pos', 'pos',\n",
       "       'neg', 'neg', 'pos', 'pos', 'neg', 'pos', 'pos', 'neg', 'neg',\n",
       "       'neg', 'neg', 'pos', 'neg', 'pos', 'pos', 'neg', 'neg', 'neg',\n",
       "       'pos', 'neg', 'pos', 'pos', 'pos', 'pos', 'pos', 'pos', 'neg',\n",
       "       'pos', 'neg', 'neg', 'neg', 'pos', 'pos', 'pos', 'pos', 'pos',\n",
       "       'neg', 'pos', 'pos', 'neg', 'pos', 'pos', 'pos', 'neg', 'neg',\n",
       "       'neg', 'neg', 'neg', 'neg', 'neg', 'neg', 'neg', 'neg', 'pos',\n",
       "       'neg', 'neg', 'neg', 'neg', 'pos', 'pos', 'neg', 'neg', 'pos',\n",
       "       'neg', 'pos', 'neg', 'pos', 'neg', 'neg', 'pos', 'pos', 'pos',\n",
       "       'neg', 'neg', 'pos', 'neg', 'neg', 'neg', 'pos', 'neg', 'pos',\n",
       "       'neg', 'pos'],\n",
       "      dtype='<U3')"
      ]
     },
     "execution_count": 20,
     "metadata": {},
     "output_type": "execute_result"
    }
   ],
   "source": [
    "A"
   ]
  },
  {
   "cell_type": "markdown",
   "metadata": {},
   "source": [
    "#What else could be done to improve the accuracies"
   ]
  },
  {
   "cell_type": "markdown",
   "metadata": {},
   "source": [
    "#Solution: There could be some common words in both positive and negative reviews.\n",
    "    To avoid such words we can consider only adjectives to solve the problem and check if the accuracies improve"
   ]
  }
 ],
 "metadata": {
  "anaconda-cloud": {},
  "kernelspec": {
   "display_name": "Python 3",
   "language": "python",
   "name": "python3"
  },
  "language_info": {
   "codemirror_mode": {
    "name": "ipython",
    "version": 3
   },
   "file_extension": ".py",
   "mimetype": "text/x-python",
   "name": "python",
   "nbconvert_exporter": "python",
   "pygments_lexer": "ipython3",
   "version": "3.6.3"
  }
 },
 "nbformat": 4,
 "nbformat_minor": 1
}
