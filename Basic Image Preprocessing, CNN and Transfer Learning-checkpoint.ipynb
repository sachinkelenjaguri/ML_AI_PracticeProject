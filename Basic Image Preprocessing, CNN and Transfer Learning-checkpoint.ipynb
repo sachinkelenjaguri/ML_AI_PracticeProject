{
 "cells": [
  {
   "cell_type": "markdown",
   "metadata": {},
   "source": [
    "## Image Augmentation and Transfer Learning for Convolutional Neural Networks"
   ]
  },
  {
   "cell_type": "markdown",
   "metadata": {},
   "source": [
    "Get the current working directory"
   ]
  },
  {
   "cell_type": "code",
   "execution_count": 2,
   "metadata": {
    "collapsed": true
   },
   "outputs": [],
   "source": [
    "import os\n",
    "\n",
    "PATH = os.getcwd()"
   ]
  },
  {
   "cell_type": "markdown",
   "metadata": {},
   "source": [
    "Define the data path"
   ]
  },
  {
   "cell_type": "code",
   "execution_count": 3,
   "metadata": {
    "collapsed": true
   },
   "outputs": [],
   "source": [
    "# Define data path\n",
    "data_path = PATH + '/data'\n",
    "data_dir_list = os.listdir(data_path)"
   ]
  },
  {
   "cell_type": "code",
   "execution_count": 4,
   "metadata": {},
   "outputs": [
    {
     "name": "stdout",
     "output_type": "stream",
     "text": [
      "['cats', 'dogs', 'horses', 'Humans']\n"
     ]
    }
   ],
   "source": [
    "print(data_dir_list)"
   ]
  },
  {
   "cell_type": "code",
   "execution_count": 5,
   "metadata": {},
   "outputs": [
    {
     "name": "stdout",
     "output_type": "stream",
     "text": [
      "Requirement already satisfied: opencv-python in c:\\users\\sri yogesh\\anaconda3\\lib\\site-packages\n",
      "Requirement already satisfied: numpy>=1.11.3 in c:\\users\\sri yogesh\\anaconda3\\lib\\site-packages (from opencv-python)\n"
     ]
    }
   ],
   "source": [
    "!pip install opencv-python"
   ]
  },
  {
   "cell_type": "markdown",
   "metadata": {},
   "source": [
    "Required variables declaration and initialization"
   ]
  },
  {
   "cell_type": "code",
   "execution_count": 6,
   "metadata": {
    "collapsed": true
   },
   "outputs": [],
   "source": [
    "img_rows=224\n",
    "img_cols=224\n",
    "num_channel=3\n",
    "num_epoch=2\n",
    "\n",
    "img_data_list=[]\n",
    "classes_names_list=[]"
   ]
  },
  {
   "cell_type": "markdown",
   "metadata": {},
   "source": [
    "Read the images and store them in the list"
   ]
  },
  {
   "cell_type": "code",
   "execution_count": 7,
   "metadata": {},
   "outputs": [
    {
     "name": "stdout",
     "output_type": "stream",
     "text": [
      "Loading images from cats folder\n",
      "\n",
      "Loading images from dogs folder\n",
      "\n",
      "Loading images from horses folder\n",
      "\n",
      "Loading images from Humans folder\n",
      "\n"
     ]
    }
   ],
   "source": [
    "import cv2\n",
    "\n",
    "for dataset in data_dir_list:\n",
    "    classes_names_list.append(dataset) \n",
    "    print ('Loading images from {} folder\\n'.format(dataset)) \n",
    "    img_list = os.listdir(data_path +'/'+ dataset)\n",
    "    for img in img_list:\n",
    "        input_img = cv2.imread(data_path + '/'+ dataset + '/'+ img )\n",
    "        input_img_resize = cv2.resize(input_img,(img_rows, img_cols))\n",
    "        img_data_list.append(input_img_resize)"
   ]
  },
  {
   "cell_type": "code",
   "execution_count": 8,
   "metadata": {},
   "outputs": [
    {
     "name": "stdout",
     "output_type": "stream",
     "text": [
      "4\n"
     ]
    }
   ],
   "source": [
    "num_classes = len(classes_names_list)\n",
    "\n",
    "print(num_classes)"
   ]
  },
  {
   "cell_type": "markdown",
   "metadata": {},
   "source": [
    "###### Image preprocessiong "
   ]
  },
  {
   "cell_type": "code",
   "execution_count": 9,
   "metadata": {
    "collapsed": true
   },
   "outputs": [],
   "source": [
    "import numpy as np\n",
    "img_data = np.array(img_data_list)\n",
    "img_data = img_data.astype('float32')\n",
    "img_data /= 255"
   ]
  },
  {
   "cell_type": "code",
   "execution_count": 10,
   "metadata": {},
   "outputs": [
    {
     "name": "stdout",
     "output_type": "stream",
     "text": [
      "[[[[0.15686275 0.17254902 0.15294118]\n",
      "   [0.16470589 0.17254902 0.15686275]\n",
      "   [0.1764706  0.1764706  0.16078432]\n",
      "   ...\n",
      "   [0.7019608  0.8117647  0.81960785]\n",
      "   [0.654902   0.7882353  0.8       ]\n",
      "   [0.6313726  0.7764706  0.7882353 ]]\n",
      "\n",
      "  [[0.16078432 0.1764706  0.15686275]\n",
      "   [0.16470589 0.17254902 0.15686275]\n",
      "   [0.1764706  0.1764706  0.16078432]\n",
      "   ...\n",
      "   [0.6784314  0.78431374 0.8       ]\n",
      "   [0.6431373  0.77254903 0.78431374]\n",
      "   [0.62352943 0.7647059  0.7764706 ]]\n",
      "\n",
      "  [[0.15686275 0.17254902 0.15294118]\n",
      "   [0.16078432 0.16862746 0.15294118]\n",
      "   [0.16862746 0.16470589 0.14901961]\n",
      "   ...\n",
      "   [0.654902   0.75686276 0.77254903]\n",
      "   [0.6431373  0.7647059  0.78039217]\n",
      "   [0.64705884 0.7764706  0.7921569 ]]\n",
      "\n",
      "  ...\n",
      "\n",
      "  [[0.11372549 0.10980392 0.11764706]\n",
      "   [0.10196079 0.09411765 0.10196079]\n",
      "   [0.08627451 0.08235294 0.09019608]\n",
      "   ...\n",
      "   [0.09803922 0.12156863 0.17254902]\n",
      "   [0.08235294 0.10588235 0.15686275]\n",
      "   [0.12941177 0.15294118 0.19607843]]\n",
      "\n",
      "  [[0.11764706 0.11764706 0.1254902 ]\n",
      "   [0.10588235 0.10196079 0.10980392]\n",
      "   [0.08627451 0.08235294 0.09019608]\n",
      "   ...\n",
      "   [0.08235294 0.10980392 0.16078432]\n",
      "   [0.08627451 0.11372549 0.16470589]\n",
      "   [0.13725491 0.16862746 0.21176471]]\n",
      "\n",
      "  [[0.11764706 0.11372549 0.12156863]\n",
      "   [0.10196079 0.09803922 0.10588235]\n",
      "   [0.08235294 0.07843138 0.08627451]\n",
      "   ...\n",
      "   [0.13725491 0.16862746 0.21960784]\n",
      "   [0.10196079 0.13333334 0.18431373]\n",
      "   [0.09019608 0.1254902  0.16470589]]]\n",
      "\n",
      "\n",
      " [[[0.15686275 0.12156863 0.10588235]\n",
      "   [0.12156863 0.08627451 0.07058824]\n",
      "   [0.09019608 0.04705882 0.03137255]\n",
      "   ...\n",
      "   [0.62352943 0.63529414 0.50980395]\n",
      "   [0.6117647  0.62352943 0.5019608 ]\n",
      "   [0.6039216  0.6156863  0.49019608]]\n",
      "\n",
      "  [[0.18039216 0.14509805 0.12941177]\n",
      "   [0.20784314 0.17254902 0.15294118]\n",
      "   [0.17254902 0.12941177 0.11372549]\n",
      "   ...\n",
      "   [0.627451   0.6392157  0.5137255 ]\n",
      "   [0.6156863  0.627451   0.5019608 ]\n",
      "   [0.6039216  0.6156863  0.49019608]]\n",
      "\n",
      "  [[0.19607843 0.17254902 0.14509805]\n",
      "   [0.21176471 0.18431373 0.15686275]\n",
      "   [0.20392157 0.17254902 0.14509805]\n",
      "   ...\n",
      "   [0.62352943 0.6431373  0.5176471 ]\n",
      "   [0.6117647  0.6313726  0.5058824 ]\n",
      "   [0.6039216  0.62352943 0.49803922]]\n",
      "\n",
      "  ...\n",
      "\n",
      "  [[0.4745098  0.6509804  0.7019608 ]\n",
      "   [0.4509804  0.62352943 0.6745098 ]\n",
      "   [0.4392157  0.6117647  0.6627451 ]\n",
      "   ...\n",
      "   [0.03529412 0.7372549  0.74509805]\n",
      "   [0.04705882 0.6784314  0.69803923]\n",
      "   [0.05098039 0.6313726  0.65882355]]\n",
      "\n",
      "  [[0.43529412 0.6039216  0.654902  ]\n",
      "   [0.43137255 0.6039216  0.654902  ]\n",
      "   [0.38431373 0.5568628  0.60784316]\n",
      "   ...\n",
      "   [0.03137255 0.7294118  0.7411765 ]\n",
      "   [0.03921569 0.6745098  0.69411767]\n",
      "   [0.03921569 0.627451   0.654902  ]]\n",
      "\n",
      "  [[0.42352942 0.56078434 0.6156863 ]\n",
      "   [0.37254903 0.5254902  0.5803922 ]\n",
      "   [0.36862746 0.5411765  0.5921569 ]\n",
      "   ...\n",
      "   [0.02352941 0.73333335 0.7411765 ]\n",
      "   [0.01176471 0.6901961  0.7019608 ]\n",
      "   [0.00784314 0.6431373  0.6627451 ]]]\n",
      "\n",
      "\n",
      " [[[0.85882354 0.8745098  0.8745098 ]\n",
      "   [0.85882354 0.8784314  0.8745098 ]\n",
      "   [0.85882354 0.8784314  0.8745098 ]\n",
      "   ...\n",
      "   [0.9411765  0.91764706 0.9137255 ]\n",
      "   [0.9764706  0.9490196  0.9607843 ]\n",
      "   [0.98039216 0.9529412  0.9647059 ]]\n",
      "\n",
      "  [[0.84313726 0.8627451  0.85882354]\n",
      "   [0.84705883 0.8666667  0.8627451 ]\n",
      "   [0.85882354 0.8784314  0.8745098 ]\n",
      "   ...\n",
      "   [0.94509804 0.9254902  0.92156863]\n",
      "   [0.9764706  0.95686275 0.9529412 ]\n",
      "   [0.9843137  0.9647059  0.9607843 ]]\n",
      "\n",
      "  [[0.84313726 0.8627451  0.85882354]\n",
      "   [0.84705883 0.8666667  0.8627451 ]\n",
      "   [0.8509804  0.87058824 0.8666667 ]\n",
      "   ...\n",
      "   [0.94509804 0.9254902  0.92156863]\n",
      "   [0.9529412  0.93333334 0.91764706]\n",
      "   [0.9529412  0.9372549  0.91764706]]\n",
      "\n",
      "  ...\n",
      "\n",
      "  [[0.8666667  0.83137256 0.8509804 ]\n",
      "   [0.84313726 0.81960785 0.83137256]\n",
      "   [0.83137256 0.8235294  0.8235294 ]\n",
      "   ...\n",
      "   [0.8117647  0.83137256 0.84313726]\n",
      "   [0.81960785 0.83137256 0.8509804 ]\n",
      "   [0.81960785 0.83137256 0.8509804 ]]\n",
      "\n",
      "  [[0.8784314  0.8392157  0.8666667 ]\n",
      "   [0.85490197 0.8235294  0.84313726]\n",
      "   [0.8352941  0.81960785 0.8352941 ]\n",
      "   ...\n",
      "   [0.8117647  0.83137256 0.84313726]\n",
      "   [0.81960785 0.83137256 0.8509804 ]\n",
      "   [0.81960785 0.83137256 0.8509804 ]]\n",
      "\n",
      "  [[0.88235295 0.84705883 0.83137256]\n",
      "   [0.8627451  0.8392157  0.81960785]\n",
      "   [0.83137256 0.83137256 0.80784315]\n",
      "   ...\n",
      "   [0.8039216  0.83137256 0.84313726]\n",
      "   [0.8235294  0.827451   0.8509804 ]\n",
      "   [0.827451   0.827451   0.8509804 ]]]\n",
      "\n",
      "\n",
      " ...\n",
      "\n",
      "\n",
      " [[[0.8980392  0.8784314  0.88235295]\n",
      "   [0.8980392  0.8784314  0.88235295]\n",
      "   [0.9019608  0.88235295 0.8862745 ]\n",
      "   ...\n",
      "   [0.84705883 0.8235294  0.827451  ]\n",
      "   [0.84705883 0.8235294  0.827451  ]\n",
      "   [0.84705883 0.8235294  0.827451  ]]\n",
      "\n",
      "  [[0.8901961  0.87058824 0.8745098 ]\n",
      "   [0.8901961  0.87058824 0.8745098 ]\n",
      "   [0.89411765 0.8745098  0.8784314 ]\n",
      "   ...\n",
      "   [0.8392157  0.8156863  0.81960785]\n",
      "   [0.8392157  0.8156863  0.81960785]\n",
      "   [0.8392157  0.8156863  0.81960785]]\n",
      "\n",
      "  [[0.8784314  0.8627451  0.8666667 ]\n",
      "   [0.8784314  0.8627451  0.8666667 ]\n",
      "   [0.8784314  0.8666667  0.8666667 ]\n",
      "   ...\n",
      "   [0.83137256 0.80784315 0.8117647 ]\n",
      "   [0.83137256 0.80784315 0.8117647 ]\n",
      "   [0.83137256 0.80784315 0.8117647 ]]\n",
      "\n",
      "  ...\n",
      "\n",
      "  [[0.06666667 0.2627451  0.25882354]\n",
      "   [0.02352941 0.21176471 0.21176471]\n",
      "   [0.07450981 0.25490198 0.25882354]\n",
      "   ...\n",
      "   [0.09803922 0.28627452 0.34117648]\n",
      "   [0.07058824 0.25882354 0.3137255 ]\n",
      "   [0.09019608 0.27058825 0.3254902 ]]\n",
      "\n",
      "  [[0.04313726 0.25490198 0.20392157]\n",
      "   [0.01568628 0.20392157 0.16470589]\n",
      "   [0.03137255 0.20784314 0.17254902]\n",
      "   ...\n",
      "   [0.08235294 0.2784314  0.33333334]\n",
      "   [0.08627451 0.28627452 0.3372549 ]\n",
      "   [0.14117648 0.3372549  0.38431373]]\n",
      "\n",
      "  [[0.03921569 0.2509804  0.2       ]\n",
      "   [0.02352941 0.22352941 0.18039216]\n",
      "   [0.01176471 0.1882353  0.15294118]\n",
      "   ...\n",
      "   [0.05490196 0.25490198 0.30588236]\n",
      "   [0.03137255 0.23137255 0.28235295]\n",
      "   [0.01960784 0.21568628 0.2627451 ]]]\n",
      "\n",
      "\n",
      " [[[0.05882353 0.1254902  0.10980392]\n",
      "   [0.02745098 0.07843138 0.0627451 ]\n",
      "   [0.00392157 0.04313726 0.02745098]\n",
      "   ...\n",
      "   [0.10980392 0.19607843 0.20392157]\n",
      "   [0.14901961 0.24313726 0.2509804 ]\n",
      "   [0.1882353  0.28627452 0.29411766]]\n",
      "\n",
      "  [[0.00784314 0.07450981 0.05882353]\n",
      "   [0.02352941 0.09019608 0.07843138]\n",
      "   [0.03529412 0.10196079 0.08627451]\n",
      "   ...\n",
      "   [0.07450981 0.16862746 0.1764706 ]\n",
      "   [0.04705882 0.14509805 0.15294118]\n",
      "   [0.02352941 0.12941177 0.13333334]]\n",
      "\n",
      "  [[0.03921569 0.10588235 0.09019608]\n",
      "   [0.02745098 0.09411765 0.07843138]\n",
      "   [0.01568628 0.07843138 0.0627451 ]\n",
      "   ...\n",
      "   [0.13725491 0.24313726 0.24705882]\n",
      "   [0.09803922 0.20392157 0.21176471]\n",
      "   [0.05098039 0.16078432 0.16470589]]\n",
      "\n",
      "  ...\n",
      "\n",
      "  [[0.10980392 0.32156864 0.5058824 ]\n",
      "   [0.12941177 0.34509805 0.5294118 ]\n",
      "   [0.14117648 0.36078432 0.54901963]\n",
      "   ...\n",
      "   [0.24705882 0.5058824  0.49803922]\n",
      "   [0.2509804  0.5058824  0.49803922]\n",
      "   [0.21176471 0.46666667 0.45882353]]\n",
      "\n",
      "  [[0.19607843 0.4117647  0.5882353 ]\n",
      "   [0.19215687 0.40784314 0.58431375]\n",
      "   [0.1882353  0.40392157 0.58431375]\n",
      "   ...\n",
      "   [0.2509804  0.52156866 0.50980395]\n",
      "   [0.23921569 0.50980395 0.49803922]\n",
      "   [0.27450982 0.5372549  0.5294118 ]]\n",
      "\n",
      "  [[0.16078432 0.38039216 0.54901963]\n",
      "   [0.18431373 0.4        0.57254905]\n",
      "   [0.19607843 0.4117647  0.5882353 ]\n",
      "   ...\n",
      "   [0.21568628 0.49803922 0.4862745 ]\n",
      "   [0.1882353  0.4627451  0.4509804 ]\n",
      "   [0.15686275 0.42745098 0.41568628]]]\n",
      "\n",
      "\n",
      " [[[0.6862745  0.7490196  0.8117647 ]\n",
      "   [0.67058825 0.74509805 0.80784315]\n",
      "   [0.6627451  0.7490196  0.8156863 ]\n",
      "   ...\n",
      "   [0.40784314 0.53333336 0.6156863 ]\n",
      "   [0.39607844 0.5294118  0.6117647 ]\n",
      "   [0.38431373 0.5294118  0.60784316]]\n",
      "\n",
      "  [[0.6862745  0.7490196  0.8117647 ]\n",
      "   [0.67058825 0.74509805 0.80784315]\n",
      "   [0.6627451  0.7490196  0.8156863 ]\n",
      "   ...\n",
      "   [0.40784314 0.53333336 0.6156863 ]\n",
      "   [0.39607844 0.53333336 0.6117647 ]\n",
      "   [0.38431373 0.53333336 0.60784316]]\n",
      "\n",
      "  [[0.6862745  0.7490196  0.8117647 ]\n",
      "   [0.67058825 0.74509805 0.8117647 ]\n",
      "   [0.6627451  0.7490196  0.8156863 ]\n",
      "   ...\n",
      "   [0.4117647  0.5372549  0.61960787]\n",
      "   [0.4        0.5372549  0.6117647 ]\n",
      "   [0.3882353  0.5372549  0.60784316]]\n",
      "\n",
      "  ...\n",
      "\n",
      "  [[0.84705883 0.85490197 0.8862745 ]\n",
      "   [0.84705883 0.85490197 0.8862745 ]\n",
      "   [0.84705883 0.85490197 0.8862745 ]\n",
      "   ...\n",
      "   [0.6392157  0.654902   0.72156864]\n",
      "   [0.6392157  0.654902   0.72156864]\n",
      "   [0.6392157  0.654902   0.72156864]]\n",
      "\n",
      "  [[0.84705883 0.85490197 0.8862745 ]\n",
      "   [0.84705883 0.85490197 0.8862745 ]\n",
      "   [0.84705883 0.85490197 0.8862745 ]\n",
      "   ...\n",
      "   [0.6431373  0.654902   0.7254902 ]\n",
      "   [0.6392157  0.654902   0.7254902 ]\n",
      "   [0.6392157  0.654902   0.7254902 ]]\n",
      "\n",
      "  [[0.84705883 0.85490197 0.8862745 ]\n",
      "   [0.84705883 0.85490197 0.8862745 ]\n",
      "   [0.84705883 0.85490197 0.8862745 ]\n",
      "   ...\n",
      "   [0.6431373  0.65882355 0.7294118 ]\n",
      "   [0.6431373  0.65882355 0.7294118 ]\n",
      "   [0.6431373  0.65882355 0.7294118 ]]]]\n"
     ]
    }
   ],
   "source": [
    "print (img_data)"
   ]
  },
  {
   "cell_type": "code",
   "execution_count": 11,
   "metadata": {},
   "outputs": [
    {
     "name": "stdout",
     "output_type": "stream",
     "text": [
      "(808, 224, 224, 3)\n"
     ]
    }
   ],
   "source": [
    "print (img_data.shape)\n",
    "\n",
    "img_data = img_data.reshape(img_data.shape[0], img_data.shape[1], img_data.shape[2], num_channel)"
   ]
  },
  {
   "cell_type": "code",
   "execution_count": 12,
   "metadata": {
    "collapsed": true
   },
   "outputs": [],
   "source": [
    "num_of_samples = img_data.shape[0]\n",
    "input_shape = img_data[0].shape"
   ]
  },
  {
   "cell_type": "code",
   "execution_count": 13,
   "metadata": {
    "collapsed": true
   },
   "outputs": [],
   "source": [
    "classes = np.ones((num_of_samples,), dtype='int64')\n",
    "classes[0:202]=0\n",
    "classes[202:404]=1\n",
    "classes[404:606]=2\n",
    "classes[606:]=3"
   ]
  },
  {
   "cell_type": "code",
   "execution_count": 14,
   "metadata": {},
   "outputs": [
    {
     "name": "stderr",
     "output_type": "stream",
     "text": [
      "C:\\Users\\Sri Yogesh\\Anaconda3\\lib\\site-packages\\h5py\\__init__.py:34: FutureWarning: Conversion of the second argument of issubdtype from `float` to `np.floating` is deprecated. In future, it will be treated as `np.float64 == np.dtype(float).type`.\n",
      "  from ._conv import register_converters as _register_converters\n",
      "Using TensorFlow backend.\n"
     ]
    }
   ],
   "source": [
    "from keras.utils import to_categorical\n",
    "\n",
    "# convert class labels to on-hot encoding\n",
    "classes = to_categorical(classes, num_classes)"
   ]
  },
  {
   "cell_type": "markdown",
   "metadata": {},
   "source": [
    "Shuffle the dataset"
   ]
  },
  {
   "cell_type": "code",
   "execution_count": 15,
   "metadata": {
    "collapsed": true
   },
   "outputs": [],
   "source": [
    "from sklearn.utils import shuffle\n",
    "\n",
    "x, y = shuffle(img_data, classes, random_state=2)"
   ]
  },
  {
   "cell_type": "markdown",
   "metadata": {},
   "source": [
    "Split the dataset"
   ]
  },
  {
   "cell_type": "code",
   "execution_count": 16,
   "metadata": {
    "collapsed": true
   },
   "outputs": [],
   "source": [
    "from sklearn.model_selection import train_test_split\n",
    "\n",
    "X_train, X_test, y_train, y_test = train_test_split(x, y, test_size=0.2, random_state=2)"
   ]
  },
  {
   "cell_type": "markdown",
   "metadata": {},
   "source": [
    "Defining the model"
   ]
  },
  {
   "cell_type": "code",
   "execution_count": 17,
   "metadata": {
    "collapsed": true
   },
   "outputs": [],
   "source": [
    "from keras.models import Sequential\n",
    "from keras.layers import Dense, Dropout, Flatten\n",
    "from keras.layers import Conv2D, MaxPooling2D"
   ]
  },
  {
   "cell_type": "code",
   "execution_count": 18,
   "metadata": {
    "collapsed": true
   },
   "outputs": [],
   "source": [
    "model = Sequential()\n",
    "\n",
    "model.add(Conv2D(32, (3, 3), activation='relu', input_shape = input_shape))\n",
    "model.add(Conv2D(32, (3, 3), activation='relu'))\n",
    "model.add(MaxPooling2D(pool_size=(2, 2)))\n",
    "model.add(Dropout(0.5))\n",
    "\n",
    "model.add(Conv2D(64, (3, 3), activation='relu'))\n",
    "model.add(Conv2D(64, (3, 3), activation='relu'))\n",
    "model.add(MaxPooling2D(pool_size=(2, 2)))\n",
    "model.add(Dropout(0.5))\n",
    "\n",
    "model.add(Flatten())\n",
    "model.add(Dense(64, activation='relu'))\n",
    "model.add(Dropout(0.5))\n",
    "model.add(Dense(num_classes, activation='softmax'))"
   ]
  },
  {
   "cell_type": "markdown",
   "metadata": {},
   "source": [
    "Compile the model"
   ]
  },
  {
   "cell_type": "code",
   "execution_count": 19,
   "metadata": {
    "collapsed": true
   },
   "outputs": [],
   "source": [
    "model.compile(loss='categorical_crossentropy', optimizer='rmsprop', metrics=[\"accuracy\"])"
   ]
  },
  {
   "cell_type": "markdown",
   "metadata": {},
   "source": [
    "Viewing model_configuration"
   ]
  },
  {
   "cell_type": "code",
   "execution_count": 20,
   "metadata": {},
   "outputs": [
    {
     "name": "stdout",
     "output_type": "stream",
     "text": [
      "_________________________________________________________________\n",
      "Layer (type)                 Output Shape              Param #   \n",
      "=================================================================\n",
      "conv2d_1 (Conv2D)            (None, 222, 222, 32)      896       \n",
      "_________________________________________________________________\n",
      "conv2d_2 (Conv2D)            (None, 220, 220, 32)      9248      \n",
      "_________________________________________________________________\n",
      "max_pooling2d_1 (MaxPooling2 (None, 110, 110, 32)      0         \n",
      "_________________________________________________________________\n",
      "dropout_1 (Dropout)          (None, 110, 110, 32)      0         \n",
      "_________________________________________________________________\n",
      "conv2d_3 (Conv2D)            (None, 108, 108, 64)      18496     \n",
      "_________________________________________________________________\n",
      "conv2d_4 (Conv2D)            (None, 106, 106, 64)      36928     \n",
      "_________________________________________________________________\n",
      "max_pooling2d_2 (MaxPooling2 (None, 53, 53, 64)        0         \n",
      "_________________________________________________________________\n",
      "dropout_2 (Dropout)          (None, 53, 53, 64)        0         \n",
      "_________________________________________________________________\n",
      "flatten_1 (Flatten)          (None, 179776)            0         \n",
      "_________________________________________________________________\n",
      "dense_1 (Dense)              (None, 64)                11505728  \n",
      "_________________________________________________________________\n",
      "dropout_3 (Dropout)          (None, 64)                0         \n",
      "_________________________________________________________________\n",
      "dense_2 (Dense)              (None, 4)                 260       \n",
      "=================================================================\n",
      "Total params: 11,571,556\n",
      "Trainable params: 11,571,556\n",
      "Non-trainable params: 0\n",
      "_________________________________________________________________\n"
     ]
    }
   ],
   "source": [
    "model.summary()"
   ]
  },
  {
   "cell_type": "code",
   "execution_count": 21,
   "metadata": {},
   "outputs": [
    {
     "data": {
      "text/plain": [
       "[{'class_name': 'Conv2D',\n",
       "  'config': {'activation': 'relu',\n",
       "   'activity_regularizer': None,\n",
       "   'batch_input_shape': (None, 224, 224, 3),\n",
       "   'bias_constraint': None,\n",
       "   'bias_initializer': {'class_name': 'Zeros', 'config': {}},\n",
       "   'bias_regularizer': None,\n",
       "   'data_format': 'channels_last',\n",
       "   'dilation_rate': (1, 1),\n",
       "   'dtype': 'float32',\n",
       "   'filters': 32,\n",
       "   'kernel_constraint': None,\n",
       "   'kernel_initializer': {'class_name': 'VarianceScaling',\n",
       "    'config': {'distribution': 'uniform',\n",
       "     'mode': 'fan_avg',\n",
       "     'scale': 1.0,\n",
       "     'seed': None}},\n",
       "   'kernel_regularizer': None,\n",
       "   'kernel_size': (3, 3),\n",
       "   'name': 'conv2d_1',\n",
       "   'padding': 'valid',\n",
       "   'strides': (1, 1),\n",
       "   'trainable': True,\n",
       "   'use_bias': True}},\n",
       " {'class_name': 'Conv2D',\n",
       "  'config': {'activation': 'relu',\n",
       "   'activity_regularizer': None,\n",
       "   'bias_constraint': None,\n",
       "   'bias_initializer': {'class_name': 'Zeros', 'config': {}},\n",
       "   'bias_regularizer': None,\n",
       "   'data_format': 'channels_last',\n",
       "   'dilation_rate': (1, 1),\n",
       "   'filters': 32,\n",
       "   'kernel_constraint': None,\n",
       "   'kernel_initializer': {'class_name': 'VarianceScaling',\n",
       "    'config': {'distribution': 'uniform',\n",
       "     'mode': 'fan_avg',\n",
       "     'scale': 1.0,\n",
       "     'seed': None}},\n",
       "   'kernel_regularizer': None,\n",
       "   'kernel_size': (3, 3),\n",
       "   'name': 'conv2d_2',\n",
       "   'padding': 'valid',\n",
       "   'strides': (1, 1),\n",
       "   'trainable': True,\n",
       "   'use_bias': True}},\n",
       " {'class_name': 'MaxPooling2D',\n",
       "  'config': {'data_format': 'channels_last',\n",
       "   'name': 'max_pooling2d_1',\n",
       "   'padding': 'valid',\n",
       "   'pool_size': (2, 2),\n",
       "   'strides': (2, 2),\n",
       "   'trainable': True}},\n",
       " {'class_name': 'Dropout',\n",
       "  'config': {'name': 'dropout_1',\n",
       "   'noise_shape': None,\n",
       "   'rate': 0.5,\n",
       "   'seed': None,\n",
       "   'trainable': True}},\n",
       " {'class_name': 'Conv2D',\n",
       "  'config': {'activation': 'relu',\n",
       "   'activity_regularizer': None,\n",
       "   'bias_constraint': None,\n",
       "   'bias_initializer': {'class_name': 'Zeros', 'config': {}},\n",
       "   'bias_regularizer': None,\n",
       "   'data_format': 'channels_last',\n",
       "   'dilation_rate': (1, 1),\n",
       "   'filters': 64,\n",
       "   'kernel_constraint': None,\n",
       "   'kernel_initializer': {'class_name': 'VarianceScaling',\n",
       "    'config': {'distribution': 'uniform',\n",
       "     'mode': 'fan_avg',\n",
       "     'scale': 1.0,\n",
       "     'seed': None}},\n",
       "   'kernel_regularizer': None,\n",
       "   'kernel_size': (3, 3),\n",
       "   'name': 'conv2d_3',\n",
       "   'padding': 'valid',\n",
       "   'strides': (1, 1),\n",
       "   'trainable': True,\n",
       "   'use_bias': True}},\n",
       " {'class_name': 'Conv2D',\n",
       "  'config': {'activation': 'relu',\n",
       "   'activity_regularizer': None,\n",
       "   'bias_constraint': None,\n",
       "   'bias_initializer': {'class_name': 'Zeros', 'config': {}},\n",
       "   'bias_regularizer': None,\n",
       "   'data_format': 'channels_last',\n",
       "   'dilation_rate': (1, 1),\n",
       "   'filters': 64,\n",
       "   'kernel_constraint': None,\n",
       "   'kernel_initializer': {'class_name': 'VarianceScaling',\n",
       "    'config': {'distribution': 'uniform',\n",
       "     'mode': 'fan_avg',\n",
       "     'scale': 1.0,\n",
       "     'seed': None}},\n",
       "   'kernel_regularizer': None,\n",
       "   'kernel_size': (3, 3),\n",
       "   'name': 'conv2d_4',\n",
       "   'padding': 'valid',\n",
       "   'strides': (1, 1),\n",
       "   'trainable': True,\n",
       "   'use_bias': True}},\n",
       " {'class_name': 'MaxPooling2D',\n",
       "  'config': {'data_format': 'channels_last',\n",
       "   'name': 'max_pooling2d_2',\n",
       "   'padding': 'valid',\n",
       "   'pool_size': (2, 2),\n",
       "   'strides': (2, 2),\n",
       "   'trainable': True}},\n",
       " {'class_name': 'Dropout',\n",
       "  'config': {'name': 'dropout_2',\n",
       "   'noise_shape': None,\n",
       "   'rate': 0.5,\n",
       "   'seed': None,\n",
       "   'trainable': True}},\n",
       " {'class_name': 'Flatten', 'config': {'name': 'flatten_1', 'trainable': True}},\n",
       " {'class_name': 'Dense',\n",
       "  'config': {'activation': 'relu',\n",
       "   'activity_regularizer': None,\n",
       "   'bias_constraint': None,\n",
       "   'bias_initializer': {'class_name': 'Zeros', 'config': {}},\n",
       "   'bias_regularizer': None,\n",
       "   'kernel_constraint': None,\n",
       "   'kernel_initializer': {'class_name': 'VarianceScaling',\n",
       "    'config': {'distribution': 'uniform',\n",
       "     'mode': 'fan_avg',\n",
       "     'scale': 1.0,\n",
       "     'seed': None}},\n",
       "   'kernel_regularizer': None,\n",
       "   'name': 'dense_1',\n",
       "   'trainable': True,\n",
       "   'units': 64,\n",
       "   'use_bias': True}},\n",
       " {'class_name': 'Dropout',\n",
       "  'config': {'name': 'dropout_3',\n",
       "   'noise_shape': None,\n",
       "   'rate': 0.5,\n",
       "   'seed': None,\n",
       "   'trainable': True}},\n",
       " {'class_name': 'Dense',\n",
       "  'config': {'activation': 'softmax',\n",
       "   'activity_regularizer': None,\n",
       "   'bias_constraint': None,\n",
       "   'bias_initializer': {'class_name': 'Zeros', 'config': {}},\n",
       "   'bias_regularizer': None,\n",
       "   'kernel_constraint': None,\n",
       "   'kernel_initializer': {'class_name': 'VarianceScaling',\n",
       "    'config': {'distribution': 'uniform',\n",
       "     'mode': 'fan_avg',\n",
       "     'scale': 1.0,\n",
       "     'seed': None}},\n",
       "   'kernel_regularizer': None,\n",
       "   'name': 'dense_2',\n",
       "   'trainable': True,\n",
       "   'units': 4,\n",
       "   'use_bias': True}}]"
      ]
     },
     "execution_count": 21,
     "metadata": {},
     "output_type": "execute_result"
    }
   ],
   "source": [
    "model.get_config()"
   ]
  },
  {
   "cell_type": "code",
   "execution_count": 22,
   "metadata": {},
   "outputs": [
    {
     "data": {
      "text/plain": [
       "{'activation': 'relu',\n",
       " 'activity_regularizer': None,\n",
       " 'batch_input_shape': (None, 224, 224, 3),\n",
       " 'bias_constraint': None,\n",
       " 'bias_initializer': {'class_name': 'Zeros', 'config': {}},\n",
       " 'bias_regularizer': None,\n",
       " 'data_format': 'channels_last',\n",
       " 'dilation_rate': (1, 1),\n",
       " 'dtype': 'float32',\n",
       " 'filters': 32,\n",
       " 'kernel_constraint': None,\n",
       " 'kernel_initializer': {'class_name': 'VarianceScaling',\n",
       "  'config': {'distribution': 'uniform',\n",
       "   'mode': 'fan_avg',\n",
       "   'scale': 1.0,\n",
       "   'seed': None}},\n",
       " 'kernel_regularizer': None,\n",
       " 'kernel_size': (3, 3),\n",
       " 'name': 'conv2d_1',\n",
       " 'padding': 'valid',\n",
       " 'strides': (1, 1),\n",
       " 'trainable': True,\n",
       " 'use_bias': True}"
      ]
     },
     "execution_count": 22,
     "metadata": {},
     "output_type": "execute_result"
    }
   ],
   "source": [
    "model.layers[0].get_config()"
   ]
  },
  {
   "cell_type": "code",
   "execution_count": 23,
   "metadata": {},
   "outputs": [
    {
     "data": {
      "text/plain": [
       "(None, 224, 224, 3)"
      ]
     },
     "execution_count": 23,
     "metadata": {},
     "output_type": "execute_result"
    }
   ],
   "source": [
    "model.layers[0].input_shape"
   ]
  },
  {
   "cell_type": "code",
   "execution_count": 24,
   "metadata": {},
   "outputs": [
    {
     "data": {
      "text/plain": [
       "(None, 222, 222, 32)"
      ]
     },
     "execution_count": 24,
     "metadata": {},
     "output_type": "execute_result"
    }
   ],
   "source": [
    "model.layers[0].output_shape"
   ]
  },
  {
   "cell_type": "code",
   "execution_count": 25,
   "metadata": {},
   "outputs": [
    {
     "data": {
      "text/plain": [
       "[array([[[[-0.0042752 , -0.05344323, -0.05557063, -0.09617606,\n",
       "            0.04478635,  0.11194691, -0.01040919, -0.1330382 ,\n",
       "            0.02075943, -0.03168918, -0.00528154, -0.06645468,\n",
       "           -0.06071475, -0.03249019, -0.04530609, -0.12454037,\n",
       "           -0.04202313,  0.13434972, -0.11552081,  0.08268821,\n",
       "            0.01862015,  0.04841165,  0.08527546, -0.12499077,\n",
       "           -0.10447496,  0.00330125,  0.05608803,  0.03639926,\n",
       "            0.00545579,  0.01673925, -0.13637945,  0.03444165],\n",
       "          [-0.10035981, -0.13562356, -0.08364617,  0.08740331,\n",
       "            0.01397692, -0.05254088,  0.08332327,  0.08718243,\n",
       "           -0.13441789,  0.06745796,  0.13486253,  0.03477316,\n",
       "           -0.01809042,  0.04069571, -0.06232709,  0.1191947 ,\n",
       "            0.08446254, -0.11583212, -0.10403503, -0.10836267,\n",
       "            0.00602649,  0.02799001,  0.03120071,  0.08582306,\n",
       "           -0.08634375,  0.01264018, -0.1129126 , -0.12434418,\n",
       "           -0.05922791, -0.02974994, -0.10497627,  0.10609192],\n",
       "          [ 0.07851176, -0.09381214, -0.13268627, -0.06245549,\n",
       "           -0.06725089, -0.10070883, -0.03854255, -0.08606169,\n",
       "           -0.01456144,  0.08214429, -0.0077181 ,  0.0287444 ,\n",
       "           -0.12091596,  0.09545459, -0.02415667,  0.08429646,\n",
       "           -0.05202237,  0.00774705,  0.06717727,  0.12593712,\n",
       "           -0.11751869, -0.03316892, -0.08455135, -0.06539527,\n",
       "            0.10170266,  0.02413465,  0.09709512, -0.09019789,\n",
       "            0.0216067 ,  0.09464183,  0.13053776, -0.08896712]],\n",
       " \n",
       "         [[ 0.07220931, -0.02719557, -0.09607033,  0.03808126,\n",
       "           -0.02362953, -0.02690679,  0.02348326, -0.08374284,\n",
       "           -0.01739001, -0.01464225,  0.03276682,  0.01614337,\n",
       "            0.05443574, -0.10874733, -0.08768485,  0.09536821,\n",
       "           -0.06508476,  0.00491279, -0.1240312 , -0.04406096,\n",
       "            0.11930402,  0.10915563, -0.09456697,  0.11229815,\n",
       "           -0.08924395, -0.10933179,  0.13459374,  0.11396809,\n",
       "           -0.02219109,  0.01181993,  0.07434238, -0.12268022],\n",
       "          [-0.12139788, -0.02680692, -0.00751057, -0.02991341,\n",
       "            0.0456201 , -0.01480993,  0.10307246,  0.13768859,\n",
       "           -0.02162437,  0.09689927,  0.09075281,  0.11906479,\n",
       "            0.02413106,  0.01721811, -0.07732883,  0.11009051,\n",
       "           -0.11228998, -0.10774486,  0.04098535, -0.07621168,\n",
       "            0.10201184,  0.12456451, -0.00175363, -0.10957805,\n",
       "            0.03061053, -0.02925185, -0.05540729, -0.01064789,\n",
       "           -0.13655582, -0.03996802,  0.06568365, -0.04055988],\n",
       "          [-0.11302783, -0.04062559, -0.03274451,  0.10936286,\n",
       "            0.07102112, -0.01920521, -0.12915294, -0.12584814,\n",
       "           -0.02337642,  0.05485989, -0.08467442, -0.05291021,\n",
       "            0.0184707 , -0.11516806,  0.05668174, -0.08435912,\n",
       "           -0.0701553 , -0.13132963, -0.04174986,  0.03912845,\n",
       "            0.04868062,  0.03553541,  0.02909175, -0.03499432,\n",
       "            0.12136795,  0.01242031,  0.02004349,  0.02567065,\n",
       "           -0.11843418, -0.08928466, -0.13041458,  0.12444122]],\n",
       " \n",
       "         [[ 0.07607765, -0.12641814,  0.1374666 , -0.11950266,\n",
       "           -0.07115591,  0.04540879,  0.12417613,  0.04065396,\n",
       "           -0.07544219,  0.11260919,  0.13508071, -0.01119711,\n",
       "            0.12288572, -0.07543367, -0.03758992, -0.05000181,\n",
       "            0.07625678, -0.00144683, -0.10223506,  0.10465403,\n",
       "            0.11594556, -0.06376536,  0.07384831, -0.06919178,\n",
       "            0.09564355,  0.07838215,  0.06849565, -0.10323172,\n",
       "           -0.0246843 , -0.11240412,  0.02893126, -0.13737245],\n",
       "          [-0.09621389, -0.05066662, -0.01464208,  0.04795562,\n",
       "            0.12767296,  0.05662455, -0.07547783,  0.03970663,\n",
       "            0.05381539,  0.07262912,  0.09216149,  0.0994053 ,\n",
       "            0.03321858, -0.12406236,  0.11676602, -0.12753813,\n",
       "            0.07067615,  0.07100664, -0.03674114,  0.07611369,\n",
       "            0.13725619, -0.04465158, -0.08477513,  0.03914307,\n",
       "           -0.02488327, -0.02682364,  0.10486673, -0.00823694,\n",
       "            0.06549698, -0.00430344, -0.06689741,  0.10404032],\n",
       "          [-0.11053957,  0.07974815, -0.03826384,  0.04503495,\n",
       "           -0.03373876,  0.01711144, -0.12475988, -0.03730862,\n",
       "            0.03147823,  0.0654573 ,  0.10503659,  0.1142623 ,\n",
       "            0.01659192, -0.12486491, -0.10425299, -0.0352948 ,\n",
       "           -0.04553948, -0.02134655, -0.055102  , -0.10539588,\n",
       "           -0.04836614,  0.10581245, -0.08323865,  0.12741502,\n",
       "            0.01220156,  0.05758497,  0.03576794,  0.02484588,\n",
       "            0.07187004, -0.01190653,  0.07395498, -0.12246528]]],\n",
       " \n",
       " \n",
       "        [[[ 0.04613325,  0.00987969,  0.12435766,  0.10069466,\n",
       "            0.01557095,  0.04994367, -0.13165766, -0.10950879,\n",
       "            0.01723549,  0.07934609,  0.06826656, -0.03451957,\n",
       "           -0.09585214, -0.13400783,  0.09543613, -0.08589298,\n",
       "           -0.02016579,  0.10395889, -0.03482736, -0.135976  ,\n",
       "            0.12413694, -0.07581606, -0.09228038, -0.08329399,\n",
       "           -0.1134252 ,  0.08242734, -0.0142363 ,  0.03783795,\n",
       "            0.07357967,  0.02041097, -0.1145899 , -0.06847264],\n",
       "          [-0.12074209,  0.03217101, -0.04904954, -0.03538562,\n",
       "           -0.04975331,  0.09925638,  0.0488458 , -0.13109113,\n",
       "           -0.00994205,  0.01509452,  0.02928664,  0.00406408,\n",
       "            0.13694255,  0.03990793,  0.12417264, -0.03569203,\n",
       "           -0.1128924 , -0.0304004 ,  0.07970732,  0.0094178 ,\n",
       "            0.05609067, -0.12377885,  0.09974998,  0.05143857,\n",
       "           -0.03475934,  0.08687684,  0.00668788,  0.07635336,\n",
       "            0.12775768,  0.04902247, -0.11393147,  0.04670112],\n",
       "          [ 0.01065348, -0.01265281,  0.09121482,  0.12212558,\n",
       "           -0.10971878,  0.12596084, -0.06771944,  0.10644653,\n",
       "            0.00091229,  0.06298845,  0.0842891 ,  0.01805225,\n",
       "           -0.09666338, -0.08301775,  0.03109041, -0.03025877,\n",
       "           -0.09163091,  0.0027851 , -0.09119761,  0.02870063,\n",
       "           -0.04555797,  0.02312322,  0.10695702, -0.12401579,\n",
       "            0.13577281,  0.13756742,  0.11213534, -0.09783357,\n",
       "            0.004291  ,  0.05676481, -0.02540511,  0.01677284]],\n",
       " \n",
       "         [[-0.02616251, -0.09590189, -0.09190102,  0.02674338,\n",
       "           -0.07338521, -0.04738028,  0.12157758, -0.09305818,\n",
       "           -0.11909968, -0.05640382,  0.09349088, -0.11062314,\n",
       "            0.07728194,  0.01436743,  0.03723013,  0.13243152,\n",
       "           -0.03010356,  0.08814447, -0.05638016,  0.00750488,\n",
       "            0.08448571, -0.0646794 , -0.03195427,  0.13296776,\n",
       "            0.04462107, -0.12627709,  0.13675831, -0.00418092,\n",
       "            0.03937297,  0.10211401, -0.12522627,  0.08654055],\n",
       "          [ 0.06002556, -0.0380935 , -0.08951871, -0.02510685,\n",
       "           -0.05983132,  0.02252297, -0.04727706,  0.07169929,\n",
       "            0.00379732, -0.13436288,  0.09979527, -0.07552975,\n",
       "            0.09390104,  0.07935718, -0.03135214, -0.11769098,\n",
       "            0.08849309,  0.07593277,  0.0387971 ,  0.07914518,\n",
       "           -0.11928141, -0.04846788, -0.01149477, -0.05213661,\n",
       "            0.00126684,  0.06299394,  0.01188564, -0.07036678,\n",
       "           -0.11646426, -0.01202479,  0.02182594, -0.1352135 ],\n",
       "          [ 0.05818325, -0.05336936, -0.13687588,  0.09321672,\n",
       "            0.12113382,  0.09321475, -0.09649707,  0.03974736,\n",
       "            0.08067848, -0.02466327, -0.05954067,  0.13087241,\n",
       "           -0.03525381,  0.07503983, -0.00865978,  0.01588188,\n",
       "           -0.0287465 , -0.10804653,  0.12763946, -0.1140677 ,\n",
       "           -0.02646415, -0.07287252,  0.03307708, -0.12181186,\n",
       "            0.03524245,  0.09443302,  0.11874084, -0.08849457,\n",
       "           -0.11409484,  0.01625715,  0.13086171,  0.06227438]],\n",
       " \n",
       "         [[-0.10209466, -0.03463947, -0.09811682,  0.13253082,\n",
       "           -0.11667327,  0.03550503, -0.09222595, -0.00570571,\n",
       "           -0.01576483,  0.09123832, -0.03830073, -0.09211016,\n",
       "           -0.12092517, -0.09460636,  0.00868735, -0.12290595,\n",
       "            0.10639088, -0.04402187,  0.12043209, -0.13325684,\n",
       "            0.13416527, -0.05318806, -0.03408953,  0.09416629,\n",
       "           -0.09977043,  0.04102832, -0.07325988, -0.02789624,\n",
       "           -0.04135947,  0.10811892,  0.01257566,  0.09912454],\n",
       "          [ 0.02436498, -0.07481562, -0.00611576, -0.04359631,\n",
       "            0.10427658, -0.08010291,  0.00508638,  0.03006865,\n",
       "            0.10626756,  0.10865228,  0.0651736 , -0.05028894,\n",
       "           -0.048282  , -0.03581085,  0.11674078,  0.1209944 ,\n",
       "            0.12872149, -0.00285605, -0.00224724, -0.06153389,\n",
       "           -0.07081527,  0.02444518,  0.0512473 , -0.03480531,\n",
       "            0.06599283,  0.01822481,  0.11156735, -0.06523401,\n",
       "           -0.1192712 ,  0.10785364,  0.10210581,  0.09499705],\n",
       "          [-0.01171865, -0.03004342, -0.11286762,  0.00883482,\n",
       "            0.06022052, -0.06409642,  0.11102647, -0.0231991 ,\n",
       "            0.08637178,  0.04005255,  0.09934092,  0.09896642,\n",
       "           -0.05657572,  0.0078084 ,  0.01925512, -0.04774769,\n",
       "            0.025124  , -0.01334158, -0.00952494, -0.0539019 ,\n",
       "            0.09450245, -0.02021946,  0.05684313, -0.08101842,\n",
       "            0.07892728,  0.00893654, -0.07058313,  0.08188145,\n",
       "            0.11832644, -0.08758213, -0.07760204, -0.10807078]]],\n",
       " \n",
       " \n",
       "        [[[-0.06908303,  0.10987432, -0.02836671,  0.02707477,\n",
       "            0.09232438, -0.10313568,  0.02681383,  0.05250712,\n",
       "            0.11223586, -0.1168633 , -0.10631563, -0.13329118,\n",
       "            0.060173  ,  0.04665275, -0.12871988, -0.13569954,\n",
       "           -0.0142694 , -0.06193487,  0.09460229, -0.10801113,\n",
       "            0.01884614,  0.06490065,  0.04948872,  0.00641319,\n",
       "           -0.12171397,  0.07775909, -0.0489275 , -0.03803387,\n",
       "           -0.05171829, -0.11605472,  0.01703638, -0.06875487],\n",
       "          [ 0.06229873, -0.02125863, -0.03461368,  0.02137008,\n",
       "           -0.08812712,  0.09752914,  0.1328203 , -0.12933794,\n",
       "            0.08591026, -0.06429961,  0.04851313,  0.06550416,\n",
       "           -0.06715174, -0.01324145, -0.06885513,  0.02725315,\n",
       "            0.07048905,  0.0126268 , -0.1292079 , -0.06119059,\n",
       "           -0.00855501,  0.13667072, -0.00730278, -0.10421008,\n",
       "           -0.08735445, -0.04954351,  0.00396919, -0.01451971,\n",
       "           -0.13361363, -0.12957379, -0.04566037,  0.05290158],\n",
       "          [ 0.13141112, -0.05511711,  0.06417987, -0.07555786,\n",
       "            0.04270528, -0.06538264,  0.04823393, -0.134098  ,\n",
       "           -0.01772971, -0.01983786,  0.11179127, -0.03450821,\n",
       "           -0.01603143, -0.10354182,  0.06377655,  0.10725266,\n",
       "           -0.03217562, -0.03352238, -0.01479512,  0.1069961 ,\n",
       "            0.04776829,  0.01313876,  0.11395647, -0.0507812 ,\n",
       "           -0.02964129,  0.13244693,  0.11625512, -0.13002406,\n",
       "            0.11985861,  0.08039162, -0.12668362,  0.09662682]],\n",
       " \n",
       "         [[ 0.10782906,  0.02185641,  0.01745851, -0.05460754,\n",
       "           -0.05993454, -0.08088002,  0.09850618,  0.09514518,\n",
       "           -0.13265248, -0.08932576,  0.1353585 ,  0.0033482 ,\n",
       "            0.07968959,  0.0244862 ,  0.03584093, -0.10858433,\n",
       "           -0.00269191, -0.07532462,  0.08345181, -0.05974804,\n",
       "            0.13764443, -0.05422515, -0.04555225, -0.13765857,\n",
       "           -0.0509061 , -0.09186137, -0.02353486, -0.01512276,\n",
       "            0.00760086, -0.07241587,  0.03296702, -0.11607226],\n",
       "          [-0.04442555,  0.10509782, -0.1012311 ,  0.04086573,\n",
       "            0.00769155, -0.1159718 ,  0.03382915, -0.12983306,\n",
       "           -0.09841303,  0.05568036, -0.08871843, -0.09251522,\n",
       "            0.07848293,  0.04692405, -0.12058638,  0.06555657,\n",
       "            0.06610638,  0.11746164,  0.09400812,  0.00247771,\n",
       "           -0.00092611,  0.06042117, -0.13540062,  0.00074306,\n",
       "            0.04836865,  0.09479859, -0.02624103,  0.06742109,\n",
       "            0.06336376,  0.04796635, -0.07670952,  0.13527296],\n",
       "          [ 0.11451004,  0.08694883,  0.11365701,  0.11361091,\n",
       "           -0.02021742,  0.13135467,  0.1217172 ,  0.13169532,\n",
       "            0.12318854,  0.02033095, -0.0914209 ,  0.12934111,\n",
       "           -0.00874394,  0.00233342, -0.0968328 ,  0.02409378,\n",
       "            0.12382622, -0.07088342,  0.10653195, -0.10651468,\n",
       "           -0.08707941,  0.03361928,  0.01949464, -0.01358327,\n",
       "           -0.09485604, -0.10612775,  0.03460506,  0.05856961,\n",
       "           -0.09076422,  0.10576805, -0.04506683,  0.0815599 ]],\n",
       " \n",
       "         [[ 0.0104243 ,  0.11141603,  0.00524195, -0.0314194 ,\n",
       "           -0.10439906,  0.02718279,  0.00820625, -0.02270582,\n",
       "            0.11198024,  0.03739776, -0.06312303, -0.11180644,\n",
       "           -0.04383501,  0.12173273, -0.06264906, -0.03592256,\n",
       "            0.13056035, -0.09896504,  0.137863  ,  0.12047718,\n",
       "           -0.00789122,  0.11894597,  0.02985325,  0.04609123,\n",
       "           -0.1146794 ,  0.06082396, -0.05581758, -0.07376329,\n",
       "           -0.04613058,  0.06322612,  0.04933773,  0.1113407 ],\n",
       "          [ 0.0200505 , -0.098446  , -0.06653392, -0.00293614,\n",
       "           -0.11171289, -0.05897988, -0.1021065 ,  0.1378194 ,\n",
       "            0.03820929, -0.04540427,  0.0946548 , -0.10218666,\n",
       "           -0.11307926, -0.07997376, -0.04405182,  0.13761462,\n",
       "           -0.04319658, -0.01612408,  0.12308584,  0.00050223,\n",
       "           -0.03831992, -0.0778941 , -0.05936881,  0.01268332,\n",
       "            0.08793575, -0.10370344, -0.06383621, -0.12665835,\n",
       "           -0.11827215, -0.13104126,  0.07212627,  0.05436444],\n",
       "          [-0.09299961, -0.06299095,  0.10503632, -0.02184065,\n",
       "            0.13520361,  0.13319848,  0.04995959, -0.09523915,\n",
       "           -0.08836187,  0.11171986, -0.13522752, -0.05297868,\n",
       "            0.08435145,  0.02158676,  0.00757888, -0.05534171,\n",
       "            0.01394588,  0.05334452, -0.0626104 , -0.04214028,\n",
       "           -0.05141316,  0.10515721, -0.03799863,  0.10081653,\n",
       "            0.13208582, -0.13784622, -0.01032147, -0.08023916,\n",
       "            0.02130701,  0.01391383, -0.04265036,  0.10411242]]]],\n",
       "       dtype=float32),\n",
       " array([0., 0., 0., 0., 0., 0., 0., 0., 0., 0., 0., 0., 0., 0., 0., 0., 0.,\n",
       "        0., 0., 0., 0., 0., 0., 0., 0., 0., 0., 0., 0., 0., 0., 0.],\n",
       "       dtype=float32)]"
      ]
     },
     "execution_count": 25,
     "metadata": {},
     "output_type": "execute_result"
    }
   ],
   "source": [
    "model.layers[0].get_weights()"
   ]
  },
  {
   "cell_type": "code",
   "execution_count": 26,
   "metadata": {},
   "outputs": [
    {
     "data": {
      "text/plain": [
       "True"
      ]
     },
     "execution_count": 26,
     "metadata": {},
     "output_type": "execute_result"
    }
   ],
   "source": [
    "model.layers[0].trainable"
   ]
  },
  {
   "cell_type": "markdown",
   "metadata": {},
   "source": [
    "#### Training/fit the model "
   ]
  },
  {
   "cell_type": "code",
   "execution_count": 27,
   "metadata": {
    "scrolled": true
   },
   "outputs": [
    {
     "name": "stdout",
     "output_type": "stream",
     "text": [
      "Train on 646 samples, validate on 162 samples\n",
      "Epoch 1/25\n",
      "646/646 [==============================] - 28s 43ms/step - loss: 2.5834 - acc: 0.2601 - val_loss: 1.3856 - val_acc: 0.2654\n",
      "Epoch 2/25\n",
      "646/646 [==============================] - 21s 33ms/step - loss: 1.3762 - acc: 0.3142 - val_loss: 1.3751 - val_acc: 0.2901\n",
      "Epoch 3/25\n",
      "646/646 [==============================] - 20s 30ms/step - loss: 1.3285 - acc: 0.3777 - val_loss: 1.7093 - val_acc: 0.2099\n",
      "Epoch 4/25\n",
      "646/646 [==============================] - 20s 31ms/step - loss: 1.3171 - acc: 0.3638 - val_loss: 2.2533 - val_acc: 0.1975\n",
      "Epoch 5/25\n",
      "646/646 [==============================] - 18s 28ms/step - loss: 1.3337 - acc: 0.4087 - val_loss: 1.3851 - val_acc: 0.3025\n",
      "Epoch 6/25\n",
      "646/646 [==============================] - 19s 30ms/step - loss: 1.2091 - acc: 0.4598 - val_loss: 1.3530 - val_acc: 0.3642\n",
      "Epoch 7/25\n",
      "646/646 [==============================] - 17s 27ms/step - loss: 1.0772 - acc: 0.5526 - val_loss: 1.2637 - val_acc: 0.3951\n",
      "Epoch 8/25\n",
      "646/646 [==============================] - 19s 29ms/step - loss: 1.0791 - acc: 0.5526 - val_loss: 1.1632 - val_acc: 0.4630\n",
      "Epoch 9/25\n",
      "646/646 [==============================] - 20s 30ms/step - loss: 0.9104 - acc: 0.6502 - val_loss: 1.2410 - val_acc: 0.5123\n",
      "Epoch 10/25\n",
      "646/646 [==============================] - 20s 31ms/step - loss: 0.7693 - acc: 0.6889 - val_loss: 1.1892 - val_acc: 0.5247\n",
      "Epoch 11/25\n",
      "646/646 [==============================] - 20s 31ms/step - loss: 0.6762 - acc: 0.7461 - val_loss: 1.1398 - val_acc: 0.5123\n",
      "Epoch 12/25\n",
      "646/646 [==============================] - 20s 32ms/step - loss: 0.5509 - acc: 0.7879 - val_loss: 1.3769 - val_acc: 0.5494\n",
      "Epoch 13/25\n",
      "646/646 [==============================] - 21s 32ms/step - loss: 0.4419 - acc: 0.8529 - val_loss: 1.7295 - val_acc: 0.5062\n",
      "Epoch 14/25\n",
      "646/646 [==============================] - 22s 35ms/step - loss: 0.4537 - acc: 0.8406 - val_loss: 1.1847 - val_acc: 0.5802\n",
      "Epoch 15/25\n",
      "646/646 [==============================] - 17s 27ms/step - loss: 0.2863 - acc: 0.9071 - val_loss: 2.7260 - val_acc: 0.5432\n",
      "Epoch 16/25\n",
      "646/646 [==============================] - 21s 32ms/step - loss: 0.3921 - acc: 0.8669 - val_loss: 1.8883 - val_acc: 0.5617\n",
      "Epoch 17/25\n",
      "646/646 [==============================] - 19s 29ms/step - loss: 0.1962 - acc: 0.9334 - val_loss: 2.1986 - val_acc: 0.5370\n",
      "Epoch 18/25\n",
      "646/646 [==============================] - 21s 33ms/step - loss: 0.1605 - acc: 0.9412 - val_loss: 1.9900 - val_acc: 0.5432\n",
      "Epoch 19/25\n",
      "646/646 [==============================] - 19s 29ms/step - loss: 0.1394 - acc: 0.9505 - val_loss: 2.0381 - val_acc: 0.5741\n",
      "Epoch 20/25\n",
      "646/646 [==============================] - 18s 28ms/step - loss: 0.1134 - acc: 0.9567 - val_loss: 3.5240 - val_acc: 0.5000\n",
      "Epoch 21/25\n",
      "646/646 [==============================] - 18s 28ms/step - loss: 0.1850 - acc: 0.9505 - val_loss: 3.5219 - val_acc: 0.5370\n",
      "Epoch 22/25\n",
      "646/646 [==============================] - 22s 34ms/step - loss: 0.1138 - acc: 0.9628 - val_loss: 2.7574 - val_acc: 0.5617\n",
      "Epoch 23/25\n",
      "646/646 [==============================] - 15s 23ms/step - loss: 0.0707 - acc: 0.9706 - val_loss: 3.1731 - val_acc: 0.5494\n",
      "Epoch 24/25\n",
      "646/646 [==============================] - 18s 27ms/step - loss: 0.0579 - acc: 0.9799 - val_loss: 2.9352 - val_acc: 0.5370\n",
      "Epoch 25/25\n",
      "646/646 [==============================] - 20s 31ms/step - loss: 0.0996 - acc: 0.9768 - val_loss: 3.7254 - val_acc: 0.5802\n"
     ]
    }
   ],
   "source": [
    "hist = model.fit(X_train, y_train, batch_size=64, epochs = 25, verbose=1, validation_data=(X_test, y_test))"
   ]
  },
  {
   "cell_type": "markdown",
   "metadata": {},
   "source": [
    "#### Training with callbacks"
   ]
  },
  {
   "cell_type": "markdown",
   "metadata": {},
   "source": [
    "Callback:\n",
    "    \n",
    "    A callback is a set of functions to be applied at given stages of the training procedure. \n",
    "    \n",
    "    Callbacks is used to get a view on internal states and statistics of the model during training. \n",
    "    \n",
    "    Pass a list of callbacks to the .fit() method of the Sequential or Model classes. \n",
    "        \n",
    "        The relevant methods of the callbacks will then be called at each stage of the training. "
   ]
  },
  {
   "cell_type": "code",
   "execution_count": 28,
   "metadata": {
    "collapsed": true
   },
   "outputs": [],
   "source": [
    "from keras import callbacks"
   ]
  },
  {
   "cell_type": "markdown",
   "metadata": {},
   "source": [
    "##### CSVLogger:\n",
    "    \n",
    "    Callback that streams epoch results to a csv file."
   ]
  },
  {
   "cell_type": "code",
   "execution_count": 29,
   "metadata": {
    "collapsed": true
   },
   "outputs": [],
   "source": [
    "filename='model_train_new.csv'\n",
    "\n",
    "csv_log = callbacks.CSVLogger(filename, separator=',', append=False)"
   ]
  },
  {
   "cell_type": "markdown",
   "metadata": {},
   "source": [
    "##### EarlyStopping:\n",
    "\n",
    "    Stop training when a monitored quantity has stopped improving."
   ]
  },
  {
   "cell_type": "code",
   "execution_count": 30,
   "metadata": {
    "collapsed": true
   },
   "outputs": [],
   "source": [
    "early_stopping = callbacks.EarlyStopping(monitor='val_loss', min_delta=0, patience=0, verbose=0, mode='min')"
   ]
  },
  {
   "cell_type": "markdown",
   "metadata": {},
   "source": [
    "##### ModelCheckpoint:\n",
    "\n",
    "    Save the model after every epoch."
   ]
  },
  {
   "cell_type": "code",
   "execution_count": 31,
   "metadata": {
    "collapsed": true
   },
   "outputs": [],
   "source": [
    "filepath=\"Best-weights-my_model-{epoch:03d}-{loss:.4f}-{acc:.4f}.hdf5\"\n",
    "\n",
    "checkpoint = callbacks.ModelCheckpoint(filepath, monitor='val_loss', verbose=1, save_best_only=True, mode='min')\n"
   ]
  },
  {
   "cell_type": "markdown",
   "metadata": {},
   "source": [
    "##### Create the callbacks list"
   ]
  },
  {
   "cell_type": "code",
   "execution_count": 32,
   "metadata": {
    "collapsed": true
   },
   "outputs": [],
   "source": [
    "callbacks_list = [csv_log, early_stopping, checkpoint]"
   ]
  },
  {
   "cell_type": "markdown",
   "metadata": {},
   "source": [
    "##### Fit the model with the created list of callbacks"
   ]
  },
  {
   "cell_type": "code",
   "execution_count": null,
   "metadata": {
    "collapsed": true
   },
   "outputs": [],
   "source": [
    "hist = model.fit(X_train, y_train, batch_size=16, epochs=num_epoch, verbose=1, validation_data=(X_test, y_test),callbacks=callbacks_list)"
   ]
  },
  {
   "cell_type": "markdown",
   "metadata": {},
   "source": [
    "##### Evaluating the model"
   ]
  },
  {
   "cell_type": "code",
   "execution_count": 33,
   "metadata": {},
   "outputs": [
    {
     "name": "stdout",
     "output_type": "stream",
     "text": [
      "162/162 [==============================] - 4s 22ms/step\n",
      "Test Loss: 3.7253903926890573\n",
      "Test Accuracy: 0.5802469135802469\n"
     ]
    }
   ],
   "source": [
    "score = model.evaluate(X_test, y_test, batch_size=16)\n",
    "print('Test Loss:', score[0])\n",
    "print('Test Accuracy:', score[1])"
   ]
  },
  {
   "cell_type": "code",
   "execution_count": 34,
   "metadata": {},
   "outputs": [
    {
     "name": "stdout",
     "output_type": "stream",
     "text": [
      "(1, 224, 224, 3)\n"
     ]
    }
   ],
   "source": [
    "test_image = X_test[0:1]\n",
    "print (test_image.shape)"
   ]
  },
  {
   "cell_type": "code",
   "execution_count": 35,
   "metadata": {},
   "outputs": [
    {
     "name": "stdout",
     "output_type": "stream",
     "text": [
      "[[1.7727200e-06 5.9231446e-04 9.9940586e-01 9.0297297e-11]]\n",
      "[2]\n",
      "[[0. 0. 1. 0.]]\n"
     ]
    }
   ],
   "source": [
    "print(model.predict(test_image))\n",
    "print(model.predict_classes(test_image))\n",
    "print(y_test[0:1])"
   ]
  },
  {
   "cell_type": "markdown",
   "metadata": {},
   "source": [
    "##### Printing the confusion matrix"
   ]
  },
  {
   "cell_type": "code",
   "execution_count": 36,
   "metadata": {},
   "outputs": [
    {
     "name": "stdout",
     "output_type": "stream",
     "text": [
      "[[1.77273887e-06 5.92306023e-04 9.99405980e-01 9.02986783e-11]\n",
      " [1.16421388e-05 2.76595969e-02 9.72305536e-01 2.31345966e-05]\n",
      " [4.32436401e-03 9.70804811e-01 2.05345843e-02 4.33626818e-03]\n",
      " [1.00000000e+00 2.82580764e-10 2.37930292e-12 6.69362306e-19]\n",
      " [3.73628369e-04 9.98779237e-01 8.47178104e-04 5.15103302e-08]\n",
      " [6.57702214e-04 9.80124474e-01 2.25851242e-03 1.69593301e-02]\n",
      " [5.65650460e-09 4.62052796e-09 2.64830788e-07 9.99999762e-01]\n",
      " [2.46634125e-04 2.37663556e-02 9.75986958e-01 9.83502058e-10]\n",
      " [2.59913140e-15 1.00000000e+00 1.56781923e-12 1.78664914e-14]\n",
      " [2.52286688e-15 5.14538578e-10 2.63650300e-12 1.00000000e+00]\n",
      " [5.93437254e-01 1.11829257e-03 4.04851735e-01 5.92656957e-04]\n",
      " [4.02998414e-19 1.27981637e-13 1.67223987e-15 1.00000000e+00]\n",
      " [2.80994253e-04 5.43091670e-02 7.25309998e-02 8.72878790e-01]\n",
      " [1.23459401e-07 2.83801910e-02 2.36625256e-05 9.71595943e-01]\n",
      " [5.33964310e-04 3.73665243e-01 6.25695407e-01 1.05373889e-04]\n",
      " [1.01330901e-15 5.19895821e-07 9.99999523e-01 7.26586434e-13]\n",
      " [5.45732021e-01 4.52620000e-01 6.09613235e-05 1.58706994e-03]\n",
      " [1.59010416e-10 9.92613912e-01 3.16662481e-04 7.06945639e-03]\n",
      " [1.09983866e-26 5.01670905e-22 1.00563406e-24 1.00000000e+00]\n",
      " [3.12996453e-05 7.83540785e-01 2.16163516e-01 2.64428352e-04]\n",
      " [1.51635241e-02 5.82368016e-01 1.61163267e-02 3.86352181e-01]\n",
      " [4.49854116e-16 6.37737863e-10 9.17349863e-10 1.00000000e+00]\n",
      " [1.17776479e-04 9.99882221e-01 4.32383365e-11 6.91744594e-18]\n",
      " [3.64324898e-02 9.62948263e-01 6.00227097e-04 1.90620376e-05]\n",
      " [9.99977469e-01 2.23545121e-05 7.20272730e-10 6.78777425e-08]\n",
      " [1.17235027e-10 1.00000000e+00 7.57235962e-13 1.16992472e-17]\n",
      " [2.43825889e-06 9.99997616e-01 1.73987474e-12 4.72687254e-12]\n",
      " [3.00704322e-20 9.50841467e-17 5.23941619e-11 1.00000000e+00]\n",
      " [9.96333122e-01 3.64511064e-03 2.30174241e-10 2.16790249e-05]\n",
      " [6.02702386e-08 7.87063909e-04 3.03932084e-05 9.99182522e-01]\n",
      " [2.02044277e-04 4.87160385e-02 9.50819433e-01 2.62545655e-04]\n",
      " [9.60798285e-09 2.38632165e-05 9.99850154e-01 1.25935432e-04]\n",
      " [8.51538423e-11 8.93661187e-12 1.00000000e+00 4.05525301e-11]\n",
      " [5.48458757e-16 1.13817818e-15 1.00000000e+00 1.85812495e-15]\n",
      " [8.35408211e-01 1.26012295e-01 3.85770574e-02 2.35017251e-06]\n",
      " [1.80096008e-11 4.07914804e-14 3.32926291e-08 1.00000000e+00]\n",
      " [5.23684184e-06 1.02993522e-06 1.08946524e-05 9.99982834e-01]\n",
      " [7.53121523e-11 9.98856187e-01 1.14385539e-03 2.39314003e-11]\n",
      " [4.47955816e-20 3.13480414e-15 3.41297675e-15 1.00000000e+00]\n",
      " [1.20379484e-08 9.97875624e-14 9.99997139e-01 2.86433033e-06]\n",
      " [7.79722905e-06 2.92952677e-06 9.99989033e-01 1.96192502e-07]\n",
      " [1.56625882e-02 2.77632615e-03 9.22554657e-02 8.89305592e-01]\n",
      " [4.93720800e-05 9.96086955e-01 3.36459489e-03 4.99082787e-04]\n",
      " [2.16540899e-02 1.12438221e-02 1.03052156e-02 9.56796944e-01]\n",
      " [9.99615192e-01 3.84738349e-04 3.83239239e-11 1.40143908e-12]\n",
      " [1.37081690e-04 9.99862909e-01 8.38475156e-09 3.54664804e-11]\n",
      " [1.09140410e-05 8.95056844e-01 2.52605304e-02 7.96717256e-02]\n",
      " [8.48195553e-01 1.49990603e-01 1.78108865e-04 1.63579732e-03]\n",
      " [3.55447817e-04 3.18350576e-05 9.99601305e-01 1.14762270e-05]\n",
      " [2.18328627e-04 9.97807086e-01 1.47258806e-05 1.95995066e-03]\n",
      " [7.65367586e-05 1.73132321e-06 9.99921679e-01 1.62225273e-08]\n",
      " [9.92926776e-01 1.81546796e-03 1.03204581e-03 4.22572158e-03]\n",
      " [4.97789961e-06 9.99572933e-01 3.34918266e-04 8.71325101e-05]\n",
      " [1.20386174e-02 9.86858368e-01 7.49492785e-04 3.53567302e-04]\n",
      " [3.43732131e-06 8.20188646e-08 9.99996305e-01 7.92760133e-08]\n",
      " [1.46445109e-06 7.33625161e-09 9.99998569e-01 5.07952638e-11]\n",
      " [8.58973503e-01 1.25978678e-01 2.64505215e-04 1.47833750e-02]\n",
      " [1.37840026e-21 1.93505683e-16 1.00000000e+00 2.28377614e-19]\n",
      " [6.30174398e-18 1.00000000e+00 2.55694001e-17 9.44947679e-13]\n",
      " [5.65168858e-01 1.72185913e-01 1.67692907e-03 2.60968357e-01]\n",
      " [1.53499460e-17 1.35529414e-14 2.53923640e-12 1.00000000e+00]\n",
      " [1.96602645e-08 9.99985576e-01 1.21283429e-05 2.22471317e-06]\n",
      " [1.33755523e-15 1.98825073e-04 2.05189923e-13 9.99801219e-01]\n",
      " [1.54613612e-18 4.73472698e-15 7.61508695e-13 1.00000000e+00]\n",
      " [2.55530904e-04 1.49869273e-08 1.47965562e-03 9.98264849e-01]\n",
      " [2.63194932e-04 1.66529894e-01 8.31117511e-01 2.08948064e-03]\n",
      " [1.57553529e-07 2.29133246e-03 2.99465004e-02 9.67762053e-01]\n",
      " [2.77792458e-18 1.28782709e-15 1.00000000e+00 2.62063266e-25]\n",
      " [9.99855995e-01 1.42066434e-04 2.19232011e-12 1.94154745e-06]\n",
      " [9.99858975e-01 1.21236335e-04 5.38883327e-10 1.97515401e-05]\n",
      " [6.32162028e-07 7.80928016e-01 2.19069570e-01 1.72285775e-06]\n",
      " [1.68724358e-02 6.51406571e-02 4.45070475e-01 4.72916514e-01]\n",
      " [2.15765461e-01 5.11337221e-01 3.22355627e-04 2.72574931e-01]\n",
      " [9.89943385e-01 9.55607183e-03 7.87698082e-05 4.21857461e-04]\n",
      " [3.53145530e-03 4.33223555e-08 1.56638935e-01 8.39829564e-01]\n",
      " [1.84729766e-11 1.00000000e+00 1.04501208e-09 2.07241224e-09]\n",
      " [2.92915641e-03 2.17426140e-02 9.75328267e-01 1.20368728e-08]\n",
      " [1.03032307e-16 8.28682609e-13 7.13192743e-13 1.00000000e+00]\n",
      " [6.23262644e-01 1.14120198e-02 1.05855882e-01 2.59469509e-01]\n",
      " [7.36918596e-14 1.56000937e-07 1.04010034e-09 9.99999881e-01]\n",
      " [1.18820220e-02 9.85067010e-01 4.02768237e-05 3.01068183e-03]\n",
      " [4.21940649e-06 2.12600366e-06 9.99993682e-01 1.01580309e-08]\n",
      " [6.49524257e-09 1.20480498e-03 2.70283280e-08 9.98795152e-01]\n",
      " [4.77973672e-13 3.41807447e-13 1.00000000e+00 6.13570232e-16]\n",
      " [6.46855498e-19 1.71723600e-19 1.00000000e+00 4.46166304e-15]\n",
      " [1.05005593e-05 3.50324750e-01 6.49664283e-01 4.29961972e-07]\n",
      " [6.19648916e-11 4.64694466e-07 3.04090296e-04 9.99695420e-01]\n",
      " [9.64600503e-01 1.99383903e-05 2.08269376e-02 1.45526128e-02]\n",
      " [8.88018869e-04 9.99076605e-01 1.73059689e-05 1.81394917e-05]\n",
      " [2.22924537e-05 1.15573294e-01 8.82429898e-01 1.97451911e-03]\n",
      " [2.46675458e-09 8.62902089e-13 9.99997735e-01 2.26949328e-06]\n",
      " [2.22209055e-04 9.99468029e-01 3.06802947e-04 2.92882987e-06]\n",
      " [4.72790873e-09 9.99997973e-01 1.29794341e-06 7.44283511e-07]\n",
      " [2.20358938e-01 1.68838337e-01 3.57334554e-01 2.53468245e-01]\n",
      " [6.79052431e-12 7.12881274e-08 6.89659544e-07 9.99999285e-01]\n",
      " [5.13390265e-03 9.79242921e-01 3.65015330e-05 1.55866928e-02]\n",
      " [4.00705649e-05 3.02495493e-04 9.99529839e-01 1.27562424e-04]\n",
      " [2.45335468e-05 4.73224733e-04 9.99502182e-01 5.40230829e-08]\n",
      " [3.27775329e-12 1.64091531e-08 1.00000000e+00 1.99155505e-14]\n",
      " [4.25356610e-15 1.87684943e-08 1.63410414e-11 1.00000000e+00]\n",
      " [9.99999881e-01 1.39107826e-07 1.40443825e-08 1.29764418e-13]\n",
      " [5.55808330e-03 9.59103703e-01 3.53079401e-02 3.02142653e-05]\n",
      " [4.60122339e-03 9.94113624e-01 1.25182397e-03 3.34673314e-05]\n",
      " [1.48167415e-03 5.44596813e-04 3.81302871e-02 9.59843397e-01]\n",
      " [5.29424642e-06 1.35843459e-06 3.21586072e-06 9.99990106e-01]\n",
      " [5.31762453e-07 5.90784266e-09 6.10825084e-02 9.38916981e-01]\n",
      " [6.08403981e-01 2.96170861e-01 8.60840008e-02 9.34118591e-03]\n",
      " [1.55655133e-08 2.60294769e-02 9.73970473e-01 6.05076834e-14]\n",
      " [9.16331828e-08 3.52641393e-07 1.60980835e-05 9.99983430e-01]\n",
      " [3.48462960e-11 5.76671777e-09 1.00000000e+00 5.57924762e-10]\n",
      " [5.19428492e-01 3.75059843e-01 1.05497584e-01 1.39986914e-05]\n",
      " [2.00242187e-08 8.73844854e-08 1.08084294e-06 9.99998808e-01]\n",
      " [9.07178855e-06 1.19389765e-01 8.80550623e-01 5.05358730e-05]\n",
      " [1.12126972e-05 9.98599589e-01 5.62337751e-04 8.26840696e-04]\n",
      " [8.89316082e-01 1.07861228e-01 3.25805566e-04 2.49698409e-03]\n",
      " [9.99562800e-01 4.35609283e-04 4.51879856e-07 1.06199013e-06]\n",
      " [7.20437354e-09 2.04191348e-08 1.75639907e-05 9.99982357e-01]\n",
      " [1.64051421e-08 6.42481912e-03 9.51667130e-01 4.19080295e-02]\n",
      " [7.99798436e-05 9.99781549e-01 5.74287796e-14 1.38548014e-04]\n",
      " [9.50631618e-01 1.30198430e-07 1.07443184e-05 4.93574999e-02]\n",
      " [1.22823864e-01 8.77138257e-01 4.57723408e-11 3.78393197e-05]\n",
      " [6.08919706e-08 2.05063461e-05 9.99971151e-01 8.19467641e-06]\n",
      " [1.39523056e-18 4.25142480e-15 5.89805982e-12 1.00000000e+00]\n",
      " [2.60319484e-06 9.99997377e-01 1.66841752e-09 6.75443979e-10]\n",
      " [6.53974269e-07 3.94043345e-05 9.99927759e-01 3.21517145e-05]\n",
      " [4.90533930e-05 7.89561818e-05 9.96240616e-01 3.63138341e-03]\n",
      " [9.39465128e-03 9.90586698e-01 1.37515481e-05 5.00614351e-06]\n",
      " [2.93399353e-06 6.59570038e-01 3.35773468e-01 4.65364847e-03]\n",
      " [4.68574988e-04 3.56837518e-05 3.52724135e-04 9.99143004e-01]\n",
      " [9.95439470e-01 4.56053624e-03 2.32799321e-10 2.77242052e-08]\n",
      " [1.97971371e-04 9.19182505e-03 9.90567625e-01 4.26262086e-05]\n",
      " [1.26584526e-02 2.74193417e-02 6.66490374e-09 9.59922135e-01]\n",
      " [2.94027326e-04 3.41399200e-03 9.96266663e-01 2.52618302e-05]\n",
      " [4.00363875e-04 9.99599636e-01 5.06713382e-09 7.08613238e-11]\n",
      " [8.93626653e-04 1.72299325e-01 5.71530359e-03 8.21091712e-01]\n",
      " [9.11967390e-07 4.81225492e-04 5.04533586e-04 9.99013305e-01]\n",
      " [3.25939084e-07 2.88711112e-06 8.20949495e-01 1.79047242e-01]\n",
      " [1.52064949e-12 3.84863625e-08 1.00000000e+00 4.30333529e-08]\n",
      " [4.85204000e-05 2.53709209e-06 7.27247880e-06 9.99941707e-01]\n",
      " [9.44930255e-01 5.50663024e-02 1.55659635e-07 3.37003439e-06]\n",
      " [1.14644825e-01 8.85150731e-01 2.04343538e-04 1.64739576e-11]\n",
      " [8.02963972e-01 1.37904957e-01 1.79131725e-03 5.73398136e-02]\n",
      " [4.26003243e-12 1.67615738e-07 4.89290983e-07 9.99999285e-01]\n",
      " [1.00340667e-05 3.43774609e-08 4.03036596e-03 9.95959580e-01]\n",
      " [2.85879707e-07 1.49356604e-01 1.08201220e-03 8.49561095e-01]\n",
      " [9.47784543e-01 3.15424353e-02 1.85501818e-02 2.12287484e-03]\n",
      " [2.01437566e-02 9.79848564e-01 7.12588781e-06 6.06778656e-07]\n",
      " [5.28002067e-13 1.00000000e+00 4.57860599e-19 2.66715736e-17]\n",
      " [2.18931541e-06 3.49161822e-20 2.57122545e-09 9.99997854e-01]\n",
      " [9.57712755e-02 9.04217958e-01 4.04885714e-06 6.71872749e-06]\n",
      " [6.78129137e-01 2.65388489e-01 5.58699444e-02 6.12415432e-04]\n",
      " [3.71293776e-04 8.53576958e-02 9.09630001e-01 4.64100204e-03]\n",
      " [2.78452992e-01 7.20518231e-01 8.45669638e-05 9.44204745e-04]\n",
      " [4.47955816e-20 3.13480414e-15 3.41297675e-15 1.00000000e+00]\n",
      " [3.33877231e-11 3.77163000e-04 1.81953244e-08 9.99622822e-01]\n",
      " [1.24885347e-09 9.16086312e-04 8.70798758e-05 9.98996794e-01]\n",
      " [2.69513786e-11 1.20787888e-07 3.40297817e-08 9.99999881e-01]\n",
      " [7.20271919e-06 6.48955465e-05 9.99925733e-01 2.14190118e-06]\n",
      " [2.30832393e-06 9.56653893e-01 2.05333507e-07 4.33436185e-02]\n",
      " [5.19922468e-31 4.37200953e-24 1.00000000e+00 7.48023709e-22]\n",
      " [6.86406195e-02 9.31161523e-01 2.81339417e-05 1.69728301e-04]\n",
      " [9.99447167e-01 5.52624697e-04 6.24718126e-08 1.62816704e-07]]\n"
     ]
    }
   ],
   "source": [
    "from sklearn.metrics import confusion_matrix\n",
    "\n",
    "Y_pred = model.predict(X_test)\n",
    "print(Y_pred)"
   ]
  },
  {
   "cell_type": "code",
   "execution_count": 37,
   "metadata": {},
   "outputs": [
    {
     "name": "stdout",
     "output_type": "stream",
     "text": [
      "[2 2 1 0 1 1 3 2 1 3 0 3 3 3 2 2 0 1 3 1 1 3 1 1 0 1 1 3 0 3 2 2 2 2 0 3 3\n",
      " 1 3 2 2 3 1 3 0 1 1 0 2 1 2 0 1 1 2 2 0 2 1 0 3 1 3 3 3 2 3 2 0 0 1 3 1 0\n",
      " 3 1 2 3 0 3 1 2 3 2 2 2 3 0 1 2 2 1 1 2 3 1 2 2 2 3 0 1 1 3 3 3 0 2 3 2 0\n",
      " 3 2 1 0 0 3 2 1 0 1 2 3 1 2 2 1 1 3 0 2 3 2 1 3 3 2 2 3 0 1 0 3 3 3 0 1 1\n",
      " 3 1 0 2 1 3 3 3 3 2 1 2 1 0]\n"
     ]
    }
   ],
   "source": [
    "y_pred = np.argmax(Y_pred, axis=1)\n",
    "print(y_pred)"
   ]
  },
  {
   "cell_type": "code",
   "execution_count": 38,
   "metadata": {},
   "outputs": [
    {
     "name": "stdout",
     "output_type": "stream",
     "text": [
      "[[18 15  3  5]\n",
      " [ 2 18 11  9]\n",
      " [ 3  3 26  1]\n",
      " [ 5  8  3 32]]\n"
     ]
    }
   ],
   "source": [
    "print(confusion_matrix(np.argmax(y_test,axis=1), y_pred))"
   ]
  },
  {
   "cell_type": "markdown",
   "metadata": {},
   "source": [
    "###### Saving and loading model and weights"
   ]
  },
  {
   "cell_type": "code",
   "execution_count": 39,
   "metadata": {
    "collapsed": true
   },
   "outputs": [],
   "source": [
    "from keras.models import model_from_json, load_model"
   ]
  },
  {
   "cell_type": "code",
   "execution_count": 40,
   "metadata": {
    "collapsed": true
   },
   "outputs": [],
   "source": [
    "# serialize model to JSON\n",
    "model_json = model.to_json()\n",
    "with open(\"model.json\", \"w\") as json_file:\n",
    "    json_file.write(model_json)\n",
    "\n",
    "# serialize weights to HDF5\n",
    "model.save_weights(\"model.h5\")"
   ]
  },
  {
   "cell_type": "code",
   "execution_count": 41,
   "metadata": {
    "collapsed": true
   },
   "outputs": [],
   "source": [
    "# load json and create model\n",
    "json_file = open('model.json', 'r')\n",
    "loaded_model_json = json_file.read()\n",
    "json_file.close()\n",
    "loaded_model = model_from_json(loaded_model_json)\n",
    "\n",
    "# load weights into new model\n",
    "loaded_model.load_weights(\"model.h5\")"
   ]
  },
  {
   "cell_type": "code",
   "execution_count": 42,
   "metadata": {
    "collapsed": true
   },
   "outputs": [],
   "source": [
    "model.save('model.hdf5')\n",
    "loaded_model=load_model('model.hdf5')"
   ]
  },
  {
   "cell_type": "markdown",
   "metadata": {},
   "source": [
    "###### Transfer Learning - 1"
   ]
  },
  {
   "cell_type": "markdown",
   "metadata": {},
   "source": [
    "![](img/vggnet_architecture.png)"
   ]
  },
  {
   "cell_type": "code",
   "execution_count": 43,
   "metadata": {
    "collapsed": true
   },
   "outputs": [],
   "source": [
    "from keras.layers.core import Dense\n",
    "from keras.layers import Input"
   ]
  },
  {
   "cell_type": "code",
   "execution_count": 44,
   "metadata": {
    "collapsed": true
   },
   "outputs": [],
   "source": [
    "# Custom_vgg_model_1\n",
    "#Training the classifier alone\n",
    "image_input = Input(shape=(224, 224, 3))"
   ]
  },
  {
   "cell_type": "code",
   "execution_count": 45,
   "metadata": {
    "collapsed": true
   },
   "outputs": [],
   "source": [
    "from keras.applications.vgg16 import VGG16\n",
    "\n",
    "vgg_model = VGG16(input_tensor=image_input, include_top=True, weights='imagenet')"
   ]
  },
  {
   "cell_type": "markdown",
   "metadata": {},
   "source": [
    "\n",
    "include_top: whether to include the 3 fully-connected layers at the top of the network.\n",
    "\n",
    "weights: one of None (random initialization) or 'imagenet' (pre-training on ImageNet).\n",
    "\n",
    "input_tensor: optional Keras tensor (i.e. output of layers.Input()) to use as image input for the model.\n",
    "\n",
    "classes: optional number of classes to classify images into, only to be specified if include_top is True, and if no weights argument is specified.\n"
   ]
  },
  {
   "cell_type": "code",
   "execution_count": 46,
   "metadata": {},
   "outputs": [
    {
     "name": "stdout",
     "output_type": "stream",
     "text": [
      "_________________________________________________________________\n",
      "Layer (type)                 Output Shape              Param #   \n",
      "=================================================================\n",
      "input_1 (InputLayer)         (None, 224, 224, 3)       0         \n",
      "_________________________________________________________________\n",
      "block1_conv1 (Conv2D)        (None, 224, 224, 64)      1792      \n",
      "_________________________________________________________________\n",
      "block1_conv2 (Conv2D)        (None, 224, 224, 64)      36928     \n",
      "_________________________________________________________________\n",
      "block1_pool (MaxPooling2D)   (None, 112, 112, 64)      0         \n",
      "_________________________________________________________________\n",
      "block2_conv1 (Conv2D)        (None, 112, 112, 128)     73856     \n",
      "_________________________________________________________________\n",
      "block2_conv2 (Conv2D)        (None, 112, 112, 128)     147584    \n",
      "_________________________________________________________________\n",
      "block2_pool (MaxPooling2D)   (None, 56, 56, 128)       0         \n",
      "_________________________________________________________________\n",
      "block3_conv1 (Conv2D)        (None, 56, 56, 256)       295168    \n",
      "_________________________________________________________________\n",
      "block3_conv2 (Conv2D)        (None, 56, 56, 256)       590080    \n",
      "_________________________________________________________________\n",
      "block3_conv3 (Conv2D)        (None, 56, 56, 256)       590080    \n",
      "_________________________________________________________________\n",
      "block3_pool (MaxPooling2D)   (None, 28, 28, 256)       0         \n",
      "_________________________________________________________________\n",
      "block4_conv1 (Conv2D)        (None, 28, 28, 512)       1180160   \n",
      "_________________________________________________________________\n",
      "block4_conv2 (Conv2D)        (None, 28, 28, 512)       2359808   \n",
      "_________________________________________________________________\n",
      "block4_conv3 (Conv2D)        (None, 28, 28, 512)       2359808   \n",
      "_________________________________________________________________\n",
      "block4_pool (MaxPooling2D)   (None, 14, 14, 512)       0         \n",
      "_________________________________________________________________\n",
      "block5_conv1 (Conv2D)        (None, 14, 14, 512)       2359808   \n",
      "_________________________________________________________________\n",
      "block5_conv2 (Conv2D)        (None, 14, 14, 512)       2359808   \n",
      "_________________________________________________________________\n",
      "block5_conv3 (Conv2D)        (None, 14, 14, 512)       2359808   \n",
      "_________________________________________________________________\n",
      "block5_pool (MaxPooling2D)   (None, 7, 7, 512)         0         \n",
      "_________________________________________________________________\n",
      "flatten (Flatten)            (None, 25088)             0         \n",
      "_________________________________________________________________\n",
      "fc1 (Dense)                  (None, 4096)              102764544 \n",
      "_________________________________________________________________\n",
      "fc2 (Dense)                  (None, 4096)              16781312  \n",
      "_________________________________________________________________\n",
      "predictions (Dense)          (None, 1000)              4097000   \n",
      "=================================================================\n",
      "Total params: 138,357,544\n",
      "Trainable params: 138,357,544\n",
      "Non-trainable params: 0\n",
      "_________________________________________________________________\n"
     ]
    }
   ],
   "source": [
    "vgg_model.summary()"
   ]
  },
  {
   "cell_type": "code",
   "execution_count": 49,
   "metadata": {
    "collapsed": true
   },
   "outputs": [],
   "source": [
    "last_layer = vgg_model.get_layer('fc2').output\n",
    "out = Dense(num_classes, activation='softmax', name='output')(last_layer)"
   ]
  },
  {
   "cell_type": "code",
   "execution_count": 50,
   "metadata": {},
   "outputs": [
    {
     "name": "stdout",
     "output_type": "stream",
     "text": [
      "_________________________________________________________________\n",
      "Layer (type)                 Output Shape              Param #   \n",
      "=================================================================\n",
      "input_1 (InputLayer)         (None, 224, 224, 3)       0         \n",
      "_________________________________________________________________\n",
      "block1_conv1 (Conv2D)        (None, 224, 224, 64)      1792      \n",
      "_________________________________________________________________\n",
      "block1_conv2 (Conv2D)        (None, 224, 224, 64)      36928     \n",
      "_________________________________________________________________\n",
      "block1_pool (MaxPooling2D)   (None, 112, 112, 64)      0         \n",
      "_________________________________________________________________\n",
      "block2_conv1 (Conv2D)        (None, 112, 112, 128)     73856     \n",
      "_________________________________________________________________\n",
      "block2_conv2 (Conv2D)        (None, 112, 112, 128)     147584    \n",
      "_________________________________________________________________\n",
      "block2_pool (MaxPooling2D)   (None, 56, 56, 128)       0         \n",
      "_________________________________________________________________\n",
      "block3_conv1 (Conv2D)        (None, 56, 56, 256)       295168    \n",
      "_________________________________________________________________\n",
      "block3_conv2 (Conv2D)        (None, 56, 56, 256)       590080    \n",
      "_________________________________________________________________\n",
      "block3_conv3 (Conv2D)        (None, 56, 56, 256)       590080    \n",
      "_________________________________________________________________\n",
      "block3_pool (MaxPooling2D)   (None, 28, 28, 256)       0         \n",
      "_________________________________________________________________\n",
      "block4_conv1 (Conv2D)        (None, 28, 28, 512)       1180160   \n",
      "_________________________________________________________________\n",
      "block4_conv2 (Conv2D)        (None, 28, 28, 512)       2359808   \n",
      "_________________________________________________________________\n",
      "block4_conv3 (Conv2D)        (None, 28, 28, 512)       2359808   \n",
      "_________________________________________________________________\n",
      "block4_pool (MaxPooling2D)   (None, 14, 14, 512)       0         \n",
      "_________________________________________________________________\n",
      "block5_conv1 (Conv2D)        (None, 14, 14, 512)       2359808   \n",
      "_________________________________________________________________\n",
      "block5_conv2 (Conv2D)        (None, 14, 14, 512)       2359808   \n",
      "_________________________________________________________________\n",
      "block5_conv3 (Conv2D)        (None, 14, 14, 512)       2359808   \n",
      "_________________________________________________________________\n",
      "block5_pool (MaxPooling2D)   (None, 7, 7, 512)         0         \n",
      "_________________________________________________________________\n",
      "flatten (Flatten)            (None, 25088)             0         \n",
      "_________________________________________________________________\n",
      "fc1 (Dense)                  (None, 4096)              102764544 \n",
      "_________________________________________________________________\n",
      "fc2 (Dense)                  (None, 4096)              16781312  \n",
      "_________________________________________________________________\n",
      "output (Dense)               (None, 4)                 16388     \n",
      "=================================================================\n",
      "Total params: 134,276,932\n",
      "Trainable params: 134,276,932\n",
      "Non-trainable params: 0\n",
      "_________________________________________________________________\n"
     ]
    }
   ],
   "source": [
    "from keras.models import Model\n",
    "\n",
    "custom_vgg_model = Model(image_input, out)\n",
    "custom_vgg_model.summary()"
   ]
  },
  {
   "cell_type": "code",
   "execution_count": 51,
   "metadata": {
    "collapsed": true
   },
   "outputs": [],
   "source": [
    "for layer in custom_vgg_model.layers[:-3]:\n",
    "    layer.trainable = False"
   ]
  },
  {
   "cell_type": "code",
   "execution_count": 52,
   "metadata": {},
   "outputs": [
    {
     "name": "stdout",
     "output_type": "stream",
     "text": [
      "_________________________________________________________________\n",
      "Layer (type)                 Output Shape              Param #   \n",
      "=================================================================\n",
      "input_1 (InputLayer)         (None, 224, 224, 3)       0         \n",
      "_________________________________________________________________\n",
      "block1_conv1 (Conv2D)        (None, 224, 224, 64)      1792      \n",
      "_________________________________________________________________\n",
      "block1_conv2 (Conv2D)        (None, 224, 224, 64)      36928     \n",
      "_________________________________________________________________\n",
      "block1_pool (MaxPooling2D)   (None, 112, 112, 64)      0         \n",
      "_________________________________________________________________\n",
      "block2_conv1 (Conv2D)        (None, 112, 112, 128)     73856     \n",
      "_________________________________________________________________\n",
      "block2_conv2 (Conv2D)        (None, 112, 112, 128)     147584    \n",
      "_________________________________________________________________\n",
      "block2_pool (MaxPooling2D)   (None, 56, 56, 128)       0         \n",
      "_________________________________________________________________\n",
      "block3_conv1 (Conv2D)        (None, 56, 56, 256)       295168    \n",
      "_________________________________________________________________\n",
      "block3_conv2 (Conv2D)        (None, 56, 56, 256)       590080    \n",
      "_________________________________________________________________\n",
      "block3_conv3 (Conv2D)        (None, 56, 56, 256)       590080    \n",
      "_________________________________________________________________\n",
      "block3_pool (MaxPooling2D)   (None, 28, 28, 256)       0         \n",
      "_________________________________________________________________\n",
      "block4_conv1 (Conv2D)        (None, 28, 28, 512)       1180160   \n",
      "_________________________________________________________________\n",
      "block4_conv2 (Conv2D)        (None, 28, 28, 512)       2359808   \n",
      "_________________________________________________________________\n",
      "block4_conv3 (Conv2D)        (None, 28, 28, 512)       2359808   \n",
      "_________________________________________________________________\n",
      "block4_pool (MaxPooling2D)   (None, 14, 14, 512)       0         \n",
      "_________________________________________________________________\n",
      "block5_conv1 (Conv2D)        (None, 14, 14, 512)       2359808   \n",
      "_________________________________________________________________\n",
      "block5_conv2 (Conv2D)        (None, 14, 14, 512)       2359808   \n",
      "_________________________________________________________________\n",
      "block5_conv3 (Conv2D)        (None, 14, 14, 512)       2359808   \n",
      "_________________________________________________________________\n",
      "block5_pool (MaxPooling2D)   (None, 7, 7, 512)         0         \n",
      "_________________________________________________________________\n",
      "flatten (Flatten)            (None, 25088)             0         \n",
      "_________________________________________________________________\n",
      "fc1 (Dense)                  (None, 4096)              102764544 \n",
      "_________________________________________________________________\n",
      "fc2 (Dense)                  (None, 4096)              16781312  \n",
      "_________________________________________________________________\n",
      "output (Dense)               (None, 4)                 16388     \n",
      "=================================================================\n",
      "Total params: 134,276,932\n",
      "Trainable params: 119,562,244\n",
      "Non-trainable params: 14,714,688\n",
      "_________________________________________________________________\n"
     ]
    }
   ],
   "source": [
    "custom_vgg_model.summary()"
   ]
  },
  {
   "cell_type": "code",
   "execution_count": 55,
   "metadata": {
    "collapsed": true
   },
   "outputs": [],
   "source": [
    "custom_vgg_model.compile(loss='categorical_crossentropy',optimizer='adam',metrics=['accuracy'])"
   ]
  },
  {
   "cell_type": "code",
   "execution_count": null,
   "metadata": {
    "scrolled": true
   },
   "outputs": [
    {
     "name": "stdout",
     "output_type": "stream",
     "text": [
      "Train on 646 samples, validate on 162 samples\n",
      "Epoch 1/30\n",
      "646/646 [==============================] - 36s 55ms/step - loss: 11.9014 - acc: 0.2616 - val_loss: 12.8348 - val_acc: 0.2037\n",
      "Epoch 2/30\n",
      "608/646 [===========================>..] - ETA: 2s - loss: 11.7439 - acc: 0.2714"
     ]
    }
   ],
   "source": [
    "hist = custom_vgg_model.fit(X_train, y_train, batch_size=32, epochs=30, verbose=1, validation_data=(X_test, y_test))"
   ]
  },
  {
   "cell_type": "code",
   "execution_count": null,
   "metadata": {
    "collapsed": true
   },
   "outputs": [],
   "source": [
    "(loss, accuracy) = custom_vgg_model.evaluate(X_test, y_test, batch_size=10, verbose=1)\n",
    "\n",
    "print(\"[INFO] loss={:.4f}, accuracy: {:.4f}%\".format(loss, accuracy * 100))"
   ]
  },
  {
   "cell_type": "markdown",
   "metadata": {},
   "source": [
    "###### Transfer Learning - 2"
   ]
  },
  {
   "cell_type": "code",
   "execution_count": null,
   "metadata": {
    "collapsed": true
   },
   "outputs": [],
   "source": [
    "# Training the feature extraction also\n",
    "model = VGG16(input_tensor=image_input, include_top=True, weights='imagenet')\n",
    "\n",
    "model.summary()"
   ]
  },
  {
   "cell_type": "code",
   "execution_count": null,
   "metadata": {
    "collapsed": true
   },
   "outputs": [],
   "source": [
    "last_layer = model.get_layer('block5_pool').output\n",
    "x = Flatten(name='flatten')(last_layer)\n",
    "x = Dense(128, activation='relu', name='fc1')(x)\n",
    "x = Dense(128, activation='relu', name='fc2')(x)\n",
    "out = Dense(num_classes, activation='softmax', name='output')(x)\n",
    "custom_vgg_model2 = Model(image_input, out)"
   ]
  },
  {
   "cell_type": "code",
   "execution_count": null,
   "metadata": {
    "collapsed": true
   },
   "outputs": [],
   "source": [
    "custom_vgg_model2.summary()"
   ]
  },
  {
   "cell_type": "code",
   "execution_count": null,
   "metadata": {
    "collapsed": true
   },
   "outputs": [],
   "source": [
    "# freeze all the layers except the dense layers\n",
    "for layer in custom_vgg_model2.layers[:-3]:\n",
    "    layer.trainable = False"
   ]
  },
  {
   "cell_type": "code",
   "execution_count": null,
   "metadata": {
    "collapsed": true
   },
   "outputs": [],
   "source": [
    "custom_vgg_model2.summary()"
   ]
  },
  {
   "cell_type": "code",
   "execution_count": null,
   "metadata": {
    "collapsed": true
   },
   "outputs": [],
   "source": [
    "custom_vgg_model2.compile(loss='categorical_crossentropy',optimizer='adadelta',metrics=['accuracy'])"
   ]
  },
  {
   "cell_type": "code",
   "execution_count": null,
   "metadata": {
    "collapsed": true
   },
   "outputs": [],
   "source": [
    "hist = custom_vgg_model2.fit(X_train, y_train, batch_size=32, epochs=8, verbose=1, validation_data=(X_test, y_test))"
   ]
  },
  {
   "cell_type": "code",
   "execution_count": null,
   "metadata": {
    "collapsed": true
   },
   "outputs": [],
   "source": [
    "(loss, accuracy) = custom_vgg_model2.evaluate(X_test, y_test, batch_size=10, verbose=1)\n",
    "\n",
    "print(\"[INFO] loss={:.4f}, accuracy: {:.4f}%\".format(loss,accuracy * 100))"
   ]
  },
  {
   "cell_type": "markdown",
   "metadata": {},
   "source": [
    "Ref:\n",
    "    \n",
    "    https://github.com/anujshah1003/Transfer-Learning-in-keras---custom-data"
   ]
  }
 ],
 "metadata": {
  "kernelspec": {
   "display_name": "Python 3",
   "language": "python",
   "name": "python3"
  },
  "language_info": {
   "codemirror_mode": {
    "name": "ipython",
    "version": 3
   },
   "file_extension": ".py",
   "mimetype": "text/x-python",
   "name": "python",
   "nbconvert_exporter": "python",
   "pygments_lexer": "ipython3",
   "version": "3.6.3"
  }
 },
 "nbformat": 4,
 "nbformat_minor": 2
}
