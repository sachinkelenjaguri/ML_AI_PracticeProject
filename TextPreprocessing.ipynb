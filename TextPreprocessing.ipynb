{
 "cells": [
  {
   "cell_type": "code",
   "execution_count": 40,
   "metadata": {
    "collapsed": true
   },
   "outputs": [],
   "source": [
    "import nltk"
   ]
  },
  {
   "cell_type": "code",
   "execution_count": 41,
   "metadata": {
    "collapsed": true
   },
   "outputs": [],
   "source": [
    "string = '''\n",
    "At Waterloo we were fortunate in catching a train for Leatherhead, where we hired a trap at the station inn and drove for four or five miles through the lovely Surrey lanes. \n",
    "It was a perfect day, with a bright sun and a few fleecy clouds in the heavens. \n",
    "The trees and wayside hedges were just throwing out their first green shoots, and the air was full of the pleasant smell of the moist earth. To me at least there was a strange contrast between the sweet promise of the spring and this sinister quest upon which we were engaged. \n",
    "My companion sat in the front of the trap, his arms folded, his hat pulled down over his eyes, and his chin sunk upon his breast, buried in the deepest thought. \n",
    "Suddenly, however, he started, tapped me on the shoulder, and pointed over the meadows.\n",
    "'''"
   ]
  },
  {
   "cell_type": "code",
   "execution_count": 42,
   "metadata": {},
   "outputs": [
    {
     "data": {
      "text/plain": [
       "785"
      ]
     },
     "execution_count": 42,
     "metadata": {},
     "output_type": "execute_result"
    }
   ],
   "source": [
    "len(string)"
   ]
  },
  {
   "cell_type": "code",
   "execution_count": 43,
   "metadata": {},
   "outputs": [
    {
     "name": "stdout",
     "output_type": "stream",
     "text": [
      "['At', 'Waterloo', 'we', 'were', 'fortunate', 'in', 'catching', 'a', 'train', 'for', 'Leatherhead', ',', 'where', 'we', 'hired', 'a', 'trap', 'at', 'the', 'station', 'inn', 'and', 'drove', 'for', 'four', 'or', 'five', 'miles', 'through', 'the', 'lovely', 'Surrey', 'lanes', '.', 'It', 'was', 'a', 'perfect', 'day', ',', 'with', 'a', 'bright', 'sun', 'and', 'a', 'few', 'fleecy', 'clouds', 'in', 'the', 'heavens', '.', 'The', 'trees', 'and', 'wayside', 'hedges', 'were', 'just', 'throwing', 'out', 'their', 'first', 'green', 'shoots', ',', 'and', 'the', 'air', 'was', 'full', 'of', 'the', 'pleasant', 'smell', 'of', 'the', 'moist', 'earth', '.', 'To', 'me', 'at', 'least', 'there', 'was', 'a', 'strange', 'contrast', 'between', 'the', 'sweet', 'promise', 'of', 'the', 'spring', 'and', 'this', 'sinister', 'quest', 'upon', 'which', 'we', 'were', 'engaged', '.', 'My', 'companion', 'sat', 'in', 'the', 'front', 'of', 'the', 'trap', ',', 'his', 'arms', 'folded', ',', 'his', 'hat', 'pulled', 'down', 'over', 'his', 'eyes', ',', 'and', 'his', 'chin', 'sunk', 'upon', 'his', 'breast', ',', 'buried', 'in', 'the', 'deepest', 'thought', '.', 'Suddenly', ',', 'however', ',', 'he', 'started', ',', 'tapped', 'me', 'on', 'the', 'shoulder', ',', 'and', 'pointed', 'over', 'the', 'meadows', '.']\n"
     ]
    }
   ],
   "source": [
    "tokens = nltk.tokenize.word_tokenize(string)\n",
    "print(tokens)"
   ]
  },
  {
   "cell_type": "code",
   "execution_count": 44,
   "metadata": {},
   "outputs": [
    {
     "name": "stdout",
     "output_type": "stream",
     "text": [
      "showing info https://raw.githubusercontent.com/nltk/nltk_data/gh-pages/index.xml\n"
     ]
    },
    {
     "data": {
      "text/plain": [
       "True"
      ]
     },
     "execution_count": 44,
     "metadata": {},
     "output_type": "execute_result"
    }
   ],
   "source": [
    "nltk.download()"
   ]
  },
  {
   "cell_type": "code",
   "execution_count": 45,
   "metadata": {},
   "outputs": [
    {
     "name": "stdout",
     "output_type": "stream",
     "text": [
      "['At', 'Waterloo', 'we', 'were', 'fortunate', 'in', 'catching', 'a', 'train', 'for', 'Leatherhead', 'where', 'we', 'hired', 'a', 'trap', 'at', 'the', 'station', 'inn']\n"
     ]
    }
   ],
   "source": [
    "from nltk.corpus import RegexpTokenizer as regextoken\n",
    "tokenizer = regextoken(r'\\w+')\n",
    "tokens = tokenizer.tokenize(string)\n",
    "print(tokens[:20])"
   ]
  },
  {
   "cell_type": "code",
   "execution_count": 46,
   "metadata": {},
   "outputs": [
    {
     "name": "stdout",
     "output_type": "stream",
     "text": [
      "['1983', '2011']\n"
     ]
    }
   ],
   "source": [
    "x=''' In the year 1983 and in 2011, India world the cricket world cup'''\n",
    "#In which year India won the world cup\n",
    "t=regextoken(r'\\d+')\n",
    "t1 = t.tokenize(x)\n",
    "print(t1)"
   ]
  },
  {
   "cell_type": "code",
   "execution_count": 47,
   "metadata": {
    "collapsed": true
   },
   "outputs": [],
   "source": [
    "tokens = [token.lower() for token in tokens]"
   ]
  },
  {
   "cell_type": "code",
   "execution_count": 48,
   "metadata": {},
   "outputs": [
    {
     "name": "stdout",
     "output_type": "stream",
     "text": [
      "['waterloo', 'fortunate', 'catching', 'train', 'leatherhead', 'hired', 'trap', 'station', 'inn', 'drove', 'four', 'five', 'miles', 'lovely', 'surrey', 'lanes', 'perfect', 'day', 'bright', 'sun']\n"
     ]
    }
   ],
   "source": [
    "from nltk.corpus import stopwords\n",
    "stop = stopwords.words('english')\n",
    "tokens = [token for token in tokens if token not in stop]\n",
    "print(tokens[:20])"
   ]
  },
  {
   "cell_type": "code",
   "execution_count": 16,
   "metadata": {
    "scrolled": true
   },
   "outputs": [
    {
     "name": "stdout",
     "output_type": "stream",
     "text": [
      "['waterloo', 'fortunate', 'catching', 'train', 'leatherhead', 'hired', 'trap', 'station', 'inn', 'drove', 'four', 'five', 'mile', 'lovely', 'surrey', 'lane', 'perfect', 'day', 'bright', 'sun']\n"
     ]
    }
   ],
   "source": [
    "from nltk.stem.wordnet import WordNetLemmatizer\n",
    "lmtzr = WordNetLemmatizer()\n",
    "tokens = [lmtzr.lemmatize(token) for token in tokens]\n",
    "print(tokens[:20])"
   ]
  },
  {
   "cell_type": "code",
   "execution_count": 18,
   "metadata": {},
   "outputs": [
    {
     "data": {
      "text/plain": [
       "69"
      ]
     },
     "execution_count": 18,
     "metadata": {},
     "output_type": "execute_result"
    }
   ],
   "source": [
    "len(tokens)"
   ]
  },
  {
   "cell_type": "code",
   "execution_count": 13,
   "metadata": {},
   "outputs": [
    {
     "name": "stdout",
     "output_type": "stream",
     "text": [
      "computer\n",
      "comput\n",
      "comput\n"
     ]
    }
   ],
   "source": [
    "print(WordNetLemmatizer().lemmatize('computer'))\n",
    "from nltk.stem.porter import PorterStemmer\n",
    "from nltk.stem.snowball import SnowballStemmer\n",
    "porter=PorterStemmer()\n",
    "snowball=SnowballStemmer('english')\n",
    "print(porter.stem('computer'))\n",
    "print(snowball.stem('computer'))"
   ]
  },
  {
   "cell_type": "code",
   "execution_count": 25,
   "metadata": {},
   "outputs": [
    {
     "name": "stdout",
     "output_type": "stream",
     "text": [
      "('waterloo',)\n",
      "('fortunate',)\n",
      "('catching',)\n",
      "('train',)\n",
      "('leatherhead',)\n",
      "('hired',)\n",
      "('trap',)\n",
      "('station',)\n",
      "('inn',)\n",
      "('drove',)\n",
      "('four',)\n",
      "('five',)\n",
      "('mile',)\n",
      "('lovely',)\n",
      "('surrey',)\n",
      "('lane',)\n",
      "('perfect',)\n",
      "('day',)\n",
      "('bright',)\n",
      "('sun',)\n",
      "('fleecy',)\n",
      "('cloud',)\n",
      "('heaven',)\n",
      "('tree',)\n",
      "('wayside',)\n",
      "('hedge',)\n",
      "('throwing',)\n",
      "('first',)\n",
      "('green',)\n",
      "('shoot',)\n",
      "('air',)\n",
      "('full',)\n",
      "('pleasant',)\n",
      "('smell',)\n",
      "('moist',)\n",
      "('earth',)\n",
      "('least',)\n",
      "('strange',)\n",
      "('contrast',)\n",
      "('sweet',)\n",
      "('promise',)\n",
      "('spring',)\n",
      "('sinister',)\n",
      "('quest',)\n",
      "('upon',)\n",
      "('engaged',)\n",
      "('companion',)\n",
      "('sat',)\n",
      "('front',)\n",
      "('trap',)\n",
      "('arm',)\n",
      "('folded',)\n",
      "('hat',)\n",
      "('pulled',)\n",
      "('eye',)\n",
      "('chin',)\n",
      "('sunk',)\n",
      "('upon',)\n",
      "('breast',)\n",
      "('buried',)\n",
      "('deepest',)\n",
      "('thought',)\n",
      "('suddenly',)\n",
      "('however',)\n",
      "('started',)\n",
      "('tapped',)\n",
      "('shoulder',)\n",
      "('pointed',)\n",
      "('meadow',)\n",
      "69\n"
     ]
    }
   ],
   "source": [
    "tmp = 0\n",
    "for ngram in nltk.ngrams(tokens, 2):\n",
    "    print (ngram,)\n",
    "    tmp += 1\n",
    "#     print '\\n'\n",
    "# print '\\n'\n",
    "# print len(tokens)\n",
    "print(tmp)\n"
   ]
  },
  {
   "cell_type": "code",
   "execution_count": 27,
   "metadata": {
    "collapsed": true
   },
   "outputs": [],
   "source": [
    "ngram_freq = nltk.FreqDist() #WE INITIALIZED A FREQUENCY COUNTER\n",
    "for ngram in nltk.ngrams(tokens, 1):\n",
    "    ngram_freq[ngram] += 1"
   ]
  },
  {
   "cell_type": "code",
   "execution_count": 28,
   "metadata": {},
   "outputs": [
    {
     "data": {
      "text/plain": [
       "[(('trap',), 2),\n",
       " (('upon',), 2),\n",
       " (('waterloo',), 1),\n",
       " (('fortunate',), 1),\n",
       " (('catching',), 1),\n",
       " (('train',), 1),\n",
       " (('leatherhead',), 1),\n",
       " (('hired',), 1),\n",
       " (('station',), 1),\n",
       " (('inn',), 1)]"
      ]
     },
     "execution_count": 28,
     "metadata": {},
     "output_type": "execute_result"
    }
   ],
   "source": [
    "ngram_freq.most_common(10)"
   ]
  },
  {
   "cell_type": "markdown",
   "metadata": {},
   "source": [
    "Let's combine all the above functions into a single function"
   ]
  },
  {
   "cell_type": "code",
   "execution_count": 31,
   "metadata": {
    "collapsed": true
   },
   "outputs": [],
   "source": [
    "def process_text(text):\n",
    "    sentences = nltk.tokenize.sent_tokenize(text)\n",
    "    sentence_tokens = [tokenizer.tokenize(sentence) for sentence in sentences]\n",
    "    tokens = []\n",
    "    for sentence in sentence_tokens:\n",
    "        sent = []\n",
    "        for word in sentence:\n",
    "            if word.lower() not in stop:\n",
    "                sent.append(word.lower())\n",
    "        tokens.append(sent)\n",
    "    ##THE SAME FOR LOOP CAN BE WRITTEN AS FOLLOWS\n",
    "    ##tokens = [[word.lower() for word in sent if word not in stop] for sent in sentence_tokens]\n",
    "    tokens = [[lmtzr.lemmatize(word) for word in sent] for sent in tokens]\n",
    "    return tokens"
   ]
  },
  {
   "cell_type": "code",
   "execution_count": 32,
   "metadata": {},
   "outputs": [
    {
     "name": "stdout",
     "output_type": "stream",
     "text": [
      "[['waterloo', 'fortunate', 'catching', 'train', 'leatherhead', 'hired', 'trap', 'station', 'inn', 'drove', 'four', 'five', 'mile', 'lovely', 'surrey', 'lane'], ['perfect', 'day', 'bright', 'sun', 'fleecy', 'cloud', 'heaven'], ['tree', 'wayside', 'hedge', 'throwing', 'first', 'green', 'shoot', 'air', 'full', 'pleasant', 'smell', 'moist', 'earth'], ['least', 'strange', 'contrast', 'sweet', 'promise', 'spring', 'sinister', 'quest', 'upon', 'engaged'], ['companion', 'sat', 'front', 'trap', 'arm', 'folded', 'hat', 'pulled', 'eye', 'chin', 'sunk', 'upon', 'breast', 'buried', 'deepest', 'thought'], ['suddenly', 'however', 'started', 'tapped', 'shoulder', 'pointed', 'meadow']]\n"
     ]
    }
   ],
   "source": [
    "sentence_tokens = process_text(string)\n",
    "print(sentence_tokens)"
   ]
  },
  {
   "cell_type": "code",
   "execution_count": 33,
   "metadata": {
    "collapsed": true
   },
   "outputs": [],
   "source": [
    "def process_ngrams(input_sentence_tokens):\n",
    "    ngram_list = []\n",
    "    for sentence in input_sentence_tokens:\n",
    "        ngram_sent = nltk.ngrams(sentence, 2, pad_right = True, right_pad_symbol='<e>', pad_left=True, left_pad_symbol='<s>')\n",
    "        ngram_list = ngram_list + list(ngram_sent)\n",
    "    return ngram_list"
   ]
  },
  {
   "cell_type": "code",
   "execution_count": 34,
   "metadata": {},
   "outputs": [
    {
     "name": "stdout",
     "output_type": "stream",
     "text": [
      "[('<s>', 'waterloo'), ('waterloo', 'fortunate'), ('fortunate', 'catching'), ('catching', 'train'), ('train', 'leatherhead'), ('leatherhead', 'hired'), ('hired', 'trap'), ('trap', 'station'), ('station', 'inn'), ('inn', 'drove'), ('drove', 'four'), ('four', 'five'), ('five', 'mile'), ('mile', 'lovely'), ('lovely', 'surrey'), ('surrey', 'lane'), ('lane', '<e>'), ('<s>', 'perfect'), ('perfect', 'day'), ('day', 'bright'), ('bright', 'sun'), ('sun', 'fleecy'), ('fleecy', 'cloud'), ('cloud', 'heaven'), ('heaven', '<e>'), ('<s>', 'tree'), ('tree', 'wayside'), ('wayside', 'hedge'), ('hedge', 'throwing'), ('throwing', 'first'), ('first', 'green'), ('green', 'shoot'), ('shoot', 'air'), ('air', 'full'), ('full', 'pleasant'), ('pleasant', 'smell'), ('smell', 'moist'), ('moist', 'earth'), ('earth', '<e>'), ('<s>', 'least'), ('least', 'strange'), ('strange', 'contrast'), ('contrast', 'sweet'), ('sweet', 'promise'), ('promise', 'spring'), ('spring', 'sinister'), ('sinister', 'quest'), ('quest', 'upon'), ('upon', 'engaged'), ('engaged', '<e>'), ('<s>', 'companion'), ('companion', 'sat'), ('sat', 'front'), ('front', 'trap'), ('trap', 'arm'), ('arm', 'folded'), ('folded', 'hat'), ('hat', 'pulled'), ('pulled', 'eye'), ('eye', 'chin'), ('chin', 'sunk'), ('sunk', 'upon'), ('upon', 'breast'), ('breast', 'buried'), ('buried', 'deepest'), ('deepest', 'thought'), ('thought', '<e>'), ('<s>', 'suddenly'), ('suddenly', 'however'), ('however', 'started'), ('started', 'tapped'), ('tapped', 'shoulder'), ('shoulder', 'pointed'), ('pointed', 'meadow'), ('meadow', '<e>')]\n"
     ]
    }
   ],
   "source": [
    "string_ngrams = process_ngrams(sentence_tokens)\n",
    "print(string_ngrams)"
   ]
  },
  {
   "cell_type": "code",
   "execution_count": 35,
   "metadata": {},
   "outputs": [
    {
     "name": "stdout",
     "output_type": "stream",
     "text": [
      "[(('<s>', 'waterloo'), 1), (('waterloo', 'fortunate'), 1), (('fortunate', 'catching'), 1), (('catching', 'train'), 1), (('train', 'leatherhead'), 1), (('leatherhead', 'hired'), 1), (('hired', 'trap'), 1), (('trap', 'station'), 1), (('station', 'inn'), 1), (('inn', 'drove'), 1), (('drove', 'four'), 1), (('four', 'five'), 1), (('five', 'mile'), 1), (('mile', 'lovely'), 1), (('lovely', 'surrey'), 1), (('surrey', 'lane'), 1), (('lane', '<e>'), 1), (('<s>', 'perfect'), 1), (('perfect', 'day'), 1), (('day', 'bright'), 1), (('bright', 'sun'), 1), (('sun', 'fleecy'), 1), (('fleecy', 'cloud'), 1), (('cloud', 'heaven'), 1), (('heaven', '<e>'), 1), (('<s>', 'tree'), 1), (('tree', 'wayside'), 1), (('wayside', 'hedge'), 1), (('hedge', 'throwing'), 1), (('throwing', 'first'), 1), (('first', 'green'), 1), (('green', 'shoot'), 1), (('shoot', 'air'), 1), (('air', 'full'), 1), (('full', 'pleasant'), 1), (('pleasant', 'smell'), 1), (('smell', 'moist'), 1), (('moist', 'earth'), 1), (('earth', '<e>'), 1), (('<s>', 'least'), 1), (('least', 'strange'), 1), (('strange', 'contrast'), 1), (('contrast', 'sweet'), 1), (('sweet', 'promise'), 1), (('promise', 'spring'), 1), (('spring', 'sinister'), 1), (('sinister', 'quest'), 1), (('quest', 'upon'), 1), (('upon', 'engaged'), 1), (('engaged', '<e>'), 1), (('<s>', 'companion'), 1), (('companion', 'sat'), 1), (('sat', 'front'), 1), (('front', 'trap'), 1), (('trap', 'arm'), 1), (('arm', 'folded'), 1), (('folded', 'hat'), 1), (('hat', 'pulled'), 1), (('pulled', 'eye'), 1), (('eye', 'chin'), 1), (('chin', 'sunk'), 1), (('sunk', 'upon'), 1), (('upon', 'breast'), 1), (('breast', 'buried'), 1), (('buried', 'deepest'), 1), (('deepest', 'thought'), 1), (('thought', '<e>'), 1), (('<s>', 'suddenly'), 1), (('suddenly', 'however'), 1), (('however', 'started'), 1), (('started', 'tapped'), 1), (('tapped', 'shoulder'), 1), (('shoulder', 'pointed'), 1), (('pointed', 'meadow'), 1), (('meadow', '<e>'), 1)]\n"
     ]
    }
   ],
   "source": [
    "ngram_freq = nltk.FreqDist() #WE INITIALIZED A FREQUENCY COUNTER\n",
    "for ngram in string_ngrams:\n",
    "    ngram_freq[ngram] += 1\n",
    "print(ngram_freq.most_common())"
   ]
  },
  {
   "cell_type": "markdown",
   "metadata": {},
   "source": [
    "# %matplotlib inline \n",
    "\n",
    "With this backend, the output of plotting commands is displayed inline within frontends like the Jupyter notebook, directly below the code cell that produced it. The resulting plots will then also be stored in the notebook document.\n",
    "\n",
    "stopwords : set of strings or None\n",
    "        The words that will be eliminated. If None, the build-in STOPWORDS\n",
    "        list will be used."
   ]
  },
  {
   "cell_type": "code",
   "execution_count": 23,
   "metadata": {},
   "outputs": [
    {
     "name": "stderr",
     "output_type": "stream",
     "text": [
      "/home/mayank/anaconda3/envs/dl/lib/python3.6/site-packages/matplotlib/font_manager.py:279: UserWarning: Matplotlib is building the font cache using fc-list. This may take a moment.\n",
      "  'Matplotlib is building the font cache using fc-list. '\n"
     ]
    },
    {
     "data": {
      "text/plain": [
       "<matplotlib.image.AxesImage at 0x7f29c8105828>"
      ]
     },
     "execution_count": 23,
     "metadata": {},
     "output_type": "execute_result"
    },
    {
     "data": {
      "image/png": "[encoded data removed]",
      "text/plain": [
       "<matplotlib.figure.Figure at 0x7f29d52d4710>"
      ]
     },
     "metadata": {},
     "output_type": "display_data"
    }
   ],
   "source": [
    "from wordcloud import WordCloud\n",
    "wordcloud = WordCloud(stopwords=[]).generate(string)\n",
    "import matplotlib.pyplot as plt\n",
    "%matplotlib inline\n",
    "plt.imshow(wordcloud)"
   ]
  },
  {
   "cell_type": "code",
   "execution_count": null,
   "metadata": {
    "collapsed": true
   },
   "outputs": [],
   "source": []
  },
  {
   "cell_type": "code",
   "execution_count": null,
   "metadata": {
    "collapsed": true
   },
   "outputs": [],
   "source": []
  }
 ],
 "metadata": {
  "anaconda-cloud": {},
  "kernelspec": {
   "display_name": "Python 3",
   "language": "python",
   "name": "python3"
  },
  "language_info": {
   "codemirror_mode": {
    "name": "ipython",
    "version": 3
   },
   "file_extension": ".py",
   "mimetype": "text/x-python",
   "name": "python",
   "nbconvert_exporter": "python",
   "pygments_lexer": "ipython3",
   "version": "3.6.3"
  }
 },
 "nbformat": 4,
 "nbformat_minor": 1
}
