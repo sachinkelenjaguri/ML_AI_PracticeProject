{
 "cells": [
  {
   "cell_type": "code",
   "execution_count": 154,
   "metadata": {},
   "outputs": [],
   "source": [
    "# linear algebra\n",
    "import numpy as np\n",
    "# data processing, CSV file I/O (e.g. pd.read_csv)\n",
    "import pandas as pd\n",
    "# for dimensionality reduction\n",
    "from sklearn.decomposition import PCA\n",
    "import xgboost as xgb\n",
    "from sklearn.metrics import r2_score\n",
    "from sklearn.model_selection import train_test_split\n"
   ]
  },
  {
   "cell_type": "markdown",
   "metadata": {},
   "source": [
    "# Data PreProcessing"
   ]
  },
  {
   "cell_type": "code",
   "execution_count": 138,
   "metadata": {},
   "outputs": [],
   "source": [
    "df_train = pd.read_csv('train.csv')\n",
    "# let us understand the data\n",
    "\n",
    "\n",
    "# Step6: Read the test.csv data\n",
    "\n",
    "df_test = pd.read_csv('test.csv')"
   ]
  },
  {
   "cell_type": "code",
   "execution_count": 134,
   "metadata": {},
   "outputs": [
    {
     "name": "stdout",
     "output_type": "stream",
     "text": [
      "(4209, 378)\n",
      "---------------------\n",
      "   ID       y  X0 X1  X2 X3 X4 X5 X6 X8  ...  X375  X376  X377  X378  X379  \\\n",
      "0   0  130.81   k  v  at  a  d  u  j  o  ...     0     0     1     0     0   \n",
      "1   6   88.53   k  t  av  e  d  y  l  o  ...     1     0     0     0     0   \n",
      "2   7   76.26  az  w   n  c  d  x  j  x  ...     0     0     0     0     0   \n",
      "3   9   80.62  az  t   n  f  d  x  l  e  ...     0     0     0     0     0   \n",
      "4  13   78.02  az  v   n  f  d  h  d  n  ...     0     0     0     0     0   \n",
      "\n",
      "   X380  X382  X383  X384  X385  \n",
      "0     0     0     0     0     0  \n",
      "1     0     0     0     0     0  \n",
      "2     0     1     0     0     0  \n",
      "3     0     0     0     0     0  \n",
      "4     0     0     0     0     0  \n",
      "\n",
      "[5 rows x 378 columns]\n"
     ]
    }
   ],
   "source": [
    "print(df_train.shape)\n",
    "print(\"---------------------\")\n",
    "print(df_train.head())"
   ]
  },
  {
   "cell_type": "code",
   "execution_count": 135,
   "metadata": {},
   "outputs": [],
   "source": [
    "y_train = df_train['y'].values"
   ]
  },
  {
   "cell_type": "code",
   "execution_count": 136,
   "metadata": {},
   "outputs": [
    {
     "name": "stdout",
     "output_type": "stream",
     "text": [
      "Number of features: 376\n",
      "Feature types:\n"
     ]
    },
    {
     "data": {
      "text/plain": [
       "int64     368\n",
       "object      8\n",
       "dtype: int64"
      ]
     },
     "execution_count": 136,
     "metadata": {},
     "output_type": "execute_result"
    }
   ],
   "source": [
    "# iterate through all the columns which has X in the name of the column\n",
    "cols = [c for c in df_train.columns if 'X' in c]\n",
    "print('Number of features: {}'.format(len(cols)))\n",
    "\n",
    "print('Feature types:')\n",
    "df_train[cols].dtypes.value_counts()\n"
   ]
  },
  {
   "cell_type": "code",
   "execution_count": null,
   "metadata": {},
   "outputs": [],
   "source": [
    "c = list()\n",
    "for i in range(len(df.columns)):\n",
    "    if(len(np.unique(df.iloc[:,i])) == 1):\n",
    "        c.append(df.columns[i])\n",
    "        \n",
    "df.drop(c,axis = 1, inplace = True)\n",
    "test.drop(c,axis = 1, inplace = True)"
   ]
  },
  {
   "cell_type": "code",
   "execution_count": 137,
   "metadata": {},
   "outputs": [
    {
     "name": "stdout",
     "output_type": "stream",
     "text": [
      "Constant features: 12 Binary features: 356 Categorical features: 8\n",
      "\n",
      "Constant features: ['X11', 'X93', 'X107', 'X233', 'X235', 'X268', 'X289', 'X290', 'X293', 'X297', 'X330', 'X347']\n",
      "Categorical features: ['X0', 'X1', 'X2', 'X3', 'X4', 'X5', 'X6', 'X8']\n"
     ]
    }
   ],
   "source": [
    "#Count the data in each of the columns\n",
    "\n",
    "counts = [[], [], []]\n",
    "for c in cols:\n",
    "    typ = df_train[c].dtype\n",
    "    uniq = len(np.unique(df_train[c]))\n",
    "    if uniq == 1:\n",
    "        counts[0].append(c)\n",
    "    elif uniq == 2 and typ == np.int64:\n",
    "        counts[1].append(c)\n",
    "    else:\n",
    "        counts[2].append(c)\n",
    "\n",
    "print('Constant features: {} Binary features: {} Categorical features: {}\\n'\n",
    "      .format(*[len(c) for c in counts]))\n",
    "print('Constant features:', counts[0])\n",
    "print('Categorical features:', counts[2])"
   ]
  },
  {
   "cell_type": "code",
   "execution_count": 139,
   "metadata": {},
   "outputs": [],
   "source": [
    "usable_columns = list(set(df_train.columns) - set(['ID', 'y']))\n",
    "y_train = df_train['y'].values\n",
    "id_test = df_test['ID'].values\n",
    "\n",
    "x_train = df_train[usable_columns]\n",
    "x_test = df_test[usable_columns]\n"
   ]
  },
  {
   "cell_type": "markdown",
   "metadata": {},
   "source": [
    "### Check for null and unique values for test and train sets.\n"
   ]
  },
  {
   "cell_type": "code",
   "execution_count": 142,
   "metadata": {},
   "outputs": [
    {
     "name": "stdout",
     "output_type": "stream",
     "text": [
      "N no missing values\n",
      "N no missing values\n"
     ]
    }
   ],
   "source": [
    "#heck for null and unique values for test and train sets\n",
    "\n",
    "def check_missing_values(df):\n",
    "    if df.isnull().any().any():\n",
    "        print(\"Missing Value\")\n",
    "    else:\n",
    "        print(\"N no missing values\")\n",
    "check_missing_values(x_train)\n",
    "check_missing_values(x_test)\n"
   ]
  },
  {
   "cell_type": "code",
   "execution_count": 170,
   "metadata": {},
   "outputs": [
    {
     "data": {
      "text/plain": [
       "array([   0,    6,    7, ..., 8412, 8415, 8417], dtype=int64)"
      ]
     },
     "execution_count": 170,
     "metadata": {},
     "output_type": "execute_result"
    }
   ],
   "source": [
    "##df_train.ID.unique()"
   ]
  },
  {
   "cell_type": "markdown",
   "metadata": {},
   "source": [
    "### If for any column(s), the variance is equal to zero,  then you need to remove those variable(s).Apply label encoder"
   ]
  },
  {
   "cell_type": "code",
   "execution_count": 143,
   "metadata": {},
   "outputs": [
    {
     "data": {
      "text/html": [
       "<div>\n",
       "<style scoped>\n",
       "    .dataframe tbody tr th:only-of-type {\n",
       "        vertical-align: middle;\n",
       "    }\n",
       "\n",
       "    .dataframe tbody tr th {\n",
       "        vertical-align: top;\n",
       "    }\n",
       "\n",
       "    .dataframe thead th {\n",
       "        text-align: right;\n",
       "    }\n",
       "</style>\n",
       "<table border=\"1\" class=\"dataframe\">\n",
       "  <thead>\n",
       "    <tr style=\"text-align: right;\">\n",
       "      <th></th>\n",
       "      <th>X275</th>\n",
       "      <th>X271</th>\n",
       "      <th>X338</th>\n",
       "      <th>X295</th>\n",
       "      <th>X242</th>\n",
       "      <th>X29</th>\n",
       "      <th>X157</th>\n",
       "      <th>X247</th>\n",
       "      <th>X83</th>\n",
       "      <th>X13</th>\n",
       "      <th>...</th>\n",
       "      <th>X209</th>\n",
       "      <th>X1</th>\n",
       "      <th>X298</th>\n",
       "      <th>X86</th>\n",
       "      <th>X125</th>\n",
       "      <th>X313</th>\n",
       "      <th>X385</th>\n",
       "      <th>X42</th>\n",
       "      <th>X370</th>\n",
       "      <th>X384</th>\n",
       "    </tr>\n",
       "  </thead>\n",
       "  <tbody>\n",
       "    <tr>\n",
       "      <th>0</th>\n",
       "      <td>1</td>\n",
       "      <td>0</td>\n",
       "      <td>0</td>\n",
       "      <td>0</td>\n",
       "      <td>0</td>\n",
       "      <td>0</td>\n",
       "      <td>0</td>\n",
       "      <td>0</td>\n",
       "      <td>0</td>\n",
       "      <td>1</td>\n",
       "      <td>...</td>\n",
       "      <td>1</td>\n",
       "      <td>118</td>\n",
       "      <td>0</td>\n",
       "      <td>0</td>\n",
       "      <td>0</td>\n",
       "      <td>0</td>\n",
       "      <td>0</td>\n",
       "      <td>0</td>\n",
       "      <td>0</td>\n",
       "      <td>0</td>\n",
       "    </tr>\n",
       "    <tr>\n",
       "      <th>1</th>\n",
       "      <td>1</td>\n",
       "      <td>0</td>\n",
       "      <td>0</td>\n",
       "      <td>0</td>\n",
       "      <td>0</td>\n",
       "      <td>0</td>\n",
       "      <td>0</td>\n",
       "      <td>0</td>\n",
       "      <td>0</td>\n",
       "      <td>0</td>\n",
       "      <td>...</td>\n",
       "      <td>1</td>\n",
       "      <td>116</td>\n",
       "      <td>0</td>\n",
       "      <td>0</td>\n",
       "      <td>0</td>\n",
       "      <td>0</td>\n",
       "      <td>0</td>\n",
       "      <td>0</td>\n",
       "      <td>0</td>\n",
       "      <td>0</td>\n",
       "    </tr>\n",
       "    <tr>\n",
       "      <th>2</th>\n",
       "      <td>0</td>\n",
       "      <td>0</td>\n",
       "      <td>0</td>\n",
       "      <td>0</td>\n",
       "      <td>0</td>\n",
       "      <td>1</td>\n",
       "      <td>1</td>\n",
       "      <td>0</td>\n",
       "      <td>0</td>\n",
       "      <td>0</td>\n",
       "      <td>...</td>\n",
       "      <td>1</td>\n",
       "      <td>119</td>\n",
       "      <td>0</td>\n",
       "      <td>0</td>\n",
       "      <td>0</td>\n",
       "      <td>0</td>\n",
       "      <td>0</td>\n",
       "      <td>0</td>\n",
       "      <td>0</td>\n",
       "      <td>0</td>\n",
       "    </tr>\n",
       "    <tr>\n",
       "      <th>3</th>\n",
       "      <td>0</td>\n",
       "      <td>0</td>\n",
       "      <td>0</td>\n",
       "      <td>0</td>\n",
       "      <td>0</td>\n",
       "      <td>1</td>\n",
       "      <td>1</td>\n",
       "      <td>0</td>\n",
       "      <td>0</td>\n",
       "      <td>0</td>\n",
       "      <td>...</td>\n",
       "      <td>1</td>\n",
       "      <td>116</td>\n",
       "      <td>0</td>\n",
       "      <td>0</td>\n",
       "      <td>0</td>\n",
       "      <td>0</td>\n",
       "      <td>0</td>\n",
       "      <td>0</td>\n",
       "      <td>0</td>\n",
       "      <td>0</td>\n",
       "    </tr>\n",
       "    <tr>\n",
       "      <th>4</th>\n",
       "      <td>0</td>\n",
       "      <td>0</td>\n",
       "      <td>0</td>\n",
       "      <td>0</td>\n",
       "      <td>0</td>\n",
       "      <td>1</td>\n",
       "      <td>1</td>\n",
       "      <td>0</td>\n",
       "      <td>0</td>\n",
       "      <td>0</td>\n",
       "      <td>...</td>\n",
       "      <td>1</td>\n",
       "      <td>118</td>\n",
       "      <td>0</td>\n",
       "      <td>0</td>\n",
       "      <td>0</td>\n",
       "      <td>0</td>\n",
       "      <td>0</td>\n",
       "      <td>0</td>\n",
       "      <td>0</td>\n",
       "      <td>0</td>\n",
       "    </tr>\n",
       "  </tbody>\n",
       "</table>\n",
       "<p>5 rows × 376 columns</p>\n",
       "</div>"
      ],
      "text/plain": [
       "   X275  X271  X338  X295  X242  X29  X157  X247  X83  X13  ...  X209   X1  \\\n",
       "0     1     0     0     0     0    0     0     0    0    1  ...     1  118   \n",
       "1     1     0     0     0     0    0     0     0    0    0  ...     1  116   \n",
       "2     0     0     0     0     0    1     1     0    0    0  ...     1  119   \n",
       "3     0     0     0     0     0    1     1     0    0    0  ...     1  116   \n",
       "4     0     0     0     0     0    1     1     0    0    0  ...     1  118   \n",
       "\n",
       "   X298  X86  X125  X313  X385  X42  X370  X384  \n",
       "0     0    0     0     0     0    0     0     0  \n",
       "1     0    0     0     0     0    0     0     0  \n",
       "2     0    0     0     0     0    0     0     0  \n",
       "3     0    0     0     0     0    0     0     0  \n",
       "4     0    0     0     0     0    0     0     0  \n",
       "\n",
       "[5 rows x 376 columns]"
      ]
     },
     "execution_count": 143,
     "metadata": {},
     "output_type": "execute_result"
    }
   ],
   "source": [
    "\n",
    "\n",
    "for column in usable_columns:\n",
    "    cardinality = len(np.unique(x_train[column]))\n",
    "    if cardinality == 1:\n",
    "        x_train.drop(column, axis=1) # Column with only one \n",
    "        # value is useless so we drop it\n",
    "        x_test.drop(column, axis=1)\n",
    "    if cardinality > 2: # Column is categorical\n",
    "        mapper = lambda x: sum([ord(digit) for digit in x])\n",
    "        x_train[column] = x_train[column].apply(mapper)\n",
    "        x_test[column] = x_test[column].apply(mapper)\n",
    "x_train.head()"
   ]
  },
  {
   "cell_type": "code",
   "execution_count": 144,
   "metadata": {},
   "outputs": [
    {
     "name": "stdout",
     "output_type": "stream",
     "text": [
      "Feature types:\n"
     ]
    },
    {
     "data": {
      "text/plain": [
       "int64    376\n",
       "dtype: int64"
      ]
     },
     "execution_count": 144,
     "metadata": {},
     "output_type": "execute_result"
    }
   ],
   "source": [
    "\n",
    "\n",
    "print('Feature types:')\n",
    "x_train[cols].dtypes.value_counts()"
   ]
  },
  {
   "cell_type": "markdown",
   "metadata": {},
   "source": [
    "### Perform dimensionality reduction."
   ]
  },
  {
   "cell_type": "code",
   "execution_count": 145,
   "metadata": {},
   "outputs": [],
   "source": [
    "\n",
    "n_comp = 12\n",
    "pca = PCA(n_components=n_comp, random_state=420)\n",
    "pca2_results_train = pca.fit_transform(x_train)\n",
    "pca2_results_test = pca.transform(x_test)\n"
   ]
  },
  {
   "cell_type": "code",
   "execution_count": 152,
   "metadata": {},
   "outputs": [
    {
     "name": "stdout",
     "output_type": "stream",
     "text": [
      "actual shape: (4209, 376)\n",
      "after Dimensionality Reduction : (4209, 12)\n"
     ]
    }
   ],
   "source": [
    "print(\"actual shape:\" ,x_train.shape)\n",
    "print(\"after Dimensionality Reduction :\", pca2_results_train.shape)"
   ]
  },
  {
   "cell_type": "code",
   "execution_count": 153,
   "metadata": {},
   "outputs": [
    {
     "name": "stdout",
     "output_type": "stream",
     "text": [
      "actual shape: (4209, 376)\n",
      "after Dimensionality Reduction: (4209, 12)\n"
     ]
    }
   ],
   "source": [
    "print(\"actual shape:\" ,x_test.shape)\n",
    "print(\"after Dimensionality Reduction:\", pca2_results_test.shape)"
   ]
  },
  {
   "cell_type": "markdown",
   "metadata": {},
   "source": [
    "### Predict your test_df values using XGBoost."
   ]
  },
  {
   "cell_type": "code",
   "execution_count": 155,
   "metadata": {},
   "outputs": [],
   "source": [
    "x_train, x_valid, y_train, y_valid = train_test_split(\n",
    "        pca2_results_train, \n",
    "        y_train, test_size=0.2, \n",
    "        random_state=4242)\n",
    "\n",
    "d_train = xgb.DMatrix(x_train, label=y_train)\n",
    "d_valid = xgb.DMatrix(x_valid, label=y_valid)\n",
    "#d_test = xgb.DMatrix(x_test)\n",
    "d_test = xgb.DMatrix(pca2_results_test)"
   ]
  },
  {
   "cell_type": "code",
   "execution_count": 156,
   "metadata": {},
   "outputs": [],
   "source": [
    "params = {}\n",
    "params['objective'] = 'reg:linear'\n",
    "params['eta'] = 0.02\n",
    "params['max_depth'] = 4\n"
   ]
  },
  {
   "cell_type": "code",
   "execution_count": 157,
   "metadata": {},
   "outputs": [],
   "source": [
    "def xgb_r2_score(preds, dtrain):\n",
    "    labels = dtrain.get_label()\n",
    "    return 'r2', r2_score(labels, preds)"
   ]
  },
  {
   "cell_type": "code",
   "execution_count": 158,
   "metadata": {},
   "outputs": [
    {
     "name": "stdout",
     "output_type": "stream",
     "text": [
      "[10:21:34] WARNING: C:/Users/Administrator/workspace/xgboost-win64_release_1.0.0/src/objective/regression_obj.cu:167: reg:linear is now deprecated in favor of reg:squarederror.\n",
      "[0]\ttrain-rmse:99.14834\tvalid-rmse:98.26296\ttrain-r2:-58.35295\tvalid-r2:-67.63754\n",
      "Multiple eval metrics have been passed: 'valid-r2' will be used for early stopping.\n",
      "\n",
      "Will train until valid-r2 hasn't improved in 50 rounds.\n",
      "[10]\ttrain-rmse:81.27653\tvalid-rmse:80.36433\ttrain-r2:-38.88428\tvalid-r2:-44.91014\n",
      "[20]\ttrain-rmse:66.71610\tvalid-rmse:65.77335\ttrain-r2:-25.87403\tvalid-r2:-29.75260\n",
      "[30]\ttrain-rmse:54.86912\tvalid-rmse:53.89136\ttrain-r2:-17.17722\tvalid-r2:-19.64525\n",
      "[40]\ttrain-rmse:45.24709\tvalid-rmse:44.22323\ttrain-r2:-11.36097\tvalid-r2:-12.90218\n",
      "[50]\ttrain-rmse:37.44854\tvalid-rmse:36.37614\ttrain-r2:-7.46723\tvalid-r2:-8.40622\n",
      "[60]\ttrain-rmse:31.14584\tvalid-rmse:30.02252\ttrain-r2:-4.85695\tvalid-r2:-5.40732\n",
      "[70]\ttrain-rmse:26.08417\tvalid-rmse:24.91497\ttrain-r2:-3.10795\tvalid-r2:-3.41268\n",
      "[80]\ttrain-rmse:22.04312\tvalid-rmse:20.83280\ttrain-r2:-1.93371\tvalid-r2:-2.08515\n",
      "[90]\ttrain-rmse:18.84671\tvalid-rmse:17.59910\ttrain-r2:-1.14458\tvalid-r2:-1.20172\n",
      "[100]\ttrain-rmse:16.33278\tvalid-rmse:15.08733\ttrain-r2:-0.61062\tvalid-r2:-0.61811\n",
      "[110]\ttrain-rmse:14.39756\tvalid-rmse:13.15672\ttrain-r2:-0.25155\tvalid-r2:-0.23049\n",
      "[120]\ttrain-rmse:12.92783\tvalid-rmse:11.70136\ttrain-r2:-0.00907\tvalid-r2:0.02668\n",
      "[130]\ttrain-rmse:11.80680\tvalid-rmse:10.62663\ttrain-r2:0.15834\tvalid-r2:0.19726\n",
      "[140]\ttrain-rmse:10.98472\tvalid-rmse:9.86623\ttrain-r2:0.27147\tvalid-r2:0.30803\n",
      "[150]\ttrain-rmse:10.37312\tvalid-rmse:9.32983\ttrain-r2:0.35033\tvalid-r2:0.38123\n",
      "[160]\ttrain-rmse:9.91865\tvalid-rmse:8.96773\ttrain-r2:0.40601\tvalid-r2:0.42833\n",
      "[170]\ttrain-rmse:9.58084\tvalid-rmse:8.72132\ttrain-r2:0.44578\tvalid-r2:0.45931\n",
      "[180]\ttrain-rmse:9.33903\tvalid-rmse:8.56013\ttrain-r2:0.47341\tvalid-r2:0.47911\n",
      "[190]\ttrain-rmse:9.15109\tvalid-rmse:8.45505\ttrain-r2:0.49439\tvalid-r2:0.49182\n",
      "[200]\ttrain-rmse:9.00817\tvalid-rmse:8.39497\ttrain-r2:0.51006\tvalid-r2:0.49902\n",
      "[210]\ttrain-rmse:8.90467\tvalid-rmse:8.35662\ttrain-r2:0.52125\tvalid-r2:0.50359\n",
      "[220]\ttrain-rmse:8.82894\tvalid-rmse:8.32647\ttrain-r2:0.52936\tvalid-r2:0.50716\n",
      "[230]\ttrain-rmse:8.76702\tvalid-rmse:8.31052\ttrain-r2:0.53594\tvalid-r2:0.50905\n",
      "[240]\ttrain-rmse:8.72161\tvalid-rmse:8.30555\ttrain-r2:0.54073\tvalid-r2:0.50964\n",
      "[250]\ttrain-rmse:8.67967\tvalid-rmse:8.29835\ttrain-r2:0.54514\tvalid-r2:0.51049\n",
      "[260]\ttrain-rmse:8.64575\tvalid-rmse:8.29592\ttrain-r2:0.54869\tvalid-r2:0.51077\n",
      "[270]\ttrain-rmse:8.61264\tvalid-rmse:8.29535\ttrain-r2:0.55214\tvalid-r2:0.51084\n",
      "[280]\ttrain-rmse:8.58157\tvalid-rmse:8.29559\ttrain-r2:0.55536\tvalid-r2:0.51081\n",
      "[290]\ttrain-rmse:8.55609\tvalid-rmse:8.29186\ttrain-r2:0.55800\tvalid-r2:0.51125\n",
      "[300]\ttrain-rmse:8.53320\tvalid-rmse:8.29051\ttrain-r2:0.56036\tvalid-r2:0.51141\n",
      "[310]\ttrain-rmse:8.50277\tvalid-rmse:8.28985\ttrain-r2:0.56349\tvalid-r2:0.51149\n",
      "[320]\ttrain-rmse:8.48180\tvalid-rmse:8.28770\ttrain-r2:0.56564\tvalid-r2:0.51174\n",
      "[330]\ttrain-rmse:8.45066\tvalid-rmse:8.28178\ttrain-r2:0.56883\tvalid-r2:0.51244\n",
      "[340]\ttrain-rmse:8.42506\tvalid-rmse:8.28124\ttrain-r2:0.57144\tvalid-r2:0.51250\n",
      "[350]\ttrain-rmse:8.40232\tvalid-rmse:8.28142\ttrain-r2:0.57374\tvalid-r2:0.51248\n",
      "[360]\ttrain-rmse:8.37993\tvalid-rmse:8.28033\ttrain-r2:0.57601\tvalid-r2:0.51261\n",
      "[370]\ttrain-rmse:8.35208\tvalid-rmse:8.27665\ttrain-r2:0.57883\tvalid-r2:0.51304\n",
      "[380]\ttrain-rmse:8.33006\tvalid-rmse:8.27604\ttrain-r2:0.58105\tvalid-r2:0.51311\n",
      "[390]\ttrain-rmse:8.30971\tvalid-rmse:8.27593\ttrain-r2:0.58309\tvalid-r2:0.51313\n",
      "[400]\ttrain-rmse:8.28250\tvalid-rmse:8.27380\ttrain-r2:0.58581\tvalid-r2:0.51338\n",
      "[410]\ttrain-rmse:8.25904\tvalid-rmse:8.27335\ttrain-r2:0.58816\tvalid-r2:0.51343\n",
      "[420]\ttrain-rmse:8.23334\tvalid-rmse:8.27442\ttrain-r2:0.59072\tvalid-r2:0.51331\n",
      "[430]\ttrain-rmse:8.20825\tvalid-rmse:8.27350\ttrain-r2:0.59321\tvalid-r2:0.51341\n",
      "[440]\ttrain-rmse:8.17534\tvalid-rmse:8.27191\ttrain-r2:0.59646\tvalid-r2:0.51360\n",
      "[450]\ttrain-rmse:8.15278\tvalid-rmse:8.27126\ttrain-r2:0.59869\tvalid-r2:0.51368\n",
      "[460]\ttrain-rmse:8.12628\tvalid-rmse:8.26815\ttrain-r2:0.60129\tvalid-r2:0.51404\n",
      "[470]\ttrain-rmse:8.10211\tvalid-rmse:8.26646\ttrain-r2:0.60366\tvalid-r2:0.51424\n",
      "[480]\ttrain-rmse:8.07581\tvalid-rmse:8.26830\ttrain-r2:0.60623\tvalid-r2:0.51402\n",
      "[490]\ttrain-rmse:8.05371\tvalid-rmse:8.26897\ttrain-r2:0.60838\tvalid-r2:0.51395\n",
      "[500]\ttrain-rmse:8.03384\tvalid-rmse:8.27004\ttrain-r2:0.61031\tvalid-r2:0.51382\n",
      "[510]\ttrain-rmse:8.00926\tvalid-rmse:8.27065\ttrain-r2:0.61269\tvalid-r2:0.51375\n",
      "Stopping. Best iteration:\n",
      "[468]\ttrain-rmse:8.10760\tvalid-rmse:8.26629\ttrain-r2:0.60312\tvalid-r2:0.51426\n",
      "\n"
     ]
    }
   ],
   "source": [
    "watchlist = [(d_train, 'train'), (d_valid, 'valid')]\n",
    "\n",
    "clf = xgb.train(params, d_train, \n",
    "                1000, watchlist, early_stopping_rounds=50, \n",
    "                feval=xgb_r2_score, maximize=True, verbose_eval=10)"
   ]
  },
  {
   "cell_type": "markdown",
   "metadata": {},
   "source": [
    "### Predict your test_df values using xgboost"
   ]
  },
  {
   "cell_type": "code",
   "execution_count": 160,
   "metadata": {},
   "outputs": [
    {
     "data": {
      "text/html": [
       "<div>\n",
       "<style scoped>\n",
       "    .dataframe tbody tr th:only-of-type {\n",
       "        vertical-align: middle;\n",
       "    }\n",
       "\n",
       "    .dataframe tbody tr th {\n",
       "        vertical-align: top;\n",
       "    }\n",
       "\n",
       "    .dataframe thead th {\n",
       "        text-align: right;\n",
       "    }\n",
       "</style>\n",
       "<table border=\"1\" class=\"dataframe\">\n",
       "  <thead>\n",
       "    <tr style=\"text-align: right;\">\n",
       "      <th></th>\n",
       "      <th>ID</th>\n",
       "      <th>y</th>\n",
       "    </tr>\n",
       "  </thead>\n",
       "  <tbody>\n",
       "    <tr>\n",
       "      <th>0</th>\n",
       "      <td>1</td>\n",
       "      <td>83.041672</td>\n",
       "    </tr>\n",
       "    <tr>\n",
       "      <th>1</th>\n",
       "      <td>2</td>\n",
       "      <td>97.248413</td>\n",
       "    </tr>\n",
       "    <tr>\n",
       "      <th>2</th>\n",
       "      <td>3</td>\n",
       "      <td>83.035416</td>\n",
       "    </tr>\n",
       "    <tr>\n",
       "      <th>3</th>\n",
       "      <td>4</td>\n",
       "      <td>76.871239</td>\n",
       "    </tr>\n",
       "    <tr>\n",
       "      <th>4</th>\n",
       "      <td>5</td>\n",
       "      <td>112.502762</td>\n",
       "    </tr>\n",
       "  </tbody>\n",
       "</table>\n",
       "</div>"
      ],
      "text/plain": [
       "   ID           y\n",
       "0   1   83.041672\n",
       "1   2   97.248413\n",
       "2   3   83.035416\n",
       "3   4   76.871239\n",
       "4   5  112.502762"
      ]
     },
     "execution_count": 160,
     "metadata": {},
     "output_type": "execute_result"
    }
   ],
   "source": [
    "Predict your test_df values using xgboost\n",
    "\n",
    "p_test = clf.predict(d_test)\n",
    "\n",
    "sub = pd.DataFrame()\n",
    "sub['ID'] = id_test\n",
    "sub['y'] = p_test\n",
    "sub.to_csv('xgb.csv', index=False)\n",
    "\n",
    "sub.head()"
   ]
  }
 ],
 "metadata": {
  "kernelspec": {
   "display_name": "Python 3",
   "language": "python",
   "name": "python3"
  },
  "language_info": {
   "codemirror_mode": {
    "name": "ipython",
    "version": 3
   },
   "file_extension": ".py",
   "mimetype": "text/x-python",
   "name": "python",
   "nbconvert_exporter": "python",
   "pygments_lexer": "ipython3",
   "version": "3.7.3"
  }
 },
 "nbformat": 4,
 "nbformat_minor": 2
}
