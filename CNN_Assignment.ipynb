{
 "cells": [
  {
   "cell_type": "markdown",
   "metadata": {},
   "source": [
    "## INSOFE Transfer Learning Assignment"
   ]
  },
  {
   "cell_type": "markdown",
   "metadata": {},
   "source": [
    "### VGG16 For Comparison"
   ]
  },
  {
   "cell_type": "markdown",
   "metadata": {},
   "source": [
    "#### Data Extraction"
   ]
  },
  {
   "cell_type": "code",
   "execution_count": 18,
   "metadata": {},
   "outputs": [
    {
     "name": "stdout",
     "output_type": "stream",
     "text": [
      "['dogs', 'cats', 'Humans', 'horses']\n"
     ]
    }
   ],
   "source": [
    "import os\n",
    "\n",
    "data_path =  'data'\n",
    "data_dir_list = os.listdir(data_path)\n",
    "\n",
    "data_dir_list = [x for x in data_dir_list if x not in ['.DS_Store', '.floydexpt', '.floydignore','.floyddata']]\n",
    "print(data_dir_list)"
   ]
  },
  {
   "cell_type": "code",
   "execution_count": 19,
   "metadata": {
    "collapsed": true
   },
   "outputs": [],
   "source": [
    "img_rows=224\n",
    "img_cols=224\n",
    "num_channel=3\n",
    "num_epoch=2\n",
    "\n",
    "img_data_list=[]\n",
    "classes_names_list=[]"
   ]
  },
  {
   "cell_type": "code",
   "execution_count": 20,
   "metadata": {},
   "outputs": [
    {
     "name": "stdout",
     "output_type": "stream",
     "text": [
      "Loading images from dogs folder\n",
      "\n",
      "Loading images from cats folder\n",
      "\n",
      "Loading images from Humans folder\n",
      "\n",
      "Loading images from horses folder\n",
      "\n"
     ]
    }
   ],
   "source": [
    "import cv2\n",
    "\n",
    "for dataset in data_dir_list:\n",
    "    classes_names_list.append(dataset) \n",
    "    print ('Loading images from {} folder\\n'.format(dataset)) \n",
    "    img_list = os.listdir(data_path +'/'+ dataset)\n",
    "    for img in img_list:\n",
    "        input_img = cv2.imread(data_path + '/'+ dataset + '/'+ img )\n",
    "        input_img_resize = cv2.resize(input_img,(img_rows, img_cols))\n",
    "        img_data_list.append(input_img_resize)"
   ]
  },
  {
   "cell_type": "code",
   "execution_count": 21,
   "metadata": {
    "collapsed": true
   },
   "outputs": [],
   "source": [
    "num_classes = len(classes_names_list)"
   ]
  },
  {
   "cell_type": "markdown",
   "metadata": {},
   "source": [
    "#### Data preprocessing"
   ]
  },
  {
   "cell_type": "code",
   "execution_count": 22,
   "metadata": {
    "collapsed": true
   },
   "outputs": [],
   "source": [
    "import numpy as np\n",
    "img_data = np.array(img_data_list)\n",
    "img_data = img_data.astype('float32')\n",
    "img_data /= 255\n",
    "\n",
    "img_data = img_data.reshape(img_data.shape[0], img_data.shape[1], img_data.shape[2], num_channel)"
   ]
  },
  {
   "cell_type": "code",
   "execution_count": 23,
   "metadata": {
    "collapsed": true
   },
   "outputs": [],
   "source": [
    "num_of_samples = img_data.shape[0]\n",
    "input_shape = img_data[0].shape"
   ]
  },
  {
   "cell_type": "code",
   "execution_count": 24,
   "metadata": {
    "collapsed": true
   },
   "outputs": [],
   "source": [
    "classes = np.ones((num_of_samples,), dtype='int64')\n",
    "classes[0:202]=0\n",
    "classes[202:404]=1\n",
    "classes[404:606]=2\n",
    "classes[606:]=3"
   ]
  },
  {
   "cell_type": "code",
   "execution_count": 25,
   "metadata": {},
   "outputs": [],
   "source": [
    "from keras.utils import to_categorical\n",
    "\n",
    "# convert class labels to on-hot encoding\n",
    "classes = to_categorical(classes, num_classes)"
   ]
  },
  {
   "cell_type": "code",
   "execution_count": 26,
   "metadata": {},
   "outputs": [],
   "source": [
    "from sklearn.utils import shuffle\n",
    "\n",
    "x, y = shuffle(img_data, classes, random_state=2)"
   ]
  },
  {
   "cell_type": "code",
   "execution_count": 27,
   "metadata": {},
   "outputs": [],
   "source": [
    "from sklearn.model_selection import train_test_split\n",
    "\n",
    "X_train, X_test, y_train, y_test = train_test_split(x, y, test_size=0.2, random_state=2)"
   ]
  },
  {
   "cell_type": "code",
   "execution_count": 28,
   "metadata": {},
   "outputs": [],
   "source": [
    "from keras.layers.core import Dense\n",
    "from keras.layers import Input\n",
    "\n",
    "image_input = Input(shape=(224, 224, 3))"
   ]
  },
  {
   "cell_type": "markdown",
   "metadata": {},
   "source": [
    "#### Model Building"
   ]
  },
  {
   "cell_type": "code",
   "execution_count": 5,
   "metadata": {},
   "outputs": [
    {
     "name": "stdout",
     "output_type": "stream",
     "text": [
      "Downloading data from https://github.com/fchollet/deep-learning-models/releases/download/v0.1/vgg16_weights_tf_dim_ordering_tf_kernels.h5\n",
      "553435136/553467096 [============================>.] - ETA: 0s_________________________________________________________________\n",
      "Layer (type)                 Output Shape              Param #   \n",
      "=================================================================\n",
      "input_1 (InputLayer)         (None, 224, 224, 3)       0         \n",
      "_________________________________________________________________\n",
      "block1_conv1 (Conv2D)        (None, 224, 224, 64)      1792      \n",
      "_________________________________________________________________\n",
      "block1_conv2 (Conv2D)        (None, 224, 224, 64)      36928     \n",
      "_________________________________________________________________\n",
      "block1_pool (MaxPooling2D)   (None, 112, 112, 64)      0         \n",
      "_________________________________________________________________\n",
      "block2_conv1 (Conv2D)        (None, 112, 112, 128)     73856     \n",
      "_________________________________________________________________\n",
      "block2_conv2 (Conv2D)        (None, 112, 112, 128)     147584    \n",
      "_________________________________________________________________\n",
      "block2_pool (MaxPooling2D)   (None, 56, 56, 128)       0         \n",
      "_________________________________________________________________\n",
      "block3_conv1 (Conv2D)        (None, 56, 56, 256)       295168    \n",
      "_________________________________________________________________\n",
      "block3_conv2 (Conv2D)        (None, 56, 56, 256)       590080    \n",
      "_________________________________________________________________\n",
      "block3_conv3 (Conv2D)        (None, 56, 56, 256)       590080    \n",
      "_________________________________________________________________\n",
      "block3_pool (MaxPooling2D)   (None, 28, 28, 256)       0         \n",
      "_________________________________________________________________\n",
      "block4_conv1 (Conv2D)        (None, 28, 28, 512)       1180160   \n",
      "_________________________________________________________________\n",
      "block4_conv2 (Conv2D)        (None, 28, 28, 512)       2359808   \n",
      "_________________________________________________________________\n",
      "block4_conv3 (Conv2D)        (None, 28, 28, 512)       2359808   \n",
      "_________________________________________________________________\n",
      "block4_pool (MaxPooling2D)   (None, 14, 14, 512)       0         \n",
      "_________________________________________________________________\n",
      "block5_conv1 (Conv2D)        (None, 14, 14, 512)       2359808   \n",
      "_________________________________________________________________\n",
      "block5_conv2 (Conv2D)        (None, 14, 14, 512)       2359808   \n",
      "_________________________________________________________________\n",
      "block5_conv3 (Conv2D)        (None, 14, 14, 512)       2359808   \n",
      "_________________________________________________________________\n",
      "block5_pool (MaxPooling2D)   (None, 7, 7, 512)         0         \n",
      "_________________________________________________________________\n",
      "flatten (Flatten)            (None, 25088)             0         \n",
      "_________________________________________________________________\n",
      "fc1 (Dense)                  (None, 4096)              102764544 \n",
      "_________________________________________________________________\n",
      "fc2 (Dense)                  (None, 4096)              16781312  \n",
      "_________________________________________________________________\n",
      "predictions (Dense)          (None, 1000)              4097000   \n",
      "=================================================================\n",
      "Total params: 138,357,544\n",
      "Trainable params: 138,357,544\n",
      "Non-trainable params: 0\n",
      "_________________________________________________________________\n"
     ]
    }
   ],
   "source": [
    "from keras.applications.vgg16 import VGG16\n",
    "\n",
    "model = VGG16(input_tensor=image_input, include_top=True, weights='imagenet')\n",
    "\n",
    "model.summary()"
   ]
  },
  {
   "cell_type": "code",
   "execution_count": 21,
   "metadata": {
    "collapsed": true
   },
   "outputs": [],
   "source": [
    "from keras.models import Sequential\n",
    "from keras.layers import Dense, Dropout, Flatten\n",
    "from keras.layers import Conv2D, MaxPooling2D\n",
    "from keras.models import Model"
   ]
  },
  {
   "cell_type": "code",
   "execution_count": 22,
   "metadata": {
    "collapsed": true
   },
   "outputs": [],
   "source": [
    "last_layer = model.get_layer('block5_pool').output\n",
    "x = Flatten(name='flatten')(last_layer)\n",
    "x = Dense(128, activation='relu', name='fc1')(x)\n",
    "x = Dense(128, activation='relu', name='fc2')(x)\n",
    "out = Dense(num_classes, activation='softmax', name='output')(x)\n",
    "custom_vgg_model2 = Model(image_input, out)"
   ]
  },
  {
   "cell_type": "code",
   "execution_count": 23,
   "metadata": {},
   "outputs": [
    {
     "name": "stdout",
     "output_type": "stream",
     "text": [
      "_________________________________________________________________\n",
      "Layer (type)                 Output Shape              Param #   \n",
      "=================================================================\n",
      "input_1 (InputLayer)         (None, 224, 224, 3)       0         \n",
      "_________________________________________________________________\n",
      "block1_conv1 (Conv2D)        (None, 224, 224, 64)      1792      \n",
      "_________________________________________________________________\n",
      "block1_conv2 (Conv2D)        (None, 224, 224, 64)      36928     \n",
      "_________________________________________________________________\n",
      "block1_pool (MaxPooling2D)   (None, 112, 112, 64)      0         \n",
      "_________________________________________________________________\n",
      "block2_conv1 (Conv2D)        (None, 112, 112, 128)     73856     \n",
      "_________________________________________________________________\n",
      "block2_conv2 (Conv2D)        (None, 112, 112, 128)     147584    \n",
      "_________________________________________________________________\n",
      "block2_pool (MaxPooling2D)   (None, 56, 56, 128)       0         \n",
      "_________________________________________________________________\n",
      "block3_conv1 (Conv2D)        (None, 56, 56, 256)       295168    \n",
      "_________________________________________________________________\n",
      "block3_conv2 (Conv2D)        (None, 56, 56, 256)       590080    \n",
      "_________________________________________________________________\n",
      "block3_conv3 (Conv2D)        (None, 56, 56, 256)       590080    \n",
      "_________________________________________________________________\n",
      "block3_pool (MaxPooling2D)   (None, 28, 28, 256)       0         \n",
      "_________________________________________________________________\n",
      "block4_conv1 (Conv2D)        (None, 28, 28, 512)       1180160   \n",
      "_________________________________________________________________\n",
      "block4_conv2 (Conv2D)        (None, 28, 28, 512)       2359808   \n",
      "_________________________________________________________________\n",
      "block4_conv3 (Conv2D)        (None, 28, 28, 512)       2359808   \n",
      "_________________________________________________________________\n",
      "block4_pool (MaxPooling2D)   (None, 14, 14, 512)       0         \n",
      "_________________________________________________________________\n",
      "block5_conv1 (Conv2D)        (None, 14, 14, 512)       2359808   \n",
      "_________________________________________________________________\n",
      "block5_conv2 (Conv2D)        (None, 14, 14, 512)       2359808   \n",
      "_________________________________________________________________\n",
      "block5_conv3 (Conv2D)        (None, 14, 14, 512)       2359808   \n",
      "_________________________________________________________________\n",
      "block5_pool (MaxPooling2D)   (None, 7, 7, 512)         0         \n",
      "_________________________________________________________________\n",
      "flatten (Flatten)            (None, 25088)             0         \n",
      "_________________________________________________________________\n",
      "fc1 (Dense)                  (None, 128)               3211392   \n",
      "_________________________________________________________________\n",
      "fc2 (Dense)                  (None, 128)               16512     \n",
      "_________________________________________________________________\n",
      "output (Dense)               (None, 4)                 516       \n",
      "=================================================================\n",
      "Total params: 17,943,108\n",
      "Trainable params: 17,943,108\n",
      "Non-trainable params: 0\n",
      "_________________________________________________________________\n"
     ]
    }
   ],
   "source": [
    "custom_vgg_model2.summary()"
   ]
  },
  {
   "cell_type": "code",
   "execution_count": 24,
   "metadata": {
    "collapsed": true
   },
   "outputs": [],
   "source": [
    "# freeze all the layers except the dense layers\n",
    "for layer in custom_vgg_model2.layers[:-3]:\n",
    "    layer.trainable = False"
   ]
  },
  {
   "cell_type": "code",
   "execution_count": 25,
   "metadata": {},
   "outputs": [
    {
     "name": "stdout",
     "output_type": "stream",
     "text": [
      "_________________________________________________________________\n",
      "Layer (type)                 Output Shape              Param #   \n",
      "=================================================================\n",
      "input_1 (InputLayer)         (None, 224, 224, 3)       0         \n",
      "_________________________________________________________________\n",
      "block1_conv1 (Conv2D)        (None, 224, 224, 64)      1792      \n",
      "_________________________________________________________________\n",
      "block1_conv2 (Conv2D)        (None, 224, 224, 64)      36928     \n",
      "_________________________________________________________________\n",
      "block1_pool (MaxPooling2D)   (None, 112, 112, 64)      0         \n",
      "_________________________________________________________________\n",
      "block2_conv1 (Conv2D)        (None, 112, 112, 128)     73856     \n",
      "_________________________________________________________________\n",
      "block2_conv2 (Conv2D)        (None, 112, 112, 128)     147584    \n",
      "_________________________________________________________________\n",
      "block2_pool (MaxPooling2D)   (None, 56, 56, 128)       0         \n",
      "_________________________________________________________________\n",
      "block3_conv1 (Conv2D)        (None, 56, 56, 256)       295168    \n",
      "_________________________________________________________________\n",
      "block3_conv2 (Conv2D)        (None, 56, 56, 256)       590080    \n",
      "_________________________________________________________________\n",
      "block3_conv3 (Conv2D)        (None, 56, 56, 256)       590080    \n",
      "_________________________________________________________________\n",
      "block3_pool (MaxPooling2D)   (None, 28, 28, 256)       0         \n",
      "_________________________________________________________________\n",
      "block4_conv1 (Conv2D)        (None, 28, 28, 512)       1180160   \n",
      "_________________________________________________________________\n",
      "block4_conv2 (Conv2D)        (None, 28, 28, 512)       2359808   \n",
      "_________________________________________________________________\n",
      "block4_conv3 (Conv2D)        (None, 28, 28, 512)       2359808   \n",
      "_________________________________________________________________\n",
      "block4_pool (MaxPooling2D)   (None, 14, 14, 512)       0         \n",
      "_________________________________________________________________\n",
      "block5_conv1 (Conv2D)        (None, 14, 14, 512)       2359808   \n",
      "_________________________________________________________________\n",
      "block5_conv2 (Conv2D)        (None, 14, 14, 512)       2359808   \n",
      "_________________________________________________________________\n",
      "block5_conv3 (Conv2D)        (None, 14, 14, 512)       2359808   \n",
      "_________________________________________________________________\n",
      "block5_pool (MaxPooling2D)   (None, 7, 7, 512)         0         \n",
      "_________________________________________________________________\n",
      "flatten (Flatten)            (None, 25088)             0         \n",
      "_________________________________________________________________\n",
      "fc1 (Dense)                  (None, 128)               3211392   \n",
      "_________________________________________________________________\n",
      "fc2 (Dense)                  (None, 128)               16512     \n",
      "_________________________________________________________________\n",
      "output (Dense)               (None, 4)                 516       \n",
      "=================================================================\n",
      "Total params: 17,943,108\n",
      "Trainable params: 3,228,420\n",
      "Non-trainable params: 14,714,688\n",
      "_________________________________________________________________\n"
     ]
    }
   ],
   "source": [
    "custom_vgg_model2.summary()"
   ]
  },
  {
   "cell_type": "code",
   "execution_count": 26,
   "metadata": {
    "collapsed": true
   },
   "outputs": [],
   "source": [
    "custom_vgg_model2.compile(loss='categorical_crossentropy',optimizer='adadelta',metrics=['accuracy'])"
   ]
  },
  {
   "cell_type": "code",
   "execution_count": null,
   "metadata": {},
   "outputs": [
    {
     "name": "stdout",
     "output_type": "stream",
     "text": [
      "Train on 646 samples, validate on 162 samples\n",
      "Epoch 1/8\n",
      "640/646 [============================>.] - ETA: 5s - loss: 1.2126 - acc: 0.5016 "
     ]
    }
   ],
   "source": [
    "hist = custom_vgg_model2.fit(X_train, y_train, batch_size=32, epochs=8, verbose=1, validation_data=(X_test, y_test))"
   ]
  },
  {
   "cell_type": "code",
   "execution_count": null,
   "metadata": {
    "collapsed": true
   },
   "outputs": [],
   "source": [
    "(loss, accuracy) = custom_vgg_model2.evaluate(X_test, y_test, batch_size=10, verbose=1)\n",
    "\n",
    "print(\"[INFO] loss={:.4f}, accuracy: {:.4f}%\".format(loss,accuracy * 100))"
   ]
  },
  {
   "cell_type": "markdown",
   "metadata": {},
   "source": [
    "### VGG 19 Model with Adadelta and Categorical Crossentropy"
   ]
  },
  {
   "cell_type": "code",
   "execution_count": null,
   "metadata": {},
   "outputs": [
    {
     "name": "stdout",
     "output_type": "stream",
     "text": [
      "Downloading data from https://github.com/fchollet/deep-learning-models/releases/download/v0.1/vgg19_weights_tf_dim_ordering_tf_kernels.h5\n",
      "502931456/574710816 [=========================>....] - ETA: 65s"
     ]
    }
   ],
   "source": [
    "from keras.applications.vgg19 import VGG19\n",
    "\n",
    "model = VGG19(input_tensor=image_input, include_top=True, weights='imagenet')\n",
    "\n",
    "model.summary()"
   ]
  },
  {
   "cell_type": "code",
   "execution_count": null,
   "metadata": {
    "collapsed": true
   },
   "outputs": [],
   "source": [
    "last_layer = model.get_layer('block5_pool').output\n",
    "x = Flatten(name='flatten')(last_layer)\n",
    "x = Dense(128, activation='relu', name='fc1')(x)\n",
    "x = Dense(128, activation='relu', name='fc2')(x)\n",
    "out = Dense(num_classes, activation='softmax', name='output')(x)\n",
    "custom_vgg19_model = Model(image_input, out)"
   ]
  },
  {
   "cell_type": "code",
   "execution_count": null,
   "metadata": {
    "collapsed": true
   },
   "outputs": [],
   "source": [
    "model.summary()"
   ]
  },
  {
   "cell_type": "code",
   "execution_count": null,
   "metadata": {
    "collapsed": true
   },
   "outputs": [],
   "source": [
    "for layer in custom_vgg19_model.layers[:-3]:\n",
    "    layer.trainable = False"
   ]
  },
  {
   "cell_type": "code",
   "execution_count": null,
   "metadata": {
    "collapsed": true
   },
   "outputs": [],
   "source": [
    "custom_vgg_model.compile(loss='categorical_crossentropy',optimizer='adadelta',metrics=['accuracy'])"
   ]
  },
  {
   "cell_type": "code",
   "execution_count": null,
   "metadata": {
    "collapsed": true
   },
   "outputs": [],
   "source": [
    "hist = custom_vgg19_model.fit(X_train, y_train, batch_size=32, epochs=8, verbose=1, validation_data=(X_test, y_test))"
   ]
  },
  {
   "cell_type": "code",
   "execution_count": null,
   "metadata": {
    "collapsed": true
   },
   "outputs": [],
   "source": [
    "(loss, accuracy) = custom_vgg19_model.evaluate(X_test, y_test, batch_size=10, verbose=1)\n",
    "\n",
    "print(\"[INFO] loss={:.4f}, accuracy: {:.4f}%\".format(loss,accuracy * 100))"
   ]
  },
  {
   "cell_type": "markdown",
   "metadata": {},
   "source": [
    "### ResNet Model with Adadelta and Categorical Crossentropy"
   ]
  },
  {
   "cell_type": "code",
   "execution_count": null,
   "metadata": {
    "collapsed": true
   },
   "outputs": [],
   "source": [
    "from keras.applications.resnet50 import ResNet50\n",
    "\n",
    "modelRes = ResNet50(input_tensor=image_input, include_top=True, weights='imagenet')\n",
    "\n",
    "modelRes.summary()"
   ]
  },
  {
   "cell_type": "code",
   "execution_count": null,
   "metadata": {
    "collapsed": true
   },
   "outputs": [],
   "source": [
    "last_layer = modelRes.get_layer('block5_pool').output\n",
    "x = Flatten(name='flatten')(last_layer)\n",
    "x = Dense(128, activation='relu', name='fc1')(x)\n",
    "x = Dense(128, activation='relu', name='fc2')(x)\n",
    "out = Dense(num_classes, activation='softmax', name='output')(x)\n",
    "custom_res_model = Model(image_input, out)"
   ]
  },
  {
   "cell_type": "code",
   "execution_count": null,
   "metadata": {
    "collapsed": true
   },
   "outputs": [],
   "source": [
    "modelRes.summary()"
   ]
  },
  {
   "cell_type": "code",
   "execution_count": null,
   "metadata": {
    "collapsed": true
   },
   "outputs": [],
   "source": [
    "for layer in custom_res_model.layers[:-3]:\n",
    "    layer.trainable = False"
   ]
  },
  {
   "cell_type": "code",
   "execution_count": null,
   "metadata": {
    "collapsed": true
   },
   "outputs": [],
   "source": [
    "custom_res_model.compile(loss='categorical_crossentropy', optimizer='adadelta', metrics=['accuracy'])"
   ]
  },
  {
   "cell_type": "code",
   "execution_count": null,
   "metadata": {
    "collapsed": true
   },
   "outputs": [],
   "source": [
    "hist = custom_res_model.fit(X_train, y_train, batch_size=32, epochs=8, verbose=1, validation_data=(X_test, y_test))"
   ]
  },
  {
   "cell_type": "code",
   "execution_count": null,
   "metadata": {
    "collapsed": true
   },
   "outputs": [],
   "source": [
    "(loss, accuracy) = custom_res_model.evaluate(X_test, y_test, batch_size=10, verbose=1)\n",
    "\n",
    "print(\"[INFO] loss={:.4f}, accuracy: {:.4f}%\".format(loss,accuracy * 100))"
   ]
  },
  {
   "cell_type": "markdown",
   "metadata": {},
   "source": [
    "### InceptionV3 Model with Adadelta and Categorical Crossentropy"
   ]
  },
  {
   "cell_type": "code",
   "execution_count": 29,
   "metadata": {},
   "outputs": [
    {
     "name": "stdout",
     "output_type": "stream",
     "text": [
      "Downloading data from https://github.com/fchollet/deep-learning-models/releases/download/v0.5/inception_v3_weights_tf_dim_ordering_tf_kernels.h5\n",
      "96043008/96112376 [============================>.] - ETA: 0s ETA____________________________________________________________________________________________________\n",
      "Layer (type)                     Output Shape          Param #     Connected to                     \n",
      "====================================================================================================\n",
      "input_2 (InputLayer)             (None, 224, 224, 3)   0                                            \n",
      "____________________________________________________________________________________________________\n",
      "conv2d_1 (Conv2D)                (None, 111, 111, 32)  864         input_2[0][0]                    \n",
      "____________________________________________________________________________________________________\n",
      "batch_normalization_1 (BatchNorm (None, 111, 111, 32)  96          conv2d_1[0][0]                   \n",
      "____________________________________________________________________________________________________\n",
      "activation_1 (Activation)        (None, 111, 111, 32)  0           batch_normalization_1[0][0]      \n",
      "____________________________________________________________________________________________________\n",
      "conv2d_2 (Conv2D)                (None, 109, 109, 32)  9216        activation_1[0][0]               \n",
      "____________________________________________________________________________________________________\n",
      "batch_normalization_2 (BatchNorm (None, 109, 109, 32)  96          conv2d_2[0][0]                   \n",
      "____________________________________________________________________________________________________\n",
      "activation_2 (Activation)        (None, 109, 109, 32)  0           batch_normalization_2[0][0]      \n",
      "____________________________________________________________________________________________________\n",
      "conv2d_3 (Conv2D)                (None, 109, 109, 64)  18432       activation_2[0][0]               \n",
      "____________________________________________________________________________________________________\n",
      "batch_normalization_3 (BatchNorm (None, 109, 109, 64)  192         conv2d_3[0][0]                   \n",
      "____________________________________________________________________________________________________\n",
      "activation_3 (Activation)        (None, 109, 109, 64)  0           batch_normalization_3[0][0]      \n",
      "____________________________________________________________________________________________________\n",
      "max_pooling2d_1 (MaxPooling2D)   (None, 54, 54, 64)    0           activation_3[0][0]               \n",
      "____________________________________________________________________________________________________\n",
      "conv2d_4 (Conv2D)                (None, 54, 54, 80)    5120        max_pooling2d_1[0][0]            \n",
      "____________________________________________________________________________________________________\n",
      "batch_normalization_4 (BatchNorm (None, 54, 54, 80)    240         conv2d_4[0][0]                   \n",
      "____________________________________________________________________________________________________\n",
      "activation_4 (Activation)        (None, 54, 54, 80)    0           batch_normalization_4[0][0]      \n",
      "____________________________________________________________________________________________________\n",
      "conv2d_5 (Conv2D)                (None, 52, 52, 192)   138240      activation_4[0][0]               \n",
      "____________________________________________________________________________________________________\n",
      "batch_normalization_5 (BatchNorm (None, 52, 52, 192)   576         conv2d_5[0][0]                   \n",
      "____________________________________________________________________________________________________\n",
      "activation_5 (Activation)        (None, 52, 52, 192)   0           batch_normalization_5[0][0]      \n",
      "____________________________________________________________________________________________________\n",
      "max_pooling2d_2 (MaxPooling2D)   (None, 25, 25, 192)   0           activation_5[0][0]               \n",
      "____________________________________________________________________________________________________\n",
      "conv2d_9 (Conv2D)                (None, 25, 25, 64)    12288       max_pooling2d_2[0][0]            \n",
      "____________________________________________________________________________________________________\n",
      "batch_normalization_9 (BatchNorm (None, 25, 25, 64)    192         conv2d_9[0][0]                   \n",
      "____________________________________________________________________________________________________\n",
      "activation_9 (Activation)        (None, 25, 25, 64)    0           batch_normalization_9[0][0]      \n",
      "____________________________________________________________________________________________________\n",
      "conv2d_7 (Conv2D)                (None, 25, 25, 48)    9216        max_pooling2d_2[0][0]            \n",
      "____________________________________________________________________________________________________\n",
      "conv2d_10 (Conv2D)               (None, 25, 25, 96)    55296       activation_9[0][0]               \n",
      "____________________________________________________________________________________________________\n",
      "batch_normalization_7 (BatchNorm (None, 25, 25, 48)    144         conv2d_7[0][0]                   \n",
      "____________________________________________________________________________________________________\n",
      "batch_normalization_10 (BatchNor (None, 25, 25, 96)    288         conv2d_10[0][0]                  \n",
      "____________________________________________________________________________________________________\n",
      "activation_7 (Activation)        (None, 25, 25, 48)    0           batch_normalization_7[0][0]      \n",
      "____________________________________________________________________________________________________\n",
      "activation_10 (Activation)       (None, 25, 25, 96)    0           batch_normalization_10[0][0]     \n",
      "____________________________________________________________________________________________________\n",
      "average_pooling2d_1 (AveragePool (None, 25, 25, 192)   0           max_pooling2d_2[0][0]            \n",
      "____________________________________________________________________________________________________\n",
      "conv2d_6 (Conv2D)                (None, 25, 25, 64)    12288       max_pooling2d_2[0][0]            \n",
      "____________________________________________________________________________________________________\n",
      "conv2d_8 (Conv2D)                (None, 25, 25, 64)    76800       activation_7[0][0]               \n",
      "____________________________________________________________________________________________________\n",
      "conv2d_11 (Conv2D)               (None, 25, 25, 96)    82944       activation_10[0][0]              \n",
      "____________________________________________________________________________________________________\n",
      "conv2d_12 (Conv2D)               (None, 25, 25, 32)    6144        average_pooling2d_1[0][0]        \n",
      "____________________________________________________________________________________________________\n",
      "batch_normalization_6 (BatchNorm (None, 25, 25, 64)    192         conv2d_6[0][0]                   \n",
      "____________________________________________________________________________________________________\n",
      "batch_normalization_8 (BatchNorm (None, 25, 25, 64)    192         conv2d_8[0][0]                   \n",
      "____________________________________________________________________________________________________\n",
      "batch_normalization_11 (BatchNor (None, 25, 25, 96)    288         conv2d_11[0][0]                  \n",
      "____________________________________________________________________________________________________\n",
      "batch_normalization_12 (BatchNor (None, 25, 25, 32)    96          conv2d_12[0][0]                  \n",
      "____________________________________________________________________________________________________\n",
      "activation_6 (Activation)        (None, 25, 25, 64)    0           batch_normalization_6[0][0]      \n",
      "____________________________________________________________________________________________________\n",
      "activation_8 (Activation)        (None, 25, 25, 64)    0           batch_normalization_8[0][0]      \n",
      "____________________________________________________________________________________________________\n",
      "activation_11 (Activation)       (None, 25, 25, 96)    0           batch_normalization_11[0][0]     \n",
      "____________________________________________________________________________________________________\n",
      "activation_12 (Activation)       (None, 25, 25, 32)    0           batch_normalization_12[0][0]     \n",
      "____________________________________________________________________________________________________\n",
      "mixed0 (Concatenate)             (None, 25, 25, 256)   0           activation_6[0][0]               \n",
      "                                                                   activation_8[0][0]               \n",
      "                                                                   activation_11[0][0]              \n",
      "                                                                   activation_12[0][0]              \n",
      "____________________________________________________________________________________________________\n",
      "conv2d_16 (Conv2D)               (None, 25, 25, 64)    16384       mixed0[0][0]                     \n",
      "____________________________________________________________________________________________________\n",
      "batch_normalization_16 (BatchNor (None, 25, 25, 64)    192         conv2d_16[0][0]                  \n",
      "____________________________________________________________________________________________________\n",
      "activation_16 (Activation)       (None, 25, 25, 64)    0           batch_normalization_16[0][0]     \n",
      "____________________________________________________________________________________________________\n",
      "conv2d_14 (Conv2D)               (None, 25, 25, 48)    12288       mixed0[0][0]                     \n",
      "____________________________________________________________________________________________________\n",
      "conv2d_17 (Conv2D)               (None, 25, 25, 96)    55296       activation_16[0][0]              \n",
      "____________________________________________________________________________________________________\n",
      "batch_normalization_14 (BatchNor (None, 25, 25, 48)    144         conv2d_14[0][0]                  \n",
      "____________________________________________________________________________________________________\n",
      "batch_normalization_17 (BatchNor (None, 25, 25, 96)    288         conv2d_17[0][0]                  \n",
      "____________________________________________________________________________________________________\n",
      "activation_14 (Activation)       (None, 25, 25, 48)    0           batch_normalization_14[0][0]     \n",
      "____________________________________________________________________________________________________\n",
      "activation_17 (Activation)       (None, 25, 25, 96)    0           batch_normalization_17[0][0]     \n",
      "____________________________________________________________________________________________________\n",
      "average_pooling2d_2 (AveragePool (None, 25, 25, 256)   0           mixed0[0][0]                     \n",
      "____________________________________________________________________________________________________\n",
      "conv2d_13 (Conv2D)               (None, 25, 25, 64)    16384       mixed0[0][0]                     \n",
      "____________________________________________________________________________________________________\n",
      "conv2d_15 (Conv2D)               (None, 25, 25, 64)    76800       activation_14[0][0]              \n",
      "____________________________________________________________________________________________________\n",
      "conv2d_18 (Conv2D)               (None, 25, 25, 96)    82944       activation_17[0][0]              \n",
      "____________________________________________________________________________________________________\n",
      "conv2d_19 (Conv2D)               (None, 25, 25, 64)    16384       average_pooling2d_2[0][0]        \n",
      "____________________________________________________________________________________________________\n",
      "batch_normalization_13 (BatchNor (None, 25, 25, 64)    192         conv2d_13[0][0]                  \n",
      "____________________________________________________________________________________________________\n",
      "batch_normalization_15 (BatchNor (None, 25, 25, 64)    192         conv2d_15[0][0]                  \n",
      "____________________________________________________________________________________________________\n",
      "batch_normalization_18 (BatchNor (None, 25, 25, 96)    288         conv2d_18[0][0]                  \n",
      "____________________________________________________________________________________________________\n",
      "batch_normalization_19 (BatchNor (None, 25, 25, 64)    192         conv2d_19[0][0]                  \n",
      "____________________________________________________________________________________________________\n",
      "activation_13 (Activation)       (None, 25, 25, 64)    0           batch_normalization_13[0][0]     \n",
      "____________________________________________________________________________________________________\n",
      "activation_15 (Activation)       (None, 25, 25, 64)    0           batch_normalization_15[0][0]     \n",
      "____________________________________________________________________________________________________\n",
      "activation_18 (Activation)       (None, 25, 25, 96)    0           batch_normalization_18[0][0]     \n",
      "____________________________________________________________________________________________________\n",
      "activation_19 (Activation)       (None, 25, 25, 64)    0           batch_normalization_19[0][0]     \n",
      "____________________________________________________________________________________________________\n",
      "mixed1 (Concatenate)             (None, 25, 25, 288)   0           activation_13[0][0]              \n",
      "                                                                   activation_15[0][0]              \n",
      "                                                                   activation_18[0][0]              \n",
      "                                                                   activation_19[0][0]              \n",
      "____________________________________________________________________________________________________\n",
      "conv2d_23 (Conv2D)               (None, 25, 25, 64)    18432       mixed1[0][0]                     \n",
      "____________________________________________________________________________________________________\n",
      "batch_normalization_23 (BatchNor (None, 25, 25, 64)    192         conv2d_23[0][0]                  \n",
      "____________________________________________________________________________________________________\n",
      "activation_23 (Activation)       (None, 25, 25, 64)    0           batch_normalization_23[0][0]     \n",
      "____________________________________________________________________________________________________\n",
      "conv2d_21 (Conv2D)               (None, 25, 25, 48)    13824       mixed1[0][0]                     \n",
      "____________________________________________________________________________________________________\n",
      "conv2d_24 (Conv2D)               (None, 25, 25, 96)    55296       activation_23[0][0]              \n",
      "____________________________________________________________________________________________________\n",
      "batch_normalization_21 (BatchNor (None, 25, 25, 48)    144         conv2d_21[0][0]                  \n",
      "____________________________________________________________________________________________________\n",
      "batch_normalization_24 (BatchNor (None, 25, 25, 96)    288         conv2d_24[0][0]                  \n",
      "____________________________________________________________________________________________________\n",
      "activation_21 (Activation)       (None, 25, 25, 48)    0           batch_normalization_21[0][0]     \n",
      "____________________________________________________________________________________________________\n",
      "activation_24 (Activation)       (None, 25, 25, 96)    0           batch_normalization_24[0][0]     \n",
      "____________________________________________________________________________________________________\n",
      "average_pooling2d_3 (AveragePool (None, 25, 25, 288)   0           mixed1[0][0]                     \n",
      "____________________________________________________________________________________________________\n",
      "conv2d_20 (Conv2D)               (None, 25, 25, 64)    18432       mixed1[0][0]                     \n",
      "____________________________________________________________________________________________________\n",
      "conv2d_22 (Conv2D)               (None, 25, 25, 64)    76800       activation_21[0][0]              \n",
      "____________________________________________________________________________________________________\n",
      "conv2d_25 (Conv2D)               (None, 25, 25, 96)    82944       activation_24[0][0]              \n",
      "____________________________________________________________________________________________________\n",
      "conv2d_26 (Conv2D)               (None, 25, 25, 64)    18432       average_pooling2d_3[0][0]        \n",
      "____________________________________________________________________________________________________\n",
      "batch_normalization_20 (BatchNor (None, 25, 25, 64)    192         conv2d_20[0][0]                  \n",
      "____________________________________________________________________________________________________\n",
      "batch_normalization_22 (BatchNor (None, 25, 25, 64)    192         conv2d_22[0][0]                  \n",
      "____________________________________________________________________________________________________\n",
      "batch_normalization_25 (BatchNor (None, 25, 25, 96)    288         conv2d_25[0][0]                  \n",
      "____________________________________________________________________________________________________\n",
      "batch_normalization_26 (BatchNor (None, 25, 25, 64)    192         conv2d_26[0][0]                  \n",
      "____________________________________________________________________________________________________\n",
      "activation_20 (Activation)       (None, 25, 25, 64)    0           batch_normalization_20[0][0]     \n",
      "____________________________________________________________________________________________________\n",
      "activation_22 (Activation)       (None, 25, 25, 64)    0           batch_normalization_22[0][0]     \n",
      "____________________________________________________________________________________________________\n",
      "activation_25 (Activation)       (None, 25, 25, 96)    0           batch_normalization_25[0][0]     \n",
      "____________________________________________________________________________________________________\n",
      "activation_26 (Activation)       (None, 25, 25, 64)    0           batch_normalization_26[0][0]     \n",
      "____________________________________________________________________________________________________\n",
      "mixed2 (Concatenate)             (None, 25, 25, 288)   0           activation_20[0][0]              \n",
      "                                                                   activation_22[0][0]              \n",
      "                                                                   activation_25[0][0]              \n",
      "                                                                   activation_26[0][0]              \n",
      "____________________________________________________________________________________________________\n",
      "conv2d_28 (Conv2D)               (None, 25, 25, 64)    18432       mixed2[0][0]                     \n",
      "____________________________________________________________________________________________________\n",
      "batch_normalization_28 (BatchNor (None, 25, 25, 64)    192         conv2d_28[0][0]                  \n",
      "____________________________________________________________________________________________________\n",
      "activation_28 (Activation)       (None, 25, 25, 64)    0           batch_normalization_28[0][0]     \n",
      "____________________________________________________________________________________________________\n",
      "conv2d_29 (Conv2D)               (None, 25, 25, 96)    55296       activation_28[0][0]              \n",
      "____________________________________________________________________________________________________\n",
      "batch_normalization_29 (BatchNor (None, 25, 25, 96)    288         conv2d_29[0][0]                  \n",
      "____________________________________________________________________________________________________\n",
      "activation_29 (Activation)       (None, 25, 25, 96)    0           batch_normalization_29[0][0]     \n",
      "____________________________________________________________________________________________________\n",
      "conv2d_27 (Conv2D)               (None, 12, 12, 384)   995328      mixed2[0][0]                     \n",
      "____________________________________________________________________________________________________\n",
      "conv2d_30 (Conv2D)               (None, 12, 12, 96)    82944       activation_29[0][0]              \n",
      "____________________________________________________________________________________________________\n",
      "batch_normalization_27 (BatchNor (None, 12, 12, 384)   1152        conv2d_27[0][0]                  \n",
      "____________________________________________________________________________________________________\n",
      "batch_normalization_30 (BatchNor (None, 12, 12, 96)    288         conv2d_30[0][0]                  \n",
      "____________________________________________________________________________________________________\n",
      "activation_27 (Activation)       (None, 12, 12, 384)   0           batch_normalization_27[0][0]     \n",
      "____________________________________________________________________________________________________\n",
      "activation_30 (Activation)       (None, 12, 12, 96)    0           batch_normalization_30[0][0]     \n",
      "____________________________________________________________________________________________________\n",
      "max_pooling2d_3 (MaxPooling2D)   (None, 12, 12, 288)   0           mixed2[0][0]                     \n",
      "____________________________________________________________________________________________________\n",
      "mixed3 (Concatenate)             (None, 12, 12, 768)   0           activation_27[0][0]              \n",
      "                                                                   activation_30[0][0]              \n",
      "                                                                   max_pooling2d_3[0][0]            \n",
      "____________________________________________________________________________________________________\n",
      "conv2d_35 (Conv2D)               (None, 12, 12, 128)   98304       mixed3[0][0]                     \n",
      "____________________________________________________________________________________________________\n",
      "batch_normalization_35 (BatchNor (None, 12, 12, 128)   384         conv2d_35[0][0]                  \n",
      "____________________________________________________________________________________________________\n",
      "activation_35 (Activation)       (None, 12, 12, 128)   0           batch_normalization_35[0][0]     \n",
      "____________________________________________________________________________________________________\n",
      "conv2d_36 (Conv2D)               (None, 12, 12, 128)   114688      activation_35[0][0]              \n",
      "____________________________________________________________________________________________________\n",
      "batch_normalization_36 (BatchNor (None, 12, 12, 128)   384         conv2d_36[0][0]                  \n",
      "____________________________________________________________________________________________________\n",
      "activation_36 (Activation)       (None, 12, 12, 128)   0           batch_normalization_36[0][0]     \n",
      "____________________________________________________________________________________________________\n",
      "conv2d_32 (Conv2D)               (None, 12, 12, 128)   98304       mixed3[0][0]                     \n",
      "____________________________________________________________________________________________________\n",
      "conv2d_37 (Conv2D)               (None, 12, 12, 128)   114688      activation_36[0][0]              \n",
      "____________________________________________________________________________________________________\n",
      "batch_normalization_32 (BatchNor (None, 12, 12, 128)   384         conv2d_32[0][0]                  \n",
      "____________________________________________________________________________________________________\n",
      "batch_normalization_37 (BatchNor (None, 12, 12, 128)   384         conv2d_37[0][0]                  \n",
      "____________________________________________________________________________________________________\n",
      "activation_32 (Activation)       (None, 12, 12, 128)   0           batch_normalization_32[0][0]     \n",
      "____________________________________________________________________________________________________\n",
      "activation_37 (Activation)       (None, 12, 12, 128)   0           batch_normalization_37[0][0]     \n",
      "____________________________________________________________________________________________________\n",
      "conv2d_33 (Conv2D)               (None, 12, 12, 128)   114688      activation_32[0][0]              \n",
      "____________________________________________________________________________________________________\n",
      "conv2d_38 (Conv2D)               (None, 12, 12, 128)   114688      activation_37[0][0]              \n",
      "____________________________________________________________________________________________________\n",
      "batch_normalization_33 (BatchNor (None, 12, 12, 128)   384         conv2d_33[0][0]                  \n",
      "____________________________________________________________________________________________________\n",
      "batch_normalization_38 (BatchNor (None, 12, 12, 128)   384         conv2d_38[0][0]                  \n",
      "____________________________________________________________________________________________________\n",
      "activation_33 (Activation)       (None, 12, 12, 128)   0           batch_normalization_33[0][0]     \n",
      "____________________________________________________________________________________________________\n",
      "activation_38 (Activation)       (None, 12, 12, 128)   0           batch_normalization_38[0][0]     \n",
      "____________________________________________________________________________________________________\n",
      "average_pooling2d_4 (AveragePool (None, 12, 12, 768)   0           mixed3[0][0]                     \n",
      "____________________________________________________________________________________________________\n",
      "conv2d_31 (Conv2D)               (None, 12, 12, 192)   147456      mixed3[0][0]                     \n",
      "____________________________________________________________________________________________________\n",
      "conv2d_34 (Conv2D)               (None, 12, 12, 192)   172032      activation_33[0][0]              \n",
      "____________________________________________________________________________________________________\n",
      "conv2d_39 (Conv2D)               (None, 12, 12, 192)   172032      activation_38[0][0]              \n",
      "____________________________________________________________________________________________________\n",
      "conv2d_40 (Conv2D)               (None, 12, 12, 192)   147456      average_pooling2d_4[0][0]        \n",
      "____________________________________________________________________________________________________\n",
      "batch_normalization_31 (BatchNor (None, 12, 12, 192)   576         conv2d_31[0][0]                  \n",
      "____________________________________________________________________________________________________\n",
      "batch_normalization_34 (BatchNor (None, 12, 12, 192)   576         conv2d_34[0][0]                  \n",
      "____________________________________________________________________________________________________\n",
      "batch_normalization_39 (BatchNor (None, 12, 12, 192)   576         conv2d_39[0][0]                  \n",
      "____________________________________________________________________________________________________\n",
      "batch_normalization_40 (BatchNor (None, 12, 12, 192)   576         conv2d_40[0][0]                  \n",
      "____________________________________________________________________________________________________\n",
      "activation_31 (Activation)       (None, 12, 12, 192)   0           batch_normalization_31[0][0]     \n",
      "____________________________________________________________________________________________________\n",
      "activation_34 (Activation)       (None, 12, 12, 192)   0           batch_normalization_34[0][0]     \n",
      "____________________________________________________________________________________________________\n",
      "activation_39 (Activation)       (None, 12, 12, 192)   0           batch_normalization_39[0][0]     \n",
      "____________________________________________________________________________________________________\n",
      "activation_40 (Activation)       (None, 12, 12, 192)   0           batch_normalization_40[0][0]     \n",
      "____________________________________________________________________________________________________\n",
      "mixed4 (Concatenate)             (None, 12, 12, 768)   0           activation_31[0][0]              \n",
      "                                                                   activation_34[0][0]              \n",
      "                                                                   activation_39[0][0]              \n",
      "                                                                   activation_40[0][0]              \n",
      "____________________________________________________________________________________________________\n",
      "conv2d_45 (Conv2D)               (None, 12, 12, 160)   122880      mixed4[0][0]                     \n",
      "____________________________________________________________________________________________________\n",
      "batch_normalization_45 (BatchNor (None, 12, 12, 160)   480         conv2d_45[0][0]                  \n",
      "____________________________________________________________________________________________________\n",
      "activation_45 (Activation)       (None, 12, 12, 160)   0           batch_normalization_45[0][0]     \n",
      "____________________________________________________________________________________________________\n",
      "conv2d_46 (Conv2D)               (None, 12, 12, 160)   179200      activation_45[0][0]              \n",
      "____________________________________________________________________________________________________\n",
      "batch_normalization_46 (BatchNor (None, 12, 12, 160)   480         conv2d_46[0][0]                  \n",
      "____________________________________________________________________________________________________\n",
      "activation_46 (Activation)       (None, 12, 12, 160)   0           batch_normalization_46[0][0]     \n",
      "____________________________________________________________________________________________________\n",
      "conv2d_42 (Conv2D)               (None, 12, 12, 160)   122880      mixed4[0][0]                     \n",
      "____________________________________________________________________________________________________\n",
      "conv2d_47 (Conv2D)               (None, 12, 12, 160)   179200      activation_46[0][0]              \n",
      "____________________________________________________________________________________________________\n",
      "batch_normalization_42 (BatchNor (None, 12, 12, 160)   480         conv2d_42[0][0]                  \n",
      "____________________________________________________________________________________________________\n",
      "batch_normalization_47 (BatchNor (None, 12, 12, 160)   480         conv2d_47[0][0]                  \n",
      "____________________________________________________________________________________________________\n",
      "activation_42 (Activation)       (None, 12, 12, 160)   0           batch_normalization_42[0][0]     \n",
      "____________________________________________________________________________________________________\n",
      "activation_47 (Activation)       (None, 12, 12, 160)   0           batch_normalization_47[0][0]     \n",
      "____________________________________________________________________________________________________\n",
      "conv2d_43 (Conv2D)               (None, 12, 12, 160)   179200      activation_42[0][0]              \n",
      "____________________________________________________________________________________________________\n",
      "conv2d_48 (Conv2D)               (None, 12, 12, 160)   179200      activation_47[0][0]              \n",
      "____________________________________________________________________________________________________\n",
      "batch_normalization_43 (BatchNor (None, 12, 12, 160)   480         conv2d_43[0][0]                  \n",
      "____________________________________________________________________________________________________\n",
      "batch_normalization_48 (BatchNor (None, 12, 12, 160)   480         conv2d_48[0][0]                  \n",
      "____________________________________________________________________________________________________\n",
      "activation_43 (Activation)       (None, 12, 12, 160)   0           batch_normalization_43[0][0]     \n",
      "____________________________________________________________________________________________________\n",
      "activation_48 (Activation)       (None, 12, 12, 160)   0           batch_normalization_48[0][0]     \n",
      "____________________________________________________________________________________________________\n",
      "average_pooling2d_5 (AveragePool (None, 12, 12, 768)   0           mixed4[0][0]                     \n",
      "____________________________________________________________________________________________________\n",
      "conv2d_41 (Conv2D)               (None, 12, 12, 192)   147456      mixed4[0][0]                     \n",
      "____________________________________________________________________________________________________\n",
      "conv2d_44 (Conv2D)               (None, 12, 12, 192)   215040      activation_43[0][0]              \n",
      "____________________________________________________________________________________________________\n",
      "conv2d_49 (Conv2D)               (None, 12, 12, 192)   215040      activation_48[0][0]              \n",
      "____________________________________________________________________________________________________\n",
      "conv2d_50 (Conv2D)               (None, 12, 12, 192)   147456      average_pooling2d_5[0][0]        \n",
      "____________________________________________________________________________________________________\n",
      "batch_normalization_41 (BatchNor (None, 12, 12, 192)   576         conv2d_41[0][0]                  \n",
      "____________________________________________________________________________________________________\n",
      "batch_normalization_44 (BatchNor (None, 12, 12, 192)   576         conv2d_44[0][0]                  \n",
      "____________________________________________________________________________________________________\n",
      "batch_normalization_49 (BatchNor (None, 12, 12, 192)   576         conv2d_49[0][0]                  \n",
      "____________________________________________________________________________________________________\n",
      "batch_normalization_50 (BatchNor (None, 12, 12, 192)   576         conv2d_50[0][0]                  \n",
      "____________________________________________________________________________________________________\n",
      "activation_41 (Activation)       (None, 12, 12, 192)   0           batch_normalization_41[0][0]     \n",
      "____________________________________________________________________________________________________\n",
      "activation_44 (Activation)       (None, 12, 12, 192)   0           batch_normalization_44[0][0]     \n",
      "____________________________________________________________________________________________________\n",
      "activation_49 (Activation)       (None, 12, 12, 192)   0           batch_normalization_49[0][0]     \n",
      "____________________________________________________________________________________________________\n",
      "activation_50 (Activation)       (None, 12, 12, 192)   0           batch_normalization_50[0][0]     \n",
      "____________________________________________________________________________________________________\n",
      "mixed5 (Concatenate)             (None, 12, 12, 768)   0           activation_41[0][0]              \n",
      "                                                                   activation_44[0][0]              \n",
      "                                                                   activation_49[0][0]              \n",
      "                                                                   activation_50[0][0]              \n",
      "____________________________________________________________________________________________________\n",
      "conv2d_55 (Conv2D)               (None, 12, 12, 160)   122880      mixed5[0][0]                     \n",
      "____________________________________________________________________________________________________\n",
      "batch_normalization_55 (BatchNor (None, 12, 12, 160)   480         conv2d_55[0][0]                  \n",
      "____________________________________________________________________________________________________\n",
      "activation_55 (Activation)       (None, 12, 12, 160)   0           batch_normalization_55[0][0]     \n",
      "____________________________________________________________________________________________________\n",
      "conv2d_56 (Conv2D)               (None, 12, 12, 160)   179200      activation_55[0][0]              \n",
      "____________________________________________________________________________________________________\n",
      "batch_normalization_56 (BatchNor (None, 12, 12, 160)   480         conv2d_56[0][0]                  \n",
      "____________________________________________________________________________________________________\n",
      "activation_56 (Activation)       (None, 12, 12, 160)   0           batch_normalization_56[0][0]     \n",
      "____________________________________________________________________________________________________\n",
      "conv2d_52 (Conv2D)               (None, 12, 12, 160)   122880      mixed5[0][0]                     \n",
      "____________________________________________________________________________________________________\n",
      "conv2d_57 (Conv2D)               (None, 12, 12, 160)   179200      activation_56[0][0]              \n",
      "____________________________________________________________________________________________________\n",
      "batch_normalization_52 (BatchNor (None, 12, 12, 160)   480         conv2d_52[0][0]                  \n",
      "____________________________________________________________________________________________________\n",
      "batch_normalization_57 (BatchNor (None, 12, 12, 160)   480         conv2d_57[0][0]                  \n",
      "____________________________________________________________________________________________________\n",
      "activation_52 (Activation)       (None, 12, 12, 160)   0           batch_normalization_52[0][0]     \n",
      "____________________________________________________________________________________________________\n",
      "activation_57 (Activation)       (None, 12, 12, 160)   0           batch_normalization_57[0][0]     \n",
      "____________________________________________________________________________________________________\n",
      "conv2d_53 (Conv2D)               (None, 12, 12, 160)   179200      activation_52[0][0]              \n",
      "____________________________________________________________________________________________________\n",
      "conv2d_58 (Conv2D)               (None, 12, 12, 160)   179200      activation_57[0][0]              \n",
      "____________________________________________________________________________________________________\n",
      "batch_normalization_53 (BatchNor (None, 12, 12, 160)   480         conv2d_53[0][0]                  \n",
      "____________________________________________________________________________________________________\n",
      "batch_normalization_58 (BatchNor (None, 12, 12, 160)   480         conv2d_58[0][0]                  \n",
      "____________________________________________________________________________________________________\n",
      "activation_53 (Activation)       (None, 12, 12, 160)   0           batch_normalization_53[0][0]     \n",
      "____________________________________________________________________________________________________\n",
      "activation_58 (Activation)       (None, 12, 12, 160)   0           batch_normalization_58[0][0]     \n",
      "____________________________________________________________________________________________________\n",
      "average_pooling2d_6 (AveragePool (None, 12, 12, 768)   0           mixed5[0][0]                     \n",
      "____________________________________________________________________________________________________\n",
      "conv2d_51 (Conv2D)               (None, 12, 12, 192)   147456      mixed5[0][0]                     \n",
      "____________________________________________________________________________________________________\n",
      "conv2d_54 (Conv2D)               (None, 12, 12, 192)   215040      activation_53[0][0]              \n",
      "____________________________________________________________________________________________________\n",
      "conv2d_59 (Conv2D)               (None, 12, 12, 192)   215040      activation_58[0][0]              \n",
      "____________________________________________________________________________________________________\n",
      "conv2d_60 (Conv2D)               (None, 12, 12, 192)   147456      average_pooling2d_6[0][0]        \n",
      "____________________________________________________________________________________________________\n",
      "batch_normalization_51 (BatchNor (None, 12, 12, 192)   576         conv2d_51[0][0]                  \n",
      "____________________________________________________________________________________________________\n",
      "batch_normalization_54 (BatchNor (None, 12, 12, 192)   576         conv2d_54[0][0]                  \n",
      "____________________________________________________________________________________________________\n",
      "batch_normalization_59 (BatchNor (None, 12, 12, 192)   576         conv2d_59[0][0]                  \n",
      "____________________________________________________________________________________________________\n",
      "batch_normalization_60 (BatchNor (None, 12, 12, 192)   576         conv2d_60[0][0]                  \n",
      "____________________________________________________________________________________________________\n",
      "activation_51 (Activation)       (None, 12, 12, 192)   0           batch_normalization_51[0][0]     \n",
      "____________________________________________________________________________________________________\n",
      "activation_54 (Activation)       (None, 12, 12, 192)   0           batch_normalization_54[0][0]     \n",
      "____________________________________________________________________________________________________\n",
      "activation_59 (Activation)       (None, 12, 12, 192)   0           batch_normalization_59[0][0]     \n",
      "____________________________________________________________________________________________________\n",
      "activation_60 (Activation)       (None, 12, 12, 192)   0           batch_normalization_60[0][0]     \n",
      "____________________________________________________________________________________________________\n",
      "mixed6 (Concatenate)             (None, 12, 12, 768)   0           activation_51[0][0]              \n",
      "                                                                   activation_54[0][0]              \n",
      "                                                                   activation_59[0][0]              \n",
      "                                                                   activation_60[0][0]              \n",
      "____________________________________________________________________________________________________\n",
      "conv2d_65 (Conv2D)               (None, 12, 12, 192)   147456      mixed6[0][0]                     \n",
      "____________________________________________________________________________________________________\n",
      "batch_normalization_65 (BatchNor (None, 12, 12, 192)   576         conv2d_65[0][0]                  \n",
      "____________________________________________________________________________________________________\n",
      "activation_65 (Activation)       (None, 12, 12, 192)   0           batch_normalization_65[0][0]     \n",
      "____________________________________________________________________________________________________\n",
      "conv2d_66 (Conv2D)               (None, 12, 12, 192)   258048      activation_65[0][0]              \n",
      "____________________________________________________________________________________________________\n",
      "batch_normalization_66 (BatchNor (None, 12, 12, 192)   576         conv2d_66[0][0]                  \n",
      "____________________________________________________________________________________________________\n",
      "activation_66 (Activation)       (None, 12, 12, 192)   0           batch_normalization_66[0][0]     \n",
      "____________________________________________________________________________________________________\n",
      "conv2d_62 (Conv2D)               (None, 12, 12, 192)   147456      mixed6[0][0]                     \n",
      "____________________________________________________________________________________________________\n",
      "conv2d_67 (Conv2D)               (None, 12, 12, 192)   258048      activation_66[0][0]              \n",
      "____________________________________________________________________________________________________\n",
      "batch_normalization_62 (BatchNor (None, 12, 12, 192)   576         conv2d_62[0][0]                  \n",
      "____________________________________________________________________________________________________\n",
      "batch_normalization_67 (BatchNor (None, 12, 12, 192)   576         conv2d_67[0][0]                  \n",
      "____________________________________________________________________________________________________\n",
      "activation_62 (Activation)       (None, 12, 12, 192)   0           batch_normalization_62[0][0]     \n",
      "____________________________________________________________________________________________________\n",
      "activation_67 (Activation)       (None, 12, 12, 192)   0           batch_normalization_67[0][0]     \n",
      "____________________________________________________________________________________________________\n",
      "conv2d_63 (Conv2D)               (None, 12, 12, 192)   258048      activation_62[0][0]              \n",
      "____________________________________________________________________________________________________\n",
      "conv2d_68 (Conv2D)               (None, 12, 12, 192)   258048      activation_67[0][0]              \n",
      "____________________________________________________________________________________________________\n",
      "batch_normalization_63 (BatchNor (None, 12, 12, 192)   576         conv2d_63[0][0]                  \n",
      "____________________________________________________________________________________________________\n",
      "batch_normalization_68 (BatchNor (None, 12, 12, 192)   576         conv2d_68[0][0]                  \n",
      "____________________________________________________________________________________________________\n",
      "activation_63 (Activation)       (None, 12, 12, 192)   0           batch_normalization_63[0][0]     \n",
      "____________________________________________________________________________________________________\n",
      "activation_68 (Activation)       (None, 12, 12, 192)   0           batch_normalization_68[0][0]     \n",
      "____________________________________________________________________________________________________\n",
      "average_pooling2d_7 (AveragePool (None, 12, 12, 768)   0           mixed6[0][0]                     \n",
      "____________________________________________________________________________________________________\n",
      "conv2d_61 (Conv2D)               (None, 12, 12, 192)   147456      mixed6[0][0]                     \n",
      "____________________________________________________________________________________________________\n",
      "conv2d_64 (Conv2D)               (None, 12, 12, 192)   258048      activation_63[0][0]              \n",
      "____________________________________________________________________________________________________\n",
      "conv2d_69 (Conv2D)               (None, 12, 12, 192)   258048      activation_68[0][0]              \n",
      "____________________________________________________________________________________________________\n",
      "conv2d_70 (Conv2D)               (None, 12, 12, 192)   147456      average_pooling2d_7[0][0]        \n",
      "____________________________________________________________________________________________________\n",
      "batch_normalization_61 (BatchNor (None, 12, 12, 192)   576         conv2d_61[0][0]                  \n",
      "____________________________________________________________________________________________________\n",
      "batch_normalization_64 (BatchNor (None, 12, 12, 192)   576         conv2d_64[0][0]                  \n",
      "____________________________________________________________________________________________________\n",
      "batch_normalization_69 (BatchNor (None, 12, 12, 192)   576         conv2d_69[0][0]                  \n",
      "____________________________________________________________________________________________________\n",
      "batch_normalization_70 (BatchNor (None, 12, 12, 192)   576         conv2d_70[0][0]                  \n",
      "____________________________________________________________________________________________________\n",
      "activation_61 (Activation)       (None, 12, 12, 192)   0           batch_normalization_61[0][0]     \n",
      "____________________________________________________________________________________________________\n",
      "activation_64 (Activation)       (None, 12, 12, 192)   0           batch_normalization_64[0][0]     \n",
      "____________________________________________________________________________________________________\n",
      "activation_69 (Activation)       (None, 12, 12, 192)   0           batch_normalization_69[0][0]     \n",
      "____________________________________________________________________________________________________\n",
      "activation_70 (Activation)       (None, 12, 12, 192)   0           batch_normalization_70[0][0]     \n",
      "____________________________________________________________________________________________________\n",
      "mixed7 (Concatenate)             (None, 12, 12, 768)   0           activation_61[0][0]              \n",
      "                                                                   activation_64[0][0]              \n",
      "                                                                   activation_69[0][0]              \n",
      "                                                                   activation_70[0][0]              \n",
      "____________________________________________________________________________________________________\n",
      "conv2d_73 (Conv2D)               (None, 12, 12, 192)   147456      mixed7[0][0]                     \n",
      "____________________________________________________________________________________________________\n",
      "batch_normalization_73 (BatchNor (None, 12, 12, 192)   576         conv2d_73[0][0]                  \n",
      "____________________________________________________________________________________________________\n",
      "activation_73 (Activation)       (None, 12, 12, 192)   0           batch_normalization_73[0][0]     \n",
      "____________________________________________________________________________________________________\n",
      "conv2d_74 (Conv2D)               (None, 12, 12, 192)   258048      activation_73[0][0]              \n",
      "____________________________________________________________________________________________________\n",
      "batch_normalization_74 (BatchNor (None, 12, 12, 192)   576         conv2d_74[0][0]                  \n",
      "____________________________________________________________________________________________________\n",
      "activation_74 (Activation)       (None, 12, 12, 192)   0           batch_normalization_74[0][0]     \n",
      "____________________________________________________________________________________________________\n",
      "conv2d_71 (Conv2D)               (None, 12, 12, 192)   147456      mixed7[0][0]                     \n",
      "____________________________________________________________________________________________________\n",
      "conv2d_75 (Conv2D)               (None, 12, 12, 192)   258048      activation_74[0][0]              \n",
      "____________________________________________________________________________________________________\n",
      "batch_normalization_71 (BatchNor (None, 12, 12, 192)   576         conv2d_71[0][0]                  \n",
      "____________________________________________________________________________________________________\n",
      "batch_normalization_75 (BatchNor (None, 12, 12, 192)   576         conv2d_75[0][0]                  \n",
      "____________________________________________________________________________________________________\n",
      "activation_71 (Activation)       (None, 12, 12, 192)   0           batch_normalization_71[0][0]     \n",
      "____________________________________________________________________________________________________\n",
      "activation_75 (Activation)       (None, 12, 12, 192)   0           batch_normalization_75[0][0]     \n",
      "____________________________________________________________________________________________________\n",
      "conv2d_72 (Conv2D)               (None, 5, 5, 320)     552960      activation_71[0][0]              \n",
      "____________________________________________________________________________________________________\n",
      "conv2d_76 (Conv2D)               (None, 5, 5, 192)     331776      activation_75[0][0]              \n",
      "____________________________________________________________________________________________________\n",
      "batch_normalization_72 (BatchNor (None, 5, 5, 320)     960         conv2d_72[0][0]                  \n",
      "____________________________________________________________________________________________________\n",
      "batch_normalization_76 (BatchNor (None, 5, 5, 192)     576         conv2d_76[0][0]                  \n",
      "____________________________________________________________________________________________________\n",
      "activation_72 (Activation)       (None, 5, 5, 320)     0           batch_normalization_72[0][0]     \n",
      "____________________________________________________________________________________________________\n",
      "activation_76 (Activation)       (None, 5, 5, 192)     0           batch_normalization_76[0][0]     \n",
      "____________________________________________________________________________________________________\n",
      "max_pooling2d_4 (MaxPooling2D)   (None, 5, 5, 768)     0           mixed7[0][0]                     \n",
      "____________________________________________________________________________________________________\n",
      "mixed8 (Concatenate)             (None, 5, 5, 1280)    0           activation_72[0][0]              \n",
      "                                                                   activation_76[0][0]              \n",
      "                                                                   max_pooling2d_4[0][0]            \n",
      "____________________________________________________________________________________________________\n",
      "conv2d_81 (Conv2D)               (None, 5, 5, 448)     573440      mixed8[0][0]                     \n",
      "____________________________________________________________________________________________________\n",
      "batch_normalization_81 (BatchNor (None, 5, 5, 448)     1344        conv2d_81[0][0]                  \n",
      "____________________________________________________________________________________________________\n",
      "activation_81 (Activation)       (None, 5, 5, 448)     0           batch_normalization_81[0][0]     \n",
      "____________________________________________________________________________________________________\n",
      "conv2d_78 (Conv2D)               (None, 5, 5, 384)     491520      mixed8[0][0]                     \n",
      "____________________________________________________________________________________________________\n",
      "conv2d_82 (Conv2D)               (None, 5, 5, 384)     1548288     activation_81[0][0]              \n",
      "____________________________________________________________________________________________________\n",
      "batch_normalization_78 (BatchNor (None, 5, 5, 384)     1152        conv2d_78[0][0]                  \n",
      "____________________________________________________________________________________________________\n",
      "batch_normalization_82 (BatchNor (None, 5, 5, 384)     1152        conv2d_82[0][0]                  \n",
      "____________________________________________________________________________________________________\n",
      "activation_78 (Activation)       (None, 5, 5, 384)     0           batch_normalization_78[0][0]     \n",
      "____________________________________________________________________________________________________\n",
      "activation_82 (Activation)       (None, 5, 5, 384)     0           batch_normalization_82[0][0]     \n",
      "____________________________________________________________________________________________________\n",
      "conv2d_79 (Conv2D)               (None, 5, 5, 384)     442368      activation_78[0][0]              \n",
      "____________________________________________________________________________________________________\n",
      "conv2d_80 (Conv2D)               (None, 5, 5, 384)     442368      activation_78[0][0]              \n",
      "____________________________________________________________________________________________________\n",
      "conv2d_83 (Conv2D)               (None, 5, 5, 384)     442368      activation_82[0][0]              \n",
      "____________________________________________________________________________________________________\n",
      "conv2d_84 (Conv2D)               (None, 5, 5, 384)     442368      activation_82[0][0]              \n",
      "____________________________________________________________________________________________________\n",
      "average_pooling2d_8 (AveragePool (None, 5, 5, 1280)    0           mixed8[0][0]                     \n",
      "____________________________________________________________________________________________________\n",
      "conv2d_77 (Conv2D)               (None, 5, 5, 320)     409600      mixed8[0][0]                     \n",
      "____________________________________________________________________________________________________\n",
      "batch_normalization_79 (BatchNor (None, 5, 5, 384)     1152        conv2d_79[0][0]                  \n",
      "____________________________________________________________________________________________________\n",
      "batch_normalization_80 (BatchNor (None, 5, 5, 384)     1152        conv2d_80[0][0]                  \n",
      "____________________________________________________________________________________________________\n",
      "batch_normalization_83 (BatchNor (None, 5, 5, 384)     1152        conv2d_83[0][0]                  \n",
      "____________________________________________________________________________________________________\n",
      "batch_normalization_84 (BatchNor (None, 5, 5, 384)     1152        conv2d_84[0][0]                  \n",
      "____________________________________________________________________________________________________\n",
      "conv2d_85 (Conv2D)               (None, 5, 5, 192)     245760      average_pooling2d_8[0][0]        \n",
      "____________________________________________________________________________________________________\n",
      "batch_normalization_77 (BatchNor (None, 5, 5, 320)     960         conv2d_77[0][0]                  \n",
      "____________________________________________________________________________________________________\n",
      "activation_79 (Activation)       (None, 5, 5, 384)     0           batch_normalization_79[0][0]     \n",
      "____________________________________________________________________________________________________\n",
      "activation_80 (Activation)       (None, 5, 5, 384)     0           batch_normalization_80[0][0]     \n",
      "____________________________________________________________________________________________________\n",
      "activation_83 (Activation)       (None, 5, 5, 384)     0           batch_normalization_83[0][0]     \n",
      "____________________________________________________________________________________________________\n",
      "activation_84 (Activation)       (None, 5, 5, 384)     0           batch_normalization_84[0][0]     \n",
      "____________________________________________________________________________________________________\n",
      "batch_normalization_85 (BatchNor (None, 5, 5, 192)     576         conv2d_85[0][0]                  \n",
      "____________________________________________________________________________________________________\n",
      "activation_77 (Activation)       (None, 5, 5, 320)     0           batch_normalization_77[0][0]     \n",
      "____________________________________________________________________________________________________\n",
      "mixed9_0 (Concatenate)           (None, 5, 5, 768)     0           activation_79[0][0]              \n",
      "                                                                   activation_80[0][0]              \n",
      "____________________________________________________________________________________________________\n",
      "concatenate_1 (Concatenate)      (None, 5, 5, 768)     0           activation_83[0][0]              \n",
      "                                                                   activation_84[0][0]              \n",
      "____________________________________________________________________________________________________\n",
      "activation_85 (Activation)       (None, 5, 5, 192)     0           batch_normalization_85[0][0]     \n",
      "____________________________________________________________________________________________________\n",
      "mixed9 (Concatenate)             (None, 5, 5, 2048)    0           activation_77[0][0]              \n",
      "                                                                   mixed9_0[0][0]                   \n",
      "                                                                   concatenate_1[0][0]              \n",
      "                                                                   activation_85[0][0]              \n",
      "____________________________________________________________________________________________________\n",
      "conv2d_90 (Conv2D)               (None, 5, 5, 448)     917504      mixed9[0][0]                     \n",
      "____________________________________________________________________________________________________\n",
      "batch_normalization_90 (BatchNor (None, 5, 5, 448)     1344        conv2d_90[0][0]                  \n",
      "____________________________________________________________________________________________________\n",
      "activation_90 (Activation)       (None, 5, 5, 448)     0           batch_normalization_90[0][0]     \n",
      "____________________________________________________________________________________________________\n",
      "conv2d_87 (Conv2D)               (None, 5, 5, 384)     786432      mixed9[0][0]                     \n",
      "____________________________________________________________________________________________________\n",
      "conv2d_91 (Conv2D)               (None, 5, 5, 384)     1548288     activation_90[0][0]              \n",
      "____________________________________________________________________________________________________\n",
      "batch_normalization_87 (BatchNor (None, 5, 5, 384)     1152        conv2d_87[0][0]                  \n",
      "____________________________________________________________________________________________________\n",
      "batch_normalization_91 (BatchNor (None, 5, 5, 384)     1152        conv2d_91[0][0]                  \n",
      "____________________________________________________________________________________________________\n",
      "activation_87 (Activation)       (None, 5, 5, 384)     0           batch_normalization_87[0][0]     \n",
      "____________________________________________________________________________________________________\n",
      "activation_91 (Activation)       (None, 5, 5, 384)     0           batch_normalization_91[0][0]     \n",
      "____________________________________________________________________________________________________\n",
      "conv2d_88 (Conv2D)               (None, 5, 5, 384)     442368      activation_87[0][0]              \n",
      "____________________________________________________________________________________________________\n",
      "conv2d_89 (Conv2D)               (None, 5, 5, 384)     442368      activation_87[0][0]              \n",
      "____________________________________________________________________________________________________\n",
      "conv2d_92 (Conv2D)               (None, 5, 5, 384)     442368      activation_91[0][0]              \n",
      "____________________________________________________________________________________________________\n",
      "conv2d_93 (Conv2D)               (None, 5, 5, 384)     442368      activation_91[0][0]              \n",
      "____________________________________________________________________________________________________\n",
      "average_pooling2d_9 (AveragePool (None, 5, 5, 2048)    0           mixed9[0][0]                     \n",
      "____________________________________________________________________________________________________\n",
      "conv2d_86 (Conv2D)               (None, 5, 5, 320)     655360      mixed9[0][0]                     \n",
      "____________________________________________________________________________________________________\n",
      "batch_normalization_88 (BatchNor (None, 5, 5, 384)     1152        conv2d_88[0][0]                  \n",
      "____________________________________________________________________________________________________\n",
      "batch_normalization_89 (BatchNor (None, 5, 5, 384)     1152        conv2d_89[0][0]                  \n",
      "____________________________________________________________________________________________________\n",
      "batch_normalization_92 (BatchNor (None, 5, 5, 384)     1152        conv2d_92[0][0]                  \n",
      "____________________________________________________________________________________________________\n",
      "batch_normalization_93 (BatchNor (None, 5, 5, 384)     1152        conv2d_93[0][0]                  \n",
      "____________________________________________________________________________________________________\n",
      "conv2d_94 (Conv2D)               (None, 5, 5, 192)     393216      average_pooling2d_9[0][0]        \n",
      "____________________________________________________________________________________________________\n",
      "batch_normalization_86 (BatchNor (None, 5, 5, 320)     960         conv2d_86[0][0]                  \n",
      "____________________________________________________________________________________________________\n",
      "activation_88 (Activation)       (None, 5, 5, 384)     0           batch_normalization_88[0][0]     \n",
      "____________________________________________________________________________________________________\n",
      "activation_89 (Activation)       (None, 5, 5, 384)     0           batch_normalization_89[0][0]     \n",
      "____________________________________________________________________________________________________\n",
      "activation_92 (Activation)       (None, 5, 5, 384)     0           batch_normalization_92[0][0]     \n",
      "____________________________________________________________________________________________________\n",
      "activation_93 (Activation)       (None, 5, 5, 384)     0           batch_normalization_93[0][0]     \n",
      "____________________________________________________________________________________________________\n",
      "batch_normalization_94 (BatchNor (None, 5, 5, 192)     576         conv2d_94[0][0]                  \n",
      "____________________________________________________________________________________________________\n",
      "activation_86 (Activation)       (None, 5, 5, 320)     0           batch_normalization_86[0][0]     \n",
      "____________________________________________________________________________________________________\n",
      "mixed9_1 (Concatenate)           (None, 5, 5, 768)     0           activation_88[0][0]              \n",
      "                                                                   activation_89[0][0]              \n",
      "____________________________________________________________________________________________________\n",
      "concatenate_2 (Concatenate)      (None, 5, 5, 768)     0           activation_92[0][0]              \n",
      "                                                                   activation_93[0][0]              \n",
      "____________________________________________________________________________________________________\n",
      "activation_94 (Activation)       (None, 5, 5, 192)     0           batch_normalization_94[0][0]     \n",
      "____________________________________________________________________________________________________\n",
      "mixed10 (Concatenate)            (None, 5, 5, 2048)    0           activation_86[0][0]              \n",
      "                                                                   mixed9_1[0][0]                   \n",
      "                                                                   concatenate_2[0][0]              \n",
      "                                                                   activation_94[0][0]              \n",
      "____________________________________________________________________________________________________\n",
      "avg_pool (GlobalAveragePooling2D (None, 2048)          0           mixed10[0][0]                    \n",
      "____________________________________________________________________________________________________\n",
      "predictions (Dense)              (None, 1000)          2049000     avg_pool[0][0]                   \n",
      "====================================================================================================\n",
      "Total params: 23,851,784\n",
      "Trainable params: 23,817,352\n",
      "Non-trainable params: 34,432\n",
      "____________________________________________________________________________________________________\n"
     ]
    }
   ],
   "source": [
    "from keras.applications import InceptionV3\n",
    "\n",
    "modelV3 = InceptionV3(input_tensor=image_input, include_top=True, weights='imagenet')\n",
    "\n",
    "modelV3.summary()"
   ]
  },
  {
   "cell_type": "code",
   "execution_count": 31,
   "metadata": {},
   "outputs": [
    {
     "ename": "ValueError",
     "evalue": "Layer predictions was called with an input that isn't a symbolic tensor. Received type: <class 'numpy.ndarray'>. Full input: [array([[[[0.7019608 , 0.50980395, 0.627451  ],\n         [0.68235296, 0.53333336, 0.6156863 ],\n         [0.6862745 , 0.5529412 , 0.61960787],\n         ...,\n         [0.06666667, 0.09019608, 0.09019608],\n         [0.10196079, 0.1254902 , 0.1254902 ],\n         [0.05882353, 0.0627451 , 0.07843138]],\n\n        [[0.7137255 , 0.52156866, 0.6392157 ],\n         [0.6901961 , 0.54509807, 0.62352943],\n         [0.6862745 , 0.5529412 , 0.61960787],\n         ...,\n         [0.0627451 , 0.08627451, 0.08235294],\n         [0.10196079, 0.12156863, 0.12156863],\n         [0.05490196, 0.05882353, 0.07450981]],\n\n        [[0.7254902 , 0.53333336, 0.6509804 ],\n         [0.7019608 , 0.5529412 , 0.63529414],\n         [0.6901961 , 0.5568628 , 0.62352943],\n         ...,\n         [0.07450981, 0.09411765, 0.09803922],\n         [0.11372549, 0.12941177, 0.13333334],\n         [0.0627451 , 0.0627451 , 0.08627451]],\n\n        ...,\n\n        [[0.5254902 , 0.37254903, 0.47058824],\n         [0.5411765 , 0.40392157, 0.50980395],\n         [0.6117647 , 0.49019608, 0.6117647 ],\n         ...,\n         [0.03529412, 0.02352941, 0.05098039],\n         [0.03137255, 0.02352941, 0.04705882],\n         [0.05490196, 0.04705882, 0.07058824]],\n\n        [[0.5019608 , 0.34901962, 0.44705883],\n         [0.5411765 , 0.4       , 0.5058824 ],\n         [0.5372549 , 0.41568628, 0.5372549 ],\n         ...,\n         [0.05882353, 0.05098039, 0.07450981],\n         [0.05882353, 0.05098039, 0.07450981],\n         [0.05490196, 0.04705882, 0.07058824]],\n\n        [[0.5294118 , 0.3764706 , 0.4745098 ],\n         [0.54901963, 0.40784314, 0.5137255 ],\n         [0.5921569 , 0.47058824, 0.5921569 ],\n         ...,\n         [0.04705882, 0.04313726, 0.06666667],\n         [0.04705882, 0.03921569, 0.05882353],\n         [0.03137255, 0.02352941, 0.04705882]]],\n\n\n       [[[0.98039216, 0.9490196 , 0.84313726],\n         [0.99215686, 0.96862745, 0.8627451 ],\n         [0.94509804, 0.9019608 , 0.79607844],\n         ...,\n         [0.7764706 , 0.5058824 , 0.3137255 ],\n         [0.73333335, 0.49019608, 0.3137255 ],\n         [0.6627451 , 0.4745098 , 0.3019608 ]],\n\n        [[0.99607843, 0.9529412 , 0.84705883],\n         [0.99607843, 0.9647059 , 0.85882354],\n         [0.99215686, 0.9607843 , 0.85490197],\n         ...,\n         [0.7529412 , 0.48235294, 0.2901961 ],\n         [0.64705884, 0.40392157, 0.22745098],\n         [0.72156864, 0.53333336, 0.3647059 ]],\n\n        [[0.9882353 , 0.9529412 , 0.84705883],\n         [0.9882353 , 0.9529412 , 0.8509804 ],\n         [1.        , 0.99607843, 0.8901961 ],\n         ...,\n         [0.7921569 , 0.5176471 , 0.32941177],\n         [0.63529414, 0.39215687, 0.21960784],\n         [0.8235294 , 0.63529414, 0.46666667]],\n\n        ...,\n\n        [[0.6784314 , 0.72156864, 0.4862745 ],\n         [0.69411767, 0.72156864, 0.49411765],\n         [0.54509807, 0.54509807, 0.32156864],\n         ...,\n         [0.6784314 , 0.69803923, 0.42745098],\n         [0.4       , 0.45490196, 0.19607843],\n         [0.45490196, 0.5372549 , 0.29411766]],\n\n        [[0.6784314 , 0.73333335, 0.5058824 ],\n         [0.6862745 , 0.7254902 , 0.5058824 ],\n         [0.5686275 , 0.5764706 , 0.36078432],\n         ...,\n         [0.64705884, 0.6745098 , 0.42745098],\n         [0.45882353, 0.5176471 , 0.27450982],\n         [0.5176471 , 0.6039216 , 0.36078432]],\n\n        [[0.7019608 , 0.7647059 , 0.54509807],\n         [0.627451  , 0.6745098 , 0.4627451 ],\n         [0.63529414, 0.6431373 , 0.4392157 ],\n         ...,\n         [0.64705884, 0.6745098 , 0.44705883],\n         [0.5568628 , 0.6117647 , 0.38431373],\n         [0.6313726 , 0.7176471 , 0.47843137]]],\n\n\n       [[[0.27450982, 0.34901962, 0.4509804 ],\n         [0.2627451 , 0.27450982, 0.32156864],\n         [0.31764707, 0.27450982, 0.28627452],\n         ...,\n         [0.05882353, 0.16862746, 0.13725491],\n         [0.01568628, 0.13725491, 0.10980392],\n         [0.03529412, 0.16078432, 0.12941177]],\n\n        [[0.29803923, 0.36078432, 0.44313726],\n         [0.31764707, 0.32156864, 0.34901962],\n         [0.36862746, 0.32156864, 0.30588236],\n         ...,\n         [0.07450981, 0.18039216, 0.14509805],\n         [0.04313726, 0.17254902, 0.14509805],\n         [0.03137255, 0.16078432, 0.13333334]],\n\n        [[0.30980393, 0.3529412 , 0.39607844],\n         [0.3372549 , 0.32156864, 0.3137255 ],\n         [0.4392157 , 0.3764706 , 0.3254902 ],\n         ...,\n         [0.07058824, 0.17254902, 0.14117648],\n         [0.07450981, 0.20392157, 0.1764706 ],\n         [0.03921569, 0.16862746, 0.14117648]],\n\n        ...,\n\n        [[0.18039216, 0.2784314 , 0.29411766],\n         [0.1882353 , 0.27058825, 0.2901961 ],\n         [0.23137255, 0.29411766, 0.31764707],\n         ...,\n         [0.37254903, 0.45882353, 0.5019608 ],\n         [0.34901962, 0.42352942, 0.45490196],\n         [0.3372549 , 0.4117647 , 0.44313726]],\n\n        [[0.10980392, 0.21568628, 0.23137255],\n         [0.19215687, 0.28235295, 0.3019608 ],\n         [0.25490198, 0.3137255 , 0.3372549 ],\n         ...,\n         [0.36862746, 0.45490196, 0.49803922],\n         [0.34901962, 0.42352942, 0.45490196],\n         [0.3372549 , 0.4117647 , 0.44313726]],\n\n        [[0.12941177, 0.23921569, 0.25490198],\n         [0.27058825, 0.35686275, 0.3764706 ],\n         [0.2901961 , 0.3647059 , 0.38431373],\n         ...,\n         [0.4       , 0.4862745 , 0.5294118 ],\n         [0.34509805, 0.41960785, 0.4509804 ],\n         [0.33333334, 0.40784314, 0.4392157 ]]],\n\n\n       ...,\n\n\n       [[[0.8784314 , 0.827451  , 0.7411765 ],\n         [0.8784314 , 0.827451  , 0.7411765 ],\n         [0.8784314 , 0.827451  , 0.7411765 ],\n         ...,\n         [0.8509804 , 0.8039216 , 0.69411767],\n         [0.8509804 , 0.8039216 , 0.69411767],\n         [0.8509804 , 0.8039216 , 0.69411767]],\n\n        [[0.8784314 , 0.827451  , 0.7411765 ],\n         [0.8784314 , 0.827451  , 0.7411765 ],\n         [0.8784314 , 0.827451  , 0.7411765 ],\n         ...,\n         [0.8509804 , 0.8039216 , 0.69411767],\n         [0.8509804 , 0.8039216 , 0.69411767],\n         [0.8509804 , 0.8039216 , 0.69411767]],\n\n        [[0.8784314 , 0.827451  , 0.7411765 ],\n         [0.8784314 , 0.827451  , 0.7411765 ],\n         [0.8784314 , 0.827451  , 0.7411765 ],\n         ...,\n         [0.8509804 , 0.8039216 , 0.69411767],\n         [0.8509804 , 0.8039216 , 0.69411767],\n         [0.8509804 , 0.8039216 , 0.69411767]],\n\n        ...,\n\n        [[0.50980395, 0.57254905, 0.6       ],\n         [0.5372549 , 0.6       , 0.627451  ],\n         [0.49019608, 0.5529412 , 0.5803922 ],\n         ...,\n         [0.6431373 , 0.69803923, 0.73333335],\n         [0.60784316, 0.6627451 , 0.70980394],\n         [0.6156863 , 0.67058825, 0.7176471 ]],\n\n        [[0.4745098 , 0.5372549 , 0.5647059 ],\n         [0.49411765, 0.5568628 , 0.5882353 ],\n         [0.45882353, 0.52156866, 0.54901963],\n         ...,\n         [0.67058825, 0.7294118 , 0.7647059 ],\n         [0.6039216 , 0.6627451 , 0.7058824 ],\n         [0.5921569 , 0.64705884, 0.69411767]],\n\n        [[0.42352942, 0.4862745 , 0.5137255 ],\n         [0.5411765 , 0.6039216 , 0.6313726 ],\n         [0.5137255 , 0.5803922 , 0.6039216 ],\n         ...,\n         [0.59607846, 0.654902  , 0.6901961 ],\n         [0.59607846, 0.6509804 , 0.69803923],\n         [0.59607846, 0.6509804 , 0.69803923]]],\n\n\n       [[[0.87058824, 0.80784315, 0.74509805],\n         [0.87058824, 0.80784315, 0.74509805],\n         [0.87058824, 0.80784315, 0.74509805],\n         ...,\n         [0.8862745 , 0.8235294 , 0.7764706 ],\n         [0.8862745 , 0.8235294 , 0.7764706 ],\n         [0.8862745 , 0.8235294 , 0.7764706 ]],\n\n        [[0.87058824, 0.80784315, 0.74509805],\n         [0.87058824, 0.80784315, 0.74509805],\n         [0.87058824, 0.80784315, 0.74509805],\n         ...,\n         [0.8862745 , 0.8235294 , 0.7764706 ],\n         [0.8862745 , 0.8235294 , 0.7764706 ],\n         [0.8862745 , 0.8235294 , 0.7764706 ]],\n\n        [[0.8745098 , 0.8117647 , 0.7490196 ],\n         [0.8745098 , 0.8117647 , 0.7490196 ],\n         [0.8745098 , 0.8117647 , 0.7490196 ],\n         ...,\n         [0.8862745 , 0.8235294 , 0.7764706 ],\n         [0.8862745 , 0.8235294 , 0.7764706 ],\n         [0.8862745 , 0.8235294 , 0.7764706 ]],\n\n        ...,\n\n        [[0.47058824, 0.5764706 , 0.7490196 ],\n         [0.53333336, 0.6431373 , 0.8039216 ],\n         [0.627451  , 0.7411765 , 0.89411765],\n         ...,\n         [0.39607844, 0.45882353, 0.57254905],\n         [0.39607844, 0.4627451 , 0.5686275 ],\n         [0.3882353 , 0.4627451 , 0.5686275 ]],\n\n        [[0.4627451 , 0.56078434, 0.7254902 ],\n         [0.41960785, 0.5176471 , 0.68235296],\n         [0.39215687, 0.49411765, 0.6509804 ],\n         ...,\n         [0.37254903, 0.4392157 , 0.54509807],\n         [0.3764706 , 0.43137255, 0.5411765 ],\n         [0.38431373, 0.45882353, 0.5647059 ]],\n\n        [[0.44705883, 0.5137255 , 0.6431373 ],\n         [0.44313726, 0.5176471 , 0.64705884],\n         [0.42352942, 0.5058824 , 0.6313726 ],\n         ...,\n         [0.34117648, 0.3882353 , 0.49803922],\n         [0.39607844, 0.44313726, 0.5529412 ],\n         [0.38039216, 0.44705883, 0.5529412 ]]],\n\n\n       [[[0.38039216, 0.36862746, 0.34117648],\n         [0.35686275, 0.34901962, 0.3254902 ],\n         [0.34901962, 0.3372549 , 0.31764707],\n         ...,\n         [0.6039216 , 0.58431375, 0.5803922 ],\n         [0.61960787, 0.6       , 0.59607846],\n         [0.54901963, 0.5294118 , 0.5254902 ]],\n\n        [[0.34117648, 0.32941177, 0.3019608 ],\n         [0.3529412 , 0.34117648, 0.32156864],\n         [0.3647059 , 0.3647059 , 0.34117648],\n         ...,\n         [0.56078434, 0.5411765 , 0.5372549 ],\n         [0.58431375, 0.5647059 , 0.56078434],\n         [0.5411765 , 0.52156866, 0.5176471 ]],\n\n        [[0.3019608 , 0.2901961 , 0.27058825],\n         [0.36078432, 0.35686275, 0.33333334],\n         [0.3019608 , 0.29803923, 0.28235295],\n         ...,\n         [0.5686275 , 0.54901963, 0.54509807],\n         [0.5921569 , 0.57254905, 0.5686275 ],\n         [0.59607846, 0.5764706 , 0.57254905]],\n\n        ...,\n\n        [[0.54901963, 0.5411765 , 0.5372549 ],\n         [0.54901963, 0.5411765 , 0.5372549 ],\n         [0.42745098, 0.41960785, 0.4117647 ],\n         ...,\n         [0.49019608, 0.47058824, 0.45882353],\n         [0.49019608, 0.47843137, 0.4627451 ],\n         [0.45882353, 0.44705883, 0.43137255]],\n\n        [[0.49411765, 0.4862745 , 0.48235294],\n         [0.50980395, 0.5019608 , 0.49803922],\n         [0.8235294 , 0.8156863 , 0.8117647 ],\n         ...,\n         [0.5019608 , 0.48235294, 0.47058824],\n         [0.61960787, 0.6156863 , 0.6       ],\n         [0.50980395, 0.5019608 , 0.4862745 ]],\n\n        [[0.5764706 , 0.57254905, 0.5882353 ],\n         [0.5764706 , 0.57254905, 0.5882353 ],\n         [0.7019608 , 0.69803923, 0.7058824 ],\n         ...,\n         [0.4509804 , 0.4117647 , 0.38431373],\n         [0.5686275 , 0.57254905, 0.5647059 ],\n         [0.52156866, 0.5254902 , 0.5176471 ]]]], dtype=float32)]. All inputs to the layer should be tensors.",
     "output_type": "error",
     "traceback": [
      "\u001b[0;31m---------------------------------------------------------------------------\u001b[0m",
      "\u001b[0;31mValueError\u001b[0m                                Traceback (most recent call last)",
      "\u001b[0;32m/Library/anaconda3/lib/python3.6/site-packages/keras/engine/topology.py\u001b[0m in \u001b[0;36massert_input_compatibility\u001b[0;34m(self, inputs)\u001b[0m\n\u001b[1;32m    418\u001b[0m             \u001b[0;32mtry\u001b[0m\u001b[0;34m:\u001b[0m\u001b[0;34m\u001b[0m\u001b[0m\n\u001b[0;32m--> 419\u001b[0;31m                 \u001b[0mK\u001b[0m\u001b[0;34m.\u001b[0m\u001b[0mis_keras_tensor\u001b[0m\u001b[0;34m(\u001b[0m\u001b[0mx\u001b[0m\u001b[0;34m)\u001b[0m\u001b[0;34m\u001b[0m\u001b[0m\n\u001b[0m\u001b[1;32m    420\u001b[0m             \u001b[0;32mexcept\u001b[0m \u001b[0mValueError\u001b[0m\u001b[0;34m:\u001b[0m\u001b[0;34m\u001b[0m\u001b[0m\n",
      "\u001b[0;32m/Library/anaconda3/lib/python3.6/site-packages/keras/backend/tensorflow_backend.py\u001b[0m in \u001b[0;36mis_keras_tensor\u001b[0;34m(x)\u001b[0m\n\u001b[1;32m    392\u001b[0m                           tf.SparseTensor)):\n\u001b[0;32m--> 393\u001b[0;31m         raise ValueError('Unexpectedly found an instance of type `' + str(type(x)) + '`. '\n\u001b[0m\u001b[1;32m    394\u001b[0m                          'Expected a symbolic tensor instance.')\n",
      "\u001b[0;31mValueError\u001b[0m: Unexpectedly found an instance of type `<class 'numpy.ndarray'>`. Expected a symbolic tensor instance.",
      "\nDuring handling of the above exception, another exception occurred:\n",
      "\u001b[0;31mValueError\u001b[0m                                Traceback (most recent call last)",
      "\u001b[0;32m<ipython-input-31-6cead0a4e6c0>\u001b[0m in \u001b[0;36m<module>\u001b[0;34m()\u001b[0m\n\u001b[1;32m      1\u001b[0m \u001b[0mlast_layer\u001b[0m \u001b[0;34m=\u001b[0m \u001b[0mmodelV3\u001b[0m\u001b[0;34m.\u001b[0m\u001b[0mget_layer\u001b[0m\u001b[0;34m(\u001b[0m\u001b[0;34m'avg_pool'\u001b[0m\u001b[0;34m)\u001b[0m\u001b[0;34m.\u001b[0m\u001b[0moutput\u001b[0m\u001b[0;34m\u001b[0m\u001b[0m\n\u001b[0;32m----> 2\u001b[0;31m \u001b[0mx\u001b[0m \u001b[0;34m=\u001b[0m \u001b[0mDense\u001b[0m\u001b[0;34m(\u001b[0m\u001b[0;36m128\u001b[0m\u001b[0;34m,\u001b[0m \u001b[0mactivation\u001b[0m\u001b[0;34m=\u001b[0m\u001b[0;34m'relu'\u001b[0m\u001b[0;34m,\u001b[0m \u001b[0mname\u001b[0m\u001b[0;34m=\u001b[0m\u001b[0;34m'predictions'\u001b[0m\u001b[0;34m)\u001b[0m\u001b[0;34m(\u001b[0m\u001b[0mx\u001b[0m\u001b[0;34m)\u001b[0m\u001b[0;34m\u001b[0m\u001b[0m\n\u001b[0m\u001b[1;32m      3\u001b[0m \u001b[0mout\u001b[0m \u001b[0;34m=\u001b[0m \u001b[0mDense\u001b[0m\u001b[0;34m(\u001b[0m\u001b[0mnum_classes\u001b[0m\u001b[0;34m,\u001b[0m \u001b[0mactivation\u001b[0m\u001b[0;34m=\u001b[0m\u001b[0;34m'softmax'\u001b[0m\u001b[0;34m,\u001b[0m \u001b[0mname\u001b[0m\u001b[0;34m=\u001b[0m\u001b[0;34m'output'\u001b[0m\u001b[0;34m)\u001b[0m\u001b[0;34m(\u001b[0m\u001b[0mx\u001b[0m\u001b[0;34m)\u001b[0m\u001b[0;34m\u001b[0m\u001b[0m\n\u001b[1;32m      4\u001b[0m \u001b[0mcustom_v3_model\u001b[0m \u001b[0;34m=\u001b[0m \u001b[0mModel\u001b[0m\u001b[0;34m(\u001b[0m\u001b[0mimage_input\u001b[0m\u001b[0;34m,\u001b[0m \u001b[0mout\u001b[0m\u001b[0;34m)\u001b[0m\u001b[0;34m\u001b[0m\u001b[0m\n",
      "\u001b[0;32m/Library/anaconda3/lib/python3.6/site-packages/keras/engine/topology.py\u001b[0m in \u001b[0;36m__call__\u001b[0;34m(self, inputs, **kwargs)\u001b[0m\n\u001b[1;32m    550\u001b[0m                 \u001b[0;31m# Raise exceptions in case the input is not compatible\u001b[0m\u001b[0;34m\u001b[0m\u001b[0;34m\u001b[0m\u001b[0m\n\u001b[1;32m    551\u001b[0m                 \u001b[0;31m# with the input_spec specified in the layer constructor.\u001b[0m\u001b[0;34m\u001b[0m\u001b[0;34m\u001b[0m\u001b[0m\n\u001b[0;32m--> 552\u001b[0;31m                 \u001b[0mself\u001b[0m\u001b[0;34m.\u001b[0m\u001b[0massert_input_compatibility\u001b[0m\u001b[0;34m(\u001b[0m\u001b[0minputs\u001b[0m\u001b[0;34m)\u001b[0m\u001b[0;34m\u001b[0m\u001b[0m\n\u001b[0m\u001b[1;32m    553\u001b[0m \u001b[0;34m\u001b[0m\u001b[0m\n\u001b[1;32m    554\u001b[0m                 \u001b[0;31m# Collect input shapes to build layer.\u001b[0m\u001b[0;34m\u001b[0m\u001b[0;34m\u001b[0m\u001b[0m\n",
      "\u001b[0;32m/Library/anaconda3/lib/python3.6/site-packages/keras/engine/topology.py\u001b[0m in \u001b[0;36massert_input_compatibility\u001b[0;34m(self, inputs)\u001b[0m\n\u001b[1;32m    423\u001b[0m                                  \u001b[0;34m'Received type: '\u001b[0m \u001b[0;34m+\u001b[0m\u001b[0;34m\u001b[0m\u001b[0m\n\u001b[1;32m    424\u001b[0m                                  \u001b[0mstr\u001b[0m\u001b[0;34m(\u001b[0m\u001b[0mtype\u001b[0m\u001b[0;34m(\u001b[0m\u001b[0mx\u001b[0m\u001b[0;34m)\u001b[0m\u001b[0;34m)\u001b[0m \u001b[0;34m+\u001b[0m \u001b[0;34m'. Full input: '\u001b[0m \u001b[0;34m+\u001b[0m\u001b[0;34m\u001b[0m\u001b[0m\n\u001b[0;32m--> 425\u001b[0;31m                                  \u001b[0mstr\u001b[0m\u001b[0;34m(\u001b[0m\u001b[0minputs\u001b[0m\u001b[0;34m)\u001b[0m \u001b[0;34m+\u001b[0m \u001b[0;34m'. All inputs to the layer '\u001b[0m\u001b[0;34m\u001b[0m\u001b[0m\n\u001b[0m\u001b[1;32m    426\u001b[0m                                  'should be tensors.')\n\u001b[1;32m    427\u001b[0m \u001b[0;34m\u001b[0m\u001b[0m\n",
      "\u001b[0;31mValueError\u001b[0m: Layer predictions was called with an input that isn't a symbolic tensor. Received type: <class 'numpy.ndarray'>. Full input: [array([[[[0.7019608 , 0.50980395, 0.627451  ],\n         [0.68235296, 0.53333336, 0.6156863 ],\n         [0.6862745 , 0.5529412 , 0.61960787],\n         ...,\n         [0.06666667, 0.09019608, 0.09019608],\n         [0.10196079, 0.1254902 , 0.1254902 ],\n         [0.05882353, 0.0627451 , 0.07843138]],\n\n        [[0.7137255 , 0.52156866, 0.6392157 ],\n         [0.6901961 , 0.54509807, 0.62352943],\n         [0.6862745 , 0.5529412 , 0.61960787],\n         ...,\n         [0.0627451 , 0.08627451, 0.08235294],\n         [0.10196079, 0.12156863, 0.12156863],\n         [0.05490196, 0.05882353, 0.07450981]],\n\n        [[0.7254902 , 0.53333336, 0.6509804 ],\n         [0.7019608 , 0.5529412 , 0.63529414],\n         [0.6901961 , 0.5568628 , 0.62352943],\n         ...,\n         [0.07450981, 0.09411765, 0.09803922],\n         [0.11372549, 0.12941177, 0.13333334],\n         [0.0627451 , 0.0627451 , 0.08627451]],\n\n        ...,\n\n        [[0.5254902 , 0.37254903, 0.47058824],\n         [0.5411765 , 0.40392157, 0.50980395],\n         [0.6117647 , 0.49019608, 0.6117647 ],\n         ...,\n         [0.03529412, 0.02352941, 0.05098039],\n         [0.03137255, 0.02352941, 0.04705882],\n         [0.05490196, 0.04705882, 0.07058824]],\n\n        [[0.5019608 , 0.34901962, 0.44705883],\n         [0.5411765 , 0.4       , 0.5058824 ],\n         [0.5372549 , 0.41568628, 0.5372549 ],\n         ...,\n         [0.05882353, 0.05098039, 0.07450981],\n         [0.05882353, 0.05098039, 0.07450981],\n         [0.05490196, 0.04705882, 0.07058824]],\n\n        [[0.5294118 , 0.3764706 , 0.4745098 ],\n         [0.54901963, 0.40784314, 0.5137255 ],\n         [0.5921569 , 0.47058824, 0.5921569 ],\n         ...,\n         [0.04705882, 0.04313726, 0.06666667],\n         [0.04705882, 0.03921569, 0.05882353],\n         [0.03137255, 0.02352941, 0.04705882]]],\n\n\n       [[[0.98039216, 0.9490196 , 0.84313726],\n         [0.99215686, 0.96862745, 0.8627451 ],\n         [0.94509804, 0.9019608 , 0.79607844],\n         ...,\n         [0.7764706 , 0.5058824 , 0.3137255 ],\n         [0.73333335, 0.49019608, 0.3137255 ],\n         [0.6627451 , 0.4745098 , 0.3019608 ]],\n\n        [[0.99607843, 0.9529412 , 0.84705883],\n         [0.99607843, 0.9647059 , 0.85882354],\n         [0.99215686, 0.9607843 , 0.85490197],\n         ...,\n         [0.7529412 , 0.48235294, 0.2901961 ],\n         [0.64705884, 0.40392157, 0.22745098],\n         [0.72156864, 0.53333336, 0.3647059 ]],\n\n        [[0.9882353 , 0.9529412 , 0.84705883],\n         [0.9882353 , 0.9529412 , 0.8509804 ],\n         [1.        , 0.99607843, 0.8901961 ],\n         ...,\n         [0.7921569 , 0.5176471 , 0.32941177],\n         [0.63529414, 0.39215687, 0.21960784],\n         [0.8235294 , 0.63529414, 0.46666667]],\n\n        ...,\n\n        [[0.6784314 , 0.72156864, 0.4862745 ],\n         [0.69411767, 0.72156864, 0.49411765],\n         [0.54509807, 0.54509807, 0.32156864],\n         ...,\n         [0.6784314 , 0.69803923, 0.42745098],\n         [0.4       , 0.45490196, 0.19607843],\n         [0.45490196, 0.5372549 , 0.29411766]],\n\n        [[0.6784314 , 0.73333335, 0.5058824 ],\n         [0.6862745 , 0.7254902 , 0.5058824 ],\n         [0.5686275 , 0.5764706 , 0.36078432],\n         ...,\n         [0.64705884, 0.6745098 , 0.42745098],\n         [0.45882353, 0.5176471 , 0.27450982],\n         [0.5176471 , 0.6039216 , 0.36078432]],\n\n        [[0.7019608 , 0.7647059 , 0.54509807],\n         [0.627451  , 0.6745098 , 0.4627451 ],\n         [0.63529414, 0.6431373 , 0.4392157 ],\n         ...,\n         [0.64705884, 0.6745098 , 0.44705883],\n         [0.5568628 , 0.6117647 , 0.38431373],\n         [0.6313726 , 0.7176471 , 0.47843137]]],\n\n\n       [[[0.27450982, 0.34901962, 0.4509804 ],\n         [0.2627451 , 0.27450982, 0.32156864],\n         [0.31764707, 0.27450982, 0.28627452],\n         ...,\n         [0.05882353, 0.16862746, 0.13725491],\n         [0.01568628, 0.13725491, 0.10980392],\n         [0.03529412, 0.16078432, 0.12941177]],\n\n        [[0.29803923, 0.36078432, 0.44313726],\n         [0.31764707, 0.32156864, 0.34901962],\n         [0.36862746, 0.32156864, 0.30588236],\n         ...,\n         [0.07450981, 0.18039216, 0.14509805],\n         [0.04313726, 0.17254902, 0.14509805],\n         [0.03137255, 0.16078432, 0.13333334]],\n\n        [[0.30980393, 0.3529412 , 0.39607844],\n         [0.3372549 , 0.32156864, 0.3137255 ],\n         [0.4392157 , 0.3764706 , 0.3254902 ],\n         ...,\n         [0.07058824, 0.17254902, 0.14117648],\n         [0.07450981, 0.20392157, 0.1764706 ],\n         [0.03921569, 0.16862746, 0.14117648]],\n\n        ...,\n\n        [[0.18039216, 0.2784314 , 0.29411766],\n         [0.1882353 , 0.27058825, 0.2901961 ],\n         [0.23137255, 0.29411766, 0.31764707],\n         ...,\n         [0.37254903, 0.45882353, 0.5019608 ],\n         [0.34901962, 0.42352942, 0.45490196],\n         [0.3372549 , 0.4117647 , 0.44313726]],\n\n        [[0.10980392, 0.21568628, 0.23137255],\n         [0.19215687, 0.28235295, 0.3019608 ],\n         [0.25490198, 0.3137255 , 0.3372549 ],\n         ...,\n         [0.36862746, 0.45490196, 0.49803922],\n         [0.34901962, 0.42352942, 0.45490196],\n         [0.3372549 , 0.4117647 , 0.44313726]],\n\n        [[0.12941177, 0.23921569, 0.25490198],\n         [0.27058825, 0.35686275, 0.3764706 ],\n         [0.2901961 , 0.3647059 , 0.38431373],\n         ...,\n         [0.4       , 0.4862745 , 0.5294118 ],\n         [0.34509805, 0.41960785, 0.4509804 ],\n         [0.33333334, 0.40784314, 0.4392157 ]]],\n\n\n       ...,\n\n\n       [[[0.8784314 , 0.827451  , 0.7411765 ],\n         [0.8784314 , 0.827451  , 0.7411765 ],\n         [0.8784314 , 0.827451  , 0.7411765 ],\n         ...,\n         [0.8509804 , 0.8039216 , 0.69411767],\n         [0.8509804 , 0.8039216 , 0.69411767],\n         [0.8509804 , 0.8039216 , 0.69411767]],\n\n        [[0.8784314 , 0.827451  , 0.7411765 ],\n         [0.8784314 , 0.827451  , 0.7411765 ],\n         [0.8784314 , 0.827451  , 0.7411765 ],\n         ...,\n         [0.8509804 , 0.8039216 , 0.69411767],\n         [0.8509804 , 0.8039216 , 0.69411767],\n         [0.8509804 , 0.8039216 , 0.69411767]],\n\n        [[0.8784314 , 0.827451  , 0.7411765 ],\n         [0.8784314 , 0.827451  , 0.7411765 ],\n         [0.8784314 , 0.827451  , 0.7411765 ],\n         ...,\n         [0.8509804 , 0.8039216 , 0.69411767],\n         [0.8509804 , 0.8039216 , 0.69411767],\n         [0.8509804 , 0.8039216 , 0.69411767]],\n\n        ...,\n\n        [[0.50980395, 0.57254905, 0.6       ],\n         [0.5372549 , 0.6       , 0.627451  ],\n         [0.49019608, 0.5529412 , 0.5803922 ],\n         ...,\n         [0.6431373 , 0.69803923, 0.73333335],\n         [0.60784316, 0.6627451 , 0.70980394],\n         [0.6156863 , 0.67058825, 0.7176471 ]],\n\n        [[0.4745098 , 0.5372549 , 0.5647059 ],\n         [0.49411765, 0.5568628 , 0.5882353 ],\n         [0.45882353, 0.52156866, 0.54901963],\n         ...,\n         [0.67058825, 0.7294118 , 0.7647059 ],\n         [0.6039216 , 0.6627451 , 0.7058824 ],\n         [0.5921569 , 0.64705884, 0.69411767]],\n\n        [[0.42352942, 0.4862745 , 0.5137255 ],\n         [0.5411765 , 0.6039216 , 0.6313726 ],\n         [0.5137255 , 0.5803922 , 0.6039216 ],\n         ...,\n         [0.59607846, 0.654902  , 0.6901961 ],\n         [0.59607846, 0.6509804 , 0.69803923],\n         [0.59607846, 0.6509804 , 0.69803923]]],\n\n\n       [[[0.87058824, 0.80784315, 0.74509805],\n         [0.87058824, 0.80784315, 0.74509805],\n         [0.87058824, 0.80784315, 0.74509805],\n         ...,\n         [0.8862745 , 0.8235294 , 0.7764706 ],\n         [0.8862745 , 0.8235294 , 0.7764706 ],\n         [0.8862745 , 0.8235294 , 0.7764706 ]],\n\n        [[0.87058824, 0.80784315, 0.74509805],\n         [0.87058824, 0.80784315, 0.74509805],\n         [0.87058824, 0.80784315, 0.74509805],\n         ...,\n         [0.8862745 , 0.8235294 , 0.7764706 ],\n         [0.8862745 , 0.8235294 , 0.7764706 ],\n         [0.8862745 , 0.8235294 , 0.7764706 ]],\n\n        [[0.8745098 , 0.8117647 , 0.7490196 ],\n         [0.8745098 , 0.8117647 , 0.7490196 ],\n         [0.8745098 , 0.8117647 , 0.7490196 ],\n         ...,\n         [0.8862745 , 0.8235294 , 0.7764706 ],\n         [0.8862745 , 0.8235294 , 0.7764706 ],\n         [0.8862745 , 0.8235294 , 0.7764706 ]],\n\n        ...,\n\n        [[0.47058824, 0.5764706 , 0.7490196 ],\n         [0.53333336, 0.6431373 , 0.8039216 ],\n         [0.627451  , 0.7411765 , 0.89411765],\n         ...,\n         [0.39607844, 0.45882353, 0.57254905],\n         [0.39607844, 0.4627451 , 0.5686275 ],\n         [0.3882353 , 0.4627451 , 0.5686275 ]],\n\n        [[0.4627451 , 0.56078434, 0.7254902 ],\n         [0.41960785, 0.5176471 , 0.68235296],\n         [0.39215687, 0.49411765, 0.6509804 ],\n         ...,\n         [0.37254903, 0.4392157 , 0.54509807],\n         [0.3764706 , 0.43137255, 0.5411765 ],\n         [0.38431373, 0.45882353, 0.5647059 ]],\n\n        [[0.44705883, 0.5137255 , 0.6431373 ],\n         [0.44313726, 0.5176471 , 0.64705884],\n         [0.42352942, 0.5058824 , 0.6313726 ],\n         ...,\n         [0.34117648, 0.3882353 , 0.49803922],\n         [0.39607844, 0.44313726, 0.5529412 ],\n         [0.38039216, 0.44705883, 0.5529412 ]]],\n\n\n       [[[0.38039216, 0.36862746, 0.34117648],\n         [0.35686275, 0.34901962, 0.3254902 ],\n         [0.34901962, 0.3372549 , 0.31764707],\n         ...,\n         [0.6039216 , 0.58431375, 0.5803922 ],\n         [0.61960787, 0.6       , 0.59607846],\n         [0.54901963, 0.5294118 , 0.5254902 ]],\n\n        [[0.34117648, 0.32941177, 0.3019608 ],\n         [0.3529412 , 0.34117648, 0.32156864],\n         [0.3647059 , 0.3647059 , 0.34117648],\n         ...,\n         [0.56078434, 0.5411765 , 0.5372549 ],\n         [0.58431375, 0.5647059 , 0.56078434],\n         [0.5411765 , 0.52156866, 0.5176471 ]],\n\n        [[0.3019608 , 0.2901961 , 0.27058825],\n         [0.36078432, 0.35686275, 0.33333334],\n         [0.3019608 , 0.29803923, 0.28235295],\n         ...,\n         [0.5686275 , 0.54901963, 0.54509807],\n         [0.5921569 , 0.57254905, 0.5686275 ],\n         [0.59607846, 0.5764706 , 0.57254905]],\n\n        ...,\n\n        [[0.54901963, 0.5411765 , 0.5372549 ],\n         [0.54901963, 0.5411765 , 0.5372549 ],\n         [0.42745098, 0.41960785, 0.4117647 ],\n         ...,\n         [0.49019608, 0.47058824, 0.45882353],\n         [0.49019608, 0.47843137, 0.4627451 ],\n         [0.45882353, 0.44705883, 0.43137255]],\n\n        [[0.49411765, 0.4862745 , 0.48235294],\n         [0.50980395, 0.5019608 , 0.49803922],\n         [0.8235294 , 0.8156863 , 0.8117647 ],\n         ...,\n         [0.5019608 , 0.48235294, 0.47058824],\n         [0.61960787, 0.6156863 , 0.6       ],\n         [0.50980395, 0.5019608 , 0.4862745 ]],\n\n        [[0.5764706 , 0.57254905, 0.5882353 ],\n         [0.5764706 , 0.57254905, 0.5882353 ],\n         [0.7019608 , 0.69803923, 0.7058824 ],\n         ...,\n         [0.4509804 , 0.4117647 , 0.38431373],\n         [0.5686275 , 0.57254905, 0.5647059 ],\n         [0.52156866, 0.5254902 , 0.5176471 ]]]], dtype=float32)]. All inputs to the layer should be tensors."
     ]
    }
   ],
   "source": [
    "last_layer = modelV3.get_layer('avg_pool').output\n",
    "x = Dense(128, activation='relu', name='predictions')(x)\n",
    "out = Dense(num_classes, activation='softmax', name='output')(x)\n",
    "custom_v3_model = Model(image_input, out)"
   ]
  },
  {
   "cell_type": "code",
   "execution_count": null,
   "metadata": {
    "collapsed": true
   },
   "outputs": [],
   "source": [
    "modelV3.summary()"
   ]
  },
  {
   "cell_type": "code",
   "execution_count": null,
   "metadata": {
    "collapsed": true
   },
   "outputs": [],
   "source": [
    "for layer in custom_v3_model.layers[:-1]:\n",
    "    layer.trainable = False"
   ]
  },
  {
   "cell_type": "code",
   "execution_count": null,
   "metadata": {
    "collapsed": true
   },
   "outputs": [],
   "source": [
    "custom_v3_model.compile(loss='categorical_crossentropy', optimizer='adadelta', metrics=['accuracy'])"
   ]
  },
  {
   "cell_type": "code",
   "execution_count": null,
   "metadata": {
    "collapsed": true
   },
   "outputs": [],
   "source": [
    "hist = custom_v3_model.fit(X_train, y_train, batch_size=32, epochs=8, verbose=1, validation_data=(X_test, y_test))"
   ]
  },
  {
   "cell_type": "code",
   "execution_count": null,
   "metadata": {
    "collapsed": true
   },
   "outputs": [],
   "source": [
    "(loss, accuracy) = custom_v3_model.evaluate(X_test, y_test, batch_size=10, verbose=1)\n",
    "\n",
    "print(\"[INFO] loss={:.4f}, accuracy: {:.4f}%\".format(loss,accuracy * 100))"
   ]
  }
 ],
 "metadata": {
  "kernelspec": {
   "display_name": "Python 3",
   "language": "python",
   "name": "python3"
  },
  "language_info": {
   "codemirror_mode": {
    "name": "ipython",
    "version": 3
   },
   "file_extension": ".py",
   "mimetype": "text/x-python",
   "name": "python",
   "nbconvert_exporter": "python",
   "pygments_lexer": "ipython3",
   "version": "3.6.2"
  }
 },
 "nbformat": 4,
 "nbformat_minor": 2
}
