{
 "cells": [
  {
   "cell_type": "markdown",
   "metadata": {},
   "source": [
    "## MLP vs CNN"
   ]
  },
  {
   "cell_type": "markdown",
   "metadata": {},
   "source": [
    "##### Keras model module\n",
    "\n",
    "    Import the Sequential model type from Keras. This is an interface to build a linear stack of neural network layers"
   ]
  },
  {
   "cell_type": "code",
   "execution_count": 20,
   "metadata": {
    "collapsed": true
   },
   "outputs": [],
   "source": [
    "from keras.models import Sequential"
   ]
  },
  {
   "cell_type": "markdown",
   "metadata": {},
   "source": [
    "##### Keras core layers\n",
    "    \n",
    "    Import the \"core\" layers from Keras. These are the layers that are used in almost any neural network:"
   ]
  },
  {
   "cell_type": "code",
   "execution_count": 21,
   "metadata": {
    "collapsed": true
   },
   "outputs": [],
   "source": [
    "from keras.layers import core"
   ]
  },
  {
   "cell_type": "markdown",
   "metadata": {},
   "source": [
    "##### Keras CNN layers\n",
    "\n",
    "     Import the CNN layers from Keras. These are the convolutional layers that will help us efficiently train on image data:"
   ]
  },
  {
   "cell_type": "code",
   "execution_count": 22,
   "metadata": {
    "collapsed": true
   },
   "outputs": [],
   "source": [
    "from keras.layers import convolutional, pooling"
   ]
  },
  {
   "cell_type": "markdown",
   "metadata": {},
   "source": [
    "#### Load image data from MNIST.\n",
    "\n",
    "    MNIST database of handwritten digits\n",
    "\n",
    "    Dataset of 60,000 28x28 grayscale images of the 10 digits, along with a test set of 10,000 images."
   ]
  },
  {
   "cell_type": "code",
   "execution_count": 23,
   "metadata": {
    "collapsed": true
   },
   "outputs": [],
   "source": [
    "from keras.datasets import mnist\n",
    " \n",
    "# Load pre-shuffled MNIST data into train and test sets\n",
    "(X_train, y_train), (X_test, y_test) = mnist.load_data()"
   ]
  },
  {
   "cell_type": "markdown",
   "metadata": {},
   "source": [
    "Returns:\n",
    "\n",
    "    2 tuples:\n",
    "            x_train, x_test: uint8 array of grayscale image data with shape (num_samples, 28, 28).\n",
    "            y_train, y_test: uint8 array of digit labels (integers in range 0-9) with shape (num_samples,).\n",
    "\n",
    "Arguments:\n",
    "\n",
    "    path: if you do not have the index file locally (at '~/.keras/datasets/' + path), it will be downloaded to this location.\n"
   ]
  },
  {
   "cell_type": "markdown",
   "metadata": {},
   "source": [
    "Look at the shape of the dataset:"
   ]
  },
  {
   "cell_type": "code",
   "execution_count": 24,
   "metadata": {},
   "outputs": [
    {
     "name": "stdout",
     "output_type": "stream",
     "text": [
      "(60000, 28, 28) (60000,) (10000, 28, 28) (10000,)\n"
     ]
    }
   ],
   "source": [
    "print (X_train.shape, y_train.shape, X_test.shape, y_test.shape)"
   ]
  },
  {
   "cell_type": "markdown",
   "metadata": {},
   "source": [
    "## MLP for MNIST Digit Recognition"
   ]
  },
  {
   "cell_type": "markdown",
   "metadata": {},
   "source": [
    "### Prepare MNIST Data for MLP"
   ]
  },
  {
   "cell_type": "markdown",
   "metadata": {},
   "source": [
    "Convert our data type to float32 and normalize our data values to the range [0, 1]\n",
    "\n",
    "Note: Max value X_train/X_test can take is 255, so it is divided by 255"
   ]
  },
  {
   "cell_type": "code",
   "execution_count": 25,
   "metadata": {
    "collapsed": true
   },
   "outputs": [],
   "source": [
    "X_train = X_train.astype('float32')\n",
    "X_test = X_test.astype('float32')\n",
    "X_train /= 255\n",
    "X_test /= 255"
   ]
  },
  {
   "cell_type": "markdown",
   "metadata": {},
   "source": [
    "#### Preprocess class labels for Keras"
   ]
  },
  {
   "cell_type": "markdown",
   "metadata": {},
   "source": [
    "Look at the shape of our class label data"
   ]
  },
  {
   "cell_type": "code",
   "execution_count": 26,
   "metadata": {},
   "outputs": [
    {
     "name": "stdout",
     "output_type": "stream",
     "text": [
      "(60000,)\n"
     ]
    }
   ],
   "source": [
    "print (y_train.shape)"
   ]
  },
  {
   "cell_type": "markdown",
   "metadata": {},
   "source": [
    "We should have 10 different classes, one for each digit, but it looks like we only have a 1-dimensional array."
   ]
  },
  {
   "cell_type": "code",
   "execution_count": 27,
   "metadata": {},
   "outputs": [
    {
     "name": "stdout",
     "output_type": "stream",
     "text": [
      "[5 0 4 1 9 2 1 3 1 4]\n"
     ]
    }
   ],
   "source": [
    "print (y_train[:10])"
   ]
  },
  {
   "cell_type": "markdown",
   "metadata": {
    "collapsed": true
   },
   "source": [
    "##### Convert 1-dimensional class arrays to 10-dimensional class matrices"
   ]
  },
  {
   "cell_type": "code",
   "execution_count": 28,
   "metadata": {
    "collapsed": true
   },
   "outputs": [],
   "source": [
    "from keras.utils import to_categorical"
   ]
  },
  {
   "cell_type": "code",
   "execution_count": 29,
   "metadata": {
    "collapsed": true
   },
   "outputs": [],
   "source": [
    "Y_train = to_categorical(y_train, 10)\n",
    "Y_test = to_categorical(y_test, 10)"
   ]
  },
  {
   "cell_type": "markdown",
   "metadata": {},
   "source": [
    "Take another look:"
   ]
  },
  {
   "cell_type": "code",
   "execution_count": 30,
   "metadata": {},
   "outputs": [
    {
     "name": "stdout",
     "output_type": "stream",
     "text": [
      "(60000, 10)\n"
     ]
    }
   ],
   "source": [
    "print (Y_train.shape)"
   ]
  },
  {
   "cell_type": "code",
   "execution_count": 31,
   "metadata": {},
   "outputs": [
    {
     "name": "stdout",
     "output_type": "stream",
     "text": [
      "[[0. 0. 0. ... 0. 0. 0.]\n",
      " [1. 0. 0. ... 0. 0. 0.]\n",
      " [0. 0. 0. ... 0. 0. 0.]\n",
      " ...\n",
      " [0. 0. 0. ... 0. 0. 0.]\n",
      " [0. 0. 0. ... 0. 0. 0.]\n",
      " [0. 0. 0. ... 0. 1. 0.]]\n"
     ]
    }
   ],
   "source": [
    "print (Y_train)"
   ]
  },
  {
   "cell_type": "code",
   "execution_count": 32,
   "metadata": {
    "collapsed": true
   },
   "outputs": [],
   "source": [
    "# Same number of samples, but flatten the 28, 28 to 28*28 (784)\n",
    "\n",
    "X_train_mlp = X_train.reshape(X_train.shape[0], X_train.shape[1] * X_train.shape[2])\n",
    "\n",
    "X_test_mlp = X_test.reshape(X_test.shape[0], X_test.shape[1] * X_test.shape[2])\n"
   ]
  },
  {
   "cell_type": "code",
   "execution_count": 33,
   "metadata": {},
   "outputs": [
    {
     "name": "stdout",
     "output_type": "stream",
     "text": [
      "(60000, 784) (60000,) (10000, 28, 28) (10000,)\n"
     ]
    }
   ],
   "source": [
    "print (X_train_mlp.shape, y_train.shape, X_test.shape, y_test.shape)"
   ]
  },
  {
   "cell_type": "code",
   "execution_count": 34,
   "metadata": {
    "collapsed": true
   },
   "outputs": [],
   "source": [
    "from keras.models import Sequential\n",
    "from keras.layers.core import Activation, Dense, Dropout\n",
    "from keras.layers.normalization import BatchNormalization"
   ]
  },
  {
   "cell_type": "code",
   "execution_count": 35,
   "metadata": {
    "collapsed": true
   },
   "outputs": [],
   "source": [
    "model = Sequential()\n",
    "model.add(Dense(512, input_shape=(784,)))\n",
    "model.add(Activation(\"relu\"))\n",
    "model.add(Dropout(0.2))\n",
    "model.add(BatchNormalization())\n",
    "model.add(Dense(256))\n",
    "model.add(Activation(\"relu\"))\n",
    "model.add(Dropout(0.2))\n",
    "model.add(BatchNormalization())\n",
    "model.add(Dense(10))\n",
    "model.add(Activation(\"softmax\"))"
   ]
  },
  {
   "cell_type": "code",
   "execution_count": 36,
   "metadata": {},
   "outputs": [
    {
     "name": "stdout",
     "output_type": "stream",
     "text": [
      "_________________________________________________________________\n",
      "Layer (type)                 Output Shape              Param #   \n",
      "=================================================================\n",
      "dense_4 (Dense)              (None, 512)               401920    \n",
      "_________________________________________________________________\n",
      "activation_4 (Activation)    (None, 512)               0         \n",
      "_________________________________________________________________\n",
      "dropout_3 (Dropout)          (None, 512)               0         \n",
      "_________________________________________________________________\n",
      "batch_normalization_3 (Batch (None, 512)               2048      \n",
      "_________________________________________________________________\n",
      "dense_5 (Dense)              (None, 256)               131328    \n",
      "_________________________________________________________________\n",
      "activation_5 (Activation)    (None, 256)               0         \n",
      "_________________________________________________________________\n",
      "dropout_4 (Dropout)          (None, 256)               0         \n",
      "_________________________________________________________________\n",
      "batch_normalization_4 (Batch (None, 256)               1024      \n",
      "_________________________________________________________________\n",
      "dense_6 (Dense)              (None, 10)                2570      \n",
      "_________________________________________________________________\n",
      "activation_6 (Activation)    (None, 10)                0         \n",
      "=================================================================\n",
      "Total params: 538,890\n",
      "Trainable params: 537,354\n",
      "Non-trainable params: 1,536\n",
      "_________________________________________________________________\n"
     ]
    }
   ],
   "source": [
    "model.summary()"
   ]
  },
  {
   "cell_type": "code",
   "execution_count": 37,
   "metadata": {
    "collapsed": true
   },
   "outputs": [],
   "source": [
    "model.compile(loss=\"categorical_crossentropy\", optimizer=\"adam\", metrics=[\"accuracy\"])"
   ]
  },
  {
   "cell_type": "code",
   "execution_count": 47,
   "metadata": {
    "scrolled": true
   },
   "outputs": [
    {
     "name": "stdout",
     "output_type": "stream",
     "text": [
      "Train on 48000 samples, validate on 12000 samples\n",
      "Epoch 1/40\n",
      "48000/48000 [==============================] - 0s 6us/step - loss: 0.0019 - acc: 0.9997 - val_loss: 0.0679 - val_acc: 0.9824\n",
      "Epoch 2/40\n",
      "48000/48000 [==============================] - 0s 6us/step - loss: 0.0018 - acc: 0.9998 - val_loss: 0.0679 - val_acc: 0.9824\n",
      "Epoch 3/40\n",
      "48000/48000 [==============================] - 0s 6us/step - loss: 0.0018 - acc: 0.9997 - val_loss: 0.0679 - val_acc: 0.9824\n",
      "Epoch 4/40\n",
      "48000/48000 [==============================] - 0s 5us/step - loss: 0.0018 - acc: 0.9997 - val_loss: 0.0679 - val_acc: 0.9824\n",
      "Epoch 5/40\n",
      "48000/48000 [==============================] - 0s 6us/step - loss: 0.0017 - acc: 0.9997 - val_loss: 0.0679 - val_acc: 0.9824\n",
      "Epoch 6/40\n",
      "48000/48000 [==============================] - 0s 6us/step - loss: 0.0018 - acc: 0.9998 - val_loss: 0.0679 - val_acc: 0.9824\n",
      "Epoch 7/40\n",
      "48000/48000 [==============================] - 0s 6us/step - loss: 0.0017 - acc: 0.9997 - val_loss: 0.0679 - val_acc: 0.9824\n",
      "Epoch 8/40\n",
      "48000/48000 [==============================] - 0s 6us/step - loss: 0.0018 - acc: 0.9997 - val_loss: 0.0679 - val_acc: 0.9824\n",
      "Epoch 9/40\n",
      "48000/48000 [==============================] - 0s 6us/step - loss: 0.0018 - acc: 0.9998 - val_loss: 0.0679 - val_acc: 0.9824\n",
      "Epoch 10/40\n",
      "48000/48000 [==============================] - 0s 5us/step - loss: 0.0016 - acc: 0.9998 - val_loss: 0.0679 - val_acc: 0.9825\n",
      "Epoch 11/40\n",
      "48000/48000 [==============================] - 0s 6us/step - loss: 0.0019 - acc: 0.9997 - val_loss: 0.0679 - val_acc: 0.9825\n",
      "Epoch 12/40\n",
      "48000/48000 [==============================] - 0s 6us/step - loss: 0.0020 - acc: 0.9996 - val_loss: 0.0679 - val_acc: 0.9826\n",
      "Epoch 13/40\n",
      "48000/48000 [==============================] - 0s 6us/step - loss: 0.0017 - acc: 0.9998 - val_loss: 0.0679 - val_acc: 0.9826\n",
      "Epoch 14/40\n",
      "48000/48000 [==============================] - 0s 6us/step - loss: 0.0018 - acc: 0.9998 - val_loss: 0.0680 - val_acc: 0.9826\n",
      "Epoch 15/40\n",
      "48000/48000 [==============================] - 0s 5us/step - loss: 0.0017 - acc: 0.9998 - val_loss: 0.0680 - val_acc: 0.9826\n",
      "Epoch 16/40\n",
      "48000/48000 [==============================] - 0s 6us/step - loss: 0.0019 - acc: 0.9997 - val_loss: 0.0680 - val_acc: 0.9826\n",
      "Epoch 17/40\n",
      "48000/48000 [==============================] - 0s 7us/step - loss: 0.0017 - acc: 0.9998 - val_loss: 0.0680 - val_acc: 0.9827\n",
      "Epoch 18/40\n",
      "48000/48000 [==============================] - 0s 6us/step - loss: 0.0019 - acc: 0.9997 - val_loss: 0.0680 - val_acc: 0.9827\n",
      "Epoch 19/40\n",
      "48000/48000 [==============================] - 0s 6us/step - loss: 0.0019 - acc: 0.9997 - val_loss: 0.0680 - val_acc: 0.9827\n",
      "Epoch 20/40\n",
      "48000/48000 [==============================] - 0s 6us/step - loss: 0.0017 - acc: 0.9997 - val_loss: 0.0680 - val_acc: 0.9827\n",
      "Epoch 21/40\n",
      "48000/48000 [==============================] - 0s 6us/step - loss: 0.0017 - acc: 0.9997 - val_loss: 0.0680 - val_acc: 0.9827\n",
      "Epoch 22/40\n",
      "48000/48000 [==============================] - 0s 6us/step - loss: 0.0020 - acc: 0.9996 - val_loss: 0.0680 - val_acc: 0.9827\n",
      "Epoch 23/40\n",
      "48000/48000 [==============================] - 0s 6us/step - loss: 0.0016 - acc: 0.9999 - val_loss: 0.0680 - val_acc: 0.9827\n",
      "Epoch 24/40\n",
      "48000/48000 [==============================] - 0s 6us/step - loss: 0.0015 - acc: 0.9998 - val_loss: 0.0680 - val_acc: 0.9827\n",
      "Epoch 25/40\n",
      "48000/48000 [==============================] - 0s 6us/step - loss: 0.0020 - acc: 0.9997 - val_loss: 0.0680 - val_acc: 0.9827\n",
      "Epoch 26/40\n",
      "48000/48000 [==============================] - 0s 6us/step - loss: 0.0022 - acc: 0.9996 - val_loss: 0.0680 - val_acc: 0.9827\n",
      "Epoch 27/40\n",
      "48000/48000 [==============================] - 0s 5us/step - loss: 0.0017 - acc: 0.9998 - val_loss: 0.0680 - val_acc: 0.9827\n",
      "Epoch 28/40\n",
      "48000/48000 [==============================] - 0s 6us/step - loss: 0.0020 - acc: 0.9997 - val_loss: 0.0680 - val_acc: 0.9827\n",
      "Epoch 29/40\n",
      "48000/48000 [==============================] - 0s 5us/step - loss: 0.0018 - acc: 0.9997 - val_loss: 0.0680 - val_acc: 0.9827\n",
      "Epoch 30/40\n",
      "48000/48000 [==============================] - 0s 5us/step - loss: 0.0018 - acc: 0.9997 - val_loss: 0.0681 - val_acc: 0.9827\n",
      "Epoch 31/40\n",
      "48000/48000 [==============================] - 0s 5us/step - loss: 0.0019 - acc: 0.9996 - val_loss: 0.0681 - val_acc: 0.9827\n",
      "Epoch 32/40\n",
      "48000/48000 [==============================] - 0s 6us/step - loss: 0.0019 - acc: 0.9996 - val_loss: 0.0681 - val_acc: 0.9827\n",
      "Epoch 33/40\n",
      "48000/48000 [==============================] - 0s 6us/step - loss: 0.0018 - acc: 0.9998 - val_loss: 0.0681 - val_acc: 0.9827\n",
      "Epoch 34/40\n",
      "48000/48000 [==============================] - 0s 6us/step - loss: 0.0019 - acc: 0.9995 - val_loss: 0.0681 - val_acc: 0.9827\n",
      "Epoch 35/40\n",
      "48000/48000 [==============================] - 0s 6us/step - loss: 0.0019 - acc: 0.9996 - val_loss: 0.0681 - val_acc: 0.9827\n",
      "Epoch 36/40\n",
      "48000/48000 [==============================] - 0s 6us/step - loss: 0.0017 - acc: 0.9997 - val_loss: 0.0681 - val_acc: 0.9827\n",
      "Epoch 37/40\n",
      "48000/48000 [==============================] - 0s 6us/step - loss: 0.0017 - acc: 0.9997 - val_loss: 0.0681 - val_acc: 0.9827\n",
      "Epoch 38/40\n",
      "48000/48000 [==============================] - 0s 6us/step - loss: 0.0018 - acc: 0.9997 - val_loss: 0.0681 - val_acc: 0.9827\n",
      "Epoch 39/40\n",
      "48000/48000 [==============================] - 0s 6us/step - loss: 0.0017 - acc: 0.9997 - val_loss: 0.0681 - val_acc: 0.9827\n",
      "Epoch 40/40\n",
      "48000/48000 [==============================] - 0s 6us/step - loss: 0.0017 - acc: 0.9998 - val_loss: 0.0681 - val_acc: 0.9827\n"
     ]
    }
   ],
   "source": [
    "history = model.fit(X_train_mlp, Y_train, validation_split = 0.2,\n",
    "                    batch_size = 48000, epochs = 40)"
   ]
  },
  {
   "cell_type": "code",
   "execution_count": 48,
   "metadata": {
    "collapsed": true
   },
   "outputs": [],
   "source": [
    "import matplotlib.pyplot as plt"
   ]
  },
  {
   "cell_type": "code",
   "execution_count": 49,
   "metadata": {},
   "outputs": [
    {
     "data": {
      "image/png": "[encoded data removed]",
      "text/plain": [
       "<matplotlib.figure.Figure at 0x21de1927518>"
      ]
     },
     "metadata": {},
     "output_type": "display_data"
    }
   ],
   "source": [
    "plt.plot(history.history[\"loss\"])\n",
    "plt.plot(history.history[\"val_loss\"])\n",
    "plt.title(\"Model Loss\")\n",
    "plt.xlabel(\"Epoch\")\n",
    "plt.ylabel(\"Loss\")\n",
    "plt.legend([\"train\", \"validation\"], loc=\"upper left\")\n",
    "plt.show()"
   ]
  },
  {
   "cell_type": "code",
   "execution_count": 50,
   "metadata": {},
   "outputs": [
    {
     "data": {
      "image/png": "[encoded data removed]",
      "text/plain": [
       "<matplotlib.figure.Figure at 0x21c7036c240>"
      ]
     },
     "metadata": {},
     "output_type": "display_data"
    }
   ],
   "source": [
    "plt.plot(history.history[\"acc\"])\n",
    "plt.plot(history.history[\"val_acc\"])\n",
    "plt.title(\"Model Accuracy\")\n",
    "plt.xlabel(\"Epoch\")\n",
    "plt.ylabel(\"Accuracy\")\n",
    "plt.legend([\"train\", \"validation\"], loc=\"upper left\")\n",
    "plt.show()"
   ]
  },
  {
   "cell_type": "code",
   "execution_count": 51,
   "metadata": {},
   "outputs": [
    {
     "name": "stdout",
     "output_type": "stream",
     "text": [
      "[INFO] test score - 0.05498260830409308\n",
      "[INFO] test accuracy - 0.9862\n"
     ]
    }
   ],
   "source": [
    "scores = model.evaluate(X_test_mlp, Y_test, verbose=0)\n",
    "\n",
    "print(\"[INFO] test score - {}\".format(scores[0]))\n",
    "\n",
    "print(\"[INFO] test accuracy - {}\".format(scores[1]))"
   ]
  },
  {
   "cell_type": "markdown",
   "metadata": {},
   "source": [
    "## Understanding Convolutions"
   ]
  },
  {
   "cell_type": "markdown",
   "metadata": {},
   "source": [
    "![](img/convolutions.gif)"
   ]
  },
  {
   "cell_type": "markdown",
   "metadata": {},
   "source": [
    "![](img/convolution_matrix.gif)"
   ]
  },
  {
   "cell_type": "markdown",
   "metadata": {},
   "source": [
    "### Output Feature Map Dimensions after Convolving"
   ]
  },
  {
   "cell_type": "markdown",
   "metadata": {},
   "source": [
    "![](img/conv_output_feature_map_formula.png)"
   ]
  },
  {
   "cell_type": "markdown",
   "metadata": {},
   "source": [
    "        W - Width of the input feature map\n",
    "        \n",
    "        K - Width of the Kernel / Filter\n",
    "        \n",
    "        P - Padding Layer dimension\n",
    "        \n",
    "        S - Stride"
   ]
  },
  {
   "cell_type": "markdown",
   "metadata": {},
   "source": [
    "### Zero Padding in Keras"
   ]
  },
  {
   "cell_type": "markdown",
   "metadata": {},
   "source": [
    "  In Keras we have two types of Padding:\n",
    "    \n",
    "      (i) Valid Padding : Any layer that does not fully intersect with the filter is ignored (NO PADDING!)\n",
    "        \n",
    "      (ii) Same Padding : Adds Zero Padding such that the output feature map has similar dimensions to the input                      feature map"
   ]
  },
  {
   "cell_type": "markdown",
   "metadata": {},
   "source": [
    "![](img/zero_padding.png)"
   ]
  },
  {
   "cell_type": "markdown",
   "metadata": {},
   "source": [
    "![](img/same_padding.gif)"
   ]
  },
  {
   "cell_type": "markdown",
   "metadata": {},
   "source": [
    "## CNN for MNIST Digit Recognition"
   ]
  },
  {
   "cell_type": "markdown",
   "metadata": {},
   "source": [
    "#### Preprocess input data for Keras"
   ]
  },
  {
   "cell_type": "code",
   "execution_count": 52,
   "metadata": {},
   "outputs": [
    {
     "name": "stdout",
     "output_type": "stream",
     "text": [
      "60000\n"
     ]
    }
   ],
   "source": [
    "print (X_train.shape[0])"
   ]
  },
  {
   "cell_type": "markdown",
   "metadata": {},
   "source": [
    "Reshape input data\n",
    "\n",
    "    When using the tensorflow backend, you must explicitly declare a dimension for the depth of the input image. \n",
    "    E.g. a full-color image with all 3 RGB channels will have a depth of 3.\n",
    "\n",
    "    Our MNIST images only have a depth of 1, but we must explicitly declare that. \n",
    "\n",
    "    In other words, we want to transform our dataset from having shape (n, width, height) to (n, width, height, channel)."
   ]
  },
  {
   "cell_type": "code",
   "execution_count": 53,
   "metadata": {
    "collapsed": true
   },
   "outputs": [],
   "source": [
    "X_train_cnn = X_train.reshape(X_train.shape[0], X_train.shape[1], X_train.shape[2], 1)\n",
    "X_test_cnn = X_test.reshape(X_test.shape[0], 28, 28, 1)"
   ]
  },
  {
   "cell_type": "markdown",
   "metadata": {
    "collapsed": true
   },
   "source": [
    " print X_train's dimensions"
   ]
  },
  {
   "cell_type": "code",
   "execution_count": 54,
   "metadata": {},
   "outputs": [
    {
     "name": "stdout",
     "output_type": "stream",
     "text": [
      "(60000, 28, 28)\n",
      "(60000, 28, 28, 1)\n"
     ]
    }
   ],
   "source": [
    "print (X_train.shape)\n",
    "print (X_train_cnn.shape)"
   ]
  },
  {
   "cell_type": "markdown",
   "metadata": {},
   "source": [
    "#### Define model architecture."
   ]
  },
  {
   "cell_type": "markdown",
   "metadata": {},
   "source": [
    "Declaring a sequential model"
   ]
  },
  {
   "cell_type": "code",
   "execution_count": 55,
   "metadata": {
    "collapsed": true
   },
   "outputs": [],
   "source": [
    "cnn_model = Sequential()"
   ]
  },
  {
   "cell_type": "markdown",
   "metadata": {},
   "source": [
    "Declare the input layer\n",
    "\n",
    "CNN input layer"
   ]
  },
  {
   "cell_type": "code",
   "execution_count": 56,
   "metadata": {
    "collapsed": true
   },
   "outputs": [],
   "source": [
    "from keras.layers.convolutional import Conv2D"
   ]
  },
  {
   "cell_type": "code",
   "execution_count": 57,
   "metadata": {
    "collapsed": true
   },
   "outputs": [],
   "source": [
    "cnn_model.add(Conv2D(filters = 64, kernel_size = (3, 3), strides = (1,1), activation='relu', input_shape=(28,28,1)))"
   ]
  },
  {
   "cell_type": "markdown",
   "metadata": {
    "collapsed": true
   },
   "source": [
    "###### 2D convolution layer (e.g. spatial convolution over images).\n",
    "\n",
    "This layer creates a convolution kernel that is convolved with the layer input to produce a tensor of outputs. If use_bias is True, a bias vector is created and added to the outputs. Finally, if activation is not None, it is applied to the outputs as well.\n",
    "\n",
    "When using this layer as the first layer in a model, provide the keyword argument input_shape (tuple of integers, does not include the sample axis), e.g. input_shape=(28, 28, 1) for 28x28 gray pictures in data_format=\"channels_last\".\n",
    "\n",
    "First parameters correspond to the number of convolution filters \n",
    "\n",
    "Next 2 parameters correspond to kernal size"
   ]
  },
  {
   "cell_type": "markdown",
   "metadata": {},
   "source": [
    "###### Add more layers to our model"
   ]
  },
  {
   "cell_type": "markdown",
   "metadata": {},
   "source": [
    "![](img/max_pooling.jpg)"
   ]
  },
  {
   "cell_type": "code",
   "execution_count": 58,
   "metadata": {
    "collapsed": true
   },
   "outputs": [],
   "source": [
    "from keras.layers.pooling import MaxPooling2D"
   ]
  },
  {
   "cell_type": "code",
   "execution_count": 59,
   "metadata": {
    "collapsed": true
   },
   "outputs": [],
   "source": [
    "cnn_model.add(Conv2D(filters = 32, kernel_size = (3, 3), strides = (1,1), activation='relu'))\n",
    "cnn_model.add(MaxPooling2D(pool_size=(2, 2)))\n",
    "cnn_model.add(Dropout(0.25))"
   ]
  },
  {
   "cell_type": "code",
   "execution_count": 60,
   "metadata": {
    "collapsed": true
   },
   "outputs": [],
   "source": [
    "cnn_model.add(Conv2D(filters = 64, kernel_size = (3, 3), strides = (1,1), activation='relu'))\n",
    "cnn_model.add(MaxPooling2D(pool_size=(2, 2)))\n",
    "cnn_model.add(Dropout(0.25))"
   ]
  },
  {
   "cell_type": "code",
   "execution_count": 61,
   "metadata": {
    "collapsed": true
   },
   "outputs": [],
   "source": [
    "cnn_model.add(Conv2D(filters = 32, kernel_size = (3, 3), strides = (1,1), activation='relu'))\n",
    "cnn_model.add(MaxPooling2D(pool_size=(2, 2)))\n",
    "cnn_model.add(Dropout(0.25))"
   ]
  },
  {
   "cell_type": "markdown",
   "metadata": {},
   "source": [
    "Dropout\n",
    "\n",
    "    This is a method for regularizing our model in order to prevent overfitting. \n",
    "\n",
    "MaxPooling2D \n",
    "\n",
    "    Is a way to reduce the number of parameters in our model by sliding a 2x2 pooling filter across the previous layer and taking the max of the 4 values in the 2x2 filter.\n",
    "\n",
    "So far, for model parameters, we've added two Convolution layers. To complete our model architecture, let's add a fully connected layer and then the output layer"
   ]
  },
  {
   "cell_type": "code",
   "execution_count": 62,
   "metadata": {
    "collapsed": true
   },
   "outputs": [],
   "source": [
    "from keras.layers.core import Flatten"
   ]
  },
  {
   "cell_type": "code",
   "execution_count": 63,
   "metadata": {
    "collapsed": true
   },
   "outputs": [],
   "source": [
    "cnn_model.add(Flatten())\n",
    "cnn_model.add(BatchNormalization())\n",
    "cnn_model.add(Dense(128, activation='relu'))\n",
    "cnn_model.add(Dropout(0.5))\n",
    "cnn_model.add(BatchNormalization())\n",
    "cnn_model.add(Dense(10, activation='softmax'))"
   ]
  },
  {
   "cell_type": "markdown",
   "metadata": {},
   "source": [
    "For Dense layers, the first parameter is the output size of the layer. Keras automatically handles the connections between layers.\n",
    "\n",
    "Note that the final layer has an output size of 10, corresponding to the 10 classes of digits.\n",
    "\n",
    "Also note that the weights from the Convolution layers must be flattened (made 1-dimensional) before passing them to the fully connected Dense layer."
   ]
  },
  {
   "cell_type": "markdown",
   "metadata": {},
   "source": [
    "#### Compile model"
   ]
  },
  {
   "cell_type": "markdown",
   "metadata": {},
   "source": [
    "Compile the model by providing the loss function and the optimizer "
   ]
  },
  {
   "cell_type": "code",
   "execution_count": 64,
   "metadata": {
    "collapsed": true
   },
   "outputs": [],
   "source": [
    "from keras.optimizers import Adam"
   ]
  },
  {
   "cell_type": "code",
   "execution_count": 74,
   "metadata": {
    "collapsed": true
   },
   "outputs": [],
   "source": [
    "custom_adam = Adam(lr = 0.01, decay = 0.01)"
   ]
  },
  {
   "cell_type": "code",
   "execution_count": 75,
   "metadata": {
    "collapsed": true
   },
   "outputs": [],
   "source": [
    "cnn_model.compile(loss = 'categorical_crossentropy', optimizer = custom_adam, metrics = ['accuracy'])"
   ]
  },
  {
   "cell_type": "code",
   "execution_count": 76,
   "metadata": {},
   "outputs": [
    {
     "name": "stdout",
     "output_type": "stream",
     "text": [
      "_________________________________________________________________\n",
      "Layer (type)                 Output Shape              Param #   \n",
      "=================================================================\n",
      "conv2d_1 (Conv2D)            (None, 26, 26, 64)        640       \n",
      "_________________________________________________________________\n",
      "conv2d_2 (Conv2D)            (None, 24, 24, 32)        18464     \n",
      "_________________________________________________________________\n",
      "max_pooling2d_1 (MaxPooling2 (None, 12, 12, 32)        0         \n",
      "_________________________________________________________________\n",
      "dropout_5 (Dropout)          (None, 12, 12, 32)        0         \n",
      "_________________________________________________________________\n",
      "conv2d_3 (Conv2D)            (None, 10, 10, 64)        18496     \n",
      "_________________________________________________________________\n",
      "max_pooling2d_2 (MaxPooling2 (None, 5, 5, 64)          0         \n",
      "_________________________________________________________________\n",
      "dropout_6 (Dropout)          (None, 5, 5, 64)          0         \n",
      "_________________________________________________________________\n",
      "conv2d_4 (Conv2D)            (None, 3, 3, 32)          18464     \n",
      "_________________________________________________________________\n",
      "max_pooling2d_3 (MaxPooling2 (None, 1, 1, 32)          0         \n",
      "_________________________________________________________________\n",
      "dropout_7 (Dropout)          (None, 1, 1, 32)          0         \n",
      "_________________________________________________________________\n",
      "flatten_1 (Flatten)          (None, 32)                0         \n",
      "_________________________________________________________________\n",
      "batch_normalization_5 (Batch (None, 32)                128       \n",
      "_________________________________________________________________\n",
      "dense_7 (Dense)              (None, 128)               4224      \n",
      "_________________________________________________________________\n",
      "dropout_8 (Dropout)          (None, 128)               0         \n",
      "_________________________________________________________________\n",
      "batch_normalization_6 (Batch (None, 128)               512       \n",
      "_________________________________________________________________\n",
      "dense_8 (Dense)              (None, 10)                1290      \n",
      "=================================================================\n",
      "Total params: 62,218\n",
      "Trainable params: 61,898\n",
      "Non-trainable params: 320\n",
      "_________________________________________________________________\n"
     ]
    }
   ],
   "source": [
    "cnn_model.summary()"
   ]
  },
  {
   "cell_type": "markdown",
   "metadata": {},
   "source": [
    "#### Fit model on training data."
   ]
  },
  {
   "cell_type": "code",
   "execution_count": 77,
   "metadata": {
    "scrolled": true
   },
   "outputs": [
    {
     "name": "stdout",
     "output_type": "stream",
     "text": [
      "Train on 48000 samples, validate on 12000 samples\n",
      "Epoch 1/40\n",
      "48000/48000 [==============================] - 4s 87us/step - loss: 0.5375 - acc: 0.8534 - val_loss: 0.2644 - val_acc: 0.9649\n",
      "Epoch 2/40\n",
      "48000/48000 [==============================] - 3s 68us/step - loss: 0.2056 - acc: 0.9403 - val_loss: 0.1300 - val_acc: 0.9763\n",
      "Epoch 3/40\n",
      "48000/48000 [==============================] - 3s 68us/step - loss: 0.1533 - acc: 0.9572 - val_loss: 0.0899 - val_acc: 0.9802\n",
      "Epoch 4/40\n",
      "48000/48000 [==============================] - 3s 68us/step - loss: 0.1207 - acc: 0.9662 - val_loss: 0.0593 - val_acc: 0.9848\n",
      "Epoch 5/40\n",
      "48000/48000 [==============================] - 3s 68us/step - loss: 0.1057 - acc: 0.9696 - val_loss: 0.0522 - val_acc: 0.9861\n",
      "Epoch 6/40\n",
      "48000/48000 [==============================] - 3s 68us/step - loss: 0.0965 - acc: 0.9727 - val_loss: 0.0442 - val_acc: 0.9872\n",
      "Epoch 7/40\n",
      "48000/48000 [==============================] - 3s 68us/step - loss: 0.0904 - acc: 0.9744 - val_loss: 0.0429 - val_acc: 0.9881\n",
      "Epoch 8/40\n",
      "48000/48000 [==============================] - 3s 68us/step - loss: 0.0858 - acc: 0.9760 - val_loss: 0.0387 - val_acc: 0.9895\n",
      "Epoch 9/40\n",
      "48000/48000 [==============================] - 3s 68us/step - loss: 0.0815 - acc: 0.9762 - val_loss: 0.0361 - val_acc: 0.9903\n",
      "Epoch 10/40\n",
      "48000/48000 [==============================] - 3s 69us/step - loss: 0.0791 - acc: 0.9776 - val_loss: 0.0358 - val_acc: 0.9903\n",
      "Epoch 11/40\n",
      "48000/48000 [==============================] - 3s 69us/step - loss: 0.0735 - acc: 0.9795 - val_loss: 0.0371 - val_acc: 0.9892\n",
      "Epoch 12/40\n",
      "48000/48000 [==============================] - 3s 68us/step - loss: 0.0730 - acc: 0.9793 - val_loss: 0.0349 - val_acc: 0.9893\n",
      "Epoch 13/40\n",
      "48000/48000 [==============================] - 3s 68us/step - loss: 0.0687 - acc: 0.9799 - val_loss: 0.0326 - val_acc: 0.9901\n",
      "Epoch 14/40\n",
      "48000/48000 [==============================] - 3s 68us/step - loss: 0.0661 - acc: 0.9813 - val_loss: 0.0333 - val_acc: 0.9904\n",
      "Epoch 15/40\n",
      "48000/48000 [==============================] - 3s 68us/step - loss: 0.0660 - acc: 0.9808 - val_loss: 0.0333 - val_acc: 0.9902\n",
      "Epoch 16/40\n",
      "48000/48000 [==============================] - 3s 68us/step - loss: 0.0623 - acc: 0.9818 - val_loss: 0.0313 - val_acc: 0.9917\n",
      "Epoch 17/40\n",
      "48000/48000 [==============================] - 3s 68us/step - loss: 0.0609 - acc: 0.9826 - val_loss: 0.0299 - val_acc: 0.9920\n",
      "Epoch 18/40\n",
      "48000/48000 [==============================] - 3s 68us/step - loss: 0.0611 - acc: 0.9824 - val_loss: 0.0292 - val_acc: 0.9915\n",
      "Epoch 19/40\n",
      "48000/48000 [==============================] - 3s 68us/step - loss: 0.0583 - acc: 0.9832 - val_loss: 0.0316 - val_acc: 0.9906\n",
      "Epoch 20/40\n",
      "48000/48000 [==============================] - 3s 68us/step - loss: 0.0566 - acc: 0.9834 - val_loss: 0.0305 - val_acc: 0.9917\n",
      "Epoch 21/40\n",
      "48000/48000 [==============================] - 3s 69us/step - loss: 0.0578 - acc: 0.9828 - val_loss: 0.0306 - val_acc: 0.9919\n",
      "Epoch 22/40\n",
      "48000/48000 [==============================] - 3s 68us/step - loss: 0.0592 - acc: 0.9828 - val_loss: 0.0290 - val_acc: 0.9917\n",
      "Epoch 23/40\n",
      "48000/48000 [==============================] - 3s 68us/step - loss: 0.0545 - acc: 0.9849 - val_loss: 0.0292 - val_acc: 0.9922\n",
      "Epoch 24/40\n",
      "48000/48000 [==============================] - 3s 68us/step - loss: 0.0565 - acc: 0.9842 - val_loss: 0.0289 - val_acc: 0.9922\n",
      "Epoch 25/40\n",
      "48000/48000 [==============================] - 3s 68us/step - loss: 0.0530 - acc: 0.9848 - val_loss: 0.0296 - val_acc: 0.9921\n",
      "Epoch 26/40\n",
      "48000/48000 [==============================] - 3s 68us/step - loss: 0.0536 - acc: 0.9845 - val_loss: 0.0297 - val_acc: 0.9919\n",
      "Epoch 27/40\n",
      "48000/48000 [==============================] - 3s 68us/step - loss: 0.0525 - acc: 0.9846 - val_loss: 0.0288 - val_acc: 0.9923\n",
      "Epoch 28/40\n",
      "48000/48000 [==============================] - 3s 68us/step - loss: 0.0504 - acc: 0.9853 - val_loss: 0.0280 - val_acc: 0.9928\n",
      "Epoch 29/40\n",
      "48000/48000 [==============================] - 3s 68us/step - loss: 0.0505 - acc: 0.9852 - val_loss: 0.0289 - val_acc: 0.9918\n",
      "Epoch 30/40\n",
      "48000/48000 [==============================] - 3s 68us/step - loss: 0.0507 - acc: 0.9857 - val_loss: 0.0284 - val_acc: 0.9920\n",
      "Epoch 31/40\n",
      "48000/48000 [==============================] - 3s 68us/step - loss: 0.0491 - acc: 0.9853 - val_loss: 0.0276 - val_acc: 0.9924\n",
      "Epoch 32/40\n",
      "48000/48000 [==============================] - 3s 68us/step - loss: 0.0494 - acc: 0.9853 - val_loss: 0.0272 - val_acc: 0.9929\n",
      "Epoch 33/40\n",
      "48000/48000 [==============================] - 3s 68us/step - loss: 0.0496 - acc: 0.9857 - val_loss: 0.0269 - val_acc: 0.9932\n",
      "Epoch 34/40\n",
      "48000/48000 [==============================] - 3s 68us/step - loss: 0.0480 - acc: 0.9864 - val_loss: 0.0276 - val_acc: 0.9921\n",
      "Epoch 35/40\n",
      "48000/48000 [==============================] - 3s 69us/step - loss: 0.0473 - acc: 0.9858 - val_loss: 0.0278 - val_acc: 0.9925\n",
      "Epoch 36/40\n",
      "48000/48000 [==============================] - 3s 68us/step - loss: 0.0479 - acc: 0.9856 - val_loss: 0.0276 - val_acc: 0.9917\n",
      "Epoch 37/40\n",
      "48000/48000 [==============================] - 3s 68us/step - loss: 0.0453 - acc: 0.9867 - val_loss: 0.0270 - val_acc: 0.9922\n",
      "Epoch 38/40\n",
      "48000/48000 [==============================] - 3s 68us/step - loss: 0.0456 - acc: 0.9864 - val_loss: 0.0273 - val_acc: 0.9927\n",
      "Epoch 39/40\n",
      "48000/48000 [==============================] - 3s 68us/step - loss: 0.0450 - acc: 0.9871 - val_loss: 0.0267 - val_acc: 0.9926\n",
      "Epoch 40/40\n",
      "48000/48000 [==============================] - 3s 68us/step - loss: 0.0427 - acc: 0.9874 - val_loss: 0.0262 - val_acc: 0.9929\n"
     ]
    },
    {
     "data": {
      "text/plain": [
       "<keras.callbacks.History at 0x21c0fc242b0>"
      ]
     },
     "execution_count": 77,
     "metadata": {},
     "output_type": "execute_result"
    }
   ],
   "source": [
    "cnn_model.fit(X_train_cnn, Y_train, batch_size = 4096, epochs = 40, validation_split = 0.2)"
   ]
  },
  {
   "cell_type": "markdown",
   "metadata": {},
   "source": [
    "#### Evaluate the model on test data."
   ]
  },
  {
   "cell_type": "code",
   "execution_count": 78,
   "metadata": {},
   "outputs": [
    {
     "name": "stdout",
     "output_type": "stream",
     "text": [
      "10000/10000 [==============================] - 1s 109us/step\n",
      "[0.024113903012243098, 0.9932]\n"
     ]
    }
   ],
   "source": [
    "score = cnn_model.evaluate(X_test_cnn, Y_test)\n",
    "\n",
    "print(score)"
   ]
  },
  {
   "cell_type": "markdown",
   "metadata": {},
   "source": [
    "#### Make predictions on test data "
   ]
  },
  {
   "cell_type": "code",
   "execution_count": 79,
   "metadata": {
    "collapsed": true
   },
   "outputs": [],
   "source": [
    "# calculate predictions\n",
    "predictions = cnn_model.predict(X_test_cnn)"
   ]
  },
  {
   "cell_type": "code",
   "execution_count": 80,
   "metadata": {},
   "outputs": [
    {
     "name": "stdout",
     "output_type": "stream",
     "text": [
      "[[8.13929830e-08 6.25930852e-06 1.10057726e-05 ... 9.99974966e-01\n",
      "  8.13344414e-09 2.03555055e-06]\n",
      " [2.16912781e-06 3.96288033e-06 9.99975204e-01 ... 1.10124790e-06\n",
      "  1.78475591e-06 6.75249012e-09]\n",
      " [2.68728786e-06 9.99902368e-01 1.92760263e-06 ... 7.17751973e-05\n",
      "  1.97013856e-06 8.63880416e-07]\n",
      " ...\n",
      " [4.68069361e-09 4.22520543e-08 1.17684511e-08 ... 1.16968195e-08\n",
      "  1.09242876e-07 1.97928512e-06]\n",
      " [2.65744063e-07 1.14192185e-08 1.02199152e-07 ... 1.27762655e-06\n",
      "  4.16286730e-06 1.66358841e-05]\n",
      " [1.95710563e-05 4.40763870e-07 1.95179064e-06 ... 3.22001537e-10\n",
      "  2.99412568e-06 8.06175478e-07]]\n"
     ]
    }
   ],
   "source": [
    "print (predictions)"
   ]
  },
  {
   "cell_type": "code",
   "execution_count": 81,
   "metadata": {
    "collapsed": true
   },
   "outputs": [],
   "source": [
    "y_pred_class = cnn_model.predict_classes(X_test_cnn)"
   ]
  },
  {
   "cell_type": "code",
   "execution_count": 82,
   "metadata": {},
   "outputs": [
    {
     "data": {
      "text/plain": [
       "0.9932"
      ]
     },
     "execution_count": 82,
     "metadata": {},
     "output_type": "execute_result"
    }
   ],
   "source": [
    "# calculate accuracy of class predictions\n",
    "from sklearn import metrics\n",
    "metrics.accuracy_score(y_test, y_pred_class)"
   ]
  },
  {
   "cell_type": "code",
   "execution_count": 83,
   "metadata": {
    "scrolled": true
   },
   "outputs": [
    {
     "data": {
      "text/plain": [
       "array([[ 977,    0,    1,    0,    0,    0,    0,    1,    1,    0],\n",
       "       [   0, 1134,    0,    0,    0,    0,    0,    1,    0,    0],\n",
       "       [   1,    0, 1024,    1,    0,    0,    1,    5,    0,    0],\n",
       "       [   0,    0,    2, 1006,    0,    2,    0,    0,    0,    0],\n",
       "       [   0,    0,    0,    0,  978,    0,    0,    0,    0,    4],\n",
       "       [   0,    0,    0,    4,    0,  886,    1,    1,    0,    0],\n",
       "       [   2,    3,    0,    0,    1,    4,  946,    0,    2,    0],\n",
       "       [   0,    3,    3,    0,    0,    1,    0, 1018,    0,    3],\n",
       "       [   0,    0,    3,    1,    0,    0,    1,    0,  966,    3],\n",
       "       [   0,    0,    0,    0,    4,    4,    0,    2,    2,  997]],\n",
       "      dtype=int64)"
      ]
     },
     "execution_count": 83,
     "metadata": {},
     "output_type": "execute_result"
    }
   ],
   "source": [
    "# print the confusion matrix\n",
    "metrics.confusion_matrix(y_test, y_pred_class)"
   ]
  },
  {
   "cell_type": "markdown",
   "metadata": {},
   "source": [
    "Reference: \n",
    "\n",
    "    https://keras.io/\n",
    "    https://elitedatascience.com\n",
    "    http://scikit-learn.org/stable/modules/classes.html"
   ]
  }
 ],
 "metadata": {
  "kernelspec": {
   "display_name": "Python 3",
   "language": "python",
   "name": "python3"
  },
  "language_info": {
   "codemirror_mode": {
    "name": "ipython",
    "version": 3
   },
   "file_extension": ".py",
   "mimetype": "text/x-python",
   "name": "python",
   "nbconvert_exporter": "python",
   "pygments_lexer": "ipython3",
   "version": "3.6.3"
  }
 },
 "nbformat": 4,
 "nbformat_minor": 2
}
