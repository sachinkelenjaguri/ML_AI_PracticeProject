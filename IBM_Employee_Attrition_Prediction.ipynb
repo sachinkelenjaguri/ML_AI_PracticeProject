{
 "cells": [
  {
   "cell_type": "code",
   "execution_count": 2,
   "metadata": {},
   "outputs": [],
   "source": [
    "import numpy as np \n",
    "import pandas as pd \n",
    "import tensorflow as tf\n",
    "import matplotlib.pyplot as plt\n",
    "%matplotlib inline\n",
    "from patsy import dmatrices\n",
    "import sklearn\n",
    "import seaborn as sns"
   ]
  },
  {
   "cell_type": "code",
   "execution_count": 8,
   "metadata": {},
   "outputs": [],
   "source": [
    "dataframe=pd.read_csv(\"IBM_Attrition_Data.csv\")"
   ]
  },
  {
   "cell_type": "code",
   "execution_count": 9,
   "metadata": {},
   "outputs": [
    {
     "data": {
      "text/html": [
       "<div>\n",
       "<style scoped>\n",
       "    .dataframe tbody tr th:only-of-type {\n",
       "        vertical-align: middle;\n",
       "    }\n",
       "\n",
       "    .dataframe tbody tr th {\n",
       "        vertical-align: top;\n",
       "    }\n",
       "\n",
       "    .dataframe thead th {\n",
       "        text-align: right;\n",
       "    }\n",
       "</style>\n",
       "<table border=\"1\" class=\"dataframe\">\n",
       "  <thead>\n",
       "    <tr style=\"text-align: right;\">\n",
       "      <th></th>\n",
       "      <th>Age</th>\n",
       "      <th>Attrition</th>\n",
       "      <th>Department</th>\n",
       "      <th>DistanceFromHome</th>\n",
       "      <th>Education</th>\n",
       "      <th>EducationField</th>\n",
       "      <th>EnvironmentSatisfaction</th>\n",
       "      <th>JobSatisfaction</th>\n",
       "      <th>MaritalStatus</th>\n",
       "      <th>MonthlyIncome</th>\n",
       "      <th>NumCompaniesWorked</th>\n",
       "      <th>WorkLifeBalance</th>\n",
       "      <th>YearsAtCompany</th>\n",
       "    </tr>\n",
       "  </thead>\n",
       "  <tbody>\n",
       "    <tr>\n",
       "      <th>0</th>\n",
       "      <td>41</td>\n",
       "      <td>Yes</td>\n",
       "      <td>Sales</td>\n",
       "      <td>1</td>\n",
       "      <td>2</td>\n",
       "      <td>Life Sciences</td>\n",
       "      <td>2</td>\n",
       "      <td>4</td>\n",
       "      <td>Single</td>\n",
       "      <td>5993</td>\n",
       "      <td>8</td>\n",
       "      <td>1</td>\n",
       "      <td>6</td>\n",
       "    </tr>\n",
       "    <tr>\n",
       "      <th>1</th>\n",
       "      <td>49</td>\n",
       "      <td>No</td>\n",
       "      <td>Research &amp; Development</td>\n",
       "      <td>8</td>\n",
       "      <td>1</td>\n",
       "      <td>Life Sciences</td>\n",
       "      <td>3</td>\n",
       "      <td>2</td>\n",
       "      <td>Married</td>\n",
       "      <td>5130</td>\n",
       "      <td>1</td>\n",
       "      <td>3</td>\n",
       "      <td>10</td>\n",
       "    </tr>\n",
       "    <tr>\n",
       "      <th>2</th>\n",
       "      <td>37</td>\n",
       "      <td>Yes</td>\n",
       "      <td>Research &amp; Development</td>\n",
       "      <td>2</td>\n",
       "      <td>2</td>\n",
       "      <td>Other</td>\n",
       "      <td>4</td>\n",
       "      <td>3</td>\n",
       "      <td>Single</td>\n",
       "      <td>2090</td>\n",
       "      <td>6</td>\n",
       "      <td>3</td>\n",
       "      <td>0</td>\n",
       "    </tr>\n",
       "    <tr>\n",
       "      <th>3</th>\n",
       "      <td>33</td>\n",
       "      <td>No</td>\n",
       "      <td>Research &amp; Development</td>\n",
       "      <td>3</td>\n",
       "      <td>4</td>\n",
       "      <td>Life Sciences</td>\n",
       "      <td>4</td>\n",
       "      <td>3</td>\n",
       "      <td>Married</td>\n",
       "      <td>2909</td>\n",
       "      <td>1</td>\n",
       "      <td>3</td>\n",
       "      <td>8</td>\n",
       "    </tr>\n",
       "    <tr>\n",
       "      <th>4</th>\n",
       "      <td>27</td>\n",
       "      <td>No</td>\n",
       "      <td>Research &amp; Development</td>\n",
       "      <td>2</td>\n",
       "      <td>1</td>\n",
       "      <td>Medical</td>\n",
       "      <td>1</td>\n",
       "      <td>2</td>\n",
       "      <td>Married</td>\n",
       "      <td>3468</td>\n",
       "      <td>9</td>\n",
       "      <td>3</td>\n",
       "      <td>2</td>\n",
       "    </tr>\n",
       "  </tbody>\n",
       "</table>\n",
       "</div>"
      ],
      "text/plain": [
       "   Age Attrition              Department  DistanceFromHome  Education  \\\n",
       "0   41       Yes                   Sales                 1          2   \n",
       "1   49        No  Research & Development                 8          1   \n",
       "2   37       Yes  Research & Development                 2          2   \n",
       "3   33        No  Research & Development                 3          4   \n",
       "4   27        No  Research & Development                 2          1   \n",
       "\n",
       "  EducationField  EnvironmentSatisfaction  JobSatisfaction MaritalStatus  \\\n",
       "0  Life Sciences                        2                4        Single   \n",
       "1  Life Sciences                        3                2       Married   \n",
       "2          Other                        4                3        Single   \n",
       "3  Life Sciences                        4                3       Married   \n",
       "4        Medical                        1                2       Married   \n",
       "\n",
       "   MonthlyIncome  NumCompaniesWorked  WorkLifeBalance  YearsAtCompany  \n",
       "0           5993                   8                1               6  \n",
       "1           5130                   1                3              10  \n",
       "2           2090                   6                3               0  \n",
       "3           2909                   1                3               8  \n",
       "4           3468                   9                3               2  "
      ]
     },
     "execution_count": 9,
     "metadata": {},
     "output_type": "execute_result"
    }
   ],
   "source": [
    "dataframe.head()"
   ]
  },
  {
   "cell_type": "code",
   "execution_count": 11,
   "metadata": {},
   "outputs": [
    {
     "data": {
      "image/png": "[encoded data removed]",
      "text/plain": [
       "<Figure size 432x288 with 1 Axes>"
      ]
     },
     "metadata": {
      "needs_background": "light"
     },
     "output_type": "display_data"
    },
    {
     "data": {
      "image/png": "[encoded data removed]",
      "text/plain": [
       "<Figure size 432x288 with 1 Axes>"
      ]
     },
     "metadata": {
      "needs_background": "light"
     },
     "output_type": "display_data"
    },
    {
     "data": {
      "image/png": "[encoded data removed]",
      "text/plain": [
       "<Figure size 432x288 with 1 Axes>"
      ]
     },
     "metadata": {
      "needs_background": "light"
     },
     "output_type": "display_data"
    },
    {
     "data": {
      "image/png": "[encoded data removed]",
      "text/plain": [
       "<Figure size 432x288 with 1 Axes>"
      ]
     },
     "metadata": {
      "needs_background": "light"
     },
     "output_type": "display_data"
    },
    {
     "data": {
      "image/png": "[encoded data removed]",
      "text/plain": [
       "<Figure size 432x288 with 1 Axes>"
      ]
     },
     "metadata": {
      "needs_background": "light"
     },
     "output_type": "display_data"
    },
    {
     "data": {
      "image/png": "[encoded data removed]",
      "text/plain": [
       "<Figure size 432x288 with 1 Axes>"
      ]
     },
     "metadata": {
      "needs_background": "light"
     },
     "output_type": "display_data"
    },
    {
     "data": {
      "image/png": "[encoded data removed]",
      "text/plain": [
       "<Figure size 432x288 with 1 Axes>"
      ]
     },
     "metadata": {
      "needs_background": "light"
     },
     "output_type": "display_data"
    },
    {
     "data": {
      "image/png": "[encoded data removed]",
      "text/plain": [
       "<Figure size 432x288 with 1 Axes>"
      ]
     },
     "metadata": {
      "needs_background": "light"
     },
     "output_type": "display_data"
    }
   ],
   "source": [
    "n=['DistanceFromHome','Education','EnvironmentSatisfaction','JobSatisfaction','MonthlyIncome','NumCompaniesWorked','WorkLifeBalance','YearsAtCompany']\n",
    "for i in n:\n",
    "    plt.figure()\n",
    "    dataframe.boxplot([i])"
   ]
  },
  {
   "cell_type": "code",
   "execution_count": 4,
   "metadata": {},
   "outputs": [
    {
     "name": "stdout",
     "output_type": "stream",
     "text": [
      "['Age' 'Attrition' 'Department' 'DistanceFromHome' 'Education'\n",
      " 'EducationField' 'EnvironmentSatisfaction' 'JobSatisfaction'\n",
      " 'MaritalStatus' 'MonthlyIncome' 'NumCompaniesWorked' 'WorkLifeBalance'\n",
      " 'YearsAtCompany']\n"
     ]
    }
   ],
   "source": [
    "names = dataframe.columns.values \n",
    "print(names)"
   ]
  },
  {
   "cell_type": "code",
   "execution_count": 5,
   "metadata": {},
   "outputs": [
    {
     "data": {
      "image/png": "[encoded data removed]",
      "text/plain": [
       "<Figure size 720x576 with 1 Axes>"
      ]
     },
     "metadata": {
      "needs_background": "light"
     },
     "output_type": "display_data"
    }
   ],
   "source": [
    "# histogram for age\n",
    "plt.figure(figsize=(10,8))\n",
    "dataframe['Age'].hist(bins=70)\n",
    "plt.title(\"Age distribution of Employees\")\n",
    "plt.xlabel(\"Age\")\n",
    "plt.ylabel(\"# of Employees\")\n",
    "plt.show()"
   ]
  },
  {
   "cell_type": "code",
   "execution_count": 6,
   "metadata": {},
   "outputs": [
    {
     "data": {
      "image/png": "[encoded data removed]",
      "text/plain": [
       "<Figure size 1008x720 with 1 Axes>"
      ]
     },
     "metadata": {
      "needs_background": "light"
     },
     "output_type": "display_data"
    }
   ],
   "source": [
    "# explore data for Attrition by Age\n",
    "plt.figure(figsize=(14,10))\n",
    "plt.scatter(dataframe.Attrition,dataframe.Age, alpha=.55)\n",
    "plt.title(\"Attrition by Age \")\n",
    "plt.ylabel(\"Age\")\n",
    "plt.grid(b=True, which='major',axis='y')\n",
    "plt.show()"
   ]
  },
  {
   "cell_type": "code",
   "execution_count": 7,
   "metadata": {},
   "outputs": [
    {
     "data": {
      "image/png": "[encoded data removed]",
      "text/plain": [
       "<Figure size 576x432 with 1 Axes>"
      ]
     },
     "metadata": {
      "needs_background": "light"
     },
     "output_type": "display_data"
    }
   ],
   "source": [
    "# explore data for Left employees breakdown\n",
    "plt.figure(figsize=(8,6))\n",
    "dataframe.Attrition.value_counts().plot(kind='barh',color='blue',alpha=.65)\n",
    "plt.title(\"Attrition breakdown \")\n",
    "plt.show()"
   ]
  },
  {
   "cell_type": "code",
   "execution_count": 8,
   "metadata": {},
   "outputs": [
    {
     "data": {
      "image/png": "[encoded data removed]",
      "text/plain": [
       "<Figure size 720x576 with 1 Axes>"
      ]
     },
     "metadata": {
      "needs_background": "light"
     },
     "output_type": "display_data"
    }
   ],
   "source": [
    "# explore data for Education Field distribution\n",
    "plt.figure(figsize=(10,8))\n",
    "dataframe.EducationField.value_counts().plot(kind='barh',color='g',alpha=.65)\n",
    "plt.title(\"Education Field Distribution\")\n",
    "plt.show()"
   ]
  },
  {
   "cell_type": "code",
   "execution_count": 9,
   "metadata": {},
   "outputs": [
    {
     "data": {
      "image/png": "[encoded data removed]",
      "text/plain": [
       "<Figure size 576x432 with 1 Axes>"
      ]
     },
     "metadata": {
      "needs_background": "light"
     },
     "output_type": "display_data"
    }
   ],
   "source": [
    "# explore data for Marital Status\n",
    "plt.figure(figsize=(8,6))\n",
    "dataframe.MaritalStatus.value_counts().plot(kind='bar',alpha=.5)\n",
    "plt.show()"
   ]
  },
  {
   "cell_type": "code",
   "execution_count": 10,
   "metadata": {},
   "outputs": [
    {
     "data": {
      "text/html": [
       "<div>\n",
       "<style scoped>\n",
       "    .dataframe tbody tr th:only-of-type {\n",
       "        vertical-align: middle;\n",
       "    }\n",
       "\n",
       "    .dataframe tbody tr th {\n",
       "        vertical-align: top;\n",
       "    }\n",
       "\n",
       "    .dataframe thead th {\n",
       "        text-align: right;\n",
       "    }\n",
       "</style>\n",
       "<table border=\"1\" class=\"dataframe\">\n",
       "  <thead>\n",
       "    <tr style=\"text-align: right;\">\n",
       "      <th></th>\n",
       "      <th>Age</th>\n",
       "      <th>DistanceFromHome</th>\n",
       "      <th>Education</th>\n",
       "      <th>EnvironmentSatisfaction</th>\n",
       "      <th>JobSatisfaction</th>\n",
       "      <th>MonthlyIncome</th>\n",
       "      <th>NumCompaniesWorked</th>\n",
       "      <th>WorkLifeBalance</th>\n",
       "      <th>YearsAtCompany</th>\n",
       "    </tr>\n",
       "  </thead>\n",
       "  <tbody>\n",
       "    <tr>\n",
       "      <th>count</th>\n",
       "      <td>1470.000000</td>\n",
       "      <td>1470.000000</td>\n",
       "      <td>1470.000000</td>\n",
       "      <td>1470.000000</td>\n",
       "      <td>1470.000000</td>\n",
       "      <td>1470.000000</td>\n",
       "      <td>1470.000000</td>\n",
       "      <td>1470.000000</td>\n",
       "      <td>1470.000000</td>\n",
       "    </tr>\n",
       "    <tr>\n",
       "      <th>mean</th>\n",
       "      <td>36.923810</td>\n",
       "      <td>9.192517</td>\n",
       "      <td>2.912925</td>\n",
       "      <td>2.721769</td>\n",
       "      <td>2.728571</td>\n",
       "      <td>6502.931293</td>\n",
       "      <td>2.693197</td>\n",
       "      <td>2.761224</td>\n",
       "      <td>7.008163</td>\n",
       "    </tr>\n",
       "    <tr>\n",
       "      <th>std</th>\n",
       "      <td>9.135373</td>\n",
       "      <td>8.106864</td>\n",
       "      <td>1.024165</td>\n",
       "      <td>1.093082</td>\n",
       "      <td>1.102846</td>\n",
       "      <td>4707.956783</td>\n",
       "      <td>2.498009</td>\n",
       "      <td>0.706476</td>\n",
       "      <td>6.126525</td>\n",
       "    </tr>\n",
       "    <tr>\n",
       "      <th>min</th>\n",
       "      <td>18.000000</td>\n",
       "      <td>1.000000</td>\n",
       "      <td>1.000000</td>\n",
       "      <td>1.000000</td>\n",
       "      <td>1.000000</td>\n",
       "      <td>1009.000000</td>\n",
       "      <td>0.000000</td>\n",
       "      <td>1.000000</td>\n",
       "      <td>0.000000</td>\n",
       "    </tr>\n",
       "    <tr>\n",
       "      <th>25%</th>\n",
       "      <td>30.000000</td>\n",
       "      <td>2.000000</td>\n",
       "      <td>2.000000</td>\n",
       "      <td>2.000000</td>\n",
       "      <td>2.000000</td>\n",
       "      <td>2911.000000</td>\n",
       "      <td>1.000000</td>\n",
       "      <td>2.000000</td>\n",
       "      <td>3.000000</td>\n",
       "    </tr>\n",
       "    <tr>\n",
       "      <th>50%</th>\n",
       "      <td>36.000000</td>\n",
       "      <td>7.000000</td>\n",
       "      <td>3.000000</td>\n",
       "      <td>3.000000</td>\n",
       "      <td>3.000000</td>\n",
       "      <td>4919.000000</td>\n",
       "      <td>2.000000</td>\n",
       "      <td>3.000000</td>\n",
       "      <td>5.000000</td>\n",
       "    </tr>\n",
       "    <tr>\n",
       "      <th>75%</th>\n",
       "      <td>43.000000</td>\n",
       "      <td>14.000000</td>\n",
       "      <td>4.000000</td>\n",
       "      <td>4.000000</td>\n",
       "      <td>4.000000</td>\n",
       "      <td>8379.000000</td>\n",
       "      <td>4.000000</td>\n",
       "      <td>3.000000</td>\n",
       "      <td>9.000000</td>\n",
       "    </tr>\n",
       "    <tr>\n",
       "      <th>max</th>\n",
       "      <td>60.000000</td>\n",
       "      <td>29.000000</td>\n",
       "      <td>5.000000</td>\n",
       "      <td>4.000000</td>\n",
       "      <td>4.000000</td>\n",
       "      <td>19999.000000</td>\n",
       "      <td>9.000000</td>\n",
       "      <td>4.000000</td>\n",
       "      <td>40.000000</td>\n",
       "    </tr>\n",
       "  </tbody>\n",
       "</table>\n",
       "</div>"
      ],
      "text/plain": [
       "               Age  DistanceFromHome    Education  EnvironmentSatisfaction  \\\n",
       "count  1470.000000       1470.000000  1470.000000              1470.000000   \n",
       "mean     36.923810          9.192517     2.912925                 2.721769   \n",
       "std       9.135373          8.106864     1.024165                 1.093082   \n",
       "min      18.000000          1.000000     1.000000                 1.000000   \n",
       "25%      30.000000          2.000000     2.000000                 2.000000   \n",
       "50%      36.000000          7.000000     3.000000                 3.000000   \n",
       "75%      43.000000         14.000000     4.000000                 4.000000   \n",
       "max      60.000000         29.000000     5.000000                 4.000000   \n",
       "\n",
       "       JobSatisfaction  MonthlyIncome  NumCompaniesWorked  WorkLifeBalance  \\\n",
       "count      1470.000000    1470.000000         1470.000000      1470.000000   \n",
       "mean          2.728571    6502.931293            2.693197         2.761224   \n",
       "std           1.102846    4707.956783            2.498009         0.706476   \n",
       "min           1.000000    1009.000000            0.000000         1.000000   \n",
       "25%           2.000000    2911.000000            1.000000         2.000000   \n",
       "50%           3.000000    4919.000000            2.000000         3.000000   \n",
       "75%           4.000000    8379.000000            4.000000         3.000000   \n",
       "max           4.000000   19999.000000            9.000000         4.000000   \n",
       "\n",
       "       YearsAtCompany  \n",
       "count     1470.000000  \n",
       "mean         7.008163  \n",
       "std          6.126525  \n",
       "min          0.000000  \n",
       "25%          3.000000  \n",
       "50%          5.000000  \n",
       "75%          9.000000  \n",
       "max         40.000000  "
      ]
     },
     "execution_count": 10,
     "metadata": {},
     "output_type": "execute_result"
    }
   ],
   "source": [
    "dataframe.describe()"
   ]
  },
  {
   "cell_type": "code",
   "execution_count": 11,
   "metadata": {},
   "outputs": [
    {
     "name": "stdout",
     "output_type": "stream",
     "text": [
      "<class 'pandas.core.frame.DataFrame'>\n",
      "RangeIndex: 1470 entries, 0 to 1469\n",
      "Data columns (total 13 columns):\n",
      "Age                        1470 non-null int64\n",
      "Attrition                  1470 non-null object\n",
      "Department                 1470 non-null object\n",
      "DistanceFromHome           1470 non-null int64\n",
      "Education                  1470 non-null int64\n",
      "EducationField             1470 non-null object\n",
      "EnvironmentSatisfaction    1470 non-null int64\n",
      "JobSatisfaction            1470 non-null int64\n",
      "MaritalStatus              1470 non-null object\n",
      "MonthlyIncome              1470 non-null int64\n",
      "NumCompaniesWorked         1470 non-null int64\n",
      "WorkLifeBalance            1470 non-null int64\n",
      "YearsAtCompany             1470 non-null int64\n",
      "dtypes: int64(9), object(4)\n",
      "memory usage: 149.4+ KB\n"
     ]
    }
   ],
   "source": [
    "dataframe.info()"
   ]
  },
  {
   "cell_type": "code",
   "execution_count": 12,
   "metadata": {},
   "outputs": [
    {
     "data": {
      "text/plain": [
       "Index(['Age', 'Attrition', 'Department', 'DistanceFromHome', 'Education',\n",
       "       'EducationField', 'EnvironmentSatisfaction', 'JobSatisfaction',\n",
       "       'MaritalStatus', 'MonthlyIncome', 'NumCompaniesWorked',\n",
       "       'WorkLifeBalance', 'YearsAtCompany'],\n",
       "      dtype='object')"
      ]
     },
     "execution_count": 12,
     "metadata": {},
     "output_type": "execute_result"
    }
   ],
   "source": [
    "dataframe.columns"
   ]
  },
  {
   "cell_type": "code",
   "execution_count": 13,
   "metadata": {},
   "outputs": [
    {
     "data": {
      "text/plain": [
       "Age                           9.135373\n",
       "DistanceFromHome              8.106864\n",
       "Education                     1.024165\n",
       "EnvironmentSatisfaction       1.093082\n",
       "JobSatisfaction               1.102846\n",
       "MonthlyIncome              4707.956783\n",
       "NumCompaniesWorked            2.498009\n",
       "WorkLifeBalance               0.706476\n",
       "YearsAtCompany                6.126525\n",
       "dtype: float64"
      ]
     },
     "execution_count": 13,
     "metadata": {},
     "output_type": "execute_result"
    }
   ],
   "source": [
    "dataframe.std()"
   ]
  },
  {
   "cell_type": "code",
   "execution_count": 14,
   "metadata": {},
   "outputs": [
    {
     "data": {
      "text/plain": [
       "No     1233\n",
       "Yes     237\n",
       "Name: Attrition, dtype: int64"
      ]
     },
     "execution_count": 14,
     "metadata": {},
     "output_type": "execute_result"
    }
   ],
   "source": [
    "dataframe['Attrition'].value_counts()"
   ]
  },
  {
   "cell_type": "code",
   "execution_count": 15,
   "metadata": {},
   "outputs": [
    {
     "data": {
      "text/plain": [
       "dtype('O')"
      ]
     },
     "execution_count": 15,
     "metadata": {},
     "output_type": "execute_result"
    }
   ],
   "source": [
    "dataframe['Attrition'].dtypes"
   ]
  },
  {
   "cell_type": "code",
   "execution_count": 16,
   "metadata": {},
   "outputs": [],
   "source": [
    "dataframe['Attrition'].replace('Yes',1, inplace=True)\n",
    "dataframe['Attrition'].replace('No',0, inplace=True)"
   ]
  },
  {
   "cell_type": "code",
   "execution_count": 17,
   "metadata": {},
   "outputs": [
    {
     "data": {
      "text/html": [
       "<div>\n",
       "<style scoped>\n",
       "    .dataframe tbody tr th:only-of-type {\n",
       "        vertical-align: middle;\n",
       "    }\n",
       "\n",
       "    .dataframe tbody tr th {\n",
       "        vertical-align: top;\n",
       "    }\n",
       "\n",
       "    .dataframe thead th {\n",
       "        text-align: right;\n",
       "    }\n",
       "</style>\n",
       "<table border=\"1\" class=\"dataframe\">\n",
       "  <thead>\n",
       "    <tr style=\"text-align: right;\">\n",
       "      <th></th>\n",
       "      <th>Age</th>\n",
       "      <th>Attrition</th>\n",
       "      <th>Department</th>\n",
       "      <th>DistanceFromHome</th>\n",
       "      <th>Education</th>\n",
       "      <th>EducationField</th>\n",
       "      <th>EnvironmentSatisfaction</th>\n",
       "      <th>JobSatisfaction</th>\n",
       "      <th>MaritalStatus</th>\n",
       "      <th>MonthlyIncome</th>\n",
       "      <th>NumCompaniesWorked</th>\n",
       "      <th>WorkLifeBalance</th>\n",
       "      <th>YearsAtCompany</th>\n",
       "    </tr>\n",
       "  </thead>\n",
       "  <tbody>\n",
       "    <tr>\n",
       "      <th>0</th>\n",
       "      <td>41</td>\n",
       "      <td>1</td>\n",
       "      <td>Sales</td>\n",
       "      <td>1</td>\n",
       "      <td>2</td>\n",
       "      <td>Life Sciences</td>\n",
       "      <td>2</td>\n",
       "      <td>4</td>\n",
       "      <td>Single</td>\n",
       "      <td>5993</td>\n",
       "      <td>8</td>\n",
       "      <td>1</td>\n",
       "      <td>6</td>\n",
       "    </tr>\n",
       "    <tr>\n",
       "      <th>1</th>\n",
       "      <td>49</td>\n",
       "      <td>0</td>\n",
       "      <td>Research &amp; Development</td>\n",
       "      <td>8</td>\n",
       "      <td>1</td>\n",
       "      <td>Life Sciences</td>\n",
       "      <td>3</td>\n",
       "      <td>2</td>\n",
       "      <td>Married</td>\n",
       "      <td>5130</td>\n",
       "      <td>1</td>\n",
       "      <td>3</td>\n",
       "      <td>10</td>\n",
       "    </tr>\n",
       "    <tr>\n",
       "      <th>2</th>\n",
       "      <td>37</td>\n",
       "      <td>1</td>\n",
       "      <td>Research &amp; Development</td>\n",
       "      <td>2</td>\n",
       "      <td>2</td>\n",
       "      <td>Other</td>\n",
       "      <td>4</td>\n",
       "      <td>3</td>\n",
       "      <td>Single</td>\n",
       "      <td>2090</td>\n",
       "      <td>6</td>\n",
       "      <td>3</td>\n",
       "      <td>0</td>\n",
       "    </tr>\n",
       "    <tr>\n",
       "      <th>3</th>\n",
       "      <td>33</td>\n",
       "      <td>0</td>\n",
       "      <td>Research &amp; Development</td>\n",
       "      <td>3</td>\n",
       "      <td>4</td>\n",
       "      <td>Life Sciences</td>\n",
       "      <td>4</td>\n",
       "      <td>3</td>\n",
       "      <td>Married</td>\n",
       "      <td>2909</td>\n",
       "      <td>1</td>\n",
       "      <td>3</td>\n",
       "      <td>8</td>\n",
       "    </tr>\n",
       "    <tr>\n",
       "      <th>4</th>\n",
       "      <td>27</td>\n",
       "      <td>0</td>\n",
       "      <td>Research &amp; Development</td>\n",
       "      <td>2</td>\n",
       "      <td>1</td>\n",
       "      <td>Medical</td>\n",
       "      <td>1</td>\n",
       "      <td>2</td>\n",
       "      <td>Married</td>\n",
       "      <td>3468</td>\n",
       "      <td>9</td>\n",
       "      <td>3</td>\n",
       "      <td>2</td>\n",
       "    </tr>\n",
       "    <tr>\n",
       "      <th>5</th>\n",
       "      <td>32</td>\n",
       "      <td>0</td>\n",
       "      <td>Research &amp; Development</td>\n",
       "      <td>2</td>\n",
       "      <td>2</td>\n",
       "      <td>Life Sciences</td>\n",
       "      <td>4</td>\n",
       "      <td>4</td>\n",
       "      <td>Single</td>\n",
       "      <td>3068</td>\n",
       "      <td>0</td>\n",
       "      <td>2</td>\n",
       "      <td>7</td>\n",
       "    </tr>\n",
       "    <tr>\n",
       "      <th>6</th>\n",
       "      <td>59</td>\n",
       "      <td>0</td>\n",
       "      <td>Research &amp; Development</td>\n",
       "      <td>3</td>\n",
       "      <td>3</td>\n",
       "      <td>Medical</td>\n",
       "      <td>3</td>\n",
       "      <td>1</td>\n",
       "      <td>Married</td>\n",
       "      <td>2670</td>\n",
       "      <td>4</td>\n",
       "      <td>2</td>\n",
       "      <td>1</td>\n",
       "    </tr>\n",
       "    <tr>\n",
       "      <th>7</th>\n",
       "      <td>30</td>\n",
       "      <td>0</td>\n",
       "      <td>Research &amp; Development</td>\n",
       "      <td>24</td>\n",
       "      <td>1</td>\n",
       "      <td>Life Sciences</td>\n",
       "      <td>4</td>\n",
       "      <td>3</td>\n",
       "      <td>Divorced</td>\n",
       "      <td>2693</td>\n",
       "      <td>1</td>\n",
       "      <td>3</td>\n",
       "      <td>1</td>\n",
       "    </tr>\n",
       "    <tr>\n",
       "      <th>8</th>\n",
       "      <td>38</td>\n",
       "      <td>0</td>\n",
       "      <td>Research &amp; Development</td>\n",
       "      <td>23</td>\n",
       "      <td>3</td>\n",
       "      <td>Life Sciences</td>\n",
       "      <td>4</td>\n",
       "      <td>3</td>\n",
       "      <td>Single</td>\n",
       "      <td>9526</td>\n",
       "      <td>0</td>\n",
       "      <td>3</td>\n",
       "      <td>9</td>\n",
       "    </tr>\n",
       "    <tr>\n",
       "      <th>9</th>\n",
       "      <td>36</td>\n",
       "      <td>0</td>\n",
       "      <td>Research &amp; Development</td>\n",
       "      <td>27</td>\n",
       "      <td>3</td>\n",
       "      <td>Medical</td>\n",
       "      <td>3</td>\n",
       "      <td>3</td>\n",
       "      <td>Married</td>\n",
       "      <td>5237</td>\n",
       "      <td>6</td>\n",
       "      <td>2</td>\n",
       "      <td>7</td>\n",
       "    </tr>\n",
       "  </tbody>\n",
       "</table>\n",
       "</div>"
      ],
      "text/plain": [
       "   Age  Attrition              Department  DistanceFromHome  Education  \\\n",
       "0   41          1                   Sales                 1          2   \n",
       "1   49          0  Research & Development                 8          1   \n",
       "2   37          1  Research & Development                 2          2   \n",
       "3   33          0  Research & Development                 3          4   \n",
       "4   27          0  Research & Development                 2          1   \n",
       "5   32          0  Research & Development                 2          2   \n",
       "6   59          0  Research & Development                 3          3   \n",
       "7   30          0  Research & Development                24          1   \n",
       "8   38          0  Research & Development                23          3   \n",
       "9   36          0  Research & Development                27          3   \n",
       "\n",
       "  EducationField  EnvironmentSatisfaction  JobSatisfaction MaritalStatus  \\\n",
       "0  Life Sciences                        2                4        Single   \n",
       "1  Life Sciences                        3                2       Married   \n",
       "2          Other                        4                3        Single   \n",
       "3  Life Sciences                        4                3       Married   \n",
       "4        Medical                        1                2       Married   \n",
       "5  Life Sciences                        4                4        Single   \n",
       "6        Medical                        3                1       Married   \n",
       "7  Life Sciences                        4                3      Divorced   \n",
       "8  Life Sciences                        4                3        Single   \n",
       "9        Medical                        3                3       Married   \n",
       "\n",
       "   MonthlyIncome  NumCompaniesWorked  WorkLifeBalance  YearsAtCompany  \n",
       "0           5993                   8                1               6  \n",
       "1           5130                   1                3              10  \n",
       "2           2090                   6                3               0  \n",
       "3           2909                   1                3               8  \n",
       "4           3468                   9                3               2  \n",
       "5           3068                   0                2               7  \n",
       "6           2670                   4                2               1  \n",
       "7           2693                   1                3               1  \n",
       "8           9526                   0                3               9  \n",
       "9           5237                   6                2               7  "
      ]
     },
     "execution_count": 17,
     "metadata": {},
     "output_type": "execute_result"
    }
   ],
   "source": [
    "dataframe.head(10)"
   ]
  },
  {
   "cell_type": "code",
   "execution_count": 18,
   "metadata": {},
   "outputs": [
    {
     "data": {
      "text/plain": [
       "0    1\n",
       "1    0\n",
       "2    1\n",
       "3    0\n",
       "4    0\n",
       "Name: Attrition, dtype: int64"
      ]
     },
     "execution_count": 18,
     "metadata": {},
     "output_type": "execute_result"
    }
   ],
   "source": [
    "# building up a logistic regression model\n",
    "X = dataframe.drop(['Attrition'],axis=1)\n",
    "X.head()\n",
    "Y = dataframe['Attrition']\n",
    "Y.head()"
   ]
  },
  {
   "cell_type": "code",
   "execution_count": 19,
   "metadata": {},
   "outputs": [],
   "source": [
    "dataframe['EducationField'].replace('Life Sciences',1, inplace=True)\n",
    "dataframe['EducationField'].replace('Medical',2, inplace=True)\n",
    "dataframe['EducationField'].replace('Marketing', 3, inplace=True)\n",
    "dataframe['EducationField'].replace('Other',4, inplace=True)\n",
    "dataframe['EducationField'].replace('Technical Degree',5, inplace=True)\n",
    "dataframe['EducationField'].replace('Human Resources', 6, inplace=True)"
   ]
  },
  {
   "cell_type": "code",
   "execution_count": 20,
   "metadata": {},
   "outputs": [
    {
     "data": {
      "text/plain": [
       "1    606\n",
       "2    464\n",
       "3    159\n",
       "5    132\n",
       "4     82\n",
       "6     27\n",
       "Name: EducationField, dtype: int64"
      ]
     },
     "execution_count": 20,
     "metadata": {},
     "output_type": "execute_result"
    }
   ],
   "source": [
    "dataframe['EducationField'].value_counts()"
   ]
  },
  {
   "cell_type": "code",
   "execution_count": 21,
   "metadata": {},
   "outputs": [
    {
     "data": {
      "text/plain": [
       "Research & Development    961\n",
       "Sales                     446\n",
       "Human Resources            63\n",
       "Name: Department, dtype: int64"
      ]
     },
     "execution_count": 21,
     "metadata": {},
     "output_type": "execute_result"
    }
   ],
   "source": [
    "dataframe['Department'].value_counts()"
   ]
  },
  {
   "cell_type": "code",
   "execution_count": 22,
   "metadata": {},
   "outputs": [],
   "source": [
    "dataframe['Department'].replace('Research & Development',1, inplace=True)\n",
    "dataframe['Department'].replace('Sales',2, inplace=True)\n",
    "dataframe['Department'].replace('Human Resources', 3, inplace=True)"
   ]
  },
  {
   "cell_type": "code",
   "execution_count": 23,
   "metadata": {},
   "outputs": [
    {
     "data": {
      "text/plain": [
       "1    961\n",
       "2    446\n",
       "3     63\n",
       "Name: Department, dtype: int64"
      ]
     },
     "execution_count": 23,
     "metadata": {},
     "output_type": "execute_result"
    }
   ],
   "source": [
    "dataframe['Department'].value_counts()"
   ]
  },
  {
   "cell_type": "code",
   "execution_count": 24,
   "metadata": {},
   "outputs": [
    {
     "data": {
      "text/plain": [
       "Married     673\n",
       "Single      470\n",
       "Divorced    327\n",
       "Name: MaritalStatus, dtype: int64"
      ]
     },
     "execution_count": 24,
     "metadata": {},
     "output_type": "execute_result"
    }
   ],
   "source": [
    "dataframe['MaritalStatus'].value_counts()"
   ]
  },
  {
   "cell_type": "code",
   "execution_count": 25,
   "metadata": {},
   "outputs": [],
   "source": [
    "dataframe['MaritalStatus'].replace('Married',1, inplace=True)\n",
    "dataframe['MaritalStatus'].replace('Single',2, inplace=True)\n",
    "dataframe['MaritalStatus'].replace('Divorced',3, inplace=True)"
   ]
  },
  {
   "cell_type": "code",
   "execution_count": 26,
   "metadata": {},
   "outputs": [
    {
     "data": {
      "text/plain": [
       "1    673\n",
       "2    470\n",
       "3    327\n",
       "Name: MaritalStatus, dtype: int64"
      ]
     },
     "execution_count": 26,
     "metadata": {},
     "output_type": "execute_result"
    }
   ],
   "source": [
    "dataframe['MaritalStatus'].value_counts()"
   ]
  },
  {
   "cell_type": "code",
   "execution_count": 27,
   "metadata": {},
   "outputs": [
    {
     "data": {
      "text/plain": [
       "Age                        int64\n",
       "Attrition                  int64\n",
       "Department                 int64\n",
       "DistanceFromHome           int64\n",
       "Education                  int64\n",
       "EducationField             int64\n",
       "EnvironmentSatisfaction    int64\n",
       "JobSatisfaction            int64\n",
       "MaritalStatus              int64\n",
       "MonthlyIncome              int64\n",
       "NumCompaniesWorked         int64\n",
       "WorkLifeBalance            int64\n",
       "YearsAtCompany             int64\n",
       "dtype: object"
      ]
     },
     "execution_count": 27,
     "metadata": {},
     "output_type": "execute_result"
    }
   ],
   "source": [
    "x=dataframe.select_dtypes(include=['int64'])\n",
    "x.dtypes"
   ]
  },
  {
   "cell_type": "code",
   "execution_count": 28,
   "metadata": {},
   "outputs": [
    {
     "data": {
      "text/plain": [
       "Index(['Age', 'Attrition', 'Department', 'DistanceFromHome', 'Education',\n",
       "       'EducationField', 'EnvironmentSatisfaction', 'JobSatisfaction',\n",
       "       'MaritalStatus', 'MonthlyIncome', 'NumCompaniesWorked',\n",
       "       'WorkLifeBalance', 'YearsAtCompany'],\n",
       "      dtype='object')"
      ]
     },
     "execution_count": 28,
     "metadata": {},
     "output_type": "execute_result"
    }
   ],
   "source": [
    "x.columns"
   ]
  },
  {
   "cell_type": "code",
   "execution_count": 29,
   "metadata": {},
   "outputs": [],
   "source": [
    "y=dataframe['Attrition']"
   ]
  },
  {
   "cell_type": "code",
   "execution_count": 30,
   "metadata": {},
   "outputs": [
    {
     "data": {
      "text/plain": [
       "0    1\n",
       "1    0\n",
       "2    1\n",
       "3    0\n",
       "4    0\n",
       "Name: Attrition, dtype: int64"
      ]
     },
     "execution_count": 30,
     "metadata": {},
     "output_type": "execute_result"
    }
   ],
   "source": [
    "y.head()"
   ]
  },
  {
   "cell_type": "code",
   "execution_count": 31,
   "metadata": {},
   "outputs": [
    {
     "name": "stdout",
     "output_type": "stream",
     "text": [
      "Index(['Intercept', 'Age', 'Department', 'DistanceFromHome', 'Education',\n",
      "       'EducationField', 'YearsAtCompany'],\n",
      "      dtype='object')\n"
     ]
    }
   ],
   "source": [
    "y, x = dmatrices('Attrition ~ Age + Department + \\\n",
    "                  DistanceFromHome + Education + EducationField + YearsAtCompany',\n",
    "                  dataframe, return_type=\"dataframe\")\n",
    "print (x.columns)"
   ]
  },
  {
   "cell_type": "code",
   "execution_count": 32,
   "metadata": {},
   "outputs": [],
   "source": [
    "y = np.ravel(y)"
   ]
  },
  {
   "cell_type": "code",
   "execution_count": 33,
   "metadata": {},
   "outputs": [
    {
     "name": "stderr",
     "output_type": "stream",
     "text": [
      "/opt/anaconda3/lib/python3.7/site-packages/sklearn/linear_model/logistic.py:433: FutureWarning: Default solver will be changed to 'lbfgs' in 0.22. Specify a solver to silence this warning.\n",
      "  FutureWarning)\n"
     ]
    },
    {
     "data": {
      "text/plain": [
       "0.8408163265306122"
      ]
     },
     "execution_count": 33,
     "metadata": {},
     "output_type": "execute_result"
    }
   ],
   "source": [
    "from sklearn.linear_model import LogisticRegression\n",
    "\n",
    "model = LogisticRegression()\n",
    "model = model.fit(x, y)\n",
    "\n",
    "# check the accuracy on the training set\n",
    "model.score(x, y)"
   ]
  },
  {
   "cell_type": "code",
   "execution_count": 34,
   "metadata": {},
   "outputs": [
    {
     "data": {
      "text/plain": [
       "0.16122448979591836"
      ]
     },
     "execution_count": 34,
     "metadata": {},
     "output_type": "execute_result"
    }
   ],
   "source": [
    "y.mean()"
   ]
  },
  {
   "cell_type": "code",
   "execution_count": 35,
   "metadata": {},
   "outputs": [
    {
     "name": "stderr",
     "output_type": "stream",
     "text": [
      "/opt/anaconda3/lib/python3.7/site-packages/sklearn/linear_model/logistic.py:433: FutureWarning: Default solver will be changed to 'lbfgs' in 0.22. Specify a solver to silence this warning.\n",
      "  FutureWarning)\n"
     ]
    },
    {
     "data": {
      "text/plain": [
       "LogisticRegression(C=1.0, class_weight=None, dual=False, fit_intercept=True,\n",
       "          intercept_scaling=1, max_iter=100, multi_class='warn',\n",
       "          n_jobs=None, penalty='l2', random_state=None, solver='warn',\n",
       "          tol=0.0001, verbose=0, warm_start=False)"
      ]
     },
     "execution_count": 35,
     "metadata": {},
     "output_type": "execute_result"
    }
   ],
   "source": [
    "X_train,X_test,y_train,y_test=sklearn.model_selection.train_test_split(x,y, test_size=0.3, random_state=0)\n",
    "model2=LogisticRegression()\n",
    "model2.fit(X_train, y_train)"
   ]
  },
  {
   "cell_type": "code",
   "execution_count": 36,
   "metadata": {},
   "outputs": [
    {
     "name": "stdout",
     "output_type": "stream",
     "text": [
      "[0. 0. 0. 0. 0. 0. 0. 0. 0. 0. 0. 0. 0. 0. 0. 0. 0. 0. 0. 0. 0. 0. 0. 0.\n",
      " 0. 0. 0. 0. 0. 0. 0. 0. 0. 0. 0. 0. 0. 0. 0. 0. 0. 0. 0. 0. 0. 0. 0. 0.\n",
      " 0. 0. 0. 0. 0. 0. 0. 0. 0. 0. 0. 0. 0. 0. 0. 0. 0. 0. 0. 0. 0. 0. 0. 0.\n",
      " 0. 0. 0. 0. 0. 0. 0. 0. 0. 0. 0. 0. 0. 0. 0. 0. 0. 0. 0. 0. 0. 0. 0. 0.\n",
      " 0. 0. 0. 0. 0. 0. 0. 0. 0. 0. 0. 0. 0. 0. 0. 0. 0. 0. 0. 0. 0. 0. 0. 0.\n",
      " 0. 0. 0. 0. 0. 0. 0. 0. 0. 0. 0. 0. 0. 0. 0. 0. 0. 0. 0. 0. 0. 0. 0. 0.\n",
      " 0. 0. 0. 0. 0. 0. 0. 0. 0. 0. 0. 0. 0. 0. 0. 0. 0. 0. 0. 0. 0. 0. 0. 0.\n",
      " 0. 0. 0. 0. 0. 0. 0. 0. 0. 0. 0. 0. 0. 0. 0. 0. 0. 0. 0. 0. 0. 0. 0. 0.\n",
      " 0. 0. 0. 0. 0. 0. 0. 0. 0. 0. 0. 0. 0. 0. 0. 0. 0. 0. 0. 0. 0. 0. 0. 0.\n",
      " 0. 0. 0. 0. 0. 0. 0. 0. 0. 0. 0. 0. 0. 0. 0. 0. 0. 0. 0. 0. 0. 0. 0. 0.\n",
      " 0. 0. 0. 0. 0. 0. 0. 0. 0. 0. 0. 0. 0. 0. 0. 0. 0. 0. 0. 0. 0. 0. 0. 0.\n",
      " 0. 0. 0. 0. 0. 0. 0. 0. 0. 0. 0. 0. 0. 0. 0. 0. 0. 0. 0. 0. 0. 0. 0. 0.\n",
      " 0. 0. 0. 0. 0. 0. 0. 0. 0. 0. 0. 0. 0. 0. 0. 0. 0. 0. 0. 0. 0. 0. 0. 0.\n",
      " 0. 0. 0. 0. 0. 0. 0. 0. 1. 0. 0. 0. 0. 0. 0. 0. 0. 0. 0. 0. 0. 0. 0. 0.\n",
      " 0. 0. 0. 0. 0. 0. 0. 0. 0. 0. 0. 0. 0. 0. 0. 0. 0. 0. 0. 0. 0. 0. 0. 0.\n",
      " 0. 0. 0. 0. 0. 0. 0. 0. 0. 0. 0. 0. 0. 0. 0. 0. 0. 0. 0. 0. 0. 0. 0. 0.\n",
      " 0. 0. 0. 0. 0. 0. 0. 0. 0. 0. 0. 0. 0. 0. 0. 0. 0. 0. 0. 0. 0. 0. 0. 0.\n",
      " 0. 0. 0. 0. 0. 0. 0. 0. 0. 0. 0. 0. 0. 0. 0. 0. 0. 0. 0. 0. 0. 0. 0. 0.\n",
      " 0. 0. 0. 0. 0. 0. 0. 0. 0.]\n"
     ]
    }
   ],
   "source": [
    "predicted= model2.predict(X_test)\n",
    "print (predicted)"
   ]
  },
  {
   "cell_type": "code",
   "execution_count": 37,
   "metadata": {},
   "outputs": [
    {
     "name": "stdout",
     "output_type": "stream",
     "text": [
      "[[0.86257761 0.13742239]\n",
      " [0.80710189 0.19289811]\n",
      " [0.7429987  0.2570013 ]\n",
      " [0.83583504 0.16416496]\n",
      " [0.73307035 0.26692965]\n",
      " [0.78942615 0.21057385]\n",
      " [0.85718191 0.14281809]\n",
      " [0.85697723 0.14302277]\n",
      " [0.96732187 0.03267813]\n",
      " [0.93781765 0.06218235]\n",
      " [0.95112889 0.04887111]\n",
      " [0.83140356 0.16859644]\n",
      " [0.86069144 0.13930856]\n",
      " [0.863881   0.136119  ]\n",
      " [0.88818146 0.11181854]\n",
      " [0.88851235 0.11148765]\n",
      " [0.88418532 0.11581468]\n",
      " [0.78102191 0.21897809]\n",
      " [0.79870103 0.20129897]\n",
      " [0.88654952 0.11345048]\n",
      " [0.70201258 0.29798742]\n",
      " [0.94684452 0.05315548]\n",
      " [0.86687518 0.13312482]\n",
      " [0.84389943 0.15610057]\n",
      " [0.60328043 0.39671957]\n",
      " [0.8112161  0.1887839 ]\n",
      " [0.91914771 0.08085229]\n",
      " [0.93333047 0.06666953]\n",
      " [0.67850927 0.32149073]\n",
      " [0.87080099 0.12919901]\n",
      " [0.87277322 0.12722678]\n",
      " [0.77054173 0.22945827]\n",
      " [0.86434352 0.13565648]\n",
      " [0.95829505 0.04170495]\n",
      " [0.84589968 0.15410032]\n",
      " [0.86642435 0.13357565]\n",
      " [0.90489195 0.09510805]\n",
      " [0.68640634 0.31359366]\n",
      " [0.90762923 0.09237077]\n",
      " [0.80686978 0.19313022]\n",
      " [0.91626105 0.08373895]\n",
      " [0.82434807 0.17565193]\n",
      " [0.93702713 0.06297287]\n",
      " [0.93419719 0.06580281]\n",
      " [0.89317815 0.10682185]\n",
      " [0.85163342 0.14836658]\n",
      " [0.78599372 0.21400628]\n",
      " [0.84591285 0.15408715]\n",
      " [0.66035418 0.33964582]\n",
      " [0.75985595 0.24014405]\n",
      " [0.92971879 0.07028121]\n",
      " [0.79073149 0.20926851]\n",
      " [0.86251514 0.13748486]\n",
      " [0.86028777 0.13971223]\n",
      " [0.87176033 0.12823967]\n",
      " [0.79087814 0.20912186]\n",
      " [0.87589802 0.12410198]\n",
      " [0.84351786 0.15648214]\n",
      " [0.72814826 0.27185174]\n",
      " [0.83401865 0.16598135]\n",
      " [0.90193848 0.09806152]\n",
      " [0.70822548 0.29177452]\n",
      " [0.92855494 0.07144506]\n",
      " [0.84184113 0.15815887]\n",
      " [0.79759143 0.20240857]\n",
      " [0.86955841 0.13044159]\n",
      " [0.91690233 0.08309767]\n",
      " [0.84801457 0.15198543]\n",
      " [0.89284306 0.10715694]\n",
      " [0.63214954 0.36785046]\n",
      " [0.93929587 0.06070413]\n",
      " [0.72436084 0.27563916]\n",
      " [0.85581742 0.14418258]\n",
      " [0.84210919 0.15789081]\n",
      " [0.77522163 0.22477837]\n",
      " [0.71561254 0.28438746]\n",
      " [0.93625216 0.06374784]\n",
      " [0.95759882 0.04240118]\n",
      " [0.79115941 0.20884059]\n",
      " [0.89387487 0.10612513]\n",
      " [0.9143774  0.0856226 ]\n",
      " [0.79373481 0.20626519]\n",
      " [0.78032498 0.21967502]\n",
      " [0.79647769 0.20352231]\n",
      " [0.83618218 0.16381782]\n",
      " [0.71431018 0.28568982]\n",
      " [0.97808679 0.02191321]\n",
      " [0.94675994 0.05324006]\n",
      " [0.88520539 0.11479461]\n",
      " [0.79405267 0.20594733]\n",
      " [0.61481071 0.38518929]\n",
      " [0.81886235 0.18113765]\n",
      " [0.74684358 0.25315642]\n",
      " [0.86722821 0.13277179]\n",
      " [0.86992409 0.13007591]\n",
      " [0.81789428 0.18210572]\n",
      " [0.71822509 0.28177491]\n",
      " [0.60023923 0.39976077]\n",
      " [0.83836485 0.16163515]\n",
      " [0.88216124 0.11783876]\n",
      " [0.74418148 0.25581852]\n",
      " [0.76564261 0.23435739]\n",
      " [0.98067742 0.01932258]\n",
      " [0.91939455 0.08060545]\n",
      " [0.77415323 0.22584677]\n",
      " [0.92564103 0.07435897]\n",
      " [0.88199097 0.11800903]\n",
      " [0.74514347 0.25485653]\n",
      " [0.90673063 0.09326937]\n",
      " [0.78928203 0.21071797]\n",
      " [0.80971647 0.19028353]\n",
      " [0.93515971 0.06484029]\n",
      " [0.93924676 0.06075324]\n",
      " [0.79462059 0.20537941]\n",
      " [0.81215385 0.18784615]\n",
      " [0.91649218 0.08350782]\n",
      " [0.90265873 0.09734127]\n",
      " [0.84731114 0.15268886]\n",
      " [0.95376317 0.04623683]\n",
      " [0.91222675 0.08777325]\n",
      " [0.86028682 0.13971318]\n",
      " [0.85822982 0.14177018]\n",
      " [0.87448572 0.12551428]\n",
      " [0.75985594 0.24014406]\n",
      " [0.92296733 0.07703267]\n",
      " [0.96914997 0.03085003]\n",
      " [0.94407447 0.05592553]\n",
      " [0.81720383 0.18279617]\n",
      " [0.88066242 0.11933758]\n",
      " [0.77639891 0.22360109]\n",
      " [0.97128842 0.02871158]\n",
      " [0.88831439 0.11168561]\n",
      " [0.78631482 0.21368518]\n",
      " [0.81840678 0.18159322]\n",
      " [0.94987331 0.05012669]\n",
      " [0.95894743 0.04105257]\n",
      " [0.73447703 0.26552297]\n",
      " [0.93444274 0.06555726]\n",
      " [0.73813794 0.26186206]\n",
      " [0.82247975 0.17752025]\n",
      " [0.82289185 0.17710815]\n",
      " [0.89920393 0.10079607]\n",
      " [0.78516352 0.21483648]\n",
      " [0.89653967 0.10346033]\n",
      " [0.91537087 0.08462913]\n",
      " [0.92820436 0.07179564]\n",
      " [0.96589553 0.03410447]\n",
      " [0.94419804 0.05580196]\n",
      " [0.93024428 0.06975572]\n",
      " [0.66112588 0.33887412]\n",
      " [0.84095505 0.15904495]\n",
      " [0.82603046 0.17396954]\n",
      " [0.80610059 0.19389941]\n",
      " [0.96191568 0.03808432]\n",
      " [0.93671599 0.06328401]\n",
      " [0.94770351 0.05229649]\n",
      " [0.97376472 0.02623528]\n",
      " [0.79369198 0.20630802]\n",
      " [0.87741394 0.12258606]\n",
      " [0.85956848 0.14043152]\n",
      " [0.95216215 0.04783785]\n",
      " [0.93160388 0.06839612]\n",
      " [0.75495757 0.24504243]\n",
      " [0.74998837 0.25001163]\n",
      " [0.95590644 0.04409356]\n",
      " [0.86936376 0.13063624]\n",
      " [0.81422948 0.18577052]\n",
      " [0.76650749 0.23349251]\n",
      " [0.80183602 0.19816398]\n",
      " [0.92798469 0.07201531]\n",
      " [0.91054713 0.08945287]\n",
      " [0.94603047 0.05396953]\n",
      " [0.93400754 0.06599246]\n",
      " [0.69063333 0.30936667]\n",
      " [0.93091068 0.06908932]\n",
      " [0.74159667 0.25840333]\n",
      " [0.78516386 0.21483614]\n",
      " [0.93229165 0.06770835]\n",
      " [0.80621879 0.19378121]\n",
      " [0.85290079 0.14709921]\n",
      " [0.66903659 0.33096341]\n",
      " [0.9042279  0.0957721 ]\n",
      " [0.91210155 0.08789845]\n",
      " [0.87547616 0.12452384]\n",
      " [0.93020588 0.06979412]\n",
      " [0.66879074 0.33120926]\n",
      " [0.89374371 0.10625629]\n",
      " [0.86196532 0.13803468]\n",
      " [0.78749466 0.21250534]\n",
      " [0.53185454 0.46814546]\n",
      " [0.73337673 0.26662327]\n",
      " [0.70603668 0.29396332]\n",
      " [0.85434454 0.14565546]\n",
      " [0.869108   0.130892  ]\n",
      " [0.75104191 0.24895809]\n",
      " [0.89891506 0.10108494]\n",
      " [0.79281444 0.20718556]\n",
      " [0.90787555 0.09212445]\n",
      " [0.77348776 0.22651224]\n",
      " [0.88287113 0.11712887]\n",
      " [0.85302465 0.14697535]\n",
      " [0.8195964  0.1804036 ]\n",
      " [0.74239392 0.25760608]\n",
      " [0.86238441 0.13761559]\n",
      " [0.77748616 0.22251384]\n",
      " [0.76912758 0.23087242]\n",
      " [0.7938589  0.2061411 ]\n",
      " [0.92209228 0.07790772]\n",
      " [0.74615104 0.25384896]\n",
      " [0.87485382 0.12514618]\n",
      " [0.85477514 0.14522486]\n",
      " [0.77450251 0.22549749]\n",
      " [0.87362727 0.12637273]\n",
      " [0.67359458 0.32640542]\n",
      " [0.93698936 0.06301064]\n",
      " [0.82461956 0.17538044]\n",
      " [0.95188386 0.04811614]\n",
      " [0.83450941 0.16549059]\n",
      " [0.81117757 0.18882243]\n",
      " [0.80629478 0.19370522]\n",
      " [0.87690301 0.12309699]\n",
      " [0.6663069  0.3336931 ]\n",
      " [0.59350144 0.40649856]\n",
      " [0.98983468 0.01016532]\n",
      " [0.70381235 0.29618765]\n",
      " [0.91693005 0.08306995]\n",
      " [0.92230104 0.07769896]\n",
      " [0.71009303 0.28990697]\n",
      " [0.62307399 0.37692601]\n",
      " [0.76273323 0.23726677]\n",
      " [0.95379074 0.04620926]\n",
      " [0.88139107 0.11860893]\n",
      " [0.85805507 0.14194493]\n",
      " [0.92153445 0.07846555]\n",
      " [0.87986341 0.12013659]\n",
      " [0.80455714 0.19544286]\n",
      " [0.8045461  0.1954539 ]\n",
      " [0.91400939 0.08599061]\n",
      " [0.71996681 0.28003319]\n",
      " [0.9459133  0.0540867 ]\n",
      " [0.90887304 0.09112696]\n",
      " [0.73122211 0.26877789]\n",
      " [0.98139747 0.01860253]\n",
      " [0.85440507 0.14559493]\n",
      " [0.89904525 0.10095475]\n",
      " [0.82348836 0.17651164]\n",
      " [0.83289134 0.16710866]\n",
      " [0.88059965 0.11940035]\n",
      " [0.87965985 0.12034015]\n",
      " [0.87516106 0.12483894]\n",
      " [0.8154612  0.1845388 ]\n",
      " [0.88085227 0.11914773]\n",
      " [0.61440015 0.38559985]\n",
      " [0.88813952 0.11186048]\n",
      " [0.89579477 0.10420523]\n",
      " [0.85493829 0.14506171]\n",
      " [0.98316036 0.01683964]\n",
      " [0.7717054  0.2282946 ]\n",
      " [0.62163203 0.37836797]\n",
      " [0.82648597 0.17351403]\n",
      " [0.84082886 0.15917114]\n",
      " [0.84770539 0.15229461]\n",
      " [0.84996276 0.15003724]\n",
      " [0.7568283  0.2431717 ]\n",
      " [0.86135648 0.13864352]\n",
      " [0.90742097 0.09257903]\n",
      " [0.84653325 0.15346675]\n",
      " [0.81068432 0.18931568]\n",
      " [0.74291535 0.25708465]\n",
      " [0.87004234 0.12995766]\n",
      " [0.83937674 0.16062326]\n",
      " [0.86204616 0.13795384]\n",
      " [0.66559201 0.33440799]\n",
      " [0.90809363 0.09190637]\n",
      " [0.87063167 0.12936833]\n",
      " [0.92591545 0.07408455]\n",
      " [0.84519617 0.15480383]\n",
      " [0.89988333 0.10011667]\n",
      " [0.91377645 0.08622355]\n",
      " [0.79655167 0.20344833]\n",
      " [0.63617514 0.36382486]\n",
      " [0.8451662  0.1548338 ]\n",
      " [0.75229555 0.24770445]\n",
      " [0.85439954 0.14560046]\n",
      " [0.99258502 0.00741498]\n",
      " [0.85979235 0.14020765]\n",
      " [0.88042046 0.11957954]\n",
      " [0.82752509 0.17247491]\n",
      " [0.93110919 0.06889081]\n",
      " [0.87320755 0.12679245]\n",
      " [0.88685479 0.11314521]\n",
      " [0.83757498 0.16242502]\n",
      " [0.86470667 0.13529333]\n",
      " [0.86456218 0.13543782]\n",
      " [0.89956239 0.10043761]\n",
      " [0.78624587 0.21375413]\n",
      " [0.79354081 0.20645919]\n",
      " [0.88436844 0.11563156]\n",
      " [0.6517352  0.3482648 ]\n",
      " [0.94078665 0.05921335]\n",
      " [0.8998614  0.1001386 ]\n",
      " [0.72416846 0.27583154]\n",
      " [0.68855828 0.31144172]\n",
      " [0.87401796 0.12598204]\n",
      " [0.86388337 0.13611663]\n",
      " [0.97515719 0.02484281]\n",
      " [0.86301941 0.13698059]\n",
      " [0.54429973 0.45570027]\n",
      " [0.91312117 0.08687883]\n",
      " [0.74864711 0.25135289]\n",
      " [0.86865164 0.13134836]\n",
      " [0.88768464 0.11231536]\n",
      " [0.87825968 0.12174032]\n",
      " [0.85578493 0.14421507]\n",
      " [0.77096345 0.22903655]\n",
      " [0.80608869 0.19391131]\n",
      " [0.85164484 0.14835516]\n",
      " [0.7748914  0.2251086 ]\n",
      " [0.70330443 0.29669557]\n",
      " [0.88920999 0.11079001]\n",
      " [0.48805675 0.51194325]\n",
      " [0.92443534 0.07556466]\n",
      " [0.75730317 0.24269683]\n",
      " [0.67532223 0.32467777]\n",
      " [0.91267187 0.08732813]\n",
      " [0.94004403 0.05995597]\n",
      " [0.88105134 0.11894866]\n",
      " [0.88500438 0.11499562]\n",
      " [0.95620493 0.04379507]\n",
      " [0.90018491 0.09981509]\n",
      " [0.94913267 0.05086733]\n",
      " [0.83164948 0.16835052]\n",
      " [0.87828332 0.12171668]\n",
      " [0.81856033 0.18143967]\n",
      " [0.81510872 0.18489128]\n",
      " [0.95165724 0.04834276]\n",
      " [0.86885777 0.13114223]\n",
      " [0.90404843 0.09595157]\n",
      " [0.83568878 0.16431122]\n",
      " [0.84565343 0.15434657]\n",
      " [0.79355796 0.20644204]\n",
      " [0.81574488 0.18425512]\n",
      " [0.81449702 0.18550298]\n",
      " [0.83624028 0.16375972]\n",
      " [0.91389238 0.08610762]\n",
      " [0.91564837 0.08435163]\n",
      " [0.68306915 0.31693085]\n",
      " [0.99086383 0.00913617]\n",
      " [0.76974325 0.23025675]\n",
      " [0.79740377 0.20259623]\n",
      " [0.72822071 0.27177929]\n",
      " [0.67182682 0.32817318]\n",
      " [0.79710573 0.20289427]\n",
      " [0.84931231 0.15068769]\n",
      " [0.86433739 0.13566261]\n",
      " [0.85920637 0.14079363]\n",
      " [0.84420225 0.15579775]\n",
      " [0.82853445 0.17146555]\n",
      " [0.92215641 0.07784359]\n",
      " [0.82960704 0.17039296]\n",
      " [0.97700212 0.02299788]\n",
      " [0.90454177 0.09545823]\n",
      " [0.92773082 0.07226918]\n",
      " [0.84754954 0.15245046]\n",
      " [0.76612754 0.23387246]\n",
      " [0.94894713 0.05105287]\n",
      " [0.94800941 0.05199059]\n",
      " [0.75328457 0.24671543]\n",
      " [0.87742303 0.12257697]\n",
      " [0.80519574 0.19480426]\n",
      " [0.93916181 0.06083819]\n",
      " [0.85990185 0.14009815]\n",
      " [0.75971578 0.24028422]\n",
      " [0.90848727 0.09151273]\n",
      " [0.7529481  0.2470519 ]\n",
      " [0.94361137 0.05638863]\n",
      " [0.91817801 0.08182199]\n",
      " [0.90585801 0.09414199]\n",
      " [0.77143638 0.22856362]\n",
      " [0.92392657 0.07607343]\n",
      " [0.80755229 0.19244771]\n",
      " [0.9013237  0.0986763 ]\n",
      " [0.87830849 0.12169151]\n",
      " [0.8068256  0.1931744 ]\n",
      " [0.83483933 0.16516067]\n",
      " [0.53939525 0.46060475]\n",
      " [0.95106284 0.04893716]\n",
      " [0.73235519 0.26764481]\n",
      " [0.892211   0.107789  ]\n",
      " [0.80131021 0.19868979]\n",
      " [0.87926632 0.12073368]\n",
      " [0.96835844 0.03164156]\n",
      " [0.81435024 0.18564976]\n",
      " [0.8595391  0.1404609 ]\n",
      " [0.59090241 0.40909759]\n",
      " [0.82620318 0.17379682]\n",
      " [0.92520542 0.07479458]\n",
      " [0.81774745 0.18225255]\n",
      " [0.92599818 0.07400182]\n",
      " [0.89198781 0.10801219]\n",
      " [0.70041077 0.29958923]\n",
      " [0.82018762 0.17981238]\n",
      " [0.96584774 0.03415226]\n",
      " [0.87007757 0.12992243]\n",
      " [0.8985835  0.1014165 ]\n",
      " [0.89010322 0.10989678]\n",
      " [0.81133218 0.18866782]\n",
      " [0.85998392 0.14001608]\n",
      " [0.83705922 0.16294078]\n",
      " [0.83833325 0.16166675]\n",
      " [0.82480592 0.17519408]\n",
      " [0.94132438 0.05867562]\n",
      " [0.83011466 0.16988534]\n",
      " [0.77419827 0.22580173]\n",
      " [0.69208833 0.30791167]\n",
      " [0.86186596 0.13813404]\n",
      " [0.82653322 0.17346678]\n",
      " [0.84351252 0.15648748]\n",
      " [0.87151308 0.12848692]\n",
      " [0.89317815 0.10682185]\n",
      " [0.82864779 0.17135221]\n",
      " [0.7290552  0.2709448 ]\n",
      " [0.9473871  0.0526129 ]\n",
      " [0.96100837 0.03899163]\n",
      " [0.9049959  0.0950041 ]\n",
      " [0.88585723 0.11414277]\n",
      " [0.84839464 0.15160536]\n",
      " [0.78874009 0.21125991]\n",
      " [0.67361889 0.32638111]\n",
      " [0.93357031 0.06642969]\n",
      " [0.65079394 0.34920606]\n",
      " [0.74503232 0.25496768]\n",
      " [0.9420944  0.0579056 ]\n",
      " [0.78550077 0.21449923]\n",
      " [0.90782391 0.09217609]\n",
      " [0.81479395 0.18520605]\n",
      " [0.89162714 0.10837286]\n",
      " [0.85619491 0.14380509]\n",
      " [0.67747664 0.32252336]\n",
      " [0.93182493 0.06817507]\n",
      " [0.89944427 0.10055573]]\n"
     ]
    }
   ],
   "source": [
    "probs = model2.predict_proba(X_test)\n",
    "print (probs)"
   ]
  },
  {
   "cell_type": "code",
   "execution_count": 38,
   "metadata": {},
   "outputs": [
    {
     "name": "stdout",
     "output_type": "stream",
     "text": [
      "0.8435374149659864\n",
      "0.6500577589526376\n"
     ]
    }
   ],
   "source": [
    "from sklearn import metrics\n",
    "\n",
    "print (metrics.accuracy_score(y_test, predicted))\n",
    "print (metrics.roc_auc_score(y_test, probs[:, 1]))"
   ]
  },
  {
   "cell_type": "code",
   "execution_count": 39,
   "metadata": {},
   "outputs": [
    {
     "name": "stdout",
     "output_type": "stream",
     "text": [
      "[[371   0]\n",
      " [ 69   1]]\n",
      "              precision    recall  f1-score   support\n",
      "\n",
      "         0.0       0.84      1.00      0.91       371\n",
      "         1.0       1.00      0.01      0.03        70\n",
      "\n",
      "   micro avg       0.84      0.84      0.84       441\n",
      "   macro avg       0.92      0.51      0.47       441\n",
      "weighted avg       0.87      0.84      0.77       441\n",
      "\n"
     ]
    }
   ],
   "source": [
    "print (metrics.confusion_matrix(y_test, predicted))\n",
    "print (metrics.classification_report(y_test, predicted))"
   ]
  },
  {
   "cell_type": "code",
   "execution_count": 40,
   "metadata": {},
   "outputs": [
    {
     "name": "stdout",
     "output_type": "stream",
     "text": [
      "      Intercept   Age  Department  DistanceFromHome  Education  \\\n",
      "338         1.0  30.0         2.0               5.0        3.0   \n",
      "363         1.0  33.0         2.0               5.0        3.0   \n",
      "759         1.0  45.0         3.0              24.0        4.0   \n",
      "793         1.0  28.0         1.0              15.0        2.0   \n",
      "581         1.0  30.0         1.0               1.0        3.0   \n",
      "320         1.0  27.0         2.0               2.0        3.0   \n",
      "452         1.0  45.0         2.0               2.0        3.0   \n",
      "195         1.0  37.0         1.0              21.0        3.0   \n",
      "776         1.0  20.0         2.0               9.0        3.0   \n",
      "1295        1.0  41.0         2.0               4.0        1.0   \n",
      "70          1.0  59.0         2.0               1.0        1.0   \n",
      "1135        1.0  46.0         2.0               1.0        4.0   \n",
      "1011        1.0  36.0         2.0               3.0        4.0   \n",
      "10          1.0  35.0         1.0              16.0        3.0   \n",
      "1265        1.0  33.0         1.0               4.0        3.0   \n",
      "1270        1.0  34.0         2.0               3.0        2.0   \n",
      "1257        1.0  31.0         2.0              16.0        4.0   \n",
      "271         1.0  47.0         1.0              29.0        4.0   \n",
      "858         1.0  53.0         1.0               7.0        2.0   \n",
      "790         1.0  33.0         1.0               5.0        3.0   \n",
      "1290        1.0  34.0         1.0               9.0        4.0   \n",
      "915         1.0  21.0         1.0              10.0        2.0   \n",
      "64          1.0  36.0         1.0               8.0        3.0   \n",
      "959         1.0  40.0         1.0               2.0        3.0   \n",
      "1274        1.0  31.0         2.0              29.0        4.0   \n",
      "1394        1.0  32.0         1.0               5.0        4.0   \n",
      "1109        1.0  30.0         2.0              29.0        4.0   \n",
      "416         1.0  38.0         1.0               2.0        2.0   \n",
      "1234        1.0  47.0         2.0               2.0        4.0   \n",
      "687         1.0  36.0         1.0               2.0        4.0   \n",
      "...         ...   ...         ...               ...        ...   \n",
      "1445        1.0  41.0         1.0              28.0        4.0   \n",
      "1201        1.0  23.0         1.0               8.0        1.0   \n",
      "99          1.0  44.0         1.0              23.0        3.0   \n",
      "850         1.0  32.0         2.0               2.0        1.0   \n",
      "448         1.0  40.0         1.0               6.0        3.0   \n",
      "755         1.0  45.0         2.0              11.0        2.0   \n",
      "976         1.0  56.0         1.0              23.0        3.0   \n",
      "115         1.0  37.0         2.0               3.0        3.0   \n",
      "777         1.0  21.0         1.0              10.0        3.0   \n",
      "72          1.0  31.0         1.0               1.0        4.0   \n",
      "845         1.0  40.0         1.0              26.0        2.0   \n",
      "537         1.0  27.0         1.0              10.0        2.0   \n",
      "849         1.0  43.0         2.0               9.0        3.0   \n",
      "174         1.0  45.0         2.0               4.0        2.0   \n",
      "87          1.0  51.0         1.0               9.0        4.0   \n",
      "551         1.0  39.0         3.0               3.0        3.0   \n",
      "705         1.0  39.0         2.0               2.0        5.0   \n",
      "314         1.0  39.0         1.0              10.0        1.0   \n",
      "1420        1.0  41.0         1.0               1.0        3.0   \n",
      "600         1.0  32.0         1.0               4.0        3.0   \n",
      "1094        1.0  40.0         2.0               9.0        2.0   \n",
      "599         1.0  36.0         3.0              13.0        3.0   \n",
      "277         1.0  38.0         2.0               7.0        2.0   \n",
      "1033        1.0  31.0         1.0               1.0        5.0   \n",
      "1383        1.0  36.0         1.0               9.0        4.0   \n",
      "763         1.0  34.0         2.0              10.0        4.0   \n",
      "835         1.0  35.0         3.0               8.0        4.0   \n",
      "1216        1.0  43.0         2.0               2.0        3.0   \n",
      "559         1.0  38.0         1.0               2.0        5.0   \n",
      "684         1.0  40.0         2.0              10.0        4.0   \n",
      "\n",
      "      EducationField  YearsAtCompany  \n",
      "338              3.0            10.0  \n",
      "363              3.0             1.0  \n",
      "759              2.0             6.0  \n",
      "793              1.0             4.0  \n",
      "581              1.0             2.0  \n",
      "320              1.0             5.0  \n",
      "452              4.0             8.0  \n",
      "195              1.0             8.0  \n",
      "776              3.0             2.0  \n",
      "1295             3.0            22.0  \n",
      "70               1.0             4.0  \n",
      "1135             1.0            26.0  \n",
      "1011             3.0             5.0  \n",
      "10               2.0             5.0  \n",
      "1265             5.0             9.0  \n",
      "1270             1.0             2.0  \n",
      "1257             3.0             1.0  \n",
      "271              1.0            10.0  \n",
      "858              2.0             7.0  \n",
      "790              1.0             3.0  \n",
      "1290             1.0             7.0  \n",
      "915              1.0             2.0  \n",
      "64               5.0            17.0  \n",
      "959              1.0             9.0  \n",
      "1274             3.0            12.0  \n",
      "1394             1.0             1.0  \n",
      "1109             5.0             4.0  \n",
      "416              1.0             1.0  \n",
      "1234             3.0             1.0  \n",
      "687              2.0            11.0  \n",
      "...              ...             ...  \n",
      "1445             1.0            20.0  \n",
      "1201             2.0             5.0  \n",
      "99               2.0             3.0  \n",
      "850              1.0             1.0  \n",
      "448              1.0            20.0  \n",
      "755              1.0             9.0  \n",
      "976              1.0            19.0  \n",
      "115              1.0             5.0  \n",
      "777              1.0             1.0  \n",
      "72               2.0             1.0  \n",
      "845              2.0             1.0  \n",
      "537              1.0             9.0  \n",
      "849              3.0             4.0  \n",
      "174              1.0             5.0  \n",
      "87               1.0             4.0  \n",
      "551              6.0             8.0  \n",
      "705              1.0             8.0  \n",
      "314              2.0            21.0  \n",
      "1420             1.0             5.0  \n",
      "600              1.0            14.0  \n",
      "1094             2.0             8.0  \n",
      "599              6.0             5.0  \n",
      "277              2.0             8.0  \n",
      "1033             1.0            10.0  \n",
      "1383             1.0             5.0  \n",
      "763              1.0             1.0  \n",
      "835              5.0             5.0  \n",
      "1216             2.0            10.0  \n",
      "559              2.0             1.0  \n",
      "684              3.0             1.0  \n",
      "\n",
      "[1029 rows x 7 columns]\n"
     ]
    }
   ],
   "source": [
    "print (X_train)"
   ]
  },
  {
   "cell_type": "code",
   "execution_count": 41,
   "metadata": {},
   "outputs": [
    {
     "name": "stdout",
     "output_type": "stream",
     "text": [
      "[[7.14139240e-07 9.99999286e-01]]\n"
     ]
    }
   ],
   "source": [
    "#add random values to KK according to the parameters mentioned above to check the proabily of attrition of the employee\n",
    "kk=[[1.0, 23.0, 1.0, 500.0, 3.0, 24.0, 1.0]]\n",
    "print(model.predict_proba(kk))"
   ]
  },
  {
   "cell_type": "code",
   "execution_count": null,
   "metadata": {},
   "outputs": [],
   "source": []
  },
  {
   "cell_type": "code",
   "execution_count": null,
   "metadata": {},
   "outputs": [],
   "source": []
  },
  {
   "cell_type": "code",
   "execution_count": null,
   "metadata": {},
   "outputs": [],
   "source": []
  },
  {
   "cell_type": "code",
   "execution_count": null,
   "metadata": {},
   "outputs": [],
   "source": []
  },
  {
   "cell_type": "code",
   "execution_count": null,
   "metadata": {},
   "outputs": [],
   "source": []
  },
  {
   "cell_type": "code",
   "execution_count": null,
   "metadata": {},
   "outputs": [],
   "source": []
  }
 ],
 "metadata": {
  "kernelspec": {
   "display_name": "Python 3",
   "language": "python",
   "name": "python3"
  },
  "language_info": {
   "codemirror_mode": {
    "name": "ipython",
    "version": 3
   },
   "file_extension": ".py",
   "mimetype": "text/x-python",
   "name": "python",
   "nbconvert_exporter": "python",
   "pygments_lexer": "ipython3",
   "version": "3.7.3"
  }
 },
 "nbformat": 4,
 "nbformat_minor": 2
}
