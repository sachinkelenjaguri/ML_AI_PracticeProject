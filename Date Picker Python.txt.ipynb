{
 "cells": [
  {
   "cell_type": "code",
   "execution_count": 13,
   "metadata": {},
   "outputs": [
    {
     "name": "stdout",
     "output_type": "stream",
     "text": [
      "2020-10-22 18:30:00\n",
      "2020-09-19 00:00:00\n",
      "2020-03-02 00:00:00\n",
      "2020-12-15 00:00:00\n",
      "2020-03-03 00:00:00\n",
      "2020-09-18 23:59:00\n",
      "2020-09-15 00:00:00\n",
      "2021-03-20 00:00:00\n"
     ]
    }
   ],
   "source": [
    "import datefinder\n",
    "\n",
    "string_with_dates = '''\n",
    "    Central design committee session Tuesday 10/22 6:30 pm\n",
    "    Th 9/19 LAB: Serial encoding (Section 2.2)\n",
    "    There will be another one on December 15th for those who are unable to make it today.\n",
    "    Workbook 3 (Minimum Wage): due Wednesday 9/18 11:59pm\n",
    "    He will be flying in Sept. 15th.\n",
    "    We expect to deliver this between late 2021 and early 2022. 23/3/20 – Pt came in with severe headache, advised oral acetaminophen acetaminophen\n",
    "'''\n",
    "\n",
    "matches = datefinder.find_dates(string_with_dates)\n",
    "for match in matches:\n",
    "    print(match)"
   ]
  },
  {
   "cell_type": "code",
   "execution_count": 18,
   "metadata": {},
   "outputs": [
    {
     "name": "stdout",
     "output_type": "stream",
     "text": [
      "[('Tuesday 10/22 6:30 pm', datetime.datetime(2020, 10, 22, 18, 30)), ('23/3/20', datetime.datetime(2020, 3, 23, 0, 0))]\n"
     ]
    }
   ],
   "source": [
    "from dateparser.search import search_dates\n",
    "\n",
    "dates = search_dates('Central design committee session Tuesday 10/22 6:30 pm ,23/3/20 – Pt came in with severe headache, advised oral acetaminophen')\n",
    "\n",
    "print(dates)"
   ]
  }
 ],
 "metadata": {
  "kernelspec": {
   "display_name": "Python 3",
   "language": "python",
   "name": "python3"
  },
  "language_info": {
   "codemirror_mode": {
    "name": "ipython",
    "version": 3
   },
   "file_extension": ".py",
   "mimetype": "text/x-python",
   "name": "python",
   "nbconvert_exporter": "python",
   "pygments_lexer": "ipython3",
   "version": "3.7.3"
  }
 },
 "nbformat": 4,
 "nbformat_minor": 2
}
