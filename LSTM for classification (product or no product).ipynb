{
 "cells": [
  {
   "cell_type": "code",
   "execution_count": 4,
   "metadata": {},
   "outputs": [
    {
     "name": "stderr",
     "output_type": "stream",
     "text": [
      "Using TensorFlow backend.\n"
     ]
    }
   ],
   "source": [
    "import os\n",
    "os.environ['TF_CPP_MIN_LOG_LEVEL'] = '2'\n",
    "import json\n",
    "import numpy as np\n",
    "import keras.backend as K\n",
    "from keras.utils import to_categorical\n",
    "from keras.preprocessing.text import Tokenizer\n",
    "from keras.preprocessing import sequence\n",
    "from keras.models import Sequential\n",
    "from keras.layers import Dense, Dropout, Embedding, LSTM, Bidirectional\n"
   ]
  },
  {
   "cell_type": "code",
   "execution_count": 5,
   "metadata": {},
   "outputs": [
    {
     "name": "stdout",
     "output_type": "stream",
     "text": [
      "loading data...\n",
      "Posititve data loaded.  108664 entries\n",
      "Negative data loaded.  13279 entries\n",
      "done loading data...\n"
     ]
    }
   ],
   "source": [
    "\n",
    "# 1. Loading the data\n",
    "print(\"loading data...\")\n",
    "\n",
    "pos_file_name = \"C:\\\\Users\\\\skelenja\\\\Desktop\\\\Browserhoistory\\\\Sentiment-Analysis-for-product-reviews-master\\\\pos_amazon_cell_phone_reviews.json\"\n",
    "neg_file_name = \"C:\\\\Users\\\\skelenja\\\\Desktop\\\\Browserhoistory\\\\Sentiment-Analysis-for-product-reviews-master\\\\neg_amazon_cell_phone_reviews.json\"\n",
    "pos_file = open(pos_file_name, \"r\")\n",
    "neg_file = open(neg_file_name, \"r\")\n",
    "pos_data = json.loads(pos_file.read())['root']\n",
    "neg_data = json.loads(neg_file.read())['root']\n",
    "print(\"Posititve data loaded. \", len(pos_data), \"entries\")\n",
    "print(\"Negative data loaded. \", len(neg_data), \"entries\")\n",
    "\n",
    "print(\"done loading data...\")\n",
    "\n",
    "plabels = []\n",
    "nlabels = []"
   ]
  },
  {
   "cell_type": "code",
   "execution_count": 6,
   "metadata": {},
   "outputs": [
    {
     "name": "stdout",
     "output_type": "stream",
     "text": [
      "108664\n",
      "13279\n"
     ]
    }
   ],
   "source": [
    "\n",
    "# 2.Process reviews into sentences\n",
    "pos_sentences, neg_sentences = [], [] \n",
    "for entry in pos_data :\n",
    "    pos_sentences.append(entry['summary'] + \" . \" + entry['text'])\n",
    "    plabels.append(1)\n",
    "for entry in neg_data :\n",
    "    nlabels.append(0)\n",
    "    neg_sentences.append(entry['summary'] + \" . \" + entry['text'])\n",
    "print(len(pos_sentences))\n",
    "print(len(neg_sentences))\n",
    "\n",
    "texts = pos_sentences + neg_sentences \n",
    "labels = [1]*len(pos_sentences) + [0]*len(neg_sentences)\n"
   ]
  },
  {
   "cell_type": "code",
   "execution_count": 16,
   "metadata": {},
   "outputs": [
    {
     "data": {
      "text/plain": [
       "array([1, 1, 1, ..., 1, 1, 1])"
      ]
     },
     "execution_count": 16,
     "metadata": {},
     "output_type": "execute_result"
    }
   ],
   "source": [
    "labels"
   ]
  },
  {
   "cell_type": "code",
   "execution_count": 7,
   "metadata": {},
   "outputs": [
    {
     "name": "stdout",
     "output_type": "stream",
     "text": [
      "Found 69671 unique tokens.\n"
     ]
    }
   ],
   "source": [
    "\n",
    "# 3. Tokenize\n",
    "tokenizer = Tokenizer()\n",
    "tokenizer.fit_on_texts(texts)\n",
    "sequences = tokenizer.texts_to_sequences(texts)\n",
    "\n",
    "word_index = tokenizer.word_index\n",
    "print('Found %s unique tokens.' % len(word_index))\n",
    "\n",
    "MAX_SEQUENCE_LENGTH = 50\n",
    "\n",
    "data = sequence.pad_sequences(sequences, maxlen=MAX_SEQUENCE_LENGTH)"
   ]
  },
  {
   "cell_type": "code",
   "execution_count": 8,
   "metadata": {},
   "outputs": [
    {
     "name": "stdout",
     "output_type": "stream",
     "text": [
      "Shape of data tensor: (121943, 50)\n",
      "Shape of label tensor: (121943,)\n"
     ]
    }
   ],
   "source": [
    "\n",
    "# print(labels)\n",
    "\n",
    "labels = np.array(labels)\n",
    "print('Shape of data tensor:', data.shape)\n",
    "print('Shape of label tensor:', labels.shape)"
   ]
  },
  {
   "cell_type": "code",
   "execution_count": 9,
   "metadata": {},
   "outputs": [
    {
     "name": "stdout",
     "output_type": "stream",
     "text": [
      "(5000, 50) (5000,) 1000\n",
      "[1 1 1 ..., 1 1 1]\n",
      "4000 4000\n"
     ]
    }
   ],
   "source": [
    "\n",
    "# split the data into a training set and a validation set\n",
    "\n",
    "indices = np.arange(data.shape[0])\n",
    "np.random.shuffle(indices)\n",
    "data = data[indices]\n",
    "labels = labels[indices]\n",
    "\n",
    "rest_data = data[3000:]\n",
    "rest_labels = labels[3000:]\n",
    "\n",
    "\n",
    "data = data[:5000]\n",
    "labels = labels[:5000]\n",
    "\n",
    "VALIDATION_SPLIT = 0.2\n",
    "nb_validation_samples = int(VALIDATION_SPLIT * data.shape[0])\n",
    "\n",
    "print(data.shape, labels.shape, nb_validation_samples)\n",
    "\n",
    "print(labels)\n",
    "\n",
    "x_train = data[:-nb_validation_samples]\n",
    "y_train = labels[:-nb_validation_samples]\n",
    "x_val = data[-nb_validation_samples:]\n",
    "y_val = labels[-nb_validation_samples:]\n",
    "\n",
    "print(len(x_train), len(y_train))"
   ]
  },
  {
   "cell_type": "code",
   "execution_count": 11,
   "metadata": {},
   "outputs": [
    {
     "name": "stdout",
     "output_type": "stream",
     "text": [
      "Found 400000 word vectors.\n"
     ]
    }
   ],
   "source": [
    "\n",
    "#GloVe\n",
    "embeddings_index = {}\n",
    "f = open('C:\\\\Users\\\\skelenja\\\\Desktop\\\\Browserhoistory\\\\Sentiment-Analysis-for-product-reviews-master\\\\glove.6B.50d.txt', 'r', encoding = 'utf-8')\n",
    "for line in f:\n",
    "    values = line.split()\n",
    "    word = values[0]\n",
    "    coefs = np.asarray(values[1:], dtype='float32')\n",
    "    embeddings_index[word] = coefs\n",
    "f.close()\n",
    "\n",
    "print('Found %s word vectors.' % len(embeddings_index))\n",
    "\n",
    "EMBEDDING_DIM = MAX_SEQUENCE_LENGTH\n",
    "\n",
    "embedding_matrix = np.zeros((len(word_index) + 1, EMBEDDING_DIM))\n",
    "for word, i in word_index.items():\n",
    "    embedding_vector = embeddings_index.get(word)\n",
    "    if embedding_vector is not None:\n",
    "        # words not found in embedding index will be all-zeros.\n",
    "        embedding_matrix[i] = embedding_vector\n",
    "\n",
    "\n",
    "from keras.layers import Embedding\n",
    "\n",
    "embedding_layer = Embedding(len(word_index) + 1,\n",
    "                            EMBEDDING_DIM,\n",
    "                            weights=[embedding_matrix],\n",
    "                            input_length=MAX_SEQUENCE_LENGTH,\n",
    "                            trainable=False)\n",
    "\n",
    "def precision(y_true, y_pred): \n",
    "    true_positives = K.sum(K.round(K.clip(y_true * y_pred, 0, 1))) \n",
    "    predicted_positives = K.sum(K.round(K.clip(y_pred, 0, 1))) \n",
    "    precision = true_positives / (predicted_positives + K.epsilon()) \n",
    "    return precision\n",
    "\n",
    "def recall(y_true, y_pred): \n",
    "    true_positives = K.sum(K.round(K.clip(y_true * y_pred, 0, 1))) \n",
    "    possible_positives = K.sum(K.round(K.clip(y_true, 0, 1))) \n",
    "    recall = true_positives / (possible_positives + K.epsilon()) \n",
    "    return recall "
   ]
  },
  {
   "cell_type": "code",
   "execution_count": 12,
   "metadata": {
    "collapsed": true
   },
   "outputs": [],
   "source": [
    "\n",
    "# Training the LSTM model\n",
    "\n",
    "batch_size = 128\n",
    "\n",
    "model = Sequential()\n",
    "\n",
    "model.add(embedding_layer)\n",
    "\n",
    "model.add(LSTM(64))\n",
    "\n",
    "model.add(Dropout(0.50))\n",
    "\n",
    "model.add(Dense(1, activation='sigmoid'))"
   ]
  },
  {
   "cell_type": "code",
   "execution_count": 13,
   "metadata": {},
   "outputs": [
    {
     "name": "stdout",
     "output_type": "stream",
     "text": [
      "Train...\n",
      "Train on 4000 samples, validate on 1000 samples\n",
      "Epoch 1/16\n",
      "4000/4000 [==============================] - 2s 465us/step - loss: 0.3973 - acc: 0.8755 - precision: 0.8925 - recall: 0.9784 - val_loss: 0.3309 - val_acc: 0.8960 - val_precision: 0.8969 - val_recall: 0.9989\n",
      "Epoch 2/16\n",
      "4000/4000 [==============================] - 1s 276us/step - loss: 0.3411 - acc: 0.8937 - precision: 0.8937 - recall: 1.0000 - val_loss: 0.3274 - val_acc: 0.8960 - val_precision: 0.8969 - val_recall: 0.9989\n",
      "Epoch 3/16\n",
      "4000/4000 [==============================] - 1s 283us/step - loss: 0.3348 - acc: 0.8937 - precision: 0.8937 - recall: 1.0000 - val_loss: 0.3177 - val_acc: 0.8960 - val_precision: 0.8969 - val_recall: 0.9989\n",
      "Epoch 4/16\n",
      "4000/4000 [==============================] - 1s 282us/step - loss: 0.3036 - acc: 0.8937 - precision: 0.8940 - recall: 0.9997 - val_loss: 0.2720 - val_acc: 0.8960 - val_precision: 0.8969 - val_recall: 0.9989\n",
      "Epoch 5/16\n",
      "4000/4000 [==============================] - 1s 270us/step - loss: 0.2736 - acc: 0.8975 - precision: 0.9010 - recall: 0.9947 - val_loss: 0.2494 - val_acc: 0.9000 - val_precision: 0.9005 - val_recall: 0.9988\n",
      "Epoch 6/16\n",
      "4000/4000 [==============================] - 1s 265us/step - loss: 0.2572 - acc: 0.8997 - precision: 0.9073 - recall: 0.9888 - val_loss: 0.2460 - val_acc: 0.9000 - val_precision: 0.9037 - val_recall: 0.9943\n",
      "Epoch 7/16\n",
      "4000/4000 [==============================] - 1s 265us/step - loss: 0.2421 - acc: 0.9032 - precision: 0.9155 - recall: 0.9826 - val_loss: 0.2285 - val_acc: 0.9100 - val_precision: 0.9206 - val_recall: 0.9842\n",
      "Epoch 8/16\n",
      "4000/4000 [==============================] - 1s 263us/step - loss: 0.2342 - acc: 0.9077 - precision: 0.9211 - recall: 0.9810 - val_loss: 0.2322 - val_acc: 0.9090 - val_precision: 0.9129 - val_recall: 0.9933\n",
      "Epoch 9/16\n",
      "4000/4000 [==============================] - 1s 260us/step - loss: 0.2280 - acc: 0.9143 - precision: 0.9255 - recall: 0.9835 - val_loss: 0.2175 - val_acc: 0.9120 - val_precision: 0.9288 - val_recall: 0.9764\n",
      "Epoch 10/16\n",
      "4000/4000 [==============================] - 1s 274us/step - loss: 0.2266 - acc: 0.9155 - precision: 0.9336 - recall: 0.9755 - val_loss: 0.2403 - val_acc: 0.9060 - val_precision: 0.9257 - val_recall: 0.9730\n",
      "Epoch 11/16\n",
      "4000/4000 [==============================] - 1s 287us/step - loss: 0.2183 - acc: 0.9173 - precision: 0.9303 - recall: 0.9814 - val_loss: 0.2118 - val_acc: 0.9080 - val_precision: 0.9241 - val_recall: 0.9776\n",
      "Epoch 12/16\n",
      "4000/4000 [==============================] - 1s 262us/step - loss: 0.2104 - acc: 0.9153 - precision: 0.9332 - recall: 0.9754 - val_loss: 0.2132 - val_acc: 0.9120 - val_precision: 0.9466 - val_recall: 0.9550\n",
      "Epoch 13/16\n",
      "4000/4000 [==============================] - 1s 264us/step - loss: 0.1948 - acc: 0.9275 - precision: 0.9427 - recall: 0.9786 - val_loss: 0.2186 - val_acc: 0.9080 - val_precision: 0.9367 - val_recall: 0.9617\n",
      "Epoch 14/16\n",
      "4000/4000 [==============================] - 1s 263us/step - loss: 0.1884 - acc: 0.9260 - precision: 0.9435 - recall: 0.9757 - val_loss: 0.1940 - val_acc: 0.9180 - val_precision: 0.9338 - val_recall: 0.9776\n",
      "Epoch 15/16\n",
      "4000/4000 [==============================] - 1s 262us/step - loss: 0.1781 - acc: 0.9310 - precision: 0.9477 - recall: 0.9768 - val_loss: 0.1899 - val_acc: 0.9250 - val_precision: 0.9446 - val_recall: 0.9730\n",
      "Epoch 16/16\n",
      "4000/4000 [==============================] - 1s 262us/step - loss: 0.1766 - acc: 0.9347 - precision: 0.9513 - recall: 0.9772 - val_loss: 0.2211 - val_acc: 0.9190 - val_precision: 0.9259 - val_recall: 0.9888\n",
      "5000/5000 [==============================] - 1s 146us/step\n",
      "Loss:  0.220417368591\n",
      "Accuracy:  0.9224\n",
      "Precision:  0.93061831007\n",
      "Recall:  0.986420833206\n"
     ]
    }
   ],
   "source": [
    "# try using different optimizers and different optimizer configs\n",
    "\n",
    "model.compile('adam', 'binary_crossentropy', metrics=['accuracy', precision, recall])\n",
    "\n",
    "print('Train...')\n",
    "\n",
    "model.fit(x_train, y_train,\n",
    "          batch_size=batch_size,\n",
    "          epochs=16,\n",
    "          validation_data=[x_val, y_val])\n",
    "\n",
    "x = model.evaluate(rest_data[:5000], rest_labels[:5000])\n",
    "print(\"Loss: \", x[0])\n",
    "print(\"Accuracy: \", x[1])\n",
    "print(\"Precision: \", x[2])\n",
    "print(\"Recall: \", x[3])"
   ]
  }
 ],
 "metadata": {
  "kernelspec": {
   "display_name": "Python 3",
   "language": "python",
   "name": "python3"
  },
  "language_info": {
   "codemirror_mode": {
    "name": "ipython",
    "version": 3
   },
   "file_extension": ".py",
   "mimetype": "text/x-python",
   "name": "python",
   "nbconvert_exporter": "python",
   "pygments_lexer": "ipython3",
   "version": "3.6.3"
  }
 },
 "nbformat": 4,
 "nbformat_minor": 2
}
